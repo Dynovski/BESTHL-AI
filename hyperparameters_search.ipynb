{
 "cells": [
  {
   "cell_type": "code",
   "execution_count": 8,
   "id": "982360c2",
   "metadata": {},
   "outputs": [],
   "source": [
    "from sklearn.ensemble import RandomForestRegressor\n",
    "import pandas as pd\n",
    "from sklearn.model_selection import train_test_split\n",
    "import numpy as np\n",
    "from sklearn.model_selection import RandomizedSearchCV\n",
    "from sklearn.metrics import mean_absolute_error"
   ]
  },
  {
   "cell_type": "code",
   "execution_count": 9,
   "id": "7cbb8b65",
   "metadata": {},
   "outputs": [
    {
     "data": {
      "text/html": [
       "<div>\n",
       "<style scoped>\n",
       "    .dataframe tbody tr th:only-of-type {\n",
       "        vertical-align: middle;\n",
       "    }\n",
       "\n",
       "    .dataframe tbody tr th {\n",
       "        vertical-align: top;\n",
       "    }\n",
       "\n",
       "    .dataframe thead th {\n",
       "        text-align: right;\n",
       "    }\n",
       "</style>\n",
       "<table border=\"1\" class=\"dataframe\">\n",
       "  <thead>\n",
       "    <tr style=\"text-align: right;\">\n",
       "      <th></th>\n",
       "      <th>LTFRONT</th>\n",
       "      <th>LTDEPTH</th>\n",
       "      <th>STORIES</th>\n",
       "      <th>FULLVAL</th>\n",
       "      <th>AVLAND</th>\n",
       "      <th>AVTOT</th>\n",
       "      <th>EXLAND</th>\n",
       "      <th>EXTOT</th>\n",
       "      <th>BLDFRONT</th>\n",
       "      <th>BLDDEPTH</th>\n",
       "      <th>...</th>\n",
       "      <th>EXCD1_5112.0category</th>\n",
       "      <th>EXCD1_5113.0category</th>\n",
       "      <th>EXCD1_5114.0category</th>\n",
       "      <th>EXCD1_5118.0category</th>\n",
       "      <th>EXCD1_5130.0category</th>\n",
       "      <th>EXCD1_6800.0category</th>\n",
       "      <th>EXCD1_nancategory</th>\n",
       "      <th>EXCD1_other</th>\n",
       "      <th>LTAREA</th>\n",
       "      <th>BLDAREA</th>\n",
       "    </tr>\n",
       "  </thead>\n",
       "  <tbody>\n",
       "    <tr>\n",
       "      <th>0</th>\n",
       "      <td>0.0</td>\n",
       "      <td>1.696003e-16</td>\n",
       "      <td>0.029464</td>\n",
       "      <td>0.217030</td>\n",
       "      <td>0.018343</td>\n",
       "      <td>0.260327</td>\n",
       "      <td>0.000000</td>\n",
       "      <td>0.000000</td>\n",
       "      <td>-1.799125e-16</td>\n",
       "      <td>-1.851283e-16</td>\n",
       "      <td>...</td>\n",
       "      <td>0</td>\n",
       "      <td>0</td>\n",
       "      <td>0</td>\n",
       "      <td>0</td>\n",
       "      <td>0</td>\n",
       "      <td>0</td>\n",
       "      <td>1</td>\n",
       "      <td>0</td>\n",
       "      <td>0.0</td>\n",
       "      <td>3.330690e-32</td>\n",
       "    </tr>\n",
       "    <tr>\n",
       "      <th>1</th>\n",
       "      <td>0.0</td>\n",
       "      <td>1.696003e-16</td>\n",
       "      <td>1.870375</td>\n",
       "      <td>-0.110959</td>\n",
       "      <td>-0.056847</td>\n",
       "      <td>-0.067894</td>\n",
       "      <td>-0.072008</td>\n",
       "      <td>-0.085621</td>\n",
       "      <td>-1.799125e-16</td>\n",
       "      <td>-1.851283e-16</td>\n",
       "      <td>...</td>\n",
       "      <td>0</td>\n",
       "      <td>0</td>\n",
       "      <td>0</td>\n",
       "      <td>0</td>\n",
       "      <td>0</td>\n",
       "      <td>1</td>\n",
       "      <td>0</td>\n",
       "      <td>0</td>\n",
       "      <td>0.0</td>\n",
       "      <td>3.330690e-32</td>\n",
       "    </tr>\n",
       "    <tr>\n",
       "      <th>2</th>\n",
       "      <td>0.0</td>\n",
       "      <td>1.696003e-16</td>\n",
       "      <td>2.086953</td>\n",
       "      <td>-0.118553</td>\n",
       "      <td>-0.061323</td>\n",
       "      <td>-0.075494</td>\n",
       "      <td>0.000000</td>\n",
       "      <td>0.000000</td>\n",
       "      <td>2.269818e+00</td>\n",
       "      <td>2.965139e+00</td>\n",
       "      <td>...</td>\n",
       "      <td>0</td>\n",
       "      <td>0</td>\n",
       "      <td>0</td>\n",
       "      <td>0</td>\n",
       "      <td>0</td>\n",
       "      <td>0</td>\n",
       "      <td>1</td>\n",
       "      <td>0</td>\n",
       "      <td>0.0</td>\n",
       "      <td>6.730325e+00</td>\n",
       "    </tr>\n",
       "    <tr>\n",
       "      <th>3</th>\n",
       "      <td>0.0</td>\n",
       "      <td>1.696003e-16</td>\n",
       "      <td>2.303531</td>\n",
       "      <td>-0.117410</td>\n",
       "      <td>-0.059250</td>\n",
       "      <td>-0.074349</td>\n",
       "      <td>-0.074862</td>\n",
       "      <td>-0.096479</td>\n",
       "      <td>-1.799125e-16</td>\n",
       "      <td>-1.851283e-16</td>\n",
       "      <td>...</td>\n",
       "      <td>0</td>\n",
       "      <td>0</td>\n",
       "      <td>0</td>\n",
       "      <td>0</td>\n",
       "      <td>0</td>\n",
       "      <td>1</td>\n",
       "      <td>0</td>\n",
       "      <td>0</td>\n",
       "      <td>0.0</td>\n",
       "      <td>3.330690e-32</td>\n",
       "    </tr>\n",
       "    <tr>\n",
       "      <th>4</th>\n",
       "      <td>0.0</td>\n",
       "      <td>1.696003e-16</td>\n",
       "      <td>1.437220</td>\n",
       "      <td>-0.079116</td>\n",
       "      <td>-0.062202</td>\n",
       "      <td>-0.036028</td>\n",
       "      <td>0.000000</td>\n",
       "      <td>0.000000</td>\n",
       "      <td>2.948241e-01</td>\n",
       "      <td>1.870850e+00</td>\n",
       "      <td>...</td>\n",
       "      <td>0</td>\n",
       "      <td>0</td>\n",
       "      <td>0</td>\n",
       "      <td>0</td>\n",
       "      <td>0</td>\n",
       "      <td>0</td>\n",
       "      <td>1</td>\n",
       "      <td>0</td>\n",
       "      <td>0.0</td>\n",
       "      <td>5.515717e-01</td>\n",
       "    </tr>\n",
       "  </tbody>\n",
       "</table>\n",
       "<p>5 rows × 390 columns</p>\n",
       "</div>"
      ],
      "text/plain": [
       "   LTFRONT       LTDEPTH   STORIES   FULLVAL    AVLAND     AVTOT    EXLAND  \\\n",
       "0      0.0  1.696003e-16  0.029464  0.217030  0.018343  0.260327  0.000000   \n",
       "1      0.0  1.696003e-16  1.870375 -0.110959 -0.056847 -0.067894 -0.072008   \n",
       "2      0.0  1.696003e-16  2.086953 -0.118553 -0.061323 -0.075494  0.000000   \n",
       "3      0.0  1.696003e-16  2.303531 -0.117410 -0.059250 -0.074349 -0.074862   \n",
       "4      0.0  1.696003e-16  1.437220 -0.079116 -0.062202 -0.036028  0.000000   \n",
       "\n",
       "      EXTOT      BLDFRONT      BLDDEPTH  ...  EXCD1_5112.0category  \\\n",
       "0  0.000000 -1.799125e-16 -1.851283e-16  ...                     0   \n",
       "1 -0.085621 -1.799125e-16 -1.851283e-16  ...                     0   \n",
       "2  0.000000  2.269818e+00  2.965139e+00  ...                     0   \n",
       "3 -0.096479 -1.799125e-16 -1.851283e-16  ...                     0   \n",
       "4  0.000000  2.948241e-01  1.870850e+00  ...                     0   \n",
       "\n",
       "   EXCD1_5113.0category  EXCD1_5114.0category  EXCD1_5118.0category  \\\n",
       "0                     0                     0                     0   \n",
       "1                     0                     0                     0   \n",
       "2                     0                     0                     0   \n",
       "3                     0                     0                     0   \n",
       "4                     0                     0                     0   \n",
       "\n",
       "   EXCD1_5130.0category  EXCD1_6800.0category  EXCD1_nancategory  EXCD1_other  \\\n",
       "0                     0                     0                  1            0   \n",
       "1                     0                     1                  0            0   \n",
       "2                     0                     0                  1            0   \n",
       "3                     0                     1                  0            0   \n",
       "4                     0                     0                  1            0   \n",
       "\n",
       "   LTAREA       BLDAREA  \n",
       "0     0.0  3.330690e-32  \n",
       "1     0.0  3.330690e-32  \n",
       "2     0.0  6.730325e+00  \n",
       "3     0.0  3.330690e-32  \n",
       "4     0.0  5.515717e-01  \n",
       "\n",
       "[5 rows x 390 columns]"
      ]
     },
     "execution_count": 9,
     "metadata": {},
     "output_type": "execute_result"
    }
   ],
   "source": [
    "df = pd.read_csv('processed.csv')\n",
    "df.head()"
   ]
  },
  {
   "cell_type": "code",
   "execution_count": 3,
   "id": "67398390",
   "metadata": {},
   "outputs": [],
   "source": [
    "x_train, x_test, y_train, y_test = train_test_split(\n",
    "    df.drop(columns='FULLVAL'),\n",
    "    df['FULLVAL'],\n",
    "    test_size=0.2,\n",
    ")"
   ]
  },
  {
   "cell_type": "code",
   "execution_count": 4,
   "id": "d139c3b8",
   "metadata": {},
   "outputs": [],
   "source": [
    "# Number of trees in random forest\n",
    "#n_estimators = [int(x) for x in np.linspace(start = 200, stop = 2000, num = 10)]\n",
    "# Number of features to consider at every split\n",
    "max_features = ['auto', 'sqrt']\n",
    "# Maximum number of levels in tree\n",
    "max_depth = [int(x) for x in np.linspace(5, 105, num=11)]\n",
    "max_depth.append(None)\n",
    "# Minimum number of samples required to split a node\n",
    "min_samples_split = [2, 5, 10]\n",
    "# Minimum number of samples required at each leaf node\n",
    "min_samples_leaf = [1, 2, 4]\n",
    "# Method of selecting samples for training each tree\n",
    "criterion = ['squared_error', 'absolute_error', 'poisson']\n",
    "# Create the random grid\n",
    "random_grid = {'criterion': criterion,\n",
    "               'max_features': max_features,\n",
    "               'max_depth': max_depth,\n",
    "               'min_samples_split': min_samples_split,\n",
    "               'min_samples_leaf': min_samples_leaf}"
   ]
  },
  {
   "cell_type": "code",
   "execution_count": 5,
   "id": "5b9e843d",
   "metadata": {},
   "outputs": [
    {
     "name": "stdout",
     "output_type": "stream",
     "text": [
      "{'criterion': ['squared_error', 'absolute_error', 'poisson'], 'max_features': ['auto', 'sqrt'], 'max_depth': [5, 15, 25, 35, 45, 55, 65, 75, 85, 95, 105, None], 'min_samples_split': [2, 5, 10], 'min_samples_leaf': [1, 2, 4]}\n"
     ]
    }
   ],
   "source": [
    "print(random_grid)"
   ]
  },
  {
   "cell_type": "code",
   "execution_count": 6,
   "id": "27d20e2d",
   "metadata": {},
   "outputs": [
    {
     "name": "stdout",
     "output_type": "stream",
     "text": [
      "Fitting 3 folds for each of 100 candidates, totalling 300 fits\n"
     ]
    },
    {
     "name": "stderr",
     "output_type": "stream",
     "text": [
      "C:\\Users\\Lasze\\anaconda3\\lib\\site-packages\\sklearn\\model_selection\\_search.py:918: UserWarning: One or more of the test scores are non-finite: [nan nan nan nan nan nan nan nan nan nan nan nan nan nan nan nan nan nan\n",
      " nan nan nan nan nan nan nan nan nan nan nan nan nan nan nan nan nan nan\n",
      " nan nan nan nan nan nan nan nan nan nan nan nan nan nan nan nan nan nan\n",
      " nan nan nan nan nan nan nan nan nan nan nan nan nan nan nan nan nan nan\n",
      " nan nan nan nan nan nan nan nan nan nan nan nan nan nan nan nan nan nan\n",
      " nan nan nan nan nan nan nan nan nan nan]\n",
      "  warnings.warn(\n"
     ]
    },
    {
     "data": {
      "text/plain": [
       "RandomizedSearchCV(cv=3, estimator=RandomForestRegressor(), n_iter=100,\n",
       "                   n_jobs=-1,\n",
       "                   param_distributions={'criterion': ['squared_error',\n",
       "                                                      'absolute_error',\n",
       "                                                      'poisson'],\n",
       "                                        'max_depth': [5, 15, 25, 35, 45, 55, 65,\n",
       "                                                      75, 85, 95, 105, None],\n",
       "                                        'max_features': ['auto', 'sqrt'],\n",
       "                                        'min_samples_leaf': [1, 2, 4],\n",
       "                                        'min_samples_split': [2, 5, 10]},\n",
       "                   random_state=42,\n",
       "                   scoring=<function mean_absolute_error at 0x0000020CC6667D30>,\n",
       "                   verbose=2)"
      ]
     },
     "execution_count": 6,
     "metadata": {},
     "output_type": "execute_result"
    }
   ],
   "source": [
    "rf = RandomForestRegressor()\n",
    "rf_random = RandomizedSearchCV(estimator=rf,\n",
    "                               param_distributions=random_grid,\n",
    "                               n_iter=100,\n",
    "                               cv=3,\n",
    "                               verbose=2,\n",
    "                               scoring=mean_absolute_error,\n",
    "                               random_state=42,\n",
    "                               n_jobs=-1)\n",
    "rf_random.fit(df.drop(columns='FULLVAL'), df['FULLVAL'])"
   ]
  },
  {
   "cell_type": "code",
   "execution_count": 7,
   "id": "d835f06e",
   "metadata": {},
   "outputs": [
    {
     "data": {
      "text/plain": [
       "{'min_samples_split': 10,\n",
       " 'min_samples_leaf': 2,\n",
       " 'max_features': 'auto',\n",
       " 'max_depth': None,\n",
       " 'criterion': 'poisson'}"
      ]
     },
     "execution_count": 7,
     "metadata": {},
     "output_type": "execute_result"
    }
   ],
   "source": [
    "rf_random.best_params_"
   ]
  },
  {
   "cell_type": "code",
   "execution_count": 26,
   "id": "d13899b2",
   "metadata": {},
   "outputs": [
    {
     "ename": "AttributeError",
     "evalue": "'RandomizedSearchCV' object has no attribute 'y_score'",
     "output_type": "error",
     "traceback": [
      "\u001b[1;31m---------------------------------------------------------------------------\u001b[0m",
      "\u001b[1;31mAttributeError\u001b[0m                            Traceback (most recent call last)",
      "\u001b[1;32m<ipython-input-26-a4c8825200d0>\u001b[0m in \u001b[0;36m<module>\u001b[1;34m\u001b[0m\n\u001b[1;32m----> 1\u001b[1;33m \u001b[0mrf_random\u001b[0m\u001b[1;33m.\u001b[0m\u001b[0my_score\u001b[0m\u001b[1;33m\u001b[0m\u001b[1;33m\u001b[0m\u001b[0m\n\u001b[0m",
      "\u001b[1;31mAttributeError\u001b[0m: 'RandomizedSearchCV' object has no attribute 'y_score'"
     ]
    }
   ],
   "source": [
    "rf_random.y_score"
   ]
  },
  {
   "cell_type": "code",
   "execution_count": 20,
   "id": "f597d16b",
   "metadata": {},
   "outputs": [
    {
     "data": {
      "text/plain": [
       "0     0.000000\n",
       "1    11.512925\n",
       "2    18.420681\n",
       "3     0.000000\n",
       "dtype: float64"
      ]
     },
     "execution_count": 20,
     "metadata": {},
     "output_type": "execute_result"
    }
   ],
   "source": [
    "val = pd.Series([0, 1e+5, 1e+8, -1776057.42795369])\n",
    "val = standarizing.log_scale(val)\n",
    "val"
   ]
  },
  {
   "cell_type": "code",
   "execution_count": 21,
   "id": "17638782",
   "metadata": {},
   "outputs": [
    {
     "data": {
      "text/plain": [
       "0            1.0\n",
       "1       100000.0\n",
       "2    100000000.0\n",
       "3            1.0\n",
       "dtype: float64"
      ]
     },
     "execution_count": 21,
     "metadata": {},
     "output_type": "execute_result"
    }
   ],
   "source": [
    "val = standarizing.reverse_log(val)\n",
    "val"
   ]
  },
  {
   "cell_type": "code",
   "execution_count": 16,
   "id": "11e13f4a",
   "metadata": {},
   "outputs": [],
   "source": [
    "import standarizing"
   ]
  },
  {
   "cell_type": "code",
   "execution_count": null,
   "id": "5eabaf01",
   "metadata": {},
   "outputs": [],
   "source": []
  }
 ],
 "metadata": {
  "kernelspec": {
   "display_name": "Python 3",
   "language": "python",
   "name": "python3"
  },
  "language_info": {
   "codemirror_mode": {
    "name": "ipython",
    "version": 3
   },
   "file_extension": ".py",
   "mimetype": "text/x-python",
   "name": "python",
   "nbconvert_exporter": "python",
   "pygments_lexer": "ipython3",
   "version": "3.8.8"
  }
 },
 "nbformat": 4,
 "nbformat_minor": 5
}
