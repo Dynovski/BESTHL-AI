{
 "cells": [
  {
   "cell_type": "code",
   "execution_count": null,
   "metadata": {},
   "outputs": [],
   "source": [
    "import pandas as pd\n",
    "from interpret import set_visualize_provider\n",
    "from interpret.provider import InlineProvider\n",
    "# from interpret.glassbox import ExplainableBoostingClassifier\n",
    "set_visualize_provider(InlineProvider())\n",
    "from interpret import show\n",
    "from sklearn.model_selection import train_test_split\n",
    "from sklearn.metrics import accuracy_score# , roc_curve, auc\n",
    "# import matplotlib.pyplot as plt\n",
    "# from datetime import datetime\n",
    "# import pytz\n",
    "# from geopy.geocoders import Nominatim\n",
    "# import pycountry\n",
    "# from sklearn import preprocessing\n",
    "from interpret.glassbox import LogisticRegression\n",
    "from interpret import show"
   ]
  },
  {
   "cell_type": "code",
   "execution_count": null,
   "metadata": {},
   "outputs": [],
   "source": [
    "if __name__ == '__main__':\n",
    "   data = pd.read_csv(\"train_data.csv\", on_bad_lines=\"skip\")\n",
    "   data=data[['BORO', 'BLOCK', 'LOT',\n",
    "      'TAXCLASS', 'LTFRONT', 'LTDEPTH', 'STORIES', 'FULLVAL', 'AVLAND',\n",
    "      'AVTOT', 'EXLAND', 'EXTOT', 'EXCD1', 'POSTCODE',\n",
    "      'BLDFRONT', 'BLDDEPTH', 'AVLAND2', 'AVTOT2',\n",
    "      'YEAR', 'Latitude',\n",
    "      'Longitude', 'Community Board', 'Census Tract'\n",
    "      ]].fillna(0)\n",
    "   feature_columns = data.columns.copy()\n",
    "   X = data[['BORO', 'BLOCK', 'LOT',\n",
    "      'LTFRONT', 'LTDEPTH', 'STORIES', 'AVLAND',\n",
    "      'AVTOT', 'EXLAND', 'EXTOT', 'EXCD1', 'POSTCODE',\n",
    "      'BLDFRONT', 'BLDDEPTH', 'AVLAND2', 'AVTOT2',\n",
    "      'Latitude',\n",
    "      'Longitude', 'Community Board', 'Census Tract'\n",
    "      ]].fillna(0)\n",
    "   y = data['FULLVAL']"
   ]
  },
  {
   "cell_type": "code",
   "execution_count": null,
   "metadata": {},
   "outputs": [],
   "source": [
    "X.head()"
   ]
  },
  {
   "cell_type": "code",
   "execution_count": null,
   "metadata": {},
   "outputs": [],
   "source": [
    "y.head()"
   ]
  },
  {
   "cell_type": "code",
   "execution_count": null,
   "metadata": {},
   "outputs": [],
   "source": [
    "X_train, X_test, y_train, y_test = train_test_split(X, y, test_size=0.33)\n",
    "\n",
    "#label_encoders = []\n",
    "#for c in train_df.columns:\n",
    "#    pass\n",
    "# Label encoding here"
   ]
  },
  {
   "cell_type": "code",
   "execution_count": null,
   "metadata": {},
   "outputs": [],
   "source": [
    "# EBM logistic regression\n",
    "lr = LogisticRegression(random_state=420)\n",
    "lr.fit(X_train, y_train)\n",
    "\n",
    "y_pred = lr.predict(X_test)\n",
    "print(accuracy_score(y_pred=y_pred, y_true=y_test))\n",
    "\n",
    "# This part better run in jupyter notebook\n",
    "set_visualize_provider(InlineProvider())\n",
    "\n",
    "ebm_global = lr.explain_global()\n",
    "show(ebm_global)\n",
    "\n",
    "# ebm_local = lr.explain_local(X_test[:5], y_test[:5])\n",
    "# show(ebm_local)"
   ]
  },
  {
   "cell_type": "code",
   "execution_count": null,
   "metadata": {},
   "outputs": [],
   "source": []
  }
 ],
 "metadata": {
  "kernelspec": {
   "display_name": "Python 3 (ipykernel)",
   "language": "python",
   "name": "python3"
  },
  "language_info": {
   "codemirror_mode": {
    "name": "ipython",
    "version": 3
   },
   "file_extension": ".py",
   "mimetype": "text/x-python",
   "name": "python",
   "nbconvert_exporter": "python",
   "pygments_lexer": "ipython3",
   "version": "3.9.7"
  }
 },
 "nbformat": 4,
 "nbformat_minor": 2
}
