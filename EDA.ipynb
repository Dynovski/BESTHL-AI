{
 "cells": [
  {
   "cell_type": "code",
   "execution_count": 45,
   "metadata": {
    "colab": {
     "base_uri": "https://localhost:8080/"
    },
    "id": "Ethm1nhsrWG7",
    "outputId": "befc6711-fba5-420a-dd80-82607c882cc3"
   },
   "outputs": [
    {
     "name": "stdout",
     "output_type": "stream",
     "text": [
      "Collecting geopandas\n",
      "  Using cached geopandas-0.10.2-py2.py3-none-any.whl (1.0 MB)\n",
      "Requirement already satisfied: shapely>=1.6 in c:\\users\\maciek\\__repos\\besthl-ai\\venv\\lib\\site-packages (from geopandas) (1.8.1.post1)\n",
      "Requirement already satisfied: pyproj>=2.2.0 in c:\\users\\maciek\\__repos\\besthl-ai\\venv\\lib\\site-packages (from geopandas) (3.3.0)\n",
      "Requirement already satisfied: pandas>=0.25.0 in c:\\users\\maciek\\__repos\\besthl-ai\\venv\\lib\\site-packages (from geopandas) (1.4.2)\n",
      "Collecting fiona>=1.8\n",
      "  Using cached Fiona-1.8.21.tar.gz (1.0 MB)\n",
      "  Using cached Fiona-1.8.20.tar.gz (1.3 MB)\n",
      "  Using cached Fiona-1.8.19.tar.gz (1.3 MB)\n",
      "  Using cached Fiona-1.8.18.tar.gz (1.3 MB)\n",
      "  Using cached Fiona-1.8.17.tar.gz (1.3 MB)\n",
      "  Using cached Fiona-1.8.16.tar.gz (1.3 MB)\n",
      "  Using cached Fiona-1.8.15.tar.gz (1.3 MB)\n",
      "  Using cached Fiona-1.8.14.tar.gz (1.3 MB)\n",
      "  Using cached Fiona-1.8.13.post1.tar.gz (1.2 MB)\n",
      "  Using cached Fiona-1.8.13.tar.gz (1.2 MB)\n",
      "  Using cached Fiona-1.8.12.tar.gz (1.2 MB)\n",
      "  Using cached Fiona-1.8.11.tar.gz (1.2 MB)\n",
      "  Using cached Fiona-1.8.10.tar.gz (1.2 MB)\n",
      "  Using cached Fiona-1.8.9.post2.tar.gz (1.2 MB)\n",
      "  Using cached Fiona-1.8.9.post1.tar.gz (1.2 MB)\n",
      "  Using cached Fiona-1.8.9.tar.gz (1.2 MB)\n",
      "  Using cached Fiona-1.8.8.tar.gz (1.7 MB)\n",
      "  Using cached Fiona-1.8.7.tar.gz (1.7 MB)\n",
      "  Using cached Fiona-1.8.6.tar.gz (1.7 MB)\n",
      "  Using cached Fiona-1.8.5.tar.gz (1.7 MB)\n",
      "  Using cached Fiona-1.8.4.tar.gz (1.1 MB)\n",
      "  Using cached Fiona-1.8.3.tar.gz (1.1 MB)\n",
      "  Using cached Fiona-1.8.2.tar.gz (1.2 MB)\n",
      "  Using cached Fiona-1.8.1.tar.gz (1.1 MB)\n",
      "  Using cached Fiona-1.8.0.tar.gz (1.4 MB)\n",
      "Collecting geopandas\n",
      "  Using cached geopandas-0.10.1-py2.py3-none-any.whl (1.0 MB)\n",
      "  Using cached geopandas-0.10.0-py2.py3-none-any.whl (1.0 MB)\n",
      "  Using cached geopandas-0.9.0-py2.py3-none-any.whl (994 kB)\n",
      "  Using cached geopandas-0.8.2-py2.py3-none-any.whl (962 kB)\n",
      "Collecting fiona\n",
      "  Using cached Fiona-1.7.13.tar.gz (731 kB)\n",
      "Requirement already satisfied: pytz>=2020.1 in c:\\users\\maciek\\__repos\\besthl-ai\\venv\\lib\\site-packages (from pandas>=0.25.0->geopandas) (2022.1)\n",
      "Requirement already satisfied: numpy>=1.18.5 in c:\\users\\maciek\\__repos\\besthl-ai\\venv\\lib\\site-packages (from pandas>=0.25.0->geopandas) (1.22.3)\n",
      "Requirement already satisfied: python-dateutil>=2.8.1 in c:\\users\\maciek\\__repos\\besthl-ai\\venv\\lib\\site-packages (from pandas>=0.25.0->geopandas) (2.8.2)\n",
      "Requirement already satisfied: certifi in c:\\users\\maciek\\__repos\\besthl-ai\\venv\\lib\\site-packages (from pyproj>=2.2.0->geopandas) (2021.10.8)\n",
      "Requirement already satisfied: six>=1.5 in c:\\users\\maciek\\__repos\\besthl-ai\\venv\\lib\\site-packages (from python-dateutil>=2.8.1->pandas>=0.25.0->geopandas) (1.16.0)\n",
      "Requirement already satisfied: cligj>=0.4 in c:\\users\\maciek\\__repos\\besthl-ai\\venv\\lib\\site-packages (from fiona->geopandas) (0.7.2)\n",
      "Requirement already satisfied: click-plugins in c:\\users\\maciek\\__repos\\besthl-ai\\venv\\lib\\site-packages (from fiona->geopandas) (1.1.1)\n",
      "Requirement already satisfied: munch in c:\\users\\maciek\\__repos\\besthl-ai\\venv\\lib\\site-packages (from fiona->geopandas) (2.5.0)\n",
      "Requirement already satisfied: click>=4.0 in c:\\users\\maciek\\__repos\\besthl-ai\\venv\\lib\\site-packages (from cligj>=0.4->fiona->geopandas) (8.1.2)\n",
      "Requirement already satisfied: colorama in c:\\users\\maciek\\__repos\\besthl-ai\\venv\\lib\\site-packages (from click>=4.0->cligj>=0.4->fiona->geopandas) (0.4.4)\n",
      "Building wheels for collected packages: fiona\n",
      "  Building wheel for fiona (setup.py): started\n",
      "  Building wheel for fiona (setup.py): finished with status 'error'\n",
      "  Running setup.py clean for fiona\n",
      "Failed to build fiona\n",
      "Installing collected packages: fiona, geopandas\n",
      "    Running setup.py install for fiona: started\n",
      "    Running setup.py install for fiona: finished with status 'error'\n"
     ]
    },
    {
     "name": "stderr",
     "output_type": "stream",
     "text": [
      "    ERROR: Command errored out with exit status 1:\n",
      "     command: 'C:\\Users\\Maciek\\__repos\\BESTHL-AI\\venv\\Scripts\\python.exe' -c 'import io, os, sys, setuptools, tokenize; sys.argv[0] = '\"'\"'C:\\\\Users\\\\Maciek\\\\AppData\\\\Local\\\\Temp\\\\pip-install-dwlb6aaw\\\\fiona_8a3549cda5fb48e4bebab4b2128d4c99\\\\setup.py'\"'\"'; __file__='\"'\"'C:\\\\Users\\\\Maciek\\\\AppData\\\\Local\\\\Temp\\\\pip-install-dwlb6aaw\\\\fiona_8a3549cda5fb48e4bebab4b2128d4c99\\\\setup.py'\"'\"';f = getattr(tokenize, '\"'\"'open'\"'\"', open)(__file__) if os.path.exists(__file__) else io.StringIO('\"'\"'from setuptools import setup; setup()'\"'\"');code = f.read().replace('\"'\"'\\r\\n'\"'\"', '\"'\"'\\n'\"'\"');f.close();exec(compile(code, __file__, '\"'\"'exec'\"'\"'))' egg_info --egg-base 'C:\\Users\\Maciek\\AppData\\Local\\Temp\\pip-pip-egg-info-kuuvh_3e'\n",
      "         cwd: C:\\Users\\Maciek\\AppData\\Local\\Temp\\pip-install-dwlb6aaw\\fiona_8a3549cda5fb48e4bebab4b2128d4c99\\\n",
      "    Complete output (1 lines):\n",
      "    A GDAL API version must be specified. Provide a path to gdal-config using a GDAL_CONFIG environment variable or use a GDAL_VERSION environment variable.\n",
      "    ----------------------------------------\n",
      "WARNING: Discarding https://files.pythonhosted.org/packages/67/5c/4e028e84a1f0cb3f8a994217cf2366360ca984dfc1433f6171de527d0dca/Fiona-1.8.21.tar.gz#sha256=3a0edca2a7a070db405d71187214a43d2333a57b4097544a3fcc282066a58bfc (from https://pypi.org/simple/fiona/). Command errored out with exit status 1: python setup.py egg_info Check the logs for full command output.\n",
      "    ERROR: Command errored out with exit status 1:\n",
      "     command: 'C:\\Users\\Maciek\\__repos\\BESTHL-AI\\venv\\Scripts\\python.exe' -c 'import io, os, sys, setuptools, tokenize; sys.argv[0] = '\"'\"'C:\\\\Users\\\\Maciek\\\\AppData\\\\Local\\\\Temp\\\\pip-install-dwlb6aaw\\\\fiona_27fc2553468348959db90ee75b0a3839\\\\setup.py'\"'\"'; __file__='\"'\"'C:\\\\Users\\\\Maciek\\\\AppData\\\\Local\\\\Temp\\\\pip-install-dwlb6aaw\\\\fiona_27fc2553468348959db90ee75b0a3839\\\\setup.py'\"'\"';f = getattr(tokenize, '\"'\"'open'\"'\"', open)(__file__) if os.path.exists(__file__) else io.StringIO('\"'\"'from setuptools import setup; setup()'\"'\"');code = f.read().replace('\"'\"'\\r\\n'\"'\"', '\"'\"'\\n'\"'\"');f.close();exec(compile(code, __file__, '\"'\"'exec'\"'\"'))' egg_info --egg-base 'C:\\Users\\Maciek\\AppData\\Local\\Temp\\pip-pip-egg-info-g1_qifiw'\n",
      "         cwd: C:\\Users\\Maciek\\AppData\\Local\\Temp\\pip-install-dwlb6aaw\\fiona_27fc2553468348959db90ee75b0a3839\\\n",
      "    Complete output (1 lines):\n",
      "    A GDAL API version must be specified. Provide a path to gdal-config using a GDAL_CONFIG environment variable or use a GDAL_VERSION environment variable.\n",
      "    ----------------------------------------\n",
      "WARNING: Discarding https://files.pythonhosted.org/packages/ec/f7/093890341a7e8fbfcdfa04caf4dfb588ebab32c13ceaa6a3819da79ea106/Fiona-1.8.20.tar.gz#sha256=a70502d2857b82f749c09cb0dea3726787747933a2a1599b5ab787d74e3c143b (from https://pypi.org/simple/fiona/). Command errored out with exit status 1: python setup.py egg_info Check the logs for full command output.\n",
      "    ERROR: Command errored out with exit status 1:\n",
      "     command: 'C:\\Users\\Maciek\\__repos\\BESTHL-AI\\venv\\Scripts\\python.exe' -c 'import io, os, sys, setuptools, tokenize; sys.argv[0] = '\"'\"'C:\\\\Users\\\\Maciek\\\\AppData\\\\Local\\\\Temp\\\\pip-install-dwlb6aaw\\\\fiona_713daf2eb2be4c28910648d554e41e82\\\\setup.py'\"'\"'; __file__='\"'\"'C:\\\\Users\\\\Maciek\\\\AppData\\\\Local\\\\Temp\\\\pip-install-dwlb6aaw\\\\fiona_713daf2eb2be4c28910648d554e41e82\\\\setup.py'\"'\"';f = getattr(tokenize, '\"'\"'open'\"'\"', open)(__file__) if os.path.exists(__file__) else io.StringIO('\"'\"'from setuptools import setup; setup()'\"'\"');code = f.read().replace('\"'\"'\\r\\n'\"'\"', '\"'\"'\\n'\"'\"');f.close();exec(compile(code, __file__, '\"'\"'exec'\"'\"'))' egg_info --egg-base 'C:\\Users\\Maciek\\AppData\\Local\\Temp\\pip-pip-egg-info-ubfkdvbb'\n",
      "         cwd: C:\\Users\\Maciek\\AppData\\Local\\Temp\\pip-install-dwlb6aaw\\fiona_713daf2eb2be4c28910648d554e41e82\\\n",
      "    Complete output (1 lines):\n",
      "    A GDAL API version must be specified. Provide a path to gdal-config using a GDAL_CONFIG environment variable or use a GDAL_VERSION environment variable.\n",
      "    ----------------------------------------\n",
      "WARNING: Discarding https://files.pythonhosted.org/packages/a0/d9/6042aeb073d11341f7726de0586ff71c13117c34959dcf07bd4ee6d4b93e/Fiona-1.8.19.tar.gz#sha256=b9059e0b29c2e9e6b817e53f941e77e1aca7075f986005d38db307067b60458f (from https://pypi.org/simple/fiona/). Command errored out with exit status 1: python setup.py egg_info Check the logs for full command output.\n",
      "    ERROR: Command errored out with exit status 1:\n",
      "     command: 'C:\\Users\\Maciek\\__repos\\BESTHL-AI\\venv\\Scripts\\python.exe' -c 'import io, os, sys, setuptools, tokenize; sys.argv[0] = '\"'\"'C:\\\\Users\\\\Maciek\\\\AppData\\\\Local\\\\Temp\\\\pip-install-dwlb6aaw\\\\fiona_f2484f04e4084116ad3015f3edb14f06\\\\setup.py'\"'\"'; __file__='\"'\"'C:\\\\Users\\\\Maciek\\\\AppData\\\\Local\\\\Temp\\\\pip-install-dwlb6aaw\\\\fiona_f2484f04e4084116ad3015f3edb14f06\\\\setup.py'\"'\"';f = getattr(tokenize, '\"'\"'open'\"'\"', open)(__file__) if os.path.exists(__file__) else io.StringIO('\"'\"'from setuptools import setup; setup()'\"'\"');code = f.read().replace('\"'\"'\\r\\n'\"'\"', '\"'\"'\\n'\"'\"');f.close();exec(compile(code, __file__, '\"'\"'exec'\"'\"'))' egg_info --egg-base 'C:\\Users\\Maciek\\AppData\\Local\\Temp\\pip-pip-egg-info-09x_9kxj'\n",
      "         cwd: C:\\Users\\Maciek\\AppData\\Local\\Temp\\pip-install-dwlb6aaw\\fiona_f2484f04e4084116ad3015f3edb14f06\\\n",
      "    Complete output (1 lines):\n",
      "    A GDAL API version must be specified. Provide a path to gdal-config using a GDAL_CONFIG environment variable or use a GDAL_VERSION environment variable.\n",
      "    ----------------------------------------\n",
      "WARNING: Discarding https://files.pythonhosted.org/packages/9f/e8/401cdaa58d862a25c4b3365acf7d2bd7ac77191e3dc9acdcdac0eff20ff0/Fiona-1.8.18.tar.gz#sha256=b732ece0ff8886a29c439723a3e1fc382718804bb057519d537a81308854967a (from https://pypi.org/simple/fiona/). Command errored out with exit status 1: python setup.py egg_info Check the logs for full command output.\n",
      "    ERROR: Command errored out with exit status 1:\n",
      "     command: 'C:\\Users\\Maciek\\__repos\\BESTHL-AI\\venv\\Scripts\\python.exe' -c 'import io, os, sys, setuptools, tokenize; sys.argv[0] = '\"'\"'C:\\\\Users\\\\Maciek\\\\AppData\\\\Local\\\\Temp\\\\pip-install-dwlb6aaw\\\\fiona_97be64fdafc44c0884fa9d6f28be5e6c\\\\setup.py'\"'\"'; __file__='\"'\"'C:\\\\Users\\\\Maciek\\\\AppData\\\\Local\\\\Temp\\\\pip-install-dwlb6aaw\\\\fiona_97be64fdafc44c0884fa9d6f28be5e6c\\\\setup.py'\"'\"';f = getattr(tokenize, '\"'\"'open'\"'\"', open)(__file__) if os.path.exists(__file__) else io.StringIO('\"'\"'from setuptools import setup; setup()'\"'\"');code = f.read().replace('\"'\"'\\r\\n'\"'\"', '\"'\"'\\n'\"'\"');f.close();exec(compile(code, __file__, '\"'\"'exec'\"'\"'))' egg_info --egg-base 'C:\\Users\\Maciek\\AppData\\Local\\Temp\\pip-pip-egg-info-ytltky3e'\n",
      "         cwd: C:\\Users\\Maciek\\AppData\\Local\\Temp\\pip-install-dwlb6aaw\\fiona_97be64fdafc44c0884fa9d6f28be5e6c\\\n",
      "    Complete output (1 lines):\n",
      "    A GDAL API version must be specified. Provide a path to gdal-config using a GDAL_CONFIG environment variable or use a GDAL_VERSION environment variable.\n",
      "    ----------------------------------------\n",
      "WARNING: Discarding https://files.pythonhosted.org/packages/88/62/69347ba2c41b526e1953c4cb66d51170b2869808863c03af202ba0121670/Fiona-1.8.17.tar.gz#sha256=716201c21246587f374785bec6d6a20a984fe1f6c2b0e83bf15127eb8f724d0c (from https://pypi.org/simple/fiona/). Command errored out with exit status 1: python setup.py egg_info Check the logs for full command output.\n",
      "    ERROR: Command errored out with exit status 1:\n",
      "     command: 'C:\\Users\\Maciek\\__repos\\BESTHL-AI\\venv\\Scripts\\python.exe' -c 'import io, os, sys, setuptools, tokenize; sys.argv[0] = '\"'\"'C:\\\\Users\\\\Maciek\\\\AppData\\\\Local\\\\Temp\\\\pip-install-dwlb6aaw\\\\fiona_ef1bd2697dab43ebaf3d5e6c89adaac7\\\\setup.py'\"'\"'; __file__='\"'\"'C:\\\\Users\\\\Maciek\\\\AppData\\\\Local\\\\Temp\\\\pip-install-dwlb6aaw\\\\fiona_ef1bd2697dab43ebaf3d5e6c89adaac7\\\\setup.py'\"'\"';f = getattr(tokenize, '\"'\"'open'\"'\"', open)(__file__) if os.path.exists(__file__) else io.StringIO('\"'\"'from setuptools import setup; setup()'\"'\"');code = f.read().replace('\"'\"'\\r\\n'\"'\"', '\"'\"'\\n'\"'\"');f.close();exec(compile(code, __file__, '\"'\"'exec'\"'\"'))' egg_info --egg-base 'C:\\Users\\Maciek\\AppData\\Local\\Temp\\pip-pip-egg-info-7zcv0mtf'\n",
      "         cwd: C:\\Users\\Maciek\\AppData\\Local\\Temp\\pip-install-dwlb6aaw\\fiona_ef1bd2697dab43ebaf3d5e6c89adaac7\\\n",
      "    Complete output (1 lines):\n",
      "    A GDAL API version must be specified. Provide a path to gdal-config using a GDAL_CONFIG environment variable or use a GDAL_VERSION environment variable.\n",
      "    ----------------------------------------\n",
      "WARNING: Discarding https://files.pythonhosted.org/packages/1e/60/dfc6115a11338d8aa96cacd8c60635223d9c97d61d556c90acc5dfd663fa/Fiona-1.8.16.tar.gz#sha256=fd6dfb65959becc916e9f6928618bfd59c16cdbc413ece0fbac61489cd11255f (from https://pypi.org/simple/fiona/). Command errored out with exit status 1: python setup.py egg_info Check the logs for full command output.\n",
      "    ERROR: Command errored out with exit status 1:\n",
      "     command: 'C:\\Users\\Maciek\\__repos\\BESTHL-AI\\venv\\Scripts\\python.exe' -c 'import io, os, sys, setuptools, tokenize; sys.argv[0] = '\"'\"'C:\\\\Users\\\\Maciek\\\\AppData\\\\Local\\\\Temp\\\\pip-install-dwlb6aaw\\\\fiona_2451ad5ec7424634aa5d8eb78265d92c\\\\setup.py'\"'\"'; __file__='\"'\"'C:\\\\Users\\\\Maciek\\\\AppData\\\\Local\\\\Temp\\\\pip-install-dwlb6aaw\\\\fiona_2451ad5ec7424634aa5d8eb78265d92c\\\\setup.py'\"'\"';f = getattr(tokenize, '\"'\"'open'\"'\"', open)(__file__) if os.path.exists(__file__) else io.StringIO('\"'\"'from setuptools import setup; setup()'\"'\"');code = f.read().replace('\"'\"'\\r\\n'\"'\"', '\"'\"'\\n'\"'\"');f.close();exec(compile(code, __file__, '\"'\"'exec'\"'\"'))' egg_info --egg-base 'C:\\Users\\Maciek\\AppData\\Local\\Temp\\pip-pip-egg-info-v4fkvltk'\n",
      "         cwd: C:\\Users\\Maciek\\AppData\\Local\\Temp\\pip-install-dwlb6aaw\\fiona_2451ad5ec7424634aa5d8eb78265d92c\\\n",
      "    Complete output (1 lines):\n",
      "    A GDAL API version must be specified. Provide a path to gdal-config using a GDAL_CONFIG environment variable or use a GDAL_VERSION environment variable.\n",
      "    ----------------------------------------\n",
      "WARNING: Discarding https://files.pythonhosted.org/packages/55/2f/17450ec2c8fcc720a8a3e4d9a383499508475c7cfb90f7eca9fb585ac598/Fiona-1.8.15.tar.gz#sha256=3b1c9b5c834fae2fe947cfaea176db890bc6750d1a6ba9f54d969c19ffcd191e (from https://pypi.org/simple/fiona/). Command errored out with exit status 1: python setup.py egg_info Check the logs for full command output.\n",
      "    ERROR: Command errored out with exit status 1:\n",
      "     command: 'C:\\Users\\Maciek\\__repos\\BESTHL-AI\\venv\\Scripts\\python.exe' -c 'import io, os, sys, setuptools, tokenize; sys.argv[0] = '\"'\"'C:\\\\Users\\\\Maciek\\\\AppData\\\\Local\\\\Temp\\\\pip-install-dwlb6aaw\\\\fiona_0e6beb42997a43d2a1e33aff3c199fd1\\\\setup.py'\"'\"'; __file__='\"'\"'C:\\\\Users\\\\Maciek\\\\AppData\\\\Local\\\\Temp\\\\pip-install-dwlb6aaw\\\\fiona_0e6beb42997a43d2a1e33aff3c199fd1\\\\setup.py'\"'\"';f = getattr(tokenize, '\"'\"'open'\"'\"', open)(__file__) if os.path.exists(__file__) else io.StringIO('\"'\"'from setuptools import setup; setup()'\"'\"');code = f.read().replace('\"'\"'\\r\\n'\"'\"', '\"'\"'\\n'\"'\"');f.close();exec(compile(code, __file__, '\"'\"'exec'\"'\"'))' egg_info --egg-base 'C:\\Users\\Maciek\\AppData\\Local\\Temp\\pip-pip-egg-info-gfz5lfr8'\n",
      "         cwd: C:\\Users\\Maciek\\AppData\\Local\\Temp\\pip-install-dwlb6aaw\\fiona_0e6beb42997a43d2a1e33aff3c199fd1\\\n",
      "    Complete output (1 lines):\n",
      "    A GDAL API version must be specified. Provide a path to gdal-config using a GDAL_CONFIG environment variable or use a GDAL_VERSION environment variable.\n",
      "    ----------------------------------------\n",
      "WARNING: Discarding https://files.pythonhosted.org/packages/5c/fd/5ec54f2d9b3d5dd23dd443fad5630d6b872e2664814c68b856c47e0d65af/Fiona-1.8.14.tar.gz#sha256=6eac038206c89d2cf5f99ea38b81cc228dc21eac5f47870a9a32d453b0007f4d (from https://pypi.org/simple/fiona/). Command errored out with exit status 1: python setup.py egg_info Check the logs for full command output.\n",
      "    ERROR: Command errored out with exit status 1:\n",
      "     command: 'C:\\Users\\Maciek\\__repos\\BESTHL-AI\\venv\\Scripts\\python.exe' -c 'import io, os, sys, setuptools, tokenize; sys.argv[0] = '\"'\"'C:\\\\Users\\\\Maciek\\\\AppData\\\\Local\\\\Temp\\\\pip-install-dwlb6aaw\\\\fiona_99dbbfcd48664445a6b24474cfffbc8b\\\\setup.py'\"'\"'; __file__='\"'\"'C:\\\\Users\\\\Maciek\\\\AppData\\\\Local\\\\Temp\\\\pip-install-dwlb6aaw\\\\fiona_99dbbfcd48664445a6b24474cfffbc8b\\\\setup.py'\"'\"';f = getattr(tokenize, '\"'\"'open'\"'\"', open)(__file__) if os.path.exists(__file__) else io.StringIO('\"'\"'from setuptools import setup; setup()'\"'\"');code = f.read().replace('\"'\"'\\r\\n'\"'\"', '\"'\"'\\n'\"'\"');f.close();exec(compile(code, __file__, '\"'\"'exec'\"'\"'))' egg_info --egg-base 'C:\\Users\\Maciek\\AppData\\Local\\Temp\\pip-pip-egg-info-5xeihvuy'\n",
      "         cwd: C:\\Users\\Maciek\\AppData\\Local\\Temp\\pip-install-dwlb6aaw\\fiona_99dbbfcd48664445a6b24474cfffbc8b\\\n",
      "    Complete output (1 lines):\n",
      "    A GDAL API version must be specified. Provide a path to gdal-config using a GDAL_CONFIG environment variable or use a GDAL_VERSION environment variable.\n",
      "    ----------------------------------------\n",
      "WARNING: Discarding https://files.pythonhosted.org/packages/6d/42/f4a7cac53b28fa70e9a93d0e89a24d33e14826dad6644b699362ad84dde0/Fiona-1.8.13.post1.tar.gz#sha256=1a432bf9fd56f089256c010da009c90d4a795c531a848132c965052185336600 (from https://pypi.org/simple/fiona/). Command errored out with exit status 1: python setup.py egg_info Check the logs for full command output.\n",
      "    ERROR: Command errored out with exit status 1:\n",
      "     command: 'C:\\Users\\Maciek\\__repos\\BESTHL-AI\\venv\\Scripts\\python.exe' -c 'import io, os, sys, setuptools, tokenize; sys.argv[0] = '\"'\"'C:\\\\Users\\\\Maciek\\\\AppData\\\\Local\\\\Temp\\\\pip-install-dwlb6aaw\\\\fiona_5a48a4952cd04093b5b1e0b474667007\\\\setup.py'\"'\"'; __file__='\"'\"'C:\\\\Users\\\\Maciek\\\\AppData\\\\Local\\\\Temp\\\\pip-install-dwlb6aaw\\\\fiona_5a48a4952cd04093b5b1e0b474667007\\\\setup.py'\"'\"';f = getattr(tokenize, '\"'\"'open'\"'\"', open)(__file__) if os.path.exists(__file__) else io.StringIO('\"'\"'from setuptools import setup; setup()'\"'\"');code = f.read().replace('\"'\"'\\r\\n'\"'\"', '\"'\"'\\n'\"'\"');f.close();exec(compile(code, __file__, '\"'\"'exec'\"'\"'))' egg_info --egg-base 'C:\\Users\\Maciek\\AppData\\Local\\Temp\\pip-pip-egg-info-3vlz5iqo'\n",
      "         cwd: C:\\Users\\Maciek\\AppData\\Local\\Temp\\pip-install-dwlb6aaw\\fiona_5a48a4952cd04093b5b1e0b474667007\\\n",
      "    Complete output (1 lines):\n",
      "    A GDAL API version must be specified. Provide a path to gdal-config using a GDAL_CONFIG environment variable or use a GDAL_VERSION environment variable.\n",
      "    ----------------------------------------\n",
      "WARNING: Discarding https://files.pythonhosted.org/packages/be/04/31d0a6f03943b1684f32c9b861be40c1fd282468fa6bd54ddf4a774e6b0f/Fiona-1.8.13.tar.gz#sha256=5ec34898c8b983a723fb4e949dd3e0ed7e691c303e51f6bfd61e52ac9ac813ae (from https://pypi.org/simple/fiona/). Command errored out with exit status 1: python setup.py egg_info Check the logs for full command output.\n",
      "    ERROR: Command errored out with exit status 1:\n",
      "     command: 'C:\\Users\\Maciek\\__repos\\BESTHL-AI\\venv\\Scripts\\python.exe' -c 'import io, os, sys, setuptools, tokenize; sys.argv[0] = '\"'\"'C:\\\\Users\\\\Maciek\\\\AppData\\\\Local\\\\Temp\\\\pip-install-dwlb6aaw\\\\fiona_d42381b6985747ae92f877c2c7d2474a\\\\setup.py'\"'\"'; __file__='\"'\"'C:\\\\Users\\\\Maciek\\\\AppData\\\\Local\\\\Temp\\\\pip-install-dwlb6aaw\\\\fiona_d42381b6985747ae92f877c2c7d2474a\\\\setup.py'\"'\"';f = getattr(tokenize, '\"'\"'open'\"'\"', open)(__file__) if os.path.exists(__file__) else io.StringIO('\"'\"'from setuptools import setup; setup()'\"'\"');code = f.read().replace('\"'\"'\\r\\n'\"'\"', '\"'\"'\\n'\"'\"');f.close();exec(compile(code, __file__, '\"'\"'exec'\"'\"'))' egg_info --egg-base 'C:\\Users\\Maciek\\AppData\\Local\\Temp\\pip-pip-egg-info-ne8o6yj2'\n",
      "         cwd: C:\\Users\\Maciek\\AppData\\Local\\Temp\\pip-install-dwlb6aaw\\fiona_d42381b6985747ae92f877c2c7d2474a\\\n",
      "    Complete output (1 lines):\n",
      "    A GDAL API version must be specified. Provide a path to gdal-config using a GDAL_CONFIG environment variable or use a GDAL_VERSION environment variable.\n",
      "    ----------------------------------------\n",
      "WARNING: Discarding https://files.pythonhosted.org/packages/97/d8/feab39987296437fbdc3029fb39752a14355d217d73b93471010b8dd63a3/Fiona-1.8.12.tar.gz#sha256=c9266ddf6ae2a64fcea20014ddf27f800ac07584f2fdb09c2a02f3b3a52e371c (from https://pypi.org/simple/fiona/). Command errored out with exit status 1: python setup.py egg_info Check the logs for full command output.\n",
      "    ERROR: Command errored out with exit status 1:\n",
      "     command: 'C:\\Users\\Maciek\\__repos\\BESTHL-AI\\venv\\Scripts\\python.exe' -c 'import io, os, sys, setuptools, tokenize; sys.argv[0] = '\"'\"'C:\\\\Users\\\\Maciek\\\\AppData\\\\Local\\\\Temp\\\\pip-install-dwlb6aaw\\\\fiona_413de9f1885f45a8965f8a3a1fd66e8f\\\\setup.py'\"'\"'; __file__='\"'\"'C:\\\\Users\\\\Maciek\\\\AppData\\\\Local\\\\Temp\\\\pip-install-dwlb6aaw\\\\fiona_413de9f1885f45a8965f8a3a1fd66e8f\\\\setup.py'\"'\"';f = getattr(tokenize, '\"'\"'open'\"'\"', open)(__file__) if os.path.exists(__file__) else io.StringIO('\"'\"'from setuptools import setup; setup()'\"'\"');code = f.read().replace('\"'\"'\\r\\n'\"'\"', '\"'\"'\\n'\"'\"');f.close();exec(compile(code, __file__, '\"'\"'exec'\"'\"'))' egg_info --egg-base 'C:\\Users\\Maciek\\AppData\\Local\\Temp\\pip-pip-egg-info-xj7xk1fs'\n",
      "         cwd: C:\\Users\\Maciek\\AppData\\Local\\Temp\\pip-install-dwlb6aaw\\fiona_413de9f1885f45a8965f8a3a1fd66e8f\\\n",
      "    Complete output (1 lines):\n",
      "    A GDAL API version must be specified. Provide a path to gdal-config using a GDAL_CONFIG environment variable or use a GDAL_VERSION environment variable.\n",
      "    ----------------------------------------\n",
      "WARNING: Discarding https://files.pythonhosted.org/packages/9d/f4/0a0ddc6174c4a93679b5f1dd3535e7ef8989828e6d5f86112de681f8c87b/Fiona-1.8.11.tar.gz#sha256=1e7ca9e051f5bffa1c43c70d573da9ca223fc076b84fa73380614fc02b9eb7f6 (from https://pypi.org/simple/fiona/). Command errored out with exit status 1: python setup.py egg_info Check the logs for full command output.\n",
      "    ERROR: Command errored out with exit status 1:\n",
      "     command: 'C:\\Users\\Maciek\\__repos\\BESTHL-AI\\venv\\Scripts\\python.exe' -c 'import io, os, sys, setuptools, tokenize; sys.argv[0] = '\"'\"'C:\\\\Users\\\\Maciek\\\\AppData\\\\Local\\\\Temp\\\\pip-install-dwlb6aaw\\\\fiona_8ed07eaad5674df5ade43f3e8641638e\\\\setup.py'\"'\"'; __file__='\"'\"'C:\\\\Users\\\\Maciek\\\\AppData\\\\Local\\\\Temp\\\\pip-install-dwlb6aaw\\\\fiona_8ed07eaad5674df5ade43f3e8641638e\\\\setup.py'\"'\"';f = getattr(tokenize, '\"'\"'open'\"'\"', open)(__file__) if os.path.exists(__file__) else io.StringIO('\"'\"'from setuptools import setup; setup()'\"'\"');code = f.read().replace('\"'\"'\\r\\n'\"'\"', '\"'\"'\\n'\"'\"');f.close();exec(compile(code, __file__, '\"'\"'exec'\"'\"'))' egg_info --egg-base 'C:\\Users\\Maciek\\AppData\\Local\\Temp\\pip-pip-egg-info-kfbsvlhc'\n",
      "         cwd: C:\\Users\\Maciek\\AppData\\Local\\Temp\\pip-install-dwlb6aaw\\fiona_8ed07eaad5674df5ade43f3e8641638e\\\n",
      "    Complete output (1 lines):\n",
      "    A GDAL API version must be specified. Provide a path to gdal-config using a GDAL_CONFIG environment variable or use a GDAL_VERSION environment variable.\n",
      "    ----------------------------------------\n",
      "WARNING: Discarding https://files.pythonhosted.org/packages/13/73/f80b491ed8559326fab202a6d6333a3cd6e8be1e9d782bc6c0d03d476457/Fiona-1.8.10.tar.gz#sha256=ff562eb2f3960e21f8c7f050ddd7f47a763869ea14afc2234a40df72666c6a2c (from https://pypi.org/simple/fiona/). Command errored out with exit status 1: python setup.py egg_info Check the logs for full command output.\n",
      "    ERROR: Command errored out with exit status 1:\n",
      "     command: 'C:\\Users\\Maciek\\__repos\\BESTHL-AI\\venv\\Scripts\\python.exe' -c 'import io, os, sys, setuptools, tokenize; sys.argv[0] = '\"'\"'C:\\\\Users\\\\Maciek\\\\AppData\\\\Local\\\\Temp\\\\pip-install-dwlb6aaw\\\\fiona_fbd2064bd51d4e83a99243a6594d2cd4\\\\setup.py'\"'\"'; __file__='\"'\"'C:\\\\Users\\\\Maciek\\\\AppData\\\\Local\\\\Temp\\\\pip-install-dwlb6aaw\\\\fiona_fbd2064bd51d4e83a99243a6594d2cd4\\\\setup.py'\"'\"';f = getattr(tokenize, '\"'\"'open'\"'\"', open)(__file__) if os.path.exists(__file__) else io.StringIO('\"'\"'from setuptools import setup; setup()'\"'\"');code = f.read().replace('\"'\"'\\r\\n'\"'\"', '\"'\"'\\n'\"'\"');f.close();exec(compile(code, __file__, '\"'\"'exec'\"'\"'))' egg_info --egg-base 'C:\\Users\\Maciek\\AppData\\Local\\Temp\\pip-pip-egg-info-qroxvqut'\n",
      "         cwd: C:\\Users\\Maciek\\AppData\\Local\\Temp\\pip-install-dwlb6aaw\\fiona_fbd2064bd51d4e83a99243a6594d2cd4\\\n",
      "    Complete output (1 lines):\n",
      "    A GDAL API version must be specified. Provide a path to gdal-config using a GDAL_CONFIG environment variable or use a GDAL_VERSION environment variable.\n",
      "    ----------------------------------------\n",
      "WARNING: Discarding https://files.pythonhosted.org/packages/9b/52/45e75507660ce0e86176d0f59b659560f687e2c7e9ebf82a10e7dcd2d3b7/Fiona-1.8.9.post2.tar.gz#sha256=210fb038b579fab38f35ddbdd31b9725f4d5099b3edfd4b87c983e5d47b79983 (from https://pypi.org/simple/fiona/). Command errored out with exit status 1: python setup.py egg_info Check the logs for full command output.\n",
      "    ERROR: Command errored out with exit status 1:\n",
      "     command: 'C:\\Users\\Maciek\\__repos\\BESTHL-AI\\venv\\Scripts\\python.exe' -c 'import io, os, sys, setuptools, tokenize; sys.argv[0] = '\"'\"'C:\\\\Users\\\\Maciek\\\\AppData\\\\Local\\\\Temp\\\\pip-install-dwlb6aaw\\\\fiona_ef33dfde8b83435f88fae9db84878b80\\\\setup.py'\"'\"'; __file__='\"'\"'C:\\\\Users\\\\Maciek\\\\AppData\\\\Local\\\\Temp\\\\pip-install-dwlb6aaw\\\\fiona_ef33dfde8b83435f88fae9db84878b80\\\\setup.py'\"'\"';f = getattr(tokenize, '\"'\"'open'\"'\"', open)(__file__) if os.path.exists(__file__) else io.StringIO('\"'\"'from setuptools import setup; setup()'\"'\"');code = f.read().replace('\"'\"'\\r\\n'\"'\"', '\"'\"'\\n'\"'\"');f.close();exec(compile(code, __file__, '\"'\"'exec'\"'\"'))' egg_info --egg-base 'C:\\Users\\Maciek\\AppData\\Local\\Temp\\pip-pip-egg-info-6cpyyvls'\n",
      "         cwd: C:\\Users\\Maciek\\AppData\\Local\\Temp\\pip-install-dwlb6aaw\\fiona_ef33dfde8b83435f88fae9db84878b80\\\n",
      "    Complete output (1 lines):\n",
      "    A GDAL API version must be specified. Provide a path to gdal-config using a GDAL_CONFIG environment variable or use a GDAL_VERSION environment variable.\n",
      "    ----------------------------------------\n",
      "WARNING: Discarding https://files.pythonhosted.org/packages/0e/a4/d9dd7399be809d3990f5000fb6ae43189ea26ae88be1bed3a4c9ddc1becc/Fiona-1.8.9.post1.tar.gz#sha256=d5e0ea0b8addffe9cba4cb59e2bd495b015230e7a1b1597974f5048211930199 (from https://pypi.org/simple/fiona/). Command errored out with exit status 1: python setup.py egg_info Check the logs for full command output.\n",
      "    ERROR: Command errored out with exit status 1:\n",
      "     command: 'C:\\Users\\Maciek\\__repos\\BESTHL-AI\\venv\\Scripts\\python.exe' -c 'import io, os, sys, setuptools, tokenize; sys.argv[0] = '\"'\"'C:\\\\Users\\\\Maciek\\\\AppData\\\\Local\\\\Temp\\\\pip-install-dwlb6aaw\\\\fiona_942b3623bb10443cae67c4519b565ec2\\\\setup.py'\"'\"'; __file__='\"'\"'C:\\\\Users\\\\Maciek\\\\AppData\\\\Local\\\\Temp\\\\pip-install-dwlb6aaw\\\\fiona_942b3623bb10443cae67c4519b565ec2\\\\setup.py'\"'\"';f = getattr(tokenize, '\"'\"'open'\"'\"', open)(__file__) if os.path.exists(__file__) else io.StringIO('\"'\"'from setuptools import setup; setup()'\"'\"');code = f.read().replace('\"'\"'\\r\\n'\"'\"', '\"'\"'\\n'\"'\"');f.close();exec(compile(code, __file__, '\"'\"'exec'\"'\"'))' egg_info --egg-base 'C:\\Users\\Maciek\\AppData\\Local\\Temp\\pip-pip-egg-info-w54jfr5n'\n",
      "         cwd: C:\\Users\\Maciek\\AppData\\Local\\Temp\\pip-install-dwlb6aaw\\fiona_942b3623bb10443cae67c4519b565ec2\\\n",
      "    Complete output (1 lines):\n",
      "    A GDAL API version must be specified. Provide a path to gdal-config using a GDAL_CONFIG environment variable or use a GDAL_VERSION environment variable.\n",
      "    ----------------------------------------\n",
      "WARNING: Discarding https://files.pythonhosted.org/packages/ad/92/dcbd8c54d697c22f299b5af63b6df3acfbd06c6d72e249614c05be99337c/Fiona-1.8.9.tar.gz#sha256=4dd6e2f5327c1174143c7c8594a75d373bc72f2c9a2a6daee312c3186a128add (from https://pypi.org/simple/fiona/). Command errored out with exit status 1: python setup.py egg_info Check the logs for full command output.\n",
      "    ERROR: Command errored out with exit status 1:\n",
      "     command: 'C:\\Users\\Maciek\\__repos\\BESTHL-AI\\venv\\Scripts\\python.exe' -c 'import io, os, sys, setuptools, tokenize; sys.argv[0] = '\"'\"'C:\\\\Users\\\\Maciek\\\\AppData\\\\Local\\\\Temp\\\\pip-install-dwlb6aaw\\\\fiona_aa0aebd61f4a4c68a6ac965f79cad981\\\\setup.py'\"'\"'; __file__='\"'\"'C:\\\\Users\\\\Maciek\\\\AppData\\\\Local\\\\Temp\\\\pip-install-dwlb6aaw\\\\fiona_aa0aebd61f4a4c68a6ac965f79cad981\\\\setup.py'\"'\"';f = getattr(tokenize, '\"'\"'open'\"'\"', open)(__file__) if os.path.exists(__file__) else io.StringIO('\"'\"'from setuptools import setup; setup()'\"'\"');code = f.read().replace('\"'\"'\\r\\n'\"'\"', '\"'\"'\\n'\"'\"');f.close();exec(compile(code, __file__, '\"'\"'exec'\"'\"'))' egg_info --egg-base 'C:\\Users\\Maciek\\AppData\\Local\\Temp\\pip-pip-egg-info-okdmkkby'\n",
      "         cwd: C:\\Users\\Maciek\\AppData\\Local\\Temp\\pip-install-dwlb6aaw\\fiona_aa0aebd61f4a4c68a6ac965f79cad981\\\n",
      "    Complete output (1 lines):\n",
      "    A GDAL API version must be specified. Provide a path to gdal-config using a GDAL_CONFIG environment variable or use a GDAL_VERSION environment variable.\n",
      "    ----------------------------------------\n",
      "WARNING: Discarding https://files.pythonhosted.org/packages/94/7f/e288db1ad63d759d494c30caae34f865e0c6927588c490705e91b7134193/Fiona-1.8.8.tar.gz#sha256=711c3be73203b37812992089445a1e4e9d3d6b64e667389f7b15406e15a91e83 (from https://pypi.org/simple/fiona/). Command errored out with exit status 1: python setup.py egg_info Check the logs for full command output.\n",
      "    ERROR: Command errored out with exit status 1:\n",
      "     command: 'C:\\Users\\Maciek\\__repos\\BESTHL-AI\\venv\\Scripts\\python.exe' -c 'import io, os, sys, setuptools, tokenize; sys.argv[0] = '\"'\"'C:\\\\Users\\\\Maciek\\\\AppData\\\\Local\\\\Temp\\\\pip-install-dwlb6aaw\\\\fiona_206e93eb4a3342abb1488ae8529c421a\\\\setup.py'\"'\"'; __file__='\"'\"'C:\\\\Users\\\\Maciek\\\\AppData\\\\Local\\\\Temp\\\\pip-install-dwlb6aaw\\\\fiona_206e93eb4a3342abb1488ae8529c421a\\\\setup.py'\"'\"';f = getattr(tokenize, '\"'\"'open'\"'\"', open)(__file__) if os.path.exists(__file__) else io.StringIO('\"'\"'from setuptools import setup; setup()'\"'\"');code = f.read().replace('\"'\"'\\r\\n'\"'\"', '\"'\"'\\n'\"'\"');f.close();exec(compile(code, __file__, '\"'\"'exec'\"'\"'))' egg_info --egg-base 'C:\\Users\\Maciek\\AppData\\Local\\Temp\\pip-pip-egg-info-4d54xnq_'\n",
      "         cwd: C:\\Users\\Maciek\\AppData\\Local\\Temp\\pip-install-dwlb6aaw\\fiona_206e93eb4a3342abb1488ae8529c421a\\\n",
      "    Complete output (1 lines):\n",
      "    A GDAL API version must be specified. Provide a path to gdal-config using a GDAL_CONFIG environment variable or use a GDAL_VERSION environment variable.\n",
      "    ----------------------------------------\n",
      "WARNING: Discarding https://files.pythonhosted.org/packages/78/62/daafd070aebefa639df247705b97f13f7cfad43895581b5cae41bd886709/Fiona-1.8.7.tar.gz#sha256=a55a23615bad3e142d4e4cda97bb5de83c778a80049222e9dffae93c13b5cf93 (from https://pypi.org/simple/fiona/). Command errored out with exit status 1: python setup.py egg_info Check the logs for full command output.\n",
      "    ERROR: Command errored out with exit status 1:\n",
      "     command: 'C:\\Users\\Maciek\\__repos\\BESTHL-AI\\venv\\Scripts\\python.exe' -c 'import io, os, sys, setuptools, tokenize; sys.argv[0] = '\"'\"'C:\\\\Users\\\\Maciek\\\\AppData\\\\Local\\\\Temp\\\\pip-install-dwlb6aaw\\\\fiona_07faec303643420ea85dc5573792ad3b\\\\setup.py'\"'\"'; __file__='\"'\"'C:\\\\Users\\\\Maciek\\\\AppData\\\\Local\\\\Temp\\\\pip-install-dwlb6aaw\\\\fiona_07faec303643420ea85dc5573792ad3b\\\\setup.py'\"'\"';f = getattr(tokenize, '\"'\"'open'\"'\"', open)(__file__) if os.path.exists(__file__) else io.StringIO('\"'\"'from setuptools import setup; setup()'\"'\"');code = f.read().replace('\"'\"'\\r\\n'\"'\"', '\"'\"'\\n'\"'\"');f.close();exec(compile(code, __file__, '\"'\"'exec'\"'\"'))' egg_info --egg-base 'C:\\Users\\Maciek\\AppData\\Local\\Temp\\pip-pip-egg-info-hde57pz5'\n",
      "         cwd: C:\\Users\\Maciek\\AppData\\Local\\Temp\\pip-install-dwlb6aaw\\fiona_07faec303643420ea85dc5573792ad3b\\\n",
      "    Complete output (1 lines):\n",
      "    A GDAL API version must be specified. Provide a path to gdal-config using a GDAL_CONFIG environment variable or use a GDAL_VERSION environment variable.\n",
      "    ----------------------------------------\n",
      "WARNING: Discarding https://files.pythonhosted.org/packages/41/9d/63696e7b1de42aad294d4781199a408bec593d8fdb80a2b4a788c911a33b/Fiona-1.8.6.tar.gz#sha256=fa31dfe8855b9cd0b128b47a4df558f1b8eda90d2181bff1dd9854e5556efb3e (from https://pypi.org/simple/fiona/). Command errored out with exit status 1: python setup.py egg_info Check the logs for full command output.\n",
      "    ERROR: Command errored out with exit status 1:\n",
      "     command: 'C:\\Users\\Maciek\\__repos\\BESTHL-AI\\venv\\Scripts\\python.exe' -c 'import io, os, sys, setuptools, tokenize; sys.argv[0] = '\"'\"'C:\\\\Users\\\\Maciek\\\\AppData\\\\Local\\\\Temp\\\\pip-install-dwlb6aaw\\\\fiona_87122d1e8bf94a84838d89fb896e7569\\\\setup.py'\"'\"'; __file__='\"'\"'C:\\\\Users\\\\Maciek\\\\AppData\\\\Local\\\\Temp\\\\pip-install-dwlb6aaw\\\\fiona_87122d1e8bf94a84838d89fb896e7569\\\\setup.py'\"'\"';f = getattr(tokenize, '\"'\"'open'\"'\"', open)(__file__) if os.path.exists(__file__) else io.StringIO('\"'\"'from setuptools import setup; setup()'\"'\"');code = f.read().replace('\"'\"'\\r\\n'\"'\"', '\"'\"'\\n'\"'\"');f.close();exec(compile(code, __file__, '\"'\"'exec'\"'\"'))' egg_info --egg-base 'C:\\Users\\Maciek\\AppData\\Local\\Temp\\pip-pip-egg-info-azj2a9gb'\n",
      "         cwd: C:\\Users\\Maciek\\AppData\\Local\\Temp\\pip-install-dwlb6aaw\\fiona_87122d1e8bf94a84838d89fb896e7569\\\n",
      "    Complete output (1 lines):\n",
      "    A GDAL API version must be specified. Provide a path to gdal-config using a GDAL_CONFIG environment variable or use a GDAL_VERSION environment variable.\n",
      "    ----------------------------------------\n",
      "WARNING: Discarding https://files.pythonhosted.org/packages/7b/af/1c2c83c4a8363a4ce9fea817b1910b5e071bed012e18257faa2a0ab3cfe7/Fiona-1.8.5.tar.gz#sha256=4f5cc2d449edbbf693c83e24cdada72de7c41297383d16fcc92387eb445e9d35 (from https://pypi.org/simple/fiona/). Command errored out with exit status 1: python setup.py egg_info Check the logs for full command output.\n",
      "    ERROR: Command errored out with exit status 1:\n",
      "     command: 'C:\\Users\\Maciek\\__repos\\BESTHL-AI\\venv\\Scripts\\python.exe' -c 'import io, os, sys, setuptools, tokenize; sys.argv[0] = '\"'\"'C:\\\\Users\\\\Maciek\\\\AppData\\\\Local\\\\Temp\\\\pip-install-dwlb6aaw\\\\fiona_b5cf7afcf9d64941ad75f0f5741df222\\\\setup.py'\"'\"'; __file__='\"'\"'C:\\\\Users\\\\Maciek\\\\AppData\\\\Local\\\\Temp\\\\pip-install-dwlb6aaw\\\\fiona_b5cf7afcf9d64941ad75f0f5741df222\\\\setup.py'\"'\"';f = getattr(tokenize, '\"'\"'open'\"'\"', open)(__file__) if os.path.exists(__file__) else io.StringIO('\"'\"'from setuptools import setup; setup()'\"'\"');code = f.read().replace('\"'\"'\\r\\n'\"'\"', '\"'\"'\\n'\"'\"');f.close();exec(compile(code, __file__, '\"'\"'exec'\"'\"'))' egg_info --egg-base 'C:\\Users\\Maciek\\AppData\\Local\\Temp\\pip-pip-egg-info-nl_pcele'\n",
      "         cwd: C:\\Users\\Maciek\\AppData\\Local\\Temp\\pip-install-dwlb6aaw\\fiona_b5cf7afcf9d64941ad75f0f5741df222\\\n",
      "    Complete output (1 lines):\n",
      "    A GDAL API version must be specified. Provide a path to gdal-config using a GDAL_CONFIG environment variable or use a GDAL_VERSION environment variable.\n",
      "    ----------------------------------------\n",
      "WARNING: Discarding https://files.pythonhosted.org/packages/3a/16/84960540e9fce61d767fd2f0f1d95f4c63e99ab5d8fddc308e8b51b059b8/Fiona-1.8.4.tar.gz#sha256=aec9ab2e3513c9503ec123b1a8573bee55fc6a66e2ac07088c3376bf6738a424 (from https://pypi.org/simple/fiona/). Command errored out with exit status 1: python setup.py egg_info Check the logs for full command output.\n",
      "    ERROR: Command errored out with exit status 1:\n",
      "     command: 'C:\\Users\\Maciek\\__repos\\BESTHL-AI\\venv\\Scripts\\python.exe' -c 'import io, os, sys, setuptools, tokenize; sys.argv[0] = '\"'\"'C:\\\\Users\\\\Maciek\\\\AppData\\\\Local\\\\Temp\\\\pip-install-dwlb6aaw\\\\fiona_b23d0fe996e34b5d9f54c45c702d73f3\\\\setup.py'\"'\"'; __file__='\"'\"'C:\\\\Users\\\\Maciek\\\\AppData\\\\Local\\\\Temp\\\\pip-install-dwlb6aaw\\\\fiona_b23d0fe996e34b5d9f54c45c702d73f3\\\\setup.py'\"'\"';f = getattr(tokenize, '\"'\"'open'\"'\"', open)(__file__) if os.path.exists(__file__) else io.StringIO('\"'\"'from setuptools import setup; setup()'\"'\"');code = f.read().replace('\"'\"'\\r\\n'\"'\"', '\"'\"'\\n'\"'\"');f.close();exec(compile(code, __file__, '\"'\"'exec'\"'\"'))' egg_info --egg-base 'C:\\Users\\Maciek\\AppData\\Local\\Temp\\pip-pip-egg-info-pkaj7u06'\n",
      "         cwd: C:\\Users\\Maciek\\AppData\\Local\\Temp\\pip-install-dwlb6aaw\\fiona_b23d0fe996e34b5d9f54c45c702d73f3\\\n",
      "    Complete output (1 lines):\n",
      "    A GDAL API version must be specified. Provide a path to gdal-config using a GDAL_CONFIG environment variable or use a GDAL_VERSION environment variable.\n",
      "    ----------------------------------------\n",
      "WARNING: Discarding https://files.pythonhosted.org/packages/46/d1/fcdb32513a03abfde0d97fd9782ce0f8cc0540fa6c6ce783e87b94064964/Fiona-1.8.3.tar.gz#sha256=3e831100a23c3b6cd32b98baf0c9e2119d909b44a5cf4533d3625f61dcf2d2b1 (from https://pypi.org/simple/fiona/). Command errored out with exit status 1: python setup.py egg_info Check the logs for full command output.\n",
      "    ERROR: Command errored out with exit status 1:\n",
      "     command: 'C:\\Users\\Maciek\\__repos\\BESTHL-AI\\venv\\Scripts\\python.exe' -c 'import io, os, sys, setuptools, tokenize; sys.argv[0] = '\"'\"'C:\\\\Users\\\\Maciek\\\\AppData\\\\Local\\\\Temp\\\\pip-install-dwlb6aaw\\\\fiona_d0f86aae0abe4025b196bf2e11ad6e86\\\\setup.py'\"'\"'; __file__='\"'\"'C:\\\\Users\\\\Maciek\\\\AppData\\\\Local\\\\Temp\\\\pip-install-dwlb6aaw\\\\fiona_d0f86aae0abe4025b196bf2e11ad6e86\\\\setup.py'\"'\"';f = getattr(tokenize, '\"'\"'open'\"'\"', open)(__file__) if os.path.exists(__file__) else io.StringIO('\"'\"'from setuptools import setup; setup()'\"'\"');code = f.read().replace('\"'\"'\\r\\n'\"'\"', '\"'\"'\\n'\"'\"');f.close();exec(compile(code, __file__, '\"'\"'exec'\"'\"'))' egg_info --egg-base 'C:\\Users\\Maciek\\AppData\\Local\\Temp\\pip-pip-egg-info-hvhd16ir'\n",
      "         cwd: C:\\Users\\Maciek\\AppData\\Local\\Temp\\pip-install-dwlb6aaw\\fiona_d0f86aae0abe4025b196bf2e11ad6e86\\\n",
      "    Complete output (1 lines):\n",
      "    A GDAL API version must be specified. Provide a path to gdal-config using a GDAL_CONFIG environment variable or use a GDAL_VERSION environment variable.\n",
      "    ----------------------------------------\n",
      "WARNING: Discarding https://files.pythonhosted.org/packages/25/50/0466d5d83e1859c5ca38351ee932d64cc5635f9d4dad522879e58f4b0018/Fiona-1.8.2.tar.gz#sha256=4c6419b7ac29136708029f6a44b4ccd458735a4d241016c7b1bab41685c08d8f (from https://pypi.org/simple/fiona/). Command errored out with exit status 1: python setup.py egg_info Check the logs for full command output.\n",
      "    ERROR: Command errored out with exit status 1:\n",
      "     command: 'C:\\Users\\Maciek\\__repos\\BESTHL-AI\\venv\\Scripts\\python.exe' -c 'import io, os, sys, setuptools, tokenize; sys.argv[0] = '\"'\"'C:\\\\Users\\\\Maciek\\\\AppData\\\\Local\\\\Temp\\\\pip-install-dwlb6aaw\\\\fiona_3bdd751fec484c5fa37066544d4cc72d\\\\setup.py'\"'\"'; __file__='\"'\"'C:\\\\Users\\\\Maciek\\\\AppData\\\\Local\\\\Temp\\\\pip-install-dwlb6aaw\\\\fiona_3bdd751fec484c5fa37066544d4cc72d\\\\setup.py'\"'\"';f = getattr(tokenize, '\"'\"'open'\"'\"', open)(__file__) if os.path.exists(__file__) else io.StringIO('\"'\"'from setuptools import setup; setup()'\"'\"');code = f.read().replace('\"'\"'\\r\\n'\"'\"', '\"'\"'\\n'\"'\"');f.close();exec(compile(code, __file__, '\"'\"'exec'\"'\"'))' egg_info --egg-base 'C:\\Users\\Maciek\\AppData\\Local\\Temp\\pip-pip-egg-info-qq_vy6jj'\n",
      "         cwd: C:\\Users\\Maciek\\AppData\\Local\\Temp\\pip-install-dwlb6aaw\\fiona_3bdd751fec484c5fa37066544d4cc72d\\\n",
      "    Complete output (1 lines):\n",
      "    A GDAL API version must be specified. Provide a path to gdal-config using a GDAL_CONFIG environment variable or use a GDAL_VERSION environment variable.\n",
      "    ----------------------------------------\n",
      "WARNING: Discarding https://files.pythonhosted.org/packages/3e/5f/0c6704efeea2ff3fba7f54cc6ec38070157f21bc1cffa7bdfa7c9f6b8f7a/Fiona-1.8.1.tar.gz#sha256=4c34bb4c5cd788aaf14e5484c3b7de407b1a8a7c7b2d29bbb2e8b37931e83b8d (from https://pypi.org/simple/fiona/). Command errored out with exit status 1: python setup.py egg_info Check the logs for full command output.\n",
      "    ERROR: Command errored out with exit status 1:\n",
      "     command: 'C:\\Users\\Maciek\\__repos\\BESTHL-AI\\venv\\Scripts\\python.exe' -c 'import io, os, sys, setuptools, tokenize; sys.argv[0] = '\"'\"'C:\\\\Users\\\\Maciek\\\\AppData\\\\Local\\\\Temp\\\\pip-install-dwlb6aaw\\\\fiona_ec776e203753441abb82ba7bf64aa64b\\\\setup.py'\"'\"'; __file__='\"'\"'C:\\\\Users\\\\Maciek\\\\AppData\\\\Local\\\\Temp\\\\pip-install-dwlb6aaw\\\\fiona_ec776e203753441abb82ba7bf64aa64b\\\\setup.py'\"'\"';f = getattr(tokenize, '\"'\"'open'\"'\"', open)(__file__) if os.path.exists(__file__) else io.StringIO('\"'\"'from setuptools import setup; setup()'\"'\"');code = f.read().replace('\"'\"'\\r\\n'\"'\"', '\"'\"'\\n'\"'\"');f.close();exec(compile(code, __file__, '\"'\"'exec'\"'\"'))' egg_info --egg-base 'C:\\Users\\Maciek\\AppData\\Local\\Temp\\pip-pip-egg-info-e_la4rvj'\n",
      "         cwd: C:\\Users\\Maciek\\AppData\\Local\\Temp\\pip-install-dwlb6aaw\\fiona_ec776e203753441abb82ba7bf64aa64b\\\n",
      "    Complete output (1 lines):\n",
      "    A GDAL API version must be specified. Provide a path to gdal-config using a GDAL_CONFIG environment variable or use a GDAL_VERSION environment variable.\n",
      "    ----------------------------------------\n",
      "WARNING: Discarding https://files.pythonhosted.org/packages/2a/bd/c1efc2680f338e5941121c776d6323af6b9698ac739e22ba523cee348a7f/Fiona-1.8.0.tar.gz#sha256=20141a9ece06daa7bb4333fba640c2fe39a49f8aca5492d1da8595d41e91844a (from https://pypi.org/simple/fiona/). Command errored out with exit status 1: python setup.py egg_info Check the logs for full command output.\n",
      "  ERROR: Command errored out with exit status 1:\n",
      "   command: 'C:\\Users\\Maciek\\__repos\\BESTHL-AI\\venv\\Scripts\\python.exe' -u -c 'import io, os, sys, setuptools, tokenize; sys.argv[0] = '\"'\"'C:\\\\Users\\\\Maciek\\\\AppData\\\\Local\\\\Temp\\\\pip-install-dwlb6aaw\\\\fiona_230db8c2665448eaaf06e10648c8afd5\\\\setup.py'\"'\"'; __file__='\"'\"'C:\\\\Users\\\\Maciek\\\\AppData\\\\Local\\\\Temp\\\\pip-install-dwlb6aaw\\\\fiona_230db8c2665448eaaf06e10648c8afd5\\\\setup.py'\"'\"';f = getattr(tokenize, '\"'\"'open'\"'\"', open)(__file__) if os.path.exists(__file__) else io.StringIO('\"'\"'from setuptools import setup; setup()'\"'\"');code = f.read().replace('\"'\"'\\r\\n'\"'\"', '\"'\"'\\n'\"'\"');f.close();exec(compile(code, __file__, '\"'\"'exec'\"'\"'))' bdist_wheel -d 'C:\\Users\\Maciek\\AppData\\Local\\Temp\\pip-wheel-pbkhqt3f'\n",
      "       cwd: C:\\Users\\Maciek\\AppData\\Local\\Temp\\pip-install-dwlb6aaw\\fiona_230db8c2665448eaaf06e10648c8afd5\\\n",
      "  Complete output (42 lines):\n",
      "  C:\\Users\\Maciek\\AppData\\Local\\Programs\\Python\\Python39\\lib\\distutils\\dist.py:274: UserWarning: Unknown distribution option: 'metadata_version'\n",
      "    warnings.warn(msg)\n",
      "  C:\\Users\\Maciek\\AppData\\Local\\Programs\\Python\\Python39\\lib\\distutils\\dist.py:274: UserWarning: Unknown distribution option: 'requires_python'\n",
      "    warnings.warn(msg)\n",
      "  C:\\Users\\Maciek\\AppData\\Local\\Programs\\Python\\Python39\\lib\\distutils\\dist.py:274: UserWarning: Unknown distribution option: 'requires_external'\n",
      "    warnings.warn(msg)\n",
      "  running bdist_wheel\n",
      "  running build\n",
      "  running build_py\n",
      "  creating build\n",
      "  creating build\\lib.win-amd64-3.9\n",
      "  creating build\\lib.win-amd64-3.9\\fiona\n",
      "  copying .\\fiona\\collection.py -> build\\lib.win-amd64-3.9\\fiona\n",
      "  copying .\\fiona\\compat.py -> build\\lib.win-amd64-3.9\\fiona\n",
      "  copying .\\fiona\\crs.py -> build\\lib.win-amd64-3.9\\fiona\n",
      "  copying .\\fiona\\drvsupport.py -> build\\lib.win-amd64-3.9\\fiona\n",
      "  copying .\\fiona\\errors.py -> build\\lib.win-amd64-3.9\\fiona\n",
      "  copying .\\fiona\\inspector.py -> build\\lib.win-amd64-3.9\\fiona\n",
      "  copying .\\fiona\\rfc3339.py -> build\\lib.win-amd64-3.9\\fiona\n",
      "  copying .\\fiona\\tool.py -> build\\lib.win-amd64-3.9\\fiona\n",
      "  copying .\\fiona\\transform.py -> build\\lib.win-amd64-3.9\\fiona\n",
      "  copying .\\fiona\\__init__.py -> build\\lib.win-amd64-3.9\\fiona\n",
      "  creating build\\lib.win-amd64-3.9\\fiona\\fio\n",
      "  copying .\\fiona\\fio\\bounds.py -> build\\lib.win-amd64-3.9\\fiona\\fio\n",
      "  copying .\\fiona\\fio\\calc.py -> build\\lib.win-amd64-3.9\\fiona\\fio\n",
      "  copying .\\fiona\\fio\\cat.py -> build\\lib.win-amd64-3.9\\fiona\\fio\n",
      "  copying .\\fiona\\fio\\collect.py -> build\\lib.win-amd64-3.9\\fiona\\fio\n",
      "  copying .\\fiona\\fio\\distrib.py -> build\\lib.win-amd64-3.9\\fiona\\fio\n",
      "  copying .\\fiona\\fio\\dump.py -> build\\lib.win-amd64-3.9\\fiona\\fio\n",
      "  copying .\\fiona\\fio\\env.py -> build\\lib.win-amd64-3.9\\fiona\\fio\n",
      "  copying .\\fiona\\fio\\filter.py -> build\\lib.win-amd64-3.9\\fiona\\fio\n",
      "  copying .\\fiona\\fio\\helpers.py -> build\\lib.win-amd64-3.9\\fiona\\fio\n",
      "  copying .\\fiona\\fio\\info.py -> build\\lib.win-amd64-3.9\\fiona\\fio\n",
      "  copying .\\fiona\\fio\\insp.py -> build\\lib.win-amd64-3.9\\fiona\\fio\n",
      "  copying .\\fiona\\fio\\load.py -> build\\lib.win-amd64-3.9\\fiona\\fio\n",
      "  copying .\\fiona\\fio\\ls.py -> build\\lib.win-amd64-3.9\\fiona\\fio\n",
      "  copying .\\fiona\\fio\\main.py -> build\\lib.win-amd64-3.9\\fiona\\fio\n",
      "  copying .\\fiona\\fio\\options.py -> build\\lib.win-amd64-3.9\\fiona\\fio\n",
      "  copying .\\fiona\\fio\\__init__.py -> build\\lib.win-amd64-3.9\\fiona\\fio\n",
      "  running build_ext\n",
      "  building 'fiona._transform' extension\n",
      "  error: Microsoft Visual C++ 14.0 or greater is required. Get it with \"Microsoft C++ Build Tools\": https://visualstudio.microsoft.com/visual-cpp-build-tools/\n",
      "  ----------------------------------------\n",
      "  ERROR: Failed building wheel for fiona\n",
      "    ERROR: Command errored out with exit status 1:\n",
      "     command: 'C:\\Users\\Maciek\\__repos\\BESTHL-AI\\venv\\Scripts\\python.exe' -u -c 'import io, os, sys, setuptools, tokenize; sys.argv[0] = '\"'\"'C:\\\\Users\\\\Maciek\\\\AppData\\\\Local\\\\Temp\\\\pip-install-dwlb6aaw\\\\fiona_230db8c2665448eaaf06e10648c8afd5\\\\setup.py'\"'\"'; __file__='\"'\"'C:\\\\Users\\\\Maciek\\\\AppData\\\\Local\\\\Temp\\\\pip-install-dwlb6aaw\\\\fiona_230db8c2665448eaaf06e10648c8afd5\\\\setup.py'\"'\"';f = getattr(tokenize, '\"'\"'open'\"'\"', open)(__file__) if os.path.exists(__file__) else io.StringIO('\"'\"'from setuptools import setup; setup()'\"'\"');code = f.read().replace('\"'\"'\\r\\n'\"'\"', '\"'\"'\\n'\"'\"');f.close();exec(compile(code, __file__, '\"'\"'exec'\"'\"'))' install --record 'C:\\Users\\Maciek\\AppData\\Local\\Temp\\pip-record-d2vh34qj\\install-record.txt' --single-version-externally-managed --compile --install-headers 'C:\\Users\\Maciek\\__repos\\BESTHL-AI\\venv\\include\\site\\python3.9\\fiona'\n",
      "         cwd: C:\\Users\\Maciek\\AppData\\Local\\Temp\\pip-install-dwlb6aaw\\fiona_230db8c2665448eaaf06e10648c8afd5\\\n",
      "    Complete output (12 lines):\n",
      "    C:\\Users\\Maciek\\AppData\\Local\\Programs\\Python\\Python39\\lib\\distutils\\dist.py:274: UserWarning: Unknown distribution option: 'metadata_version'\n",
      "      warnings.warn(msg)\n",
      "    C:\\Users\\Maciek\\AppData\\Local\\Programs\\Python\\Python39\\lib\\distutils\\dist.py:274: UserWarning: Unknown distribution option: 'requires_python'\n",
      "      warnings.warn(msg)\n",
      "    C:\\Users\\Maciek\\AppData\\Local\\Programs\\Python\\Python39\\lib\\distutils\\dist.py:274: UserWarning: Unknown distribution option: 'requires_external'\n",
      "      warnings.warn(msg)\n",
      "    running install\n",
      "    running build\n",
      "    running build_py\n",
      "    running build_ext\n",
      "    building 'fiona._transform' extension\n",
      "    error: Microsoft Visual C++ 14.0 or greater is required. Get it with \"Microsoft C++ Build Tools\": https://visualstudio.microsoft.com/visual-cpp-build-tools/\n",
      "    ----------------------------------------\n",
      "ERROR: Command errored out with exit status 1: 'C:\\Users\\Maciek\\__repos\\BESTHL-AI\\venv\\Scripts\\python.exe' -u -c 'import io, os, sys, setuptools, tokenize; sys.argv[0] = '\"'\"'C:\\\\Users\\\\Maciek\\\\AppData\\\\Local\\\\Temp\\\\pip-install-dwlb6aaw\\\\fiona_230db8c2665448eaaf06e10648c8afd5\\\\setup.py'\"'\"'; __file__='\"'\"'C:\\\\Users\\\\Maciek\\\\AppData\\\\Local\\\\Temp\\\\pip-install-dwlb6aaw\\\\fiona_230db8c2665448eaaf06e10648c8afd5\\\\setup.py'\"'\"';f = getattr(tokenize, '\"'\"'open'\"'\"', open)(__file__) if os.path.exists(__file__) else io.StringIO('\"'\"'from setuptools import setup; setup()'\"'\"');code = f.read().replace('\"'\"'\\r\\n'\"'\"', '\"'\"'\\n'\"'\"');f.close();exec(compile(code, __file__, '\"'\"'exec'\"'\"'))' install --record 'C:\\Users\\Maciek\\AppData\\Local\\Temp\\pip-record-d2vh34qj\\install-record.txt' --single-version-externally-managed --compile --install-headers 'C:\\Users\\Maciek\\__repos\\BESTHL-AI\\venv\\include\\site\\python3.9\\fiona' Check the logs for full command output.\n",
      "WARNING: You are using pip version 21.2.3; however, version 22.0.4 is available.\n",
      "You should consider upgrading via the 'C:\\Users\\Maciek\\__repos\\BESTHL-AI\\venv\\Scripts\\python.exe -m pip install --upgrade pip' command.\n"
     ]
    },
    {
     "name": "stdout",
     "output_type": "stream",
     "text": [
      "Requirement already satisfied: folium in c:\\users\\maciek\\__repos\\besthl-ai\\venv\\lib\\site-packages (0.12.1.post1)\n",
      "Requirement already satisfied: numpy in c:\\users\\maciek\\__repos\\besthl-ai\\venv\\lib\\site-packages (from folium) (1.22.3)\n",
      "Requirement already satisfied: jinja2>=2.9 in c:\\users\\maciek\\__repos\\besthl-ai\\venv\\lib\\site-packages (from folium) (3.1.1)\n",
      "Requirement already satisfied: requests in c:\\users\\maciek\\__repos\\besthl-ai\\venv\\lib\\site-packages (from folium) (2.27.1)\n",
      "Requirement already satisfied: branca>=0.3.0 in c:\\users\\maciek\\__repos\\besthl-ai\\venv\\lib\\site-packages (from folium) (0.4.2)\n",
      "Requirement already satisfied: MarkupSafe>=2.0 in c:\\users\\maciek\\__repos\\besthl-ai\\venv\\lib\\site-packages (from jinja2>=2.9->folium) (2.1.1)\n",
      "Requirement already satisfied: certifi>=2017.4.17 in c:\\users\\maciek\\__repos\\besthl-ai\\venv\\lib\\site-packages (from requests->folium) (2021.10.8)\n",
      "Requirement already satisfied: idna<4,>=2.5 in c:\\users\\maciek\\__repos\\besthl-ai\\venv\\lib\\site-packages (from requests->folium) (3.3)\n",
      "Requirement already satisfied: urllib3<1.27,>=1.21.1 in c:\\users\\maciek\\__repos\\besthl-ai\\venv\\lib\\site-packages (from requests->folium) (1.26.9)\n",
      "Requirement already satisfied: charset-normalizer~=2.0.0 in c:\\users\\maciek\\__repos\\besthl-ai\\venv\\lib\\site-packages (from requests->folium) (2.0.12)\n"
     ]
    },
    {
     "name": "stderr",
     "output_type": "stream",
     "text": [
      "WARNING: You are using pip version 21.2.3; however, version 22.0.4 is available.\n",
      "You should consider upgrading via the 'C:\\Users\\Maciek\\__repos\\BESTHL-AI\\venv\\Scripts\\python.exe -m pip install --upgrade pip' command.\n"
     ]
    }
   ],
   "source": [
    "# only run this on Google Colab\n",
    "!pip install geopandas\n",
    "!pip install folium"
   ]
  },
  {
   "cell_type": "code",
   "execution_count": 1,
   "metadata": {
    "id": "5Sbo2aEgpfrW"
   },
   "outputs": [],
   "source": [
    "import pandas as pd\n",
    "import seaborn as sns\n",
    "import folium\n",
    "import numpy as np\n",
    "import matplotlib.pyplot as plt"
   ]
  },
  {
   "cell_type": "markdown",
   "metadata": {},
   "source": [
    "# Load"
   ]
  },
  {
   "cell_type": "code",
   "execution_count": 3,
   "metadata": {
    "colab": {
     "base_uri": "https://localhost:8080/"
    },
    "id": "IAYw6g1IpfrX",
    "outputId": "26b7c1a2-1b29-4045-f851-eb27f9e6c72d"
   },
   "outputs": [
    {
     "name": "stderr",
     "output_type": "stream",
     "text": [
      "C:\\Users\\Maciek\\AppData\\Local\\Temp\\ipykernel_15004\\363779577.py:1: FutureWarning: The error_bad_lines argument has been deprecated and will be removed in a future version. Use on_bad_lines in the future.\n",
      "\n",
      "\n",
      "  main_df = pd.read_csv('https://raw.githubusercontent.com/Dynovski/BESTHL-AI/main/train_data.csv?token=GHSAT0AAAAAABTLWN7I6LMAI3BK5ZSQSE7WYSZQ4DA', error_bad_lines=False)\n"
     ]
    },
    {
     "name": "stdout",
     "output_type": "stream",
     "text": [
      "         BBLE  BORO  BLOCK   LOT EASEMENT                OWNER BLDGCL  \\\n",
      "0  1001791101     1    179  1101      NaN  155 FRANKLIN ST LLC     RK   \n",
      "1  1000163436     1     16  3436      NaN         BROADLAR LLC     R4   \n",
      "2  1000761255     1     76  1255      NaN         HAM, RICHARD     R4   \n",
      "3  1000161179     1     16  1179      NaN        SHIM, HAE JIN     R4   \n",
      "4  1001751526     1    175  1526      NaN        BRIT GIRL LLC     R4   \n",
      "\n",
      "  TAXCLASS  LTFRONT  LTDEPTH  ... VALTYPE    Borough   Latitude  Longitude  \\\n",
      "0        4        0        0  ...   AC-TR  MANHATTAN  40.719232 -74.008095   \n",
      "1        2        0        0  ...   AC-TR  MANHATTAN  40.709270 -74.016487   \n",
      "2        2        0        0  ...   AC-TR  MANHATTAN  40.708006 -74.006164   \n",
      "3        2        0        0  ...   AC-TR  MANHATTAN  40.709506 -74.018002   \n",
      "4        2        0        0  ...   AC-TR  MANHATTAN  40.718024 -74.003903   \n",
      "\n",
      "   Community Board  Council District  Census Tract        BIN  \\\n",
      "0            101.0               1.0          33.0  1002013.0   \n",
      "1            101.0               1.0       31704.0  1000053.0   \n",
      "2            101.0               1.0        1502.0  1087867.0   \n",
      "3            101.0               1.0       31704.0  1000061.0   \n",
      "4            101.0               1.0          33.0  1001937.0   \n",
      "\n",
      "                                      NTA      New Georeferenced Column  \n",
      "0  SoHo-TriBeCa-Civic Center-Little Italy  POINT (-74.008095 40.719232)  \n",
      "1       Battery Park City-Lower Manhattan   POINT (-74.016487 40.70927)  \n",
      "2       Battery Park City-Lower Manhattan  POINT (-74.006164 40.708006)  \n",
      "3       Battery Park City-Lower Manhattan  POINT (-74.018002 40.709506)  \n",
      "4  SoHo-TriBeCa-Civic Center-Little Italy  POINT (-74.003903 40.718024)  \n",
      "\n",
      "[5 rows x 40 columns]\n"
     ]
    },
    {
     "name": "stderr",
     "output_type": "stream",
     "text": [
      "b'Skipping line 5856: expected 40 fields, saw 70\\nSkipping line 7939: expected 40 fields, saw 49\\n'\n"
     ]
    }
   ],
   "source": [
    "main_df = pd.read_csv('https://raw.githubusercontent.com/Dynovski/BESTHL-AI/main/train_data.csv?token=GHSAT0AAAAAABTLWN7I6LMAI3BK5ZSQSE7WYSZQ4DA', error_bad_lines=False)\n",
    "print(main_df.head())"
   ]
  },
  {
   "cell_type": "code",
   "execution_count": 2,
   "metadata": {},
   "outputs": [
    {
     "data": {
      "text/html": [
       "<div>\n",
       "<style scoped>\n",
       "    .dataframe tbody tr th:only-of-type {\n",
       "        vertical-align: middle;\n",
       "    }\n",
       "\n",
       "    .dataframe tbody tr th {\n",
       "        vertical-align: top;\n",
       "    }\n",
       "\n",
       "    .dataframe thead th {\n",
       "        text-align: right;\n",
       "    }\n",
       "</style>\n",
       "<table border=\"1\" class=\"dataframe\">\n",
       "  <thead>\n",
       "    <tr style=\"text-align: right;\">\n",
       "      <th></th>\n",
       "      <th>LTFRONT</th>\n",
       "      <th>LTDEPTH</th>\n",
       "      <th>STORIES</th>\n",
       "      <th>FULLVAL</th>\n",
       "      <th>AVLAND</th>\n",
       "      <th>AVTOT</th>\n",
       "      <th>EXLAND</th>\n",
       "      <th>EXTOT</th>\n",
       "      <th>BLDFRONT</th>\n",
       "      <th>BLDDEPTH</th>\n",
       "      <th>...</th>\n",
       "      <th>EXCD1_5112.0category</th>\n",
       "      <th>EXCD1_5113.0category</th>\n",
       "      <th>EXCD1_5114.0category</th>\n",
       "      <th>EXCD1_5118.0category</th>\n",
       "      <th>EXCD1_5130.0category</th>\n",
       "      <th>EXCD1_6800.0category</th>\n",
       "      <th>EXCD1_nancategory</th>\n",
       "      <th>EXCD1_other</th>\n",
       "      <th>LTAREA</th>\n",
       "      <th>BLDAREA</th>\n",
       "    </tr>\n",
       "  </thead>\n",
       "  <tbody>\n",
       "    <tr>\n",
       "      <th>0</th>\n",
       "      <td>0.418722</td>\n",
       "      <td>0.222695</td>\n",
       "      <td>0.679674</td>\n",
       "      <td>1.037423</td>\n",
       "      <td>1.328547</td>\n",
       "      <td>1.760273</td>\n",
       "      <td>0.750434</td>\n",
       "      <td>0.788020</td>\n",
       "      <td>0.401337</td>\n",
       "      <td>0.262802</td>\n",
       "      <td>...</td>\n",
       "      <td>0</td>\n",
       "      <td>0</td>\n",
       "      <td>0</td>\n",
       "      <td>0</td>\n",
       "      <td>0</td>\n",
       "      <td>0</td>\n",
       "      <td>1</td>\n",
       "      <td>0</td>\n",
       "      <td>0.093247</td>\n",
       "      <td>0.105472</td>\n",
       "    </tr>\n",
       "    <tr>\n",
       "      <th>1</th>\n",
       "      <td>0.418722</td>\n",
       "      <td>0.222695</td>\n",
       "      <td>2.144616</td>\n",
       "      <td>-0.205828</td>\n",
       "      <td>0.360384</td>\n",
       "      <td>0.505832</td>\n",
       "      <td>-0.126706</td>\n",
       "      <td>0.336695</td>\n",
       "      <td>0.401337</td>\n",
       "      <td>0.262802</td>\n",
       "      <td>...</td>\n",
       "      <td>0</td>\n",
       "      <td>0</td>\n",
       "      <td>0</td>\n",
       "      <td>0</td>\n",
       "      <td>0</td>\n",
       "      <td>1</td>\n",
       "      <td>0</td>\n",
       "      <td>0</td>\n",
       "      <td>0.093247</td>\n",
       "      <td>0.105472</td>\n",
       "    </tr>\n",
       "    <tr>\n",
       "      <th>2</th>\n",
       "      <td>0.418722</td>\n",
       "      <td>0.222695</td>\n",
       "      <td>2.235519</td>\n",
       "      <td>-0.374268</td>\n",
       "      <td>0.145795</td>\n",
       "      <td>0.335874</td>\n",
       "      <td>0.750434</td>\n",
       "      <td>0.788020</td>\n",
       "      <td>2.433775</td>\n",
       "      <td>2.747254</td>\n",
       "      <td>...</td>\n",
       "      <td>0</td>\n",
       "      <td>0</td>\n",
       "      <td>0</td>\n",
       "      <td>0</td>\n",
       "      <td>0</td>\n",
       "      <td>0</td>\n",
       "      <td>1</td>\n",
       "      <td>0</td>\n",
       "      <td>0.093247</td>\n",
       "      <td>6.686198</td>\n",
       "    </tr>\n",
       "    <tr>\n",
       "      <th>3</th>\n",
       "      <td>0.418722</td>\n",
       "      <td>0.222695</td>\n",
       "      <td>2.319422</td>\n",
       "      <td>-0.344722</td>\n",
       "      <td>0.256552</td>\n",
       "      <td>0.365690</td>\n",
       "      <td>-0.230537</td>\n",
       "      <td>0.216101</td>\n",
       "      <td>0.401337</td>\n",
       "      <td>0.262802</td>\n",
       "      <td>...</td>\n",
       "      <td>0</td>\n",
       "      <td>0</td>\n",
       "      <td>0</td>\n",
       "      <td>0</td>\n",
       "      <td>0</td>\n",
       "      <td>1</td>\n",
       "      <td>0</td>\n",
       "      <td>0</td>\n",
       "      <td>0.093247</td>\n",
       "      <td>0.105472</td>\n",
       "    </tr>\n",
       "    <tr>\n",
       "      <th>4</th>\n",
       "      <td>0.418722</td>\n",
       "      <td>0.222695</td>\n",
       "      <td>1.936328</td>\n",
       "      <td>0.178492</td>\n",
       "      <td>0.090309</td>\n",
       "      <td>0.893611</td>\n",
       "      <td>0.750434</td>\n",
       "      <td>0.788020</td>\n",
       "      <td>0.848440</td>\n",
       "      <td>2.105427</td>\n",
       "      <td>...</td>\n",
       "      <td>0</td>\n",
       "      <td>0</td>\n",
       "      <td>0</td>\n",
       "      <td>0</td>\n",
       "      <td>0</td>\n",
       "      <td>0</td>\n",
       "      <td>1</td>\n",
       "      <td>0</td>\n",
       "      <td>0.093247</td>\n",
       "      <td>1.786328</td>\n",
       "    </tr>\n",
       "  </tbody>\n",
       "</table>\n",
       "<p>5 rows × 390 columns</p>\n",
       "</div>"
      ],
      "text/plain": [
       "    LTFRONT   LTDEPTH   STORIES   FULLVAL    AVLAND     AVTOT    EXLAND  \\\n",
       "0  0.418722  0.222695  0.679674  1.037423  1.328547  1.760273  0.750434   \n",
       "1  0.418722  0.222695  2.144616 -0.205828  0.360384  0.505832 -0.126706   \n",
       "2  0.418722  0.222695  2.235519 -0.374268  0.145795  0.335874  0.750434   \n",
       "3  0.418722  0.222695  2.319422 -0.344722  0.256552  0.365690 -0.230537   \n",
       "4  0.418722  0.222695  1.936328  0.178492  0.090309  0.893611  0.750434   \n",
       "\n",
       "      EXTOT  BLDFRONT  BLDDEPTH  ...  EXCD1_5112.0category  \\\n",
       "0  0.788020  0.401337  0.262802  ...                     0   \n",
       "1  0.336695  0.401337  0.262802  ...                     0   \n",
       "2  0.788020  2.433775  2.747254  ...                     0   \n",
       "3  0.216101  0.401337  0.262802  ...                     0   \n",
       "4  0.788020  0.848440  2.105427  ...                     0   \n",
       "\n",
       "   EXCD1_5113.0category  EXCD1_5114.0category  EXCD1_5118.0category  \\\n",
       "0                     0                     0                     0   \n",
       "1                     0                     0                     0   \n",
       "2                     0                     0                     0   \n",
       "3                     0                     0                     0   \n",
       "4                     0                     0                     0   \n",
       "\n",
       "   EXCD1_5130.0category  EXCD1_6800.0category  EXCD1_nancategory  EXCD1_other  \\\n",
       "0                     0                     0                  1            0   \n",
       "1                     0                     1                  0            0   \n",
       "2                     0                     0                  1            0   \n",
       "3                     0                     1                  0            0   \n",
       "4                     0                     0                  1            0   \n",
       "\n",
       "     LTAREA   BLDAREA  \n",
       "0  0.093247  0.105472  \n",
       "1  0.093247  0.105472  \n",
       "2  0.093247  6.686198  \n",
       "3  0.093247  0.105472  \n",
       "4  0.093247  1.786328  \n",
       "\n",
       "[5 rows x 390 columns]"
      ]
     },
     "execution_count": 2,
     "metadata": {},
     "output_type": "execute_result"
    }
   ],
   "source": [
    "processed_df = pd.read_csv('processed.csv')\n",
    "processed_df.head()"
   ]
  },
  {
   "cell_type": "markdown",
   "metadata": {},
   "source": [
    "# Basic stuff"
   ]
  },
  {
   "cell_type": "code",
   "execution_count": 50,
   "metadata": {},
   "outputs": [
    {
     "data": {
      "text/plain": [
       "(11946, 40)"
      ]
     },
     "execution_count": 50,
     "metadata": {},
     "output_type": "execute_result"
    }
   ],
   "source": [
    "main_df.shape"
   ]
  },
  {
   "cell_type": "code",
   "execution_count": null,
   "metadata": {
    "id": "8qwlkzZ5pfrY",
    "outputId": "7a49dcda-e052-408f-de67-d0b10fbe27bf"
   },
   "outputs": [],
   "source": [
    "main_df.columns"
   ]
  },
  {
   "cell_type": "code",
   "execution_count": null,
   "metadata": {
    "id": "SZKsc6kdpfrZ",
    "outputId": "99dd88fc-5d6f-4058-bf7e-7c52cb01d547"
   },
   "outputs": [],
   "source": [
    "main_df.info()"
   ]
  },
  {
   "cell_type": "code",
   "execution_count": null,
   "metadata": {
    "id": "qrymMbCZpfrZ",
    "outputId": "eacdc379-ea2c-4831-b328-d35d6be3917d"
   },
   "outputs": [],
   "source": [
    "main_df.describe()"
   ]
  },
  {
   "cell_type": "code",
   "execution_count": null,
   "metadata": {
    "id": "KrxNZOyGpfrZ",
    "outputId": "eb9b1526-7b8e-4217-ad63-023cb330b782"
   },
   "outputs": [],
   "source": [
    "main_df['POSTCODE'].value_counts()"
   ]
  },
  {
   "cell_type": "code",
   "execution_count": null,
   "metadata": {
    "id": "s9fltAM_pfrZ",
    "outputId": "989f29c2-873f-493c-b87e-b4f823656f82"
   },
   "outputs": [],
   "source": [
    "sns.scatterplot(data=main_df, x=main_df.index, y=main_df[\"FULLVAL\"])"
   ]
  },
  {
   "cell_type": "code",
   "execution_count": null,
   "metadata": {},
   "outputs": [],
   "source": [
    "type(main_df['TAXCLASS'][0])"
   ]
  },
  {
   "cell_type": "code",
   "execution_count": null,
   "metadata": {},
   "outputs": [],
   "source": [
    "main_df['TAXCLASS'].head(19)"
   ]
  },
  {
   "cell_type": "code",
   "execution_count": null,
   "metadata": {},
   "outputs": [],
   "source": [
    "sns.catplot(data=main_df, x=main_df.index, y=main_df[\"TAXCLASS\"])"
   ]
  },
  {
   "cell_type": "markdown",
   "metadata": {},
   "source": [
    "# Map"
   ]
  },
  {
   "cell_type": "code",
   "execution_count": null,
   "metadata": {},
   "outputs": [],
   "source": [
    "main_df['Latitude'].value_counts().head(30)"
   ]
  },
  {
   "cell_type": "code",
   "execution_count": null,
   "metadata": {},
   "outputs": [],
   "source": [
    "main_df['Longitude'].value_counts().head(30)"
   ]
  },
  {
   "cell_type": "code",
   "execution_count": 4,
   "metadata": {
    "colab": {
     "base_uri": "https://localhost:8080/"
    },
    "id": "4z3mvTUwwcNW",
    "outputId": "b5e34243-5006-41de-8fac-f446ee984561"
   },
   "outputs": [
    {
     "name": "stdout",
     "output_type": "stream",
     "text": [
      "(11946, 390)\n"
     ]
    }
   ],
   "source": [
    "# Watch out! sampling resets index\n",
    "map_df = processed_df[processed_df['Latitude'].notna()].sample(frac=1).reset_index(drop=True)\n",
    "\n",
    "# using too big location_number param results in slow map \n",
    "# location_number = 10000\n",
    "\n",
    "map_df = map_df[map_df['Longitude'].notna()]#.head(location_number)\n",
    "print(map_df.shape)"
   ]
  },
  {
   "cell_type": "code",
   "execution_count": 5,
   "metadata": {},
   "outputs": [
    {
     "data": {
      "text/plain": [
       "numpy.float64"
      ]
     },
     "execution_count": 5,
     "metadata": {},
     "output_type": "execute_result"
    }
   ],
   "source": [
    "map_df['Latitude'].loc[0]\n",
    "type(map_df['Latitude'].loc[0])"
   ]
  },
  {
   "cell_type": "code",
   "execution_count": 6,
   "metadata": {},
   "outputs": [
    {
     "data": {
      "text/plain": [
       "numpy.float64"
      ]
     },
     "execution_count": 6,
     "metadata": {},
     "output_type": "execute_result"
    }
   ],
   "source": [
    "map_df['Longitude'].loc[0]\n",
    "type(map_df['Latitude'].loc[0])"
   ]
  },
  {
   "cell_type": "code",
   "execution_count": 7,
   "metadata": {
    "id": "MMVpeQ-CsNu6"
   },
   "outputs": [],
   "source": [
    "map_full = folium.Map(location=[40.719232, -74.00809], zoom_start=9)"
   ]
  },
  {
   "cell_type": "code",
   "execution_count": null,
   "metadata": {},
   "outputs": [],
   "source": [
    "for index, _ in map_df.iterrows():\n",
    "    folium.Marker([map_df['Latitude'].loc[index], map_df['Longitude'].loc[index]]).add_to(map_full)"
   ]
  },
  {
   "cell_type": "code",
   "execution_count": null,
   "metadata": {},
   "outputs": [],
   "source": [
    "map_full"
   ]
  },
  {
   "cell_type": "markdown",
   "metadata": {},
   "source": [
    "## Separating clusters"
   ]
  },
  {
   "cell_type": "markdown",
   "metadata": {},
   "source": [
    "### k-means"
   ]
  },
  {
   "cell_type": "code",
   "execution_count": null,
   "metadata": {},
   "outputs": [],
   "source": [
    "from scipy.cluster.vq import kmeans2, whiten"
   ]
  },
  {
   "cell_type": "code",
   "execution_count": null,
   "metadata": {},
   "outputs": [],
   "source": [
    "map_kmeans = folium.Map(location=[40.719232, -74.00809], zoom_start=9)"
   ]
  },
  {
   "cell_type": "code",
   "execution_count": null,
   "metadata": {},
   "outputs": [],
   "source": [
    "coordinates_kmeans = [[map_df['Latitude'].loc[index], map_df['Longitude'].loc[index]] for index, _ in map_df.iterrows()]\n",
    "coordinates_kmeans = np.array(coordinates_kmeans)\n",
    "print(type(coordinates_kmeans))\n",
    "print(len(coordinates_kmeans))\n",
    "print(coordinates_kmeans[19])\n",
    "print(type(coordinates_kmeans[19]))"
   ]
  },
  {
   "cell_type": "code",
   "execution_count": null,
   "metadata": {},
   "outputs": [],
   "source": [
    "# non-pythonic :-(\n",
    "num_clusters_kmeans = set(y)\n",
    "\n",
    "for idx, place in enumerate(coordinates_kmeans):\n",
    "    if y[idx] == 0:\n",
    "        folium.Marker([place[0], place[1]], icon=folium.Icon(color=\"purple\")).add_to(map_kmeans)\n",
    "    if y[idx] == 1:\n",
    "        folium.Marker([place[0], place[1]], icon=folium.Icon(color=\"gray\")).add_to(map_kmeans)\n",
    "    if y[idx] == 2:\n",
    "        folium.Marker([place[0], place[1]], icon=folium.Icon(color=\"green\")).add_to(map_kmeans)\n",
    "    if y[idx] == 3:\n",
    "        folium.Marker([place[0], place[1]], icon=folium.Icon(color=\"blue\")).add_to(map_kmeans)\n",
    "    if y[idx] == 4:\n",
    "        folium.Marker([place[0], place[1]], icon=folium.Icon(color=\"red\")).add_to(map_kmeans)"
   ]
  },
  {
   "cell_type": "code",
   "execution_count": null,
   "metadata": {},
   "outputs": [],
   "source": [
    "x, y = kmeans2(whiten(coordinates_kmeans), 5, iter = 20)  \n",
    "# print(y)\n",
    "print(coordinates_kmeans[0])\n",
    "plt.scatter(coordinates_kmeans[:,0], coordinates_kmeans[:,1], c=y)\n",
    "plt.show()"
   ]
  },
  {
   "cell_type": "code",
   "execution_count": null,
   "metadata": {},
   "outputs": [],
   "source": [
    "map_kmeans"
   ]
  },
  {
   "cell_type": "markdown",
   "metadata": {},
   "source": [
    "### DBSCAN"
   ]
  },
  {
   "cell_type": "code",
   "execution_count": 8,
   "metadata": {},
   "outputs": [],
   "source": [
    "from sklearn.cluster import DBSCAN\n",
    "from geopy.distance import great_circle\n",
    "from shapely.geometry import MultiPoint"
   ]
  },
  {
   "cell_type": "code",
   "execution_count": 9,
   "metadata": {},
   "outputs": [],
   "source": [
    "coordinates_dbscan = map_df[['Latitude', 'Longitude']].to_numpy()"
   ]
  },
  {
   "cell_type": "code",
   "execution_count": 21,
   "metadata": {},
   "outputs": [
    {
     "name": "stdout",
     "output_type": "stream",
     "text": [
      "Number of clusters: 6\n"
     ]
    }
   ],
   "source": [
    "kms_per_radian = 6371.0088\n",
    "epsilon = 10 / kms_per_radian\n",
    "db = DBSCAN(eps=epsilon, min_samples=10, algorithm='ball_tree', metric='haversine').fit(np.radians(coordinates_dbscan))\n",
    "cluster_labels = db.labels_\n",
    "num_clusters = len(set(cluster_labels))\n",
    "clusters = pd.Series([coordinates_dbscan[cluster_labels == n] for n in range(num_clusters)])\n",
    "print('Number of clusters: {}'.format(num_clusters))"
   ]
  },
  {
   "cell_type": "code",
   "execution_count": 28,
   "metadata": {},
   "outputs": [
    {
     "name": "stdout",
     "output_type": "stream",
     "text": [
      "(11946, 2)\n",
      "(9408, 2)\n"
     ]
    }
   ],
   "source": [
    "print(coordinates_dbscan.shape)\n",
    "coordinates_dbscan_unique = np.unique(coordinates_dbscan, axis=0)\n",
    "print(coordinates_dbscan_unique.shape)"
   ]
  },
  {
   "cell_type": "code",
   "execution_count": 42,
   "metadata": {},
   "outputs": [
    {
     "ename": "IndexError",
     "evalue": "boolean index did not match indexed array along dimension 0; dimension is 9408 but corresponding boolean dimension is 11946",
     "output_type": "error",
     "traceback": [
      "\u001b[1;31m---------------------------------------------------------------------------\u001b[0m",
      "\u001b[1;31mIndexError\u001b[0m                                Traceback (most recent call last)",
      "Input \u001b[1;32mIn [42]\u001b[0m, in \u001b[0;36m<cell line: 1>\u001b[1;34m()\u001b[0m\n\u001b[1;32m----> 1\u001b[0m clusters_unique \u001b[38;5;241m=\u001b[39m pd\u001b[38;5;241m.\u001b[39mSeries([coordinates_dbscan_unique[cluster_labels \u001b[38;5;241m==\u001b[39m n] \u001b[38;5;28;01mfor\u001b[39;00m n \u001b[38;5;129;01min\u001b[39;00m \u001b[38;5;28mrange\u001b[39m(num_clusters)])\n\u001b[0;32m      2\u001b[0m \u001b[38;5;28mprint\u001b[39m(clusters_unique\u001b[38;5;241m.\u001b[39mshape)\n\u001b[0;32m      3\u001b[0m \u001b[38;5;28mprint\u001b[39m(clusters_unique[\u001b[38;5;241m0\u001b[39m]\u001b[38;5;241m.\u001b[39mshape)\n",
      "Input \u001b[1;32mIn [42]\u001b[0m, in \u001b[0;36m<listcomp>\u001b[1;34m(.0)\u001b[0m\n\u001b[1;32m----> 1\u001b[0m clusters_unique \u001b[38;5;241m=\u001b[39m pd\u001b[38;5;241m.\u001b[39mSeries([\u001b[43mcoordinates_dbscan_unique\u001b[49m\u001b[43m[\u001b[49m\u001b[43mcluster_labels\u001b[49m\u001b[43m \u001b[49m\u001b[38;5;241;43m==\u001b[39;49m\u001b[43m \u001b[49m\u001b[43mn\u001b[49m\u001b[43m]\u001b[49m \u001b[38;5;28;01mfor\u001b[39;00m n \u001b[38;5;129;01min\u001b[39;00m \u001b[38;5;28mrange\u001b[39m(num_clusters)])\n\u001b[0;32m      2\u001b[0m \u001b[38;5;28mprint\u001b[39m(clusters_unique\u001b[38;5;241m.\u001b[39mshape)\n\u001b[0;32m      3\u001b[0m \u001b[38;5;28mprint\u001b[39m(clusters_unique[\u001b[38;5;241m0\u001b[39m]\u001b[38;5;241m.\u001b[39mshape)\n",
      "\u001b[1;31mIndexError\u001b[0m: boolean index did not match indexed array along dimension 0; dimension is 9408 but corresponding boolean dimension is 11946"
     ]
    }
   ],
   "source": [
    "clusters_unique = pd.Series([coordinates_dbscan_unique[cluster_labels == n] for n in range(num_clusters)])\n",
    "print(clusters_unique.shape)\n",
    "print(clusters_unique[0].shape)\n",
    "print(clusters_unique[2].shape)"
   ]
  },
  {
   "cell_type": "code",
   "execution_count": 41,
   "metadata": {},
   "outputs": [
    {
     "name": "stdout",
     "output_type": "stream",
     "text": [
      "<class 'numpy.ndarray'>\n",
      "4011\n",
      "(4011, 2)\n"
     ]
    }
   ],
   "source": [
    "print(type(clusters[2]))\n",
    "print(len(clusters[2]))\n",
    "print(clusters[2].shape)"
   ]
  },
  {
   "cell_type": "code",
   "execution_count": 12,
   "metadata": {},
   "outputs": [],
   "source": [
    "map_dbscan = folium.Map(location=[40.719232, -74.00809], zoom_start=9)"
   ]
  },
  {
   "cell_type": "code",
   "execution_count": 14,
   "metadata": {},
   "outputs": [
    {
     "name": "stdout",
     "output_type": "stream",
     "text": [
      "(3765, 2)\n"
     ]
    }
   ],
   "source": [
    "for place in clusters[0]:\n",
    "    folium.Marker([place[0], place[1]], icon=folium.Icon(color=\"orange\")).add_to(map_dbscan)\n",
    "\n",
    "print(clusters[0].shape)"
   ]
  },
  {
   "cell_type": "code",
   "execution_count": 15,
   "metadata": {},
   "outputs": [
    {
     "name": "stdout",
     "output_type": "stream",
     "text": [
      "(2096, 2)\n"
     ]
    }
   ],
   "source": [
    "for place in clusters[1]:\n",
    "    folium.Marker([place[0], place[1]], icon=folium.Icon(color=\"blue\")).add_to(map_dbscan)\n",
    "    \n",
    "print(clusters[1].shape)"
   ]
  },
  {
   "cell_type": "code",
   "execution_count": 16,
   "metadata": {},
   "outputs": [
    {
     "name": "stdout",
     "output_type": "stream",
     "text": [
      "(4011, 2)\n"
     ]
    }
   ],
   "source": [
    "for place in clusters[2]:\n",
    "    folium.Marker([place[0], place[1]], icon=folium.Icon(color=\"purple\")).add_to(map_dbscan)\n",
    "    \n",
    "print(clusters[2].shape)"
   ]
  },
  {
   "cell_type": "code",
   "execution_count": 17,
   "metadata": {},
   "outputs": [
    {
     "name": "stdout",
     "output_type": "stream",
     "text": [
      "(1208, 2)\n"
     ]
    }
   ],
   "source": [
    "for place in clusters[3]:\n",
    "    folium.Marker([place[0], place[1]], icon=folium.Icon(color=\"green\")).add_to(map_dbscan)\n",
    "\n",
    "print(clusters[3].shape)"
   ]
  },
  {
   "cell_type": "code",
   "execution_count": 18,
   "metadata": {},
   "outputs": [
    {
     "name": "stdout",
     "output_type": "stream",
     "text": [
      "(852, 2)\n"
     ]
    }
   ],
   "source": [
    "for place in clusters[4]:\n",
    "    folium.Marker([place[0], place[1]], icon=folium.Icon(color=\"red\")).add_to(map_dbscan)\n",
    "    \n",
    "print(clusters[4].shape)"
   ]
  },
  {
   "cell_type": "code",
   "execution_count": 19,
   "metadata": {},
   "outputs": [
    {
     "name": "stdout",
     "output_type": "stream",
     "text": [
      "(0, 2)\n"
     ]
    }
   ],
   "source": [
    "for place in clusters[5]:\n",
    "    folium.Marker([place[0], place[1]], icon=folium.Icon(color=\"gray\")).add_to(map_dbscan)\n",
    "\n",
    "print(clusters[5].shape)"
   ]
  },
  {
   "cell_type": "code",
   "execution_count": null,
   "metadata": {},
   "outputs": [],
   "source": [
    "map_dbscan"
   ]
  },
  {
   "cell_type": "markdown",
   "metadata": {},
   "source": [
    "# Augment"
   ]
  },
  {
   "cell_type": "code",
   "execution_count": null,
   "metadata": {},
   "outputs": [],
   "source": [
    "augmented_df = processed_df"
   ]
  },
  {
   "cell_type": "code",
   "execution_count": null,
   "metadata": {},
   "outputs": [],
   "source": [
    "augmented_df.loc[(augmented_df['Latitude'] <= 90) & (augmented_df['Latitude'] >= -90)]"
   ]
  },
  {
   "cell_type": "code",
   "execution_count": null,
   "metadata": {},
   "outputs": [],
   "source": [
    "augmented_df.loc[(augmented_df['Longitude'] <= 180) & (augmented_df['Longitude'] >= -180)]"
   ]
  },
  {
   "cell_type": "code",
   "execution_count": null,
   "metadata": {},
   "outputs": [],
   "source": [
    "augmented_df['1-closest neighbour value'] = 0\n",
    "augmented_df['2-closest neighbour value'] = 0\n",
    "augmented_df['3-closest neighbour value'] = 0\n",
    "augmented_df['4-closest neighbour value'] = 0\n",
    "augmented_df['5-closest neighbour value'] = 0\n",
    "\n",
    "augmented_df[['1-closest neighbour value', \n",
    "              '2-closest neighbour value', \n",
    "              '3-closest neighbour value', \n",
    "              '4-closest neighbour value', \n",
    "              '5-closest neighbour value']].head()"
   ]
  },
  {
   "cell_type": "code",
   "execution_count": null,
   "metadata": {},
   "outputs": [],
   "source": [
    "from sklearn.neighbors import BallTree"
   ]
  },
  {
   "cell_type": "code",
   "execution_count": null,
   "metadata": {},
   "outputs": [],
   "source": [
    "print(augmented_df[['Latitude', 'Longitude']].values.shape)"
   ]
  },
  {
   "cell_type": "code",
   "execution_count": null,
   "metadata": {},
   "outputs": [],
   "source": [
    "tree = BallTree(np.deg2rad(augmented_df[['Latitude', 'Longitude']].values), metric='haversine')"
   ]
  },
  {
   "cell_type": "code",
   "execution_count": null,
   "metadata": {},
   "outputs": [],
   "source": [
    "query_lats = augmented_df['Latitude']\n",
    "query_lons = augmented_df['Longitude']\n",
    "print(query_lats.shape)\n",
    "print(query_lons.shape)\n",
    "print(query_lats.head())\n",
    "print(query_lons.head())"
   ]
  },
  {
   "cell_type": "code",
   "execution_count": null,
   "metadata": {},
   "outputs": [],
   "source": [
    "# Find closest city in reference dataset for each in df_other\n",
    "# use k = 6 for 5 closest neighbors + self\n",
    "distances, indices = tree.query(np.deg2rad(np.c_[query_lats, query_lons]), k = 6)\n",
    "# print(len(distances))\n",
    "# print(len(indices))\n",
    "\n",
    "r_km = 6371 # multiplier to convert to km (from unit distance)\n",
    "for name, d, ind in zip(augmented_df.index, distances, indices):\n",
    "    print(f\"Property with index {name} closest matches:\")\n",
    "    for i, index in enumerate(ind):\n",
    "        print(f\"\\t{index} with distance {d[i]*r_km:.4f} km\")"
   ]
  },
  {
   "cell_type": "code",
   "execution_count": null,
   "metadata": {},
   "outputs": [],
   "source": [
    "distances, indices = tree.query(np.deg2rad(np.c_[query_lats, query_lons]), k = 6)\n",
    "helper_df = augmented_df['FULLVAL']\n",
    "\n",
    "r_km = 6371 # multiplier to convert to km (from unit distance)\n",
    "for work_index, d, ind in zip(augmented_df.index, distances, indices):\n",
    "    for i, index in enumerate(ind):\n",
    "        if i:\n",
    "            augmented_df.loc[work_index, f'{i}-closest neighbour value'] = helper_df.loc[index]"
   ]
  },
  {
   "cell_type": "code",
   "execution_count": null,
   "metadata": {},
   "outputs": [],
   "source": [
    "augmented_df[['1-closest neighbour value', \n",
    "              '2-closest neighbour value', \n",
    "              '3-closest neighbour value', \n",
    "              '4-closest neighbour value', \n",
    "              '5-closest neighbour value']].head()"
   ]
  },
  {
   "cell_type": "code",
   "execution_count": null,
   "metadata": {},
   "outputs": [],
   "source": [
    "print(augmented_df.shape)\n",
    "print(augmented_df.columns)"
   ]
  },
  {
   "cell_type": "code",
   "execution_count": null,
   "metadata": {},
   "outputs": [],
   "source": [
    "augmented_df.to_csv('./augmented.csv', index=False)"
   ]
  },
  {
   "cell_type": "code",
   "execution_count": null,
   "metadata": {},
   "outputs": [],
   "source": [
    "test_df = pd.read_csv('augmented.csv')\n",
    "print(test_df.shape)\n",
    "print(test_df.columns)"
   ]
  }
 ],
 "metadata": {
  "colab": {
   "collapsed_sections": [],
   "name": "Kopia notatnika EDA.ipynb",
   "provenance": []
  },
  "interpreter": {
   "hash": "8266c2a3dc1fef085314719db1e049eeb1e11bc7eb3ca34f1fc7b6c1a848813d"
  },
  "kernelspec": {
   "display_name": "Python 3 (ipykernel)",
   "language": "python",
   "name": "python3"
  },
  "language_info": {
   "codemirror_mode": {
    "name": "ipython",
    "version": 3
   },
   "file_extension": ".py",
   "mimetype": "text/x-python",
   "name": "python",
   "nbconvert_exporter": "python",
   "pygments_lexer": "ipython3",
   "version": "3.9.7"
  }
 },
 "nbformat": 4,
 "nbformat_minor": 1
}
