{
 "cells": [
  {
   "cell_type": "code",
   "execution_count": null,
   "metadata": {
    "colab": {
     "base_uri": "https://localhost:8080/"
    },
    "id": "Ethm1nhsrWG7",
    "outputId": "befc6711-fba5-420a-dd80-82607c882cc3"
   },
   "outputs": [],
   "source": [
    "# only run this on Google Colab\n",
    "!pip install geopandas\n",
    "!pip install folium"
   ]
  },
  {
   "cell_type": "code",
   "execution_count": null,
   "metadata": {
    "id": "5Sbo2aEgpfrW"
   },
   "outputs": [],
   "source": [
    "import pandas as pd\n",
    "import seaborn as sns\n",
    "import folium\n",
    "import numpy as np\n",
    "import matplotlib.pyplot as plt"
   ]
  },
  {
   "cell_type": "markdown",
   "metadata": {},
   "source": [
    "# Load"
   ]
  },
  {
   "cell_type": "code",
   "execution_count": null,
   "metadata": {
    "colab": {
     "base_uri": "https://localhost:8080/"
    },
    "id": "IAYw6g1IpfrX",
    "outputId": "26b7c1a2-1b29-4045-f851-eb27f9e6c72d"
   },
   "outputs": [],
   "source": [
    "main_df = pd.read_csv('https://raw.githubusercontent.com/Dynovski/BESTHL-AI/main/train_data.csv?token=GHSAT0AAAAAABTLWN7I6LMAI3BK5ZSQSE7WYSZQ4DA', error_bad_lines=False)\n",
    "print(main_df.head())"
   ]
  },
  {
   "cell_type": "code",
   "execution_count": null,
   "metadata": {},
   "outputs": [],
   "source": [
    "processed_df = pd.read_csv('processed.csv')\n",
    "processed_df.head()"
   ]
  },
  {
   "cell_type": "markdown",
   "metadata": {},
   "source": [
    "# Basic stuff"
   ]
  },
  {
   "cell_type": "code",
   "execution_count": null,
   "metadata": {},
   "outputs": [],
   "source": [
    "main_df.shape"
   ]
  },
  {
   "cell_type": "code",
   "execution_count": null,
   "metadata": {
    "id": "8qwlkzZ5pfrY",
    "outputId": "7a49dcda-e052-408f-de67-d0b10fbe27bf"
   },
   "outputs": [],
   "source": [
    "main_df.columns"
   ]
  },
  {
   "cell_type": "code",
   "execution_count": null,
   "metadata": {
    "id": "SZKsc6kdpfrZ",
    "outputId": "99dd88fc-5d6f-4058-bf7e-7c52cb01d547"
   },
   "outputs": [],
   "source": [
    "main_df.info()"
   ]
  },
  {
   "cell_type": "code",
   "execution_count": null,
   "metadata": {
    "id": "qrymMbCZpfrZ",
    "outputId": "eacdc379-ea2c-4831-b328-d35d6be3917d"
   },
   "outputs": [],
   "source": [
    "main_df.describe()"
   ]
  },
  {
   "cell_type": "code",
   "execution_count": null,
   "metadata": {
    "id": "KrxNZOyGpfrZ",
    "outputId": "eb9b1526-7b8e-4217-ad63-023cb330b782"
   },
   "outputs": [],
   "source": [
    "main_df['POSTCODE'].value_counts()"
   ]
  },
  {
   "cell_type": "code",
   "execution_count": null,
   "metadata": {
    "id": "s9fltAM_pfrZ",
    "outputId": "989f29c2-873f-493c-b87e-b4f823656f82"
   },
   "outputs": [],
   "source": [
    "sns.scatterplot(data=main_df, x=main_df.index, y=main_df[\"FULLVAL\"])"
   ]
  },
  {
   "cell_type": "code",
   "execution_count": null,
   "metadata": {},
   "outputs": [],
   "source": [
    "type(main_df['TAXCLASS'][0])"
   ]
  },
  {
   "cell_type": "code",
   "execution_count": null,
   "metadata": {},
   "outputs": [],
   "source": [
    "main_df['TAXCLASS'].head(19)"
   ]
  },
  {
   "cell_type": "code",
   "execution_count": null,
   "metadata": {},
   "outputs": [],
   "source": [
    "sns.catplot(data=main_df, x=main_df.index, y=main_df[\"TAXCLASS\"])"
   ]
  },
  {
   "cell_type": "markdown",
   "metadata": {},
   "source": [
    "# Map"
   ]
  },
  {
   "cell_type": "code",
   "execution_count": null,
   "metadata": {},
   "outputs": [],
   "source": [
    "main_df['Latitude'].value_counts().head(30)"
   ]
  },
  {
   "cell_type": "code",
   "execution_count": null,
   "metadata": {},
   "outputs": [],
   "source": [
    "main_df['Longitude'].value_counts().head(30)"
   ]
  },
  {
   "cell_type": "code",
   "execution_count": null,
   "metadata": {
    "colab": {
     "base_uri": "https://localhost:8080/"
    },
    "id": "4z3mvTUwwcNW",
    "outputId": "b5e34243-5006-41de-8fac-f446ee984561"
   },
   "outputs": [],
   "source": [
    "# Watch out! sampling resets index\n",
    "map_df = main_df[main_df['Latitude'].notna()].sample(frac=1).reset_index(drop=True)\n",
    "\n",
    "# using too big location_number param results in slow map \n",
    "location_number = 1000\n",
    "\n",
    "map_df = map_df[map_df['Longitude'].notna()].head(location_number)\n",
    "print(map_df.shape)"
   ]
  },
  {
   "cell_type": "code",
   "execution_count": null,
   "metadata": {},
   "outputs": [],
   "source": [
    "map_df['Latitude'].loc[0]\n",
    "type(map_df['Latitude'].loc[0])"
   ]
  },
  {
   "cell_type": "code",
   "execution_count": null,
   "metadata": {},
   "outputs": [],
   "source": [
    "map_df['Longitude'].loc[0]\n",
    "type(map_df['Latitude'].loc[0])"
   ]
  },
  {
   "cell_type": "code",
   "execution_count": null,
   "metadata": {
    "id": "MMVpeQ-CsNu6"
   },
   "outputs": [],
   "source": [
    "map_full = folium.Map(location=[40.719232, -74.00809], zoom_start=9)"
   ]
  },
  {
   "cell_type": "code",
   "execution_count": null,
   "metadata": {},
   "outputs": [],
   "source": [
    "for index, _ in map_df.iterrows():\n",
    "    folium.Marker([map_df['Latitude'].loc[index], map_df['Longitude'].loc[index]]).add_to(map_full)"
   ]
  },
  {
   "cell_type": "code",
   "execution_count": null,
   "metadata": {},
   "outputs": [],
   "source": [
    "map_full"
   ]
  },
  {
   "cell_type": "markdown",
   "metadata": {},
   "source": [
    "## Separating clusters"
   ]
  },
  {
   "cell_type": "markdown",
   "metadata": {},
   "source": [
    "### k-means"
   ]
  },
  {
   "cell_type": "code",
   "execution_count": null,
   "metadata": {},
   "outputs": [],
   "source": [
    "from scipy.cluster.vq import kmeans2, whiten"
   ]
  },
  {
   "cell_type": "code",
   "execution_count": null,
   "metadata": {},
   "outputs": [],
   "source": [
    "coordinates_kmeans = [[map_df['Latitude'].loc[index], map_df['Longitude'].loc[index]] for index, _ in map_df.iterrows()]\n",
    "coordinates_kmeans = np.array(coordinates_kmeans)\n",
    "print(type(coordinates_kmeans))\n",
    "print(len(coordinates_kmeans))\n",
    "print(coordinates_kmeans[19])\n",
    "print(type(coordinates_kmeans[19]))"
   ]
  },
  {
   "cell_type": "code",
   "execution_count": null,
   "metadata": {},
   "outputs": [],
   "source": [
    "x, y = kmeans2(whiten(coordinates_kmeans), 5, iter = 20)  \n",
    "plt.scatter(coordinates_kmeans[:,0], coordinates_kmeans[:,1], c=y)\n",
    "plt.show()"
   ]
  },
  {
   "cell_type": "markdown",
   "metadata": {},
   "source": [
    "### DBSCAN"
   ]
  },
  {
   "cell_type": "code",
   "execution_count": null,
   "metadata": {},
   "outputs": [],
   "source": [
    "from sklearn.cluster import DBSCAN\n",
    "from geopy.distance import great_circle\n",
    "from shapely.geometry import MultiPoint"
   ]
  },
  {
   "cell_type": "code",
   "execution_count": null,
   "metadata": {},
   "outputs": [],
   "source": [
    "coordinates_dbscan = map_df[['Latitude', 'Longitude']].to_numpy()"
   ]
  },
  {
   "cell_type": "code",
   "execution_count": null,
   "metadata": {},
   "outputs": [],
   "source": [
    "kms_per_radian = 6371.0088\n",
    "epsilon = 1.7 / kms_per_radian\n",
    "db = DBSCAN(eps=epsilon, min_samples=10, algorithm='ball_tree', metric='haversine').fit(np.radians(coordinates_dbscan))\n",
    "cluster_labels = db.labels_\n",
    "num_clusters = len(set(cluster_labels))\n",
    "clusters = pd.Series([coordinates_dbscan[cluster_labels == n] for n in range(num_clusters)])\n",
    "print('Number of clusters: {}'.format(num_clusters))"
   ]
  },
  {
   "cell_type": "code",
   "execution_count": null,
   "metadata": {},
   "outputs": [],
   "source": [
    "print(clusters.shape)\n",
    "print(clusters.info())\n",
    "print(type(clusters[2]))\n",
    "print(len(clusters[2]))"
   ]
  },
  {
   "cell_type": "code",
   "execution_count": null,
   "metadata": {},
   "outputs": [],
   "source": [
    "map_dbscan = folium.Map(location=[40.719232, -74.00809], zoom_start=9)"
   ]
  },
  {
   "cell_type": "code",
   "execution_count": null,
   "metadata": {},
   "outputs": [],
   "source": [
    "for place in clusters[0]:\n",
    "    folium.Marker([place[0], place[1]], icon=folium.Icon(color=\"orange\")).add_to(map_dbscan)"
   ]
  },
  {
   "cell_type": "code",
   "execution_count": null,
   "metadata": {},
   "outputs": [],
   "source": [
    "for place in clusters[1]:\n",
    "    folium.Marker([place[0], place[1]], icon=folium.Icon(color=\"blue\")).add_to(map_dbscan)"
   ]
  },
  {
   "cell_type": "code",
   "execution_count": null,
   "metadata": {},
   "outputs": [],
   "source": [
    "for place in clusters[2]:\n",
    "    folium.Marker([place[0], place[1]], icon=folium.Icon(color=\"purple\")).add_to(map_dbscan)"
   ]
  },
  {
   "cell_type": "code",
   "execution_count": null,
   "metadata": {},
   "outputs": [],
   "source": [
    "for place in clusters[3]:\n",
    "    folium.Marker([place[0], place[1]], icon=folium.Icon(color=\"green\")).add_to(map_dbscan)"
   ]
  },
  {
   "cell_type": "code",
   "execution_count": null,
   "metadata": {},
   "outputs": [],
   "source": [
    "for place in clusters[4]:\n",
    "    folium.Marker([place[0], place[1]], icon=folium.Icon(color=\"red\")).add_to(map_dbscan)"
   ]
  },
  {
   "cell_type": "code",
   "execution_count": null,
   "metadata": {},
   "outputs": [],
   "source": [
    "for place in clusters[5]:\n",
    "    folium.Marker([place[0], place[1]], icon=folium.Icon(color=\"gray\")).add_to(map_dbscan)"
   ]
  },
  {
   "cell_type": "code",
   "execution_count": null,
   "metadata": {},
   "outputs": [],
   "source": [
    "map_dbscan"
   ]
  },
  {
   "cell_type": "markdown",
   "metadata": {},
   "source": [
    "# Augment"
   ]
  },
  {
   "cell_type": "code",
   "execution_count": null,
   "metadata": {},
   "outputs": [],
   "source": [
    "augmented_df = processed_df"
   ]
  },
  {
   "cell_type": "code",
   "execution_count": null,
   "metadata": {},
   "outputs": [],
   "source": [
    "augmented_df.loc[(augmented_df['Latitude'] <= 90) & (augmented_df['Latitude'] >= -90)]"
   ]
  },
  {
   "cell_type": "code",
   "execution_count": null,
   "metadata": {},
   "outputs": [],
   "source": [
    "augmented_df.loc[(augmented_df['Longitude'] <= 180) & (augmented_df['Longitude'] >= -180)]"
   ]
  },
  {
   "cell_type": "code",
   "execution_count": null,
   "metadata": {},
   "outputs": [],
   "source": [
    "augmented_df['1-closest neighbour value'] = 0\n",
    "augmented_df['2-closest neighbour value'] = 0\n",
    "augmented_df['3-closest neighbour value'] = 0\n",
    "augmented_df['4-closest neighbour value'] = 0\n",
    "augmented_df['5-closest neighbour value'] = 0\n",
    "\n",
    "augmented_df[['1-closest neighbour value', \n",
    "              '2-closest neighbour value', \n",
    "              '3-closest neighbour value', \n",
    "              '4-closest neighbour value', \n",
    "              '5-closest neighbour value']].head()"
   ]
  },
  {
   "cell_type": "code",
   "execution_count": null,
   "metadata": {},
   "outputs": [],
   "source": [
    "from sklearn.neighbors import BallTree"
   ]
  },
  {
   "cell_type": "code",
   "execution_count": null,
   "metadata": {},
   "outputs": [],
   "source": [
    "print(augmented_df[['Latitude', 'Longitude']].values.shape)"
   ]
  },
  {
   "cell_type": "code",
   "execution_count": null,
   "metadata": {},
   "outputs": [],
   "source": [
    "tree = BallTree(np.deg2rad(augmented_df[['Latitude', 'Longitude']].values), metric='haversine')"
   ]
  },
  {
   "cell_type": "code",
   "execution_count": null,
   "metadata": {},
   "outputs": [],
   "source": [
    "query_lats = augmented_df['Latitude']\n",
    "query_lons = augmented_df['Longitude']\n",
    "print(query_lats.shape)\n",
    "print(query_lons.shape)\n",
    "print(query_lats.head())\n",
    "print(query_lons.head())"
   ]
  },
  {
   "cell_type": "code",
   "execution_count": null,
   "metadata": {},
   "outputs": [],
   "source": [
    "# Find closest city in reference dataset for each in df_other\n",
    "# use k = 6 for 5 closest neighbors + self\n",
    "distances, indices = tree.query(np.deg2rad(np.c_[query_lats, query_lons]), k = 6)\n",
    "# print(len(distances))\n",
    "# print(len(indices))\n",
    "\n",
    "r_km = 6371 # multiplier to convert to km (from unit distance)\n",
    "for name, d, ind in zip(augmented_df.index, distances, indices):\n",
    "    print(f\"Property with index {name} closest matches:\")\n",
    "    for i, index in enumerate(ind):\n",
    "        print(f\"\\t{index} with distance {d[i]*r_km:.4f} km\")"
   ]
  },
  {
   "cell_type": "code",
   "execution_count": null,
   "metadata": {},
   "outputs": [],
   "source": [
    "distances, indices = tree.query(np.deg2rad(np.c_[query_lats, query_lons]), k = 6)\n",
    "helper_df = augmented_df['FULLVAL']\n",
    "\n",
    "r_km = 6371 # multiplier to convert to km (from unit distance)\n",
    "for work_index, d, ind in zip(augmented_df.index, distances, indices):\n",
    "    for i, index in enumerate(ind):\n",
    "        if i:\n",
    "            augmented_df.loc[work_index, f'{i}-closest neighbour value'] = helper_df.loc[index]"
   ]
  },
  {
   "cell_type": "code",
   "execution_count": null,
   "metadata": {},
   "outputs": [],
   "source": [
    "augmented_df[['1-closest neighbour value', \n",
    "              '2-closest neighbour value', \n",
    "              '3-closest neighbour value', \n",
    "              '4-closest neighbour value', \n",
    "              '5-closest neighbour value']].head()"
   ]
  },
  {
   "cell_type": "code",
   "execution_count": null,
   "metadata": {},
   "outputs": [],
   "source": [
    "print(augmented_df.shape)\n",
    "print(augmented_df.columns)"
   ]
  },
  {
   "cell_type": "code",
   "execution_count": null,
   "metadata": {},
   "outputs": [],
   "source": [
    "augmented_df.to_csv('./augmented.csv', index=False)"
   ]
  },
  {
   "cell_type": "code",
   "execution_count": null,
   "metadata": {},
   "outputs": [],
   "source": [
    "test_df = pd.read_csv('augmented.csv')\n",
    "print(test_df.shape)\n",
    "print(test_df.columns)"
   ]
  }
 ],
 "metadata": {
  "colab": {
   "collapsed_sections": [],
   "name": "Kopia notatnika EDA.ipynb",
   "provenance": []
  },
  "interpreter": {
   "hash": "8266c2a3dc1fef085314719db1e049eeb1e11bc7eb3ca34f1fc7b6c1a848813d"
  },
  "kernelspec": {
   "display_name": "Python 3 (ipykernel)",
   "language": "python",
   "name": "python3"
  },
  "language_info": {
   "codemirror_mode": {
    "name": "ipython",
    "version": 3
   },
   "file_extension": ".py",
   "mimetype": "text/x-python",
   "name": "python",
   "nbconvert_exporter": "python",
   "pygments_lexer": "ipython3",
   "version": "3.9.7"
  }
 },
 "nbformat": 4,
 "nbformat_minor": 1
}
