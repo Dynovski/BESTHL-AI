{
 "cells": [
  {
   "cell_type": "code",
   "execution_count": 1,
   "id": "831c60d7",
   "metadata": {},
   "outputs": [],
   "source": [
    "import pandas as pd\n",
    "import matplotlib.pyplot as plt\n",
    "import numpy as np\n",
    "from sklearn.preprocessing import StandardScaler\n",
    "import standarizing"
   ]
  },
  {
   "cell_type": "code",
   "execution_count": 2,
   "id": "8ef91905",
   "metadata": {},
   "outputs": [
    {
     "name": "stderr",
     "output_type": "stream",
     "text": [
      "b'Skipping line 5856: expected 40 fields, saw 70\\nSkipping line 7939: expected 40 fields, saw 49\\n'\n"
     ]
    },
    {
     "data": {
      "text/html": [
       "<div>\n",
       "<style scoped>\n",
       "    .dataframe tbody tr th:only-of-type {\n",
       "        vertical-align: middle;\n",
       "    }\n",
       "\n",
       "    .dataframe tbody tr th {\n",
       "        vertical-align: top;\n",
       "    }\n",
       "\n",
       "    .dataframe thead th {\n",
       "        text-align: right;\n",
       "    }\n",
       "</style>\n",
       "<table border=\"1\" class=\"dataframe\">\n",
       "  <thead>\n",
       "    <tr style=\"text-align: right;\">\n",
       "      <th></th>\n",
       "      <th>BBLE</th>\n",
       "      <th>BORO</th>\n",
       "      <th>BLOCK</th>\n",
       "      <th>LOT</th>\n",
       "      <th>EASEMENT</th>\n",
       "      <th>OWNER</th>\n",
       "      <th>BLDGCL</th>\n",
       "      <th>TAXCLASS</th>\n",
       "      <th>LTFRONT</th>\n",
       "      <th>LTDEPTH</th>\n",
       "      <th>...</th>\n",
       "      <th>VALTYPE</th>\n",
       "      <th>Borough</th>\n",
       "      <th>Latitude</th>\n",
       "      <th>Longitude</th>\n",
       "      <th>Community Board</th>\n",
       "      <th>Council District</th>\n",
       "      <th>Census Tract</th>\n",
       "      <th>BIN</th>\n",
       "      <th>NTA</th>\n",
       "      <th>New Georeferenced Column</th>\n",
       "    </tr>\n",
       "  </thead>\n",
       "  <tbody>\n",
       "    <tr>\n",
       "      <th>0</th>\n",
       "      <td>1001791101</td>\n",
       "      <td>1</td>\n",
       "      <td>179</td>\n",
       "      <td>1101</td>\n",
       "      <td>NaN</td>\n",
       "      <td>155 FRANKLIN ST LLC</td>\n",
       "      <td>RK</td>\n",
       "      <td>4</td>\n",
       "      <td>0</td>\n",
       "      <td>0</td>\n",
       "      <td>...</td>\n",
       "      <td>AC-TR</td>\n",
       "      <td>MANHATTAN</td>\n",
       "      <td>40.719232</td>\n",
       "      <td>-74.008095</td>\n",
       "      <td>101.0</td>\n",
       "      <td>1.0</td>\n",
       "      <td>33.0</td>\n",
       "      <td>1002013.0</td>\n",
       "      <td>SoHo-TriBeCa-Civic Center-Little Italy</td>\n",
       "      <td>POINT (-74.008095 40.719232)</td>\n",
       "    </tr>\n",
       "    <tr>\n",
       "      <th>1</th>\n",
       "      <td>1000163436</td>\n",
       "      <td>1</td>\n",
       "      <td>16</td>\n",
       "      <td>3436</td>\n",
       "      <td>NaN</td>\n",
       "      <td>BROADLAR LLC</td>\n",
       "      <td>R4</td>\n",
       "      <td>2</td>\n",
       "      <td>0</td>\n",
       "      <td>0</td>\n",
       "      <td>...</td>\n",
       "      <td>AC-TR</td>\n",
       "      <td>MANHATTAN</td>\n",
       "      <td>40.709270</td>\n",
       "      <td>-74.016487</td>\n",
       "      <td>101.0</td>\n",
       "      <td>1.0</td>\n",
       "      <td>31704.0</td>\n",
       "      <td>1000053.0</td>\n",
       "      <td>Battery Park City-Lower Manhattan</td>\n",
       "      <td>POINT (-74.016487 40.70927)</td>\n",
       "    </tr>\n",
       "    <tr>\n",
       "      <th>2</th>\n",
       "      <td>1000761255</td>\n",
       "      <td>1</td>\n",
       "      <td>76</td>\n",
       "      <td>1255</td>\n",
       "      <td>NaN</td>\n",
       "      <td>HAM, RICHARD</td>\n",
       "      <td>R4</td>\n",
       "      <td>2</td>\n",
       "      <td>0</td>\n",
       "      <td>0</td>\n",
       "      <td>...</td>\n",
       "      <td>AC-TR</td>\n",
       "      <td>MANHATTAN</td>\n",
       "      <td>40.708006</td>\n",
       "      <td>-74.006164</td>\n",
       "      <td>101.0</td>\n",
       "      <td>1.0</td>\n",
       "      <td>1502.0</td>\n",
       "      <td>1087867.0</td>\n",
       "      <td>Battery Park City-Lower Manhattan</td>\n",
       "      <td>POINT (-74.006164 40.708006)</td>\n",
       "    </tr>\n",
       "    <tr>\n",
       "      <th>3</th>\n",
       "      <td>1000161179</td>\n",
       "      <td>1</td>\n",
       "      <td>16</td>\n",
       "      <td>1179</td>\n",
       "      <td>NaN</td>\n",
       "      <td>SHIM, HAE JIN</td>\n",
       "      <td>R4</td>\n",
       "      <td>2</td>\n",
       "      <td>0</td>\n",
       "      <td>0</td>\n",
       "      <td>...</td>\n",
       "      <td>AC-TR</td>\n",
       "      <td>MANHATTAN</td>\n",
       "      <td>40.709506</td>\n",
       "      <td>-74.018002</td>\n",
       "      <td>101.0</td>\n",
       "      <td>1.0</td>\n",
       "      <td>31704.0</td>\n",
       "      <td>1000061.0</td>\n",
       "      <td>Battery Park City-Lower Manhattan</td>\n",
       "      <td>POINT (-74.018002 40.709506)</td>\n",
       "    </tr>\n",
       "    <tr>\n",
       "      <th>4</th>\n",
       "      <td>1001751526</td>\n",
       "      <td>1</td>\n",
       "      <td>175</td>\n",
       "      <td>1526</td>\n",
       "      <td>NaN</td>\n",
       "      <td>BRIT GIRL LLC</td>\n",
       "      <td>R4</td>\n",
       "      <td>2</td>\n",
       "      <td>0</td>\n",
       "      <td>0</td>\n",
       "      <td>...</td>\n",
       "      <td>AC-TR</td>\n",
       "      <td>MANHATTAN</td>\n",
       "      <td>40.718024</td>\n",
       "      <td>-74.003903</td>\n",
       "      <td>101.0</td>\n",
       "      <td>1.0</td>\n",
       "      <td>33.0</td>\n",
       "      <td>1001937.0</td>\n",
       "      <td>SoHo-TriBeCa-Civic Center-Little Italy</td>\n",
       "      <td>POINT (-74.003903 40.718024)</td>\n",
       "    </tr>\n",
       "  </tbody>\n",
       "</table>\n",
       "<p>5 rows × 40 columns</p>\n",
       "</div>"
      ],
      "text/plain": [
       "         BBLE  BORO  BLOCK   LOT EASEMENT                OWNER BLDGCL  \\\n",
       "0  1001791101     1    179  1101      NaN  155 FRANKLIN ST LLC     RK   \n",
       "1  1000163436     1     16  3436      NaN         BROADLAR LLC     R4   \n",
       "2  1000761255     1     76  1255      NaN         HAM, RICHARD     R4   \n",
       "3  1000161179     1     16  1179      NaN        SHIM, HAE JIN     R4   \n",
       "4  1001751526     1    175  1526      NaN        BRIT GIRL LLC     R4   \n",
       "\n",
       "  TAXCLASS  LTFRONT  LTDEPTH  ... VALTYPE    Borough   Latitude  Longitude  \\\n",
       "0        4        0        0  ...   AC-TR  MANHATTAN  40.719232 -74.008095   \n",
       "1        2        0        0  ...   AC-TR  MANHATTAN  40.709270 -74.016487   \n",
       "2        2        0        0  ...   AC-TR  MANHATTAN  40.708006 -74.006164   \n",
       "3        2        0        0  ...   AC-TR  MANHATTAN  40.709506 -74.018002   \n",
       "4        2        0        0  ...   AC-TR  MANHATTAN  40.718024 -74.003903   \n",
       "\n",
       "   Community Board  Council District  Census Tract        BIN  \\\n",
       "0            101.0               1.0          33.0  1002013.0   \n",
       "1            101.0               1.0       31704.0  1000053.0   \n",
       "2            101.0               1.0        1502.0  1087867.0   \n",
       "3            101.0               1.0       31704.0  1000061.0   \n",
       "4            101.0               1.0          33.0  1001937.0   \n",
       "\n",
       "                                      NTA      New Georeferenced Column  \n",
       "0  SoHo-TriBeCa-Civic Center-Little Italy  POINT (-74.008095 40.719232)  \n",
       "1       Battery Park City-Lower Manhattan   POINT (-74.016487 40.70927)  \n",
       "2       Battery Park City-Lower Manhattan  POINT (-74.006164 40.708006)  \n",
       "3       Battery Park City-Lower Manhattan  POINT (-74.018002 40.709506)  \n",
       "4  SoHo-TriBeCa-Civic Center-Little Italy  POINT (-74.003903 40.718024)  \n",
       "\n",
       "[5 rows x 40 columns]"
      ]
     },
     "execution_count": 2,
     "metadata": {},
     "output_type": "execute_result"
    }
   ],
   "source": [
    "df = pd.read_csv('train_data.csv', encoding='utf-8', error_bad_lines=False)\n",
    "df.head()"
   ]
  },
  {
   "cell_type": "code",
   "execution_count": 3,
   "id": "df7f4c40",
   "metadata": {},
   "outputs": [
    {
     "data": {
      "text/plain": [
       "1335495.8509961492"
      ]
     },
     "execution_count": 3,
     "metadata": {},
     "output_type": "execute_result"
    }
   ],
   "source": [
    "df['FULLVAL'].mean()"
   ]
  },
  {
   "cell_type": "code",
   "execution_count": 4,
   "id": "411eddf7",
   "metadata": {},
   "outputs": [
    {
     "data": {
      "text/plain": [
       "9803228.325752428"
      ]
     },
     "execution_count": 4,
     "metadata": {},
     "output_type": "execute_result"
    }
   ],
   "source": [
    "df['FULLVAL'].std()"
   ]
  },
  {
   "cell_type": "code",
   "execution_count": 5,
   "id": "aeabaf0e",
   "metadata": {},
   "outputs": [
    {
     "data": {
      "text/plain": [
       "0"
      ]
     },
     "execution_count": 5,
     "metadata": {},
     "output_type": "execute_result"
    }
   ],
   "source": [
    "df['FULLVAL'].min()"
   ]
  },
  {
   "cell_type": "code",
   "execution_count": 6,
   "id": "62a5d203",
   "metadata": {},
   "outputs": [
    {
     "data": {
      "text/plain": [
       "462001000"
      ]
     },
     "execution_count": 6,
     "metadata": {},
     "output_type": "execute_result"
    }
   ],
   "source": [
    "df['FULLVAL'].max()"
   ]
  },
  {
   "cell_type": "code",
   "execution_count": 7,
   "id": "1c531df9",
   "metadata": {},
   "outputs": [
    {
     "data": {
      "text/plain": [
       "135"
      ]
     },
     "execution_count": 7,
     "metadata": {},
     "output_type": "execute_result"
    }
   ],
   "source": [
    "(df['FULLVAL'] > 10_000_000).sum()"
   ]
  },
  {
   "cell_type": "code",
   "execution_count": 8,
   "id": "10794a23",
   "metadata": {},
   "outputs": [
    {
     "data": {
      "text/plain": [
       "226"
      ]
     },
     "execution_count": 8,
     "metadata": {},
     "output_type": "execute_result"
    }
   ],
   "source": [
    "(df['FULLVAL'] <= 0).sum()"
   ]
  },
  {
   "cell_type": "code",
   "execution_count": 9,
   "id": "843368e6",
   "metadata": {},
   "outputs": [
    {
     "data": {
      "text/plain": [
       "668"
      ]
     },
     "execution_count": 9,
     "metadata": {},
     "output_type": "execute_result"
    }
   ],
   "source": [
    "((df['FULLVAL'] <= 100_000) & (df['FULLVAL'] > 0)).sum()"
   ]
  },
  {
   "cell_type": "code",
   "execution_count": 10,
   "id": "747df124",
   "metadata": {},
   "outputs": [
    {
     "data": {
      "text/plain": [
       "11946"
      ]
     },
     "execution_count": 10,
     "metadata": {},
     "output_type": "execute_result"
    }
   ],
   "source": [
    "length = len(df)\n",
    "length"
   ]
  },
  {
   "cell_type": "code",
   "execution_count": 11,
   "id": "32dac8da",
   "metadata": {},
   "outputs": [
    {
     "name": "stderr",
     "output_type": "stream",
     "text": [
      "C:\\Users\\Lasze\\anaconda3\\lib\\site-packages\\pandas\\core\\arraylike.py:358: RuntimeWarning: divide by zero encountered in log\n",
      "  result = getattr(ufunc, method)(*inputs, **kwargs)\n"
     ]
    },
    {
     "data": {
      "text/plain": [
       "226"
      ]
     },
     "execution_count": 11,
     "metadata": {},
     "output_type": "execute_result"
    }
   ],
   "source": [
    "y_log = np.log(df['FULLVAL'])\n",
    "y_log[y_log < -3] = 0\n",
    "(y_log == 0).sum()"
   ]
  },
  {
   "cell_type": "code",
   "execution_count": 12,
   "id": "59d1bc66",
   "metadata": {},
   "outputs": [
    {
     "data": {
      "text/plain": [
       "(array([2.260e+02, 0.000e+00, 8.000e+00, 5.300e+01, 1.340e+02, 7.810e+02,\n",
       "        9.048e+03, 1.535e+03, 1.320e+02, 2.900e+01]),\n",
       " array([ 0.        ,  1.99510776,  3.99021552,  5.98532328,  7.98043105,\n",
       "         9.97553881, 11.97064657, 13.96575433, 15.96086209, 17.95596985,\n",
       "        19.95107761]),\n",
       " <BarContainer object of 10 artists>)"
      ]
     },
     "execution_count": 12,
     "metadata": {},
     "output_type": "execute_result"
    },
    {
     "data": {
      "image/png": "[encoded data removed]",
      "text/plain": [
       "<Figure size 432x288 with 1 Axes>"
      ]
     },
     "metadata": {
      "needs_background": "light"
     },
     "output_type": "display_data"
    }
   ],
   "source": [
    "plt.hist(y_log)"
   ]
  },
  {
   "cell_type": "code",
   "execution_count": 13,
   "id": "da184716",
   "metadata": {},
   "outputs": [
    {
     "data": {
      "text/plain": [
       "(array([1.191e+04, 1.600e+01, 7.000e+00, 4.000e+00, 4.000e+00, 1.000e+00,\n",
       "        1.000e+00, 1.000e+00, 1.000e+00, 1.000e+00]),\n",
       " array([0.000000e+00, 4.620010e+07, 9.240020e+07, 1.386003e+08,\n",
       "        1.848004e+08, 2.310005e+08, 2.772006e+08, 3.234007e+08,\n",
       "        3.696008e+08, 4.158009e+08, 4.620010e+08]),\n",
       " <BarContainer object of 10 artists>)"
      ]
     },
     "execution_count": 13,
     "metadata": {},
     "output_type": "execute_result"
    },
    {
     "data": {
      "image/png": "[encoded data removed]",
      "text/plain": [
       "<Figure size 432x288 with 1 Axes>"
      ]
     },
     "metadata": {
      "needs_background": "light"
     },
     "output_type": "display_data"
    }
   ],
   "source": [
    "plt.hist(df['FULLVAL'])"
   ]
  },
  {
   "cell_type": "code",
   "execution_count": 14,
   "id": "9d31f990",
   "metadata": {},
   "outputs": [
    {
     "data": {
      "text/plain": [
       "0        3463000\n",
       "1         247784\n",
       "2         173338\n",
       "3         184550\n",
       "4         559937\n",
       "          ...   \n",
       "11941     407000\n",
       "11942     244285\n",
       "11943     298000\n",
       "11944     459000\n",
       "11945     557000\n",
       "Name: FULLVAL, Length: 11946, dtype: int64"
      ]
     },
     "execution_count": 14,
     "metadata": {},
     "output_type": "execute_result"
    }
   ],
   "source": [
    "df['FULLVAL']"
   ]
  },
  {
   "cell_type": "code",
   "execution_count": 15,
   "id": "4fb6e6ce",
   "metadata": {},
   "outputs": [
    {
     "name": "stdout",
     "output_type": "stream",
     "text": [
      "BBLE -> 1.0 (11946 uniques) [1, 1, 1, 1, 1] [1, 1, 1, 1, 1]\n"
     ]
    },
    {
     "data": {
      "image/png": "[encoded data removed]",
      "text/plain": [
       "<Figure size 432x288 with 1 Axes>"
      ]
     },
     "metadata": {
      "needs_background": "light"
     },
     "output_type": "display_data"
    },
    {
     "name": "stdout",
     "output_type": "stream",
     "text": [
      "OWNER -> 0.9238238741001172 (11036 uniques) [71, 53, 34, 29, 22] [1, 1, 1, 1, 1]\n"
     ]
    },
    {
     "data": {
      "image/png": "[encoded data removed]",
      "text/plain": [
       "<Figure size 432x288 with 1 Axes>"
      ]
     },
     "metadata": {
      "needs_background": "light"
     },
     "output_type": "display_data"
    },
    {
     "name": "stdout",
     "output_type": "stream",
     "text": [
      "STADDR -> 0.8150008371002846 (9736 uniques) [49, 46, 43, 41, 41] [1, 1, 1, 1, 1]\n"
     ]
    },
    {
     "data": {
      "image/png": "[encoded data removed]",
      "text/plain": [
       "<Figure size 432x288 with 1 Axes>"
      ]
     },
     "metadata": {
      "needs_background": "light"
     },
     "output_type": "display_data"
    },
    {
     "name": "stdout",
     "output_type": "stream",
     "text": [
      "New Georeferenced Column -> 0.7874602377364809 (9407 uniques) [49, 46, 43, 41, 41] [1, 1, 1, 1, 1]\n"
     ]
    },
    {
     "data": {
      "image/png": "[encoded data removed]",
      "text/plain": [
       "<Figure size 432x288 with 1 Axes>"
      ]
     },
     "metadata": {
      "needs_background": "light"
     },
     "output_type": "display_data"
    },
    {
     "name": "stdout",
     "output_type": "stream",
     "text": [
      "BIN -> 0.7701322618449691 (9200 uniques) [116, 49, 46, 43, 42] [1, 1, 1, 1, 1]\n"
     ]
    },
    {
     "data": {
      "image/png": "[encoded data removed]",
      "text/plain": [
       "<Figure size 432x288 with 1 Axes>"
      ]
     },
     "metadata": {
      "needs_background": "light"
     },
     "output_type": "display_data"
    },
    {
     "name": "stdout",
     "output_type": "stream",
     "text": [
      "Latitude -> 0.7621798091411351 (9105 uniques) [49, 46, 43, 41, 41] [1, 1, 1, 1, 1]\n"
     ]
    },
    {
     "data": {
      "image/png": "[encoded data removed]",
      "text/plain": [
       "<Figure size 432x288 with 1 Axes>"
      ]
     },
     "metadata": {
      "needs_background": "light"
     },
     "output_type": "display_data"
    },
    {
     "name": "stdout",
     "output_type": "stream",
     "text": [
      "Longitude -> 0.7533902561526871 (9000 uniques) [49, 46, 43, 41, 41] [1, 1, 1, 1, 1]\n"
     ]
    },
    {
     "data": {
      "image/png": "[encoded data removed]",
      "text/plain": [
       "<Figure size 432x288 with 1 Axes>"
      ]
     },
     "metadata": {
      "needs_background": "light"
     },
     "output_type": "display_data"
    },
    {
     "name": "stdout",
     "output_type": "stream",
     "text": [
      "AVLAND -> 0.6347731458228696 (7583 uniques) [226, 26, 25, 21, 19] [1, 1, 1, 1, 1]\n"
     ]
    },
    {
     "data": {
      "image/png": "[encoded data removed]",
      "text/plain": [
       "<Figure size 432x288 with 1 Axes>"
      ]
     },
     "metadata": {
      "needs_background": "light"
     },
     "output_type": "display_data"
    },
    {
     "name": "stdout",
     "output_type": "stream",
     "text": [
      "AVTOT -> 0.565796082370668 (6759 uniques) [226, 28, 27, 25, 24] [1, 1, 1, 1, 1]\n"
     ]
    },
    {
     "data": {
      "image/png": "[encoded data removed]",
      "text/plain": [
       "<Figure size 432x288 with 1 Axes>"
      ]
     },
     "metadata": {
      "needs_background": "light"
     },
     "output_type": "display_data"
    },
    {
     "name": "stdout",
     "output_type": "stream",
     "text": [
      "FULLVAL -> 0.39829231541938726 (4758 uniques) [226, 33, 29, 28, 26] [1, 1, 1, 1, 1]\n"
     ]
    },
    {
     "data": {
      "image/png": "[encoded data removed]",
      "text/plain": [
       "<Figure size 432x288 with 1 Axes>"
      ]
     },
     "metadata": {
      "needs_background": "light"
     },
     "output_type": "display_data"
    },
    {
     "name": "stdout",
     "output_type": "stream",
     "text": [
      "AVTOT2 -> 0.27473631341034654 (3282 uniques) [17, 15, 10, 9, 9] [1, 1, 1, 1, 1]\n"
     ]
    },
    {
     "data": {
      "image/png": "[encoded data removed]",
      "text/plain": [
       "<Figure size 432x288 with 1 Axes>"
      ]
     },
     "metadata": {
      "needs_background": "light"
     },
     "output_type": "display_data"
    },
    {
     "name": "stdout",
     "output_type": "stream",
     "text": [
      "AVLAND2 -> 0.22970031809810815 (2744 uniques) [17, 17, 16, 16, 14] [1, 1, 1, 1, 1]\n"
     ]
    },
    {
     "data": {
      "image/png": "[encoded data removed]",
      "text/plain": [
       "<Figure size 432x288 with 1 Axes>"
      ]
     },
     "metadata": {
      "needs_background": "light"
     },
     "output_type": "display_data"
    },
    {
     "name": "stdout",
     "output_type": "stream",
     "text": [
      "EXTOT -> 0.19387242591662482 (2316 uniques) [5953, 2365, 425, 261, 103] [1, 1, 1, 1, 1]\n"
     ]
    },
    {
     "data": {
      "image/png": "[encoded data removed]",
      "text/plain": [
       "<Figure size 432x288 with 1 Axes>"
      ]
     },
     "metadata": {
      "needs_background": "light"
     },
     "output_type": "display_data"
    },
    {
     "name": "stdout",
     "output_type": "stream",
     "text": [
      "BLOCK -> 0.16993135777666166 (2030 uniques) [403, 380, 91, 79, 72] [1, 1, 1, 1, 1]\n"
     ]
    },
    {
     "data": {
      "image/png": "[encoded data removed]",
      "text/plain": [
       "<Figure size 432x288 with 1 Axes>"
      ]
     },
     "metadata": {
      "needs_background": "light"
     },
     "output_type": "display_data"
    },
    {
     "name": "stdout",
     "output_type": "stream",
     "text": [
      "LOT -> 0.14557173949439142 (1739 uniques) [214, 121, 113, 112, 106] [1, 1, 1, 1, 1]\n"
     ]
    },
    {
     "data": {
      "image/png": "[encoded data removed]",
      "text/plain": [
       "<Figure size 432x288 with 1 Axes>"
      ]
     },
     "metadata": {
      "needs_background": "light"
     },
     "output_type": "display_data"
    },
    {
     "name": "stdout",
     "output_type": "stream",
     "text": [
      "EXLAND -> 0.1392934873597857 (1664 uniques) [6733, 2200, 449, 208, 107] [1, 1, 1, 1, 1]\n"
     ]
    },
    {
     "data": {
      "image/png": "[encoded data removed]",
      "text/plain": [
       "<Figure size 432x288 with 1 Axes>"
      ]
     },
     "metadata": {
      "needs_background": "light"
     },
     "output_type": "display_data"
    },
    {
     "name": "stdout",
     "output_type": "stream",
     "text": [
      "EXTOT2 -> 0.124644232379039 (1489 uniques) [79, 18, 15, 14, 12] [1, 1, 1, 1, 1]\n"
     ]
    },
    {
     "data": {
      "image/png": "[encoded data removed]",
      "text/plain": [
       "<Figure size 432x288 with 1 Axes>"
      ]
     },
     "metadata": {
      "needs_background": "light"
     },
     "output_type": "display_data"
    },
    {
     "name": "stdout",
     "output_type": "stream",
     "text": [
      "EXLAND2 -> 0.07575757575757576 (905 uniques) [88, 16, 15, 8, 5] [1, 1, 1, 1, 1]\n"
     ]
    },
    {
     "data": {
      "image/png": "[encoded data removed]",
      "text/plain": [
       "<Figure size 432x288 with 1 Axes>"
      ]
     },
     "metadata": {
      "needs_background": "light"
     },
     "output_type": "display_data"
    },
    {
     "name": "stdout",
     "output_type": "stream",
     "text": [
      "LTDEPTH -> 0.030219320274568893 (361 uniques) [3866, 2820, 250, 221, 212] [1, 1, 1, 1, 1]\n"
     ]
    },
    {
     "data": {
      "image/png": "[encoded data removed]",
      "text/plain": [
       "<Figure size 432x288 with 1 Axes>"
      ]
     },
     "metadata": {
      "needs_background": "light"
     },
     "output_type": "display_data"
    },
    {
     "name": "stdout",
     "output_type": "stream",
     "text": [
      "LTFRONT -> 0.028963669847647748 (346 uniques) [2425, 1049, 1030, 856, 353] [1, 1, 1, 1, 1]\n"
     ]
    },
    {
     "data": {
      "image/png": "[encoded data removed]",
      "text/plain": [
       "<Figure size 432x288 with 1 Axes>"
      ]
     },
     "metadata": {
      "needs_background": "light"
     },
     "output_type": "display_data"
    },
    {
     "name": "stdout",
     "output_type": "stream",
     "text": [
      "Census Tract -> 0.018667336346894357 (223 uniques) [585, 460, 429, 361, 358] [1, 1, 1, 1, 1]\n"
     ]
    },
    {
     "data": {
      "image/png": "[encoded data removed]",
      "text/plain": [
       "<Figure size 432x288 with 1 Axes>"
      ]
     },
     "metadata": {
      "needs_background": "light"
     },
     "output_type": "display_data"
    },
    {
     "name": "stdout",
     "output_type": "stream",
     "text": [
      "BLDFRONT -> 0.017997656119203082 (215 uniques) [3040, 1316, 764, 656, 619] [1, 1, 1, 1, 1]\n"
     ]
    },
    {
     "data": {
      "image/png": "[encoded data removed]",
      "text/plain": [
       "<Figure size 432x288 with 1 Axes>"
      ]
     },
     "metadata": {
      "needs_background": "light"
     },
     "output_type": "display_data"
    },
    {
     "name": "stdout",
     "output_type": "stream",
     "text": [
      "BLDDEPTH -> 0.01791394609074167 (214 uniques) [3031, 481, 427, 373, 370] [1, 1, 1, 1, 1]\n"
     ]
    },
    {
     "data": {
      "image/png": "[encoded data removed]",
      "text/plain": [
       "<Figure size 432x288 with 1 Axes>"
      ]
     },
     "metadata": {
      "needs_background": "light"
     },
     "output_type": "display_data"
    },
    {
     "name": "stdout",
     "output_type": "stream",
     "text": [
      "BLDGCL -> 0.0129750544115185 (155 uniques) [1877, 1290, 1162, 1031, 822] [1, 1, 1, 1, 1]\n"
     ]
    },
    {
     "data": {
      "image/png": "[encoded data removed]",
      "text/plain": [
       "<Figure size 432x288 with 1 Axes>"
      ]
     },
     "metadata": {
      "needs_background": "light"
     },
     "output_type": "display_data"
    },
    {
     "name": "stdout",
     "output_type": "stream",
     "text": [
      "EXCD1 -> 0.005943412020760087 (71 uniques) [3352, 485, 400, 221, 219] [1, 1, 1, 1, 1]\n"
     ]
    },
    {
     "data": {
      "image/png": "[encoded data removed]",
      "text/plain": [
       "<Figure size 432x288 with 1 Axes>"
      ]
     },
     "metadata": {
      "needs_background": "light"
     },
     "output_type": "display_data"
    },
    {
     "name": "stdout",
     "output_type": "stream",
     "text": [
      "STORIES -> 0.005357441821530219 (64 uniques) [4258, 1453, 1418, 442, 393] [1, 1, 1, 1, 1]\n"
     ]
    },
    {
     "data": {
      "image/png": "[encoded data removed]",
      "text/plain": [
       "<Figure size 432x288 with 1 Axes>"
      ]
     },
     "metadata": {
      "needs_background": "light"
     },
     "output_type": "display_data"
    },
    {
     "name": "stdout",
     "output_type": "stream",
     "text": [
      "POSTCODE -> 0.004436631508454713 (53 uniques) [3309, 697, 545, 440, 407] [1, 1, 1, 1, 1]\n"
     ]
    },
    {
     "data": {
      "image/png": "[encoded data removed]",
      "text/plain": [
       "<Figure size 432x288 with 1 Axes>"
      ]
     },
     "metadata": {
      "needs_background": "light"
     },
     "output_type": "display_data"
    },
    {
     "name": "stdout",
     "output_type": "stream",
     "text": [
      "NTA -> 0.0037669512807634357 (45 uniques) [1484, 1463, 979, 851, 708] [2, 1, 1, 1, 1]\n"
     ]
    },
    {
     "data": {
      "image/png": "[encoded data removed]",
      "text/plain": [
       "<Figure size 432x288 with 1 Axes>"
      ]
     },
     "metadata": {
      "needs_background": "light"
     },
     "output_type": "display_data"
    },
    {
     "name": "stdout",
     "output_type": "stream",
     "text": [
      "Community Board -> 0.0019253306546124225 (23 uniques) [2947, 1663, 869, 851, 826] [34, 7, 5, 1, 1]\n"
     ]
    },
    {
     "data": {
      "image/png": "[encoded data removed]",
      "text/plain": [
       "<Figure size 432x288 with 1 Axes>"
      ]
     },
     "metadata": {
      "needs_background": "light"
     },
     "output_type": "display_data"
    },
    {
     "name": "stdout",
     "output_type": "stream",
     "text": [
      "Council District -> 0.0017579105976896032 (21 uniques) [2146, 1765, 1123, 1020, 859] [85, 71, 20, 6, 4]\n"
     ]
    },
    {
     "data": {
      "image/png": "[encoded data removed]",
      "text/plain": [
       "<Figure size 432x288 with 1 Axes>"
      ]
     },
     "metadata": {
      "needs_background": "light"
     },
     "output_type": "display_data"
    },
    {
     "name": "stdout",
     "output_type": "stream",
     "text": [
      "EXCD2 -> 0.0009208103130755065 (11 uniques) [562, 96, 45, 35, 13] [5, 2, 1, 1, 1]\n"
     ]
    },
    {
     "data": {
      "image/png": "[encoded data removed]",
      "text/plain": [
       "<Figure size 432x288 with 1 Axes>"
      ]
     },
     "metadata": {
      "needs_background": "light"
     },
     "output_type": "display_data"
    },
    {
     "name": "stdout",
     "output_type": "stream",
     "text": [
      "TAXCLASS -> 0.0008371002846140967 (10 uniques) [5963, 2599, 1337, 1162, 259] [216, 198, 133, 73, 6]\n"
     ]
    },
    {
     "data": {
      "image/png": "[encoded data removed]",
      "text/plain": [
       "<Figure size 432x288 with 1 Axes>"
      ]
     },
     "metadata": {
      "needs_background": "light"
     },
     "output_type": "display_data"
    },
    {
     "name": "stdout",
     "output_type": "stream",
     "text": [
      "EXMPTCL -> 0.0007533902561526871 (9 uniques) [114, 57, 4, 4, 4] [4, 3, 3, 2, 1]\n"
     ]
    },
    {
     "data": {
      "image/png": "[encoded data removed]",
      "text/plain": [
       "<Figure size 432x288 with 1 Axes>"
      ]
     },
     "metadata": {
      "needs_background": "light"
     },
     "output_type": "display_data"
    },
    {
     "name": "stdout",
     "output_type": "stream",
     "text": [
      "EASEMENT -> 0.0005022601707684581 (6 uniques) [100, 15, 4, 4, 2] [15, 4, 4, 2, 1]\n"
     ]
    },
    {
     "data": {
      "image/png": "[encoded data removed]",
      "text/plain": [
       "<Figure size 432x288 with 1 Axes>"
      ]
     },
     "metadata": {
      "needs_background": "light"
     },
     "output_type": "display_data"
    },
    {
     "name": "stdout",
     "output_type": "stream",
     "text": [
      "Borough -> 0.00041855014230704837 (5 uniques) [3775, 2065, 2060, 1808, 1806] [3775, 2065, 2060, 1808, 1806]\n"
     ]
    },
    {
     "data": {
      "image/png": "[encoded data removed]",
      "text/plain": [
       "<Figure size 432x288 with 1 Axes>"
      ]
     },
     "metadata": {
      "needs_background": "light"
     },
     "output_type": "display_data"
    },
    {
     "name": "stdout",
     "output_type": "stream",
     "text": [
      "BORO -> 0.00041855014230704837 (5 uniques) [4004, 2111, 2082, 1912, 1837] [4004, 2111, 2082, 1912, 1837]\n"
     ]
    },
    {
     "data": {
      "image/png": "[encoded data removed]",
      "text/plain": [
       "<Figure size 432x288 with 1 Axes>"
      ]
     },
     "metadata": {
      "needs_background": "light"
     },
     "output_type": "display_data"
    },
    {
     "name": "stdout",
     "output_type": "stream",
     "text": [
      "EXT -> 0.00025113008538422905 (3 uniques) [2441, 344, 197] [2441, 344, 197]\n"
     ]
    },
    {
     "data": {
      "image/png": "[encoded data removed]",
      "text/plain": [
       "<Figure size 432x288 with 1 Axes>"
      ]
     },
     "metadata": {
      "needs_background": "light"
     },
     "output_type": "display_data"
    },
    {
     "name": "stdout",
     "output_type": "stream",
     "text": [
      "YEAR -> 0.00016742005692281934 (2 uniques) [6086, 5860] [6086, 5860]\n"
     ]
    },
    {
     "data": {
      "image/png": "[encoded data removed]",
      "text/plain": [
       "<Figure size 432x288 with 1 Axes>"
      ]
     },
     "metadata": {
      "needs_background": "light"
     },
     "output_type": "display_data"
    },
    {
     "name": "stdout",
     "output_type": "stream",
     "text": [
      "VALTYPE -> 8.371002846140967e-05 (1 uniques) [11946] [11946]\n"
     ]
    },
    {
     "data": {
      "image/png": "[encoded data removed]",
      "text/plain": [
       "<Figure size 432x288 with 1 Axes>"
      ]
     },
     "metadata": {
      "needs_background": "light"
     },
     "output_type": "display_data"
    },
    {
     "name": "stdout",
     "output_type": "stream",
     "text": [
      "PERIOD -> 8.371002846140967e-05 (1 uniques) [11946] [11946]\n"
     ]
    },
    {
     "data": {
      "image/png": "[encoded data removed]",
      "text/plain": [
       "<Figure size 432x288 with 1 Axes>"
      ]
     },
     "metadata": {
      "needs_background": "light"
     },
     "output_type": "display_data"
    }
   ],
   "source": [
    "l = [(column, df[column].nunique()) for column in df.columns]\n",
    "l = reversed(sorted(l, key=lambda x: x[1]))\n",
    "for x in l:\n",
    "    cnt = list(reversed(sorted(df.groupby(x[0])['BBLE'].nunique())))\n",
    "    print(x[0], '->', x[1] / length, f'({x[1]} uniques)', cnt[:5], cnt[-5:])\n",
    "    plt.hist(cnt, bins=100)\n",
    "    plt.show()"
   ]
  },
  {
   "cell_type": "code",
   "execution_count": 16,
   "id": "8f2f0192",
   "metadata": {},
   "outputs": [],
   "source": [
    "owner_cnt = df.groupby('OWNER')['BBLE'].nunique()\n",
    "bin_cnt = df.groupby('BIN')['BBLE'].nunique()\n",
    "census_cnt = df.groupby('Census Tract')['BBLE'].nunique()\n",
    "bldgcl_cnt = df.groupby('BLDGCL')['BBLE'].nunique()\n",
    "excd1_cnt = df.groupby('EXCD1')['BBLE'].nunique()\n",
    "nta_cnt = df.groupby('NTA')['BBLE'].nunique()\n",
    "community_board_cnt = df.groupby('Community Board')['BBLE'].nunique()\n",
    "#excd2_cnt = df.groupby('EXCD2')['BBLE'].nunique()"
   ]
  },
  {
   "cell_type": "code",
   "execution_count": 17,
   "id": "8e42cf3c",
   "metadata": {},
   "outputs": [],
   "source": [
    "df['OWNER_RICHNESS'] = 'poor'\n",
    "df['BIN_POPULARNESS'] = 'not popular'\n",
    "df.loc[df['OWNER'].isin(owner_cnt[owner_cnt > 10].index), 'OWNER_RICHNESS'] = 'very rich'\n",
    "df.loc[df['OWNER'].isin(owner_cnt[(owner_cnt > 1) & (owner_cnt <= 10)].index), 'OWNER_RICHNESS'] = 'rich'\n",
    "df.loc[df['BIN'].isin(bin_cnt[bin_cnt > 10].index), 'BIN_POPULARNESS'] = 'very popular'\n",
    "df.loc[df['BIN'].isin(bin_cnt[(bin_cnt > 1) & (bin_cnt <= 10)].index), 'BIN_POPULARNESS'] = 'popular'\n",
    "df.loc[df['Census Tract'].isin(census_cnt[census_cnt <= 10].index), 'Census Tract'] = 'other category'\n",
    "df.loc[df['Census Tract'] != 'other', 'Census Tract'] = df.loc[df['Census Tract'] != 'other', 'Census Tract'].astype(str) + ' category'\n",
    "df.loc[df['BLDGCL'].isin(bldgcl_cnt[bldgcl_cnt <= 10].index), 'BLDGCL'] = 'OTHER_BUILDING_CLASS'\n",
    "df.loc[df['EXCD1'].isin(excd1_cnt[excd1_cnt <= 10].index), 'EXCD1'] = 'other'\n",
    "df.loc[df['EXCD1'] != 'other', 'EXCD1'] = df.loc[df['EXCD1'] != 'other', 'EXCD1'].astype(str) + 'category'\n",
    "df.loc[df['NTA'].isin(nta_cnt[nta_cnt <= 10].index), 'NTA'] = 'OTHER_NTA'\n",
    "df.loc[df['Community Board'].isin(community_board_cnt[community_board_cnt <= 10].index), 'Community Board'] = 'other'\n",
    "df.loc[df['Community Board'] != 'other', 'Community Board'] = df.loc[df['Community Board'] != 'other', 'Community Board'].astype(str) + ' category'\n",
    "df.loc[:, 'Council District'] = df.loc[:, 'Council District'].astype(str) + ' category'\n",
    "#df.loc[df['EXCD2'].isin(excd2_cnt[excd2_cnt <= 10].index), 'EXCD2'] = 'other'\n",
    "#df.loc[df['EXCD2'] != 'other', 'EXCD2'] = df.loc[df['EXCD2'] != 'other', 'EXCD2'].astype(str) + ' category'\n",
    "df['TAXCLASS'] = df['TAXCLASS'].astype(str)\n",
    "\n",
    "\n",
    "df.loc[df['EXTOT'] == 0, 'EXTOT'] = np.nan\n",
    "df.loc[df['EXLAND'] == 0, 'EXLAND'] = np.nan\n",
    "df.loc[df['LTDEPTH'] == 0, 'LTDEPTH'] = np.nan\n",
    "df.loc[df['LTFRONT'] == 0, 'LTFRONT'] = np.nan\n",
    "df.loc[df['BLDFRONT'] == 0, 'BLDFRONT'] = np.nan\n",
    "df.loc[df['BLDDEPTH'] == 0, 'BLDDEPTH'] = np.nan"
   ]
  },
  {
   "cell_type": "code",
   "execution_count": 18,
   "id": "fa087d0a",
   "metadata": {},
   "outputs": [
    {
     "data": {
      "text/html": [
       "<div>\n",
       "<style scoped>\n",
       "    .dataframe tbody tr th:only-of-type {\n",
       "        vertical-align: middle;\n",
       "    }\n",
       "\n",
       "    .dataframe tbody tr th {\n",
       "        vertical-align: top;\n",
       "    }\n",
       "\n",
       "    .dataframe thead th {\n",
       "        text-align: right;\n",
       "    }\n",
       "</style>\n",
       "<table border=\"1\" class=\"dataframe\">\n",
       "  <thead>\n",
       "    <tr style=\"text-align: right;\">\n",
       "      <th></th>\n",
       "      <th>AVLAND</th>\n",
       "      <th>AVTOT</th>\n",
       "      <th>AVLAND2</th>\n",
       "      <th>AVTOT2</th>\n",
       "      <th>EXTOT</th>\n",
       "      <th>EXTOT2</th>\n",
       "      <th>EXLAND</th>\n",
       "      <th>EXLAND2</th>\n",
       "    </tr>\n",
       "  </thead>\n",
       "  <tbody>\n",
       "    <tr>\n",
       "      <th>0</th>\n",
       "      <td>118035</td>\n",
       "      <td>1558350</td>\n",
       "      <td>118035.0</td>\n",
       "      <td>1469160.0</td>\n",
       "      <td>NaN</td>\n",
       "      <td>NaN</td>\n",
       "      <td>NaN</td>\n",
       "      <td>NaN</td>\n",
       "    </tr>\n",
       "    <tr>\n",
       "      <th>1</th>\n",
       "      <td>17301</td>\n",
       "      <td>111503</td>\n",
       "      <td>17301.0</td>\n",
       "      <td>100640.0</td>\n",
       "      <td>111503.0</td>\n",
       "      <td>100640.0</td>\n",
       "      <td>17301.0</td>\n",
       "      <td>17301.0</td>\n",
       "    </tr>\n",
       "    <tr>\n",
       "      <th>2</th>\n",
       "      <td>11304</td>\n",
       "      <td>78002</td>\n",
       "      <td>11304.0</td>\n",
       "      <td>67154.0</td>\n",
       "      <td>NaN</td>\n",
       "      <td>NaN</td>\n",
       "      <td>NaN</td>\n",
       "      <td>NaN</td>\n",
       "    </tr>\n",
       "    <tr>\n",
       "      <th>3</th>\n",
       "      <td>14081</td>\n",
       "      <td>83048</td>\n",
       "      <td>14081.0</td>\n",
       "      <td>76467.0</td>\n",
       "      <td>83048.0</td>\n",
       "      <td>76467.0</td>\n",
       "      <td>14081.0</td>\n",
       "      <td>14081.0</td>\n",
       "    </tr>\n",
       "    <tr>\n",
       "      <th>4</th>\n",
       "      <td>10126</td>\n",
       "      <td>251972</td>\n",
       "      <td>10126.0</td>\n",
       "      <td>208110.0</td>\n",
       "      <td>NaN</td>\n",
       "      <td>NaN</td>\n",
       "      <td>NaN</td>\n",
       "      <td>NaN</td>\n",
       "    </tr>\n",
       "    <tr>\n",
       "      <th>...</th>\n",
       "      <td>...</td>\n",
       "      <td>...</td>\n",
       "      <td>...</td>\n",
       "      <td>...</td>\n",
       "      <td>...</td>\n",
       "      <td>...</td>\n",
       "      <td>...</td>\n",
       "      <td>...</td>\n",
       "    </tr>\n",
       "    <tr>\n",
       "      <th>11941</th>\n",
       "      <td>5413</td>\n",
       "      <td>21814</td>\n",
       "      <td>NaN</td>\n",
       "      <td>NaN</td>\n",
       "      <td>NaN</td>\n",
       "      <td>NaN</td>\n",
       "      <td>NaN</td>\n",
       "      <td>NaN</td>\n",
       "    </tr>\n",
       "    <tr>\n",
       "      <th>11942</th>\n",
       "      <td>1083</td>\n",
       "      <td>11851</td>\n",
       "      <td>NaN</td>\n",
       "      <td>NaN</td>\n",
       "      <td>1470.0</td>\n",
       "      <td>NaN</td>\n",
       "      <td>1083.0</td>\n",
       "      <td>NaN</td>\n",
       "    </tr>\n",
       "    <tr>\n",
       "      <th>11943</th>\n",
       "      <td>8443</td>\n",
       "      <td>16663</td>\n",
       "      <td>NaN</td>\n",
       "      <td>NaN</td>\n",
       "      <td>1470.0</td>\n",
       "      <td>NaN</td>\n",
       "      <td>1470.0</td>\n",
       "      <td>NaN</td>\n",
       "    </tr>\n",
       "    <tr>\n",
       "      <th>11944</th>\n",
       "      <td>9813</td>\n",
       "      <td>25164</td>\n",
       "      <td>NaN</td>\n",
       "      <td>NaN</td>\n",
       "      <td>1470.0</td>\n",
       "      <td>NaN</td>\n",
       "      <td>1470.0</td>\n",
       "      <td>NaN</td>\n",
       "    </tr>\n",
       "    <tr>\n",
       "      <th>11945</th>\n",
       "      <td>12960</td>\n",
       "      <td>33420</td>\n",
       "      <td>NaN</td>\n",
       "      <td>NaN</td>\n",
       "      <td>NaN</td>\n",
       "      <td>NaN</td>\n",
       "      <td>NaN</td>\n",
       "      <td>NaN</td>\n",
       "    </tr>\n",
       "  </tbody>\n",
       "</table>\n",
       "<p>11946 rows × 8 columns</p>\n",
       "</div>"
      ],
      "text/plain": [
       "       AVLAND    AVTOT   AVLAND2     AVTOT2     EXTOT    EXTOT2   EXLAND  \\\n",
       "0      118035  1558350  118035.0  1469160.0       NaN       NaN      NaN   \n",
       "1       17301   111503   17301.0   100640.0  111503.0  100640.0  17301.0   \n",
       "2       11304    78002   11304.0    67154.0       NaN       NaN      NaN   \n",
       "3       14081    83048   14081.0    76467.0   83048.0   76467.0  14081.0   \n",
       "4       10126   251972   10126.0   208110.0       NaN       NaN      NaN   \n",
       "...       ...      ...       ...        ...       ...       ...      ...   \n",
       "11941    5413    21814       NaN        NaN       NaN       NaN      NaN   \n",
       "11942    1083    11851       NaN        NaN    1470.0       NaN   1083.0   \n",
       "11943    8443    16663       NaN        NaN    1470.0       NaN   1470.0   \n",
       "11944    9813    25164       NaN        NaN    1470.0       NaN   1470.0   \n",
       "11945   12960    33420       NaN        NaN       NaN       NaN      NaN   \n",
       "\n",
       "       EXLAND2  \n",
       "0          NaN  \n",
       "1      17301.0  \n",
       "2          NaN  \n",
       "3      14081.0  \n",
       "4          NaN  \n",
       "...        ...  \n",
       "11941      NaN  \n",
       "11942      NaN  \n",
       "11943      NaN  \n",
       "11944      NaN  \n",
       "11945      NaN  \n",
       "\n",
       "[11946 rows x 8 columns]"
      ]
     },
     "execution_count": 18,
     "metadata": {},
     "output_type": "execute_result"
    }
   ],
   "source": [
    "df[['AVLAND', 'AVTOT', 'AVLAND2', 'AVTOT2', 'EXTOT', 'EXTOT2', 'EXLAND', 'EXLAND2']]"
   ]
  },
  {
   "cell_type": "code",
   "execution_count": 19,
   "id": "3406cc27",
   "metadata": {},
   "outputs": [
    {
     "data": {
      "text/plain": [
       "0           33.0 category\n",
       "1        31704.0 category\n",
       "2         1502.0 category\n",
       "3        31704.0 category\n",
       "4           33.0 category\n",
       "               ...       \n",
       "11941    30302.0 category\n",
       "11942    30302.0 category\n",
       "11943    30302.0 category\n",
       "11944    27302.0 category\n",
       "11945    27302.0 category\n",
       "Name: Census Tract, Length: 11946, dtype: object"
      ]
     },
     "execution_count": 19,
     "metadata": {},
     "output_type": "execute_result"
    }
   ],
   "source": [
    "df['Census Tract']"
   ]
  },
  {
   "cell_type": "code",
   "execution_count": 20,
   "id": "5d952497",
   "metadata": {},
   "outputs": [],
   "source": [
    "df = df.drop(columns='BBLE') # indices (every unique)\n",
    "df = df.drop(columns='VALTYPE') # only 1 unique values\n",
    "df = df.drop(columns='OWNER') # Owner replaced by OWNER_RICHNESS (could also get sth from owner name)\n",
    "df = df.drop(columns='STADDR') # Address not needed - we already use long. + lat.\n",
    "df = df.drop(columns='New Georeferenced Column') # Point not needed - we already use long. + lat.\n",
    "df = df.drop(columns='BIN') # BIN replaced by BIN_POPULARNESS, BIN probably not needed - we already use long. + lat.\n",
    "#AVLAND and AVTOT - wazne wartosci liczbowe\n",
    "#FULLVAL - y do przewidzenia\n",
    "#AVLAND2  and AVTOT2 - wazne wartosci liczbowe\n",
    "#EXTOT, EXTOT2, EXLAND and EXLAND2 - wazne wartosci liczbowe\n",
    "df = df.drop(columns='BLOCK') # BLOCK not needed - we already use long. + lat.\n",
    "df = df.drop(columns='LOT') # LOT number is used for taxes (either do some mapping to taxation or drop it)\n",
    "# LTDEPTH and LTFRONT - chyba to wielkości posesji\n",
    "# BLDFRONT, BLDDEPTH - wielkości budynku\n",
    "\n",
    "# STORIES - liczba pięter\n",
    "df = df.drop(columns='POSTCODE') # POSTCODE not needed - we already use long. + lat. \n",
    "# Community Board - kategoryczna zmienna \n",
    "# EXCD2 - exception code 2, kategoryczna zmienna\n",
    "df = df.drop(columns='EXCD2') # EXCD2 not needed - too many nans.\n",
    "df = df.drop(columns='EXMPTCL') # EXMPTCL not needed - too many nans.\n",
    "df = df.drop(columns='EASEMENT') # fajny opis ale tylko 120 non-nan wiec out.\n",
    "# Borough - dzielnica, kategoryczne\n",
    "df = df.drop(columns='BORO') # PRAWIE to samo co Borough.\n",
    "# EXT - Extension indicator, kategoryczne\n",
    "df = df.drop(columns='PERIOD') # Tylko jedno unique value."
   ]
  },
  {
   "cell_type": "code",
   "execution_count": 21,
   "id": "f46b8cfe",
   "metadata": {},
   "outputs": [],
   "source": [
    "df.to_csv('cleaned.csv', index=0)"
   ]
  },
  {
   "cell_type": "code",
   "execution_count": 22,
   "id": "8756ec1b",
   "metadata": {},
   "outputs": [
    {
     "data": {
      "text/html": [
       "<div>\n",
       "<style scoped>\n",
       "    .dataframe tbody tr th:only-of-type {\n",
       "        vertical-align: middle;\n",
       "    }\n",
       "\n",
       "    .dataframe tbody tr th {\n",
       "        vertical-align: top;\n",
       "    }\n",
       "\n",
       "    .dataframe thead th {\n",
       "        text-align: right;\n",
       "    }\n",
       "</style>\n",
       "<table border=\"1\" class=\"dataframe\">\n",
       "  <thead>\n",
       "    <tr style=\"text-align: right;\">\n",
       "      <th></th>\n",
       "      <th>BLDGCL</th>\n",
       "      <th>TAXCLASS</th>\n",
       "      <th>LTFRONT</th>\n",
       "      <th>LTDEPTH</th>\n",
       "      <th>EXT</th>\n",
       "      <th>STORIES</th>\n",
       "      <th>FULLVAL</th>\n",
       "      <th>AVLAND</th>\n",
       "      <th>AVTOT</th>\n",
       "      <th>EXLAND</th>\n",
       "      <th>...</th>\n",
       "      <th>YEAR</th>\n",
       "      <th>Borough</th>\n",
       "      <th>Latitude</th>\n",
       "      <th>Longitude</th>\n",
       "      <th>Community Board</th>\n",
       "      <th>Council District</th>\n",
       "      <th>Census Tract</th>\n",
       "      <th>NTA</th>\n",
       "      <th>OWNER_RICHNESS</th>\n",
       "      <th>BIN_POPULARNESS</th>\n",
       "    </tr>\n",
       "  </thead>\n",
       "  <tbody>\n",
       "    <tr>\n",
       "      <th>0</th>\n",
       "      <td>RK</td>\n",
       "      <td>4</td>\n",
       "      <td>NaN</td>\n",
       "      <td>NaN</td>\n",
       "      <td>NaN</td>\n",
       "      <td>6.0</td>\n",
       "      <td>3463000</td>\n",
       "      <td>118035</td>\n",
       "      <td>1558350</td>\n",
       "      <td>NaN</td>\n",
       "      <td>...</td>\n",
       "      <td>2018/19</td>\n",
       "      <td>MANHATTAN</td>\n",
       "      <td>40.719232</td>\n",
       "      <td>-74.008095</td>\n",
       "      <td>101.0 category</td>\n",
       "      <td>1.0 category</td>\n",
       "      <td>33.0 category</td>\n",
       "      <td>SoHo-TriBeCa-Civic Center-Little Italy</td>\n",
       "      <td>poor</td>\n",
       "      <td>not popular</td>\n",
       "    </tr>\n",
       "    <tr>\n",
       "      <th>1</th>\n",
       "      <td>R4</td>\n",
       "      <td>2</td>\n",
       "      <td>NaN</td>\n",
       "      <td>NaN</td>\n",
       "      <td>NaN</td>\n",
       "      <td>23.0</td>\n",
       "      <td>247784</td>\n",
       "      <td>17301</td>\n",
       "      <td>111503</td>\n",
       "      <td>17301.0</td>\n",
       "      <td>...</td>\n",
       "      <td>2018/19</td>\n",
       "      <td>MANHATTAN</td>\n",
       "      <td>40.709270</td>\n",
       "      <td>-74.016487</td>\n",
       "      <td>101.0 category</td>\n",
       "      <td>1.0 category</td>\n",
       "      <td>31704.0 category</td>\n",
       "      <td>Battery Park City-Lower Manhattan</td>\n",
       "      <td>poor</td>\n",
       "      <td>very popular</td>\n",
       "    </tr>\n",
       "    <tr>\n",
       "      <th>2</th>\n",
       "      <td>R4</td>\n",
       "      <td>2</td>\n",
       "      <td>NaN</td>\n",
       "      <td>NaN</td>\n",
       "      <td>NaN</td>\n",
       "      <td>25.0</td>\n",
       "      <td>173338</td>\n",
       "      <td>11304</td>\n",
       "      <td>78002</td>\n",
       "      <td>NaN</td>\n",
       "      <td>...</td>\n",
       "      <td>2018/19</td>\n",
       "      <td>MANHATTAN</td>\n",
       "      <td>40.708006</td>\n",
       "      <td>-74.006164</td>\n",
       "      <td>101.0 category</td>\n",
       "      <td>1.0 category</td>\n",
       "      <td>1502.0 category</td>\n",
       "      <td>Battery Park City-Lower Manhattan</td>\n",
       "      <td>poor</td>\n",
       "      <td>very popular</td>\n",
       "    </tr>\n",
       "    <tr>\n",
       "      <th>3</th>\n",
       "      <td>R4</td>\n",
       "      <td>2</td>\n",
       "      <td>NaN</td>\n",
       "      <td>NaN</td>\n",
       "      <td>NaN</td>\n",
       "      <td>27.0</td>\n",
       "      <td>184550</td>\n",
       "      <td>14081</td>\n",
       "      <td>83048</td>\n",
       "      <td>14081.0</td>\n",
       "      <td>...</td>\n",
       "      <td>2018/19</td>\n",
       "      <td>MANHATTAN</td>\n",
       "      <td>40.709506</td>\n",
       "      <td>-74.018002</td>\n",
       "      <td>101.0 category</td>\n",
       "      <td>1.0 category</td>\n",
       "      <td>31704.0 category</td>\n",
       "      <td>Battery Park City-Lower Manhattan</td>\n",
       "      <td>poor</td>\n",
       "      <td>very popular</td>\n",
       "    </tr>\n",
       "    <tr>\n",
       "      <th>4</th>\n",
       "      <td>R4</td>\n",
       "      <td>2</td>\n",
       "      <td>NaN</td>\n",
       "      <td>NaN</td>\n",
       "      <td>NaN</td>\n",
       "      <td>19.0</td>\n",
       "      <td>559937</td>\n",
       "      <td>10126</td>\n",
       "      <td>251972</td>\n",
       "      <td>NaN</td>\n",
       "      <td>...</td>\n",
       "      <td>2018/19</td>\n",
       "      <td>MANHATTAN</td>\n",
       "      <td>40.718024</td>\n",
       "      <td>-74.003903</td>\n",
       "      <td>101.0 category</td>\n",
       "      <td>1.0 category</td>\n",
       "      <td>33.0 category</td>\n",
       "      <td>SoHo-TriBeCa-Civic Center-Little Italy</td>\n",
       "      <td>poor</td>\n",
       "      <td>popular</td>\n",
       "    </tr>\n",
       "  </tbody>\n",
       "</table>\n",
       "<p>5 rows × 28 columns</p>\n",
       "</div>"
      ],
      "text/plain": [
       "  BLDGCL TAXCLASS  LTFRONT  LTDEPTH  EXT  STORIES  FULLVAL  AVLAND    AVTOT  \\\n",
       "0     RK        4      NaN      NaN  NaN      6.0  3463000  118035  1558350   \n",
       "1     R4        2      NaN      NaN  NaN     23.0   247784   17301   111503   \n",
       "2     R4        2      NaN      NaN  NaN     25.0   173338   11304    78002   \n",
       "3     R4        2      NaN      NaN  NaN     27.0   184550   14081    83048   \n",
       "4     R4        2      NaN      NaN  NaN     19.0   559937   10126   251972   \n",
       "\n",
       "    EXLAND  ...     YEAR    Borough   Latitude  Longitude  Community Board  \\\n",
       "0      NaN  ...  2018/19  MANHATTAN  40.719232 -74.008095   101.0 category   \n",
       "1  17301.0  ...  2018/19  MANHATTAN  40.709270 -74.016487   101.0 category   \n",
       "2      NaN  ...  2018/19  MANHATTAN  40.708006 -74.006164   101.0 category   \n",
       "3  14081.0  ...  2018/19  MANHATTAN  40.709506 -74.018002   101.0 category   \n",
       "4      NaN  ...  2018/19  MANHATTAN  40.718024 -74.003903   101.0 category   \n",
       "\n",
       "   Council District      Census Tract                                     NTA  \\\n",
       "0      1.0 category     33.0 category  SoHo-TriBeCa-Civic Center-Little Italy   \n",
       "1      1.0 category  31704.0 category       Battery Park City-Lower Manhattan   \n",
       "2      1.0 category   1502.0 category       Battery Park City-Lower Manhattan   \n",
       "3      1.0 category  31704.0 category       Battery Park City-Lower Manhattan   \n",
       "4      1.0 category     33.0 category  SoHo-TriBeCa-Civic Center-Little Italy   \n",
       "\n",
       "  OWNER_RICHNESS BIN_POPULARNESS  \n",
       "0           poor     not popular  \n",
       "1           poor    very popular  \n",
       "2           poor    very popular  \n",
       "3           poor    very popular  \n",
       "4           poor         popular  \n",
       "\n",
       "[5 rows x 28 columns]"
      ]
     },
     "execution_count": 22,
     "metadata": {},
     "output_type": "execute_result"
    }
   ],
   "source": [
    "df = pd.read_csv('cleaned.csv')\n",
    "df.head()"
   ]
  },
  {
   "cell_type": "code",
   "execution_count": 23,
   "id": "d6bd5814",
   "metadata": {},
   "outputs": [],
   "source": [
    "numerical_columns = df.select_dtypes(include=[np.number]).columns\n",
    "for column in df.columns:\n",
    "    mask = pd.isna(df[column])\n",
    "    s = mask.sum()\n",
    "    if s > 0:\n",
    "        if column in numerical_columns:\n",
    "            m = df[column].mean()\n",
    "            if s > 10:\n",
    "                df[str(column) + '_WAS_NAN'] = 0\n",
    "                df.loc[mask, str(column) + '_WAS_NAN'] = 1\n",
    "        else:\n",
    "            m = 'nan_val'\n",
    "        df[column] = df[column].fillna(m)"
   ]
  },
  {
   "cell_type": "code",
   "execution_count": 24,
   "id": "8f9eb068",
   "metadata": {},
   "outputs": [
    {
     "name": "stdout",
     "output_type": "stream",
     "text": [
      "LTFRONT\n"
     ]
    },
    {
     "data": {
      "image/png": "[encoded data removed]",
      "text/plain": [
       "<Figure size 432x288 with 1 Axes>"
      ]
     },
     "metadata": {
      "needs_background": "light"
     },
     "output_type": "display_data"
    },
    {
     "data": {
      "image/png": "[encoded data removed]",
      "text/plain": [
       "<Figure size 432x288 with 1 Axes>"
      ]
     },
     "metadata": {
      "needs_background": "light"
     },
     "output_type": "display_data"
    },
    {
     "name": "stdout",
     "output_type": "stream",
     "text": [
      "LTDEPTH\n"
     ]
    },
    {
     "data": {
      "image/png": "[encoded data removed]",
      "text/plain": [
       "<Figure size 432x288 with 1 Axes>"
      ]
     },
     "metadata": {
      "needs_background": "light"
     },
     "output_type": "display_data"
    },
    {
     "data": {
      "image/png": "[encoded data removed]",
      "text/plain": [
       "<Figure size 432x288 with 1 Axes>"
      ]
     },
     "metadata": {
      "needs_background": "light"
     },
     "output_type": "display_data"
    },
    {
     "name": "stdout",
     "output_type": "stream",
     "text": [
      "STORIES\n"
     ]
    },
    {
     "data": {
      "image/png": "[encoded data removed]",
      "text/plain": [
       "<Figure size 432x288 with 1 Axes>"
      ]
     },
     "metadata": {
      "needs_background": "light"
     },
     "output_type": "display_data"
    },
    {
     "data": {
      "image/png": "[encoded data removed]",
      "text/plain": [
       "<Figure size 432x288 with 1 Axes>"
      ]
     },
     "metadata": {
      "needs_background": "light"
     },
     "output_type": "display_data"
    },
    {
     "name": "stdout",
     "output_type": "stream",
     "text": [
      "FULLVAL\n"
     ]
    },
    {
     "data": {
      "image/png": "[encoded data removed]",
      "text/plain": [
       "<Figure size 432x288 with 1 Axes>"
      ]
     },
     "metadata": {
      "needs_background": "light"
     },
     "output_type": "display_data"
    },
    {
     "data": {
      "image/png": "[encoded data removed]",
      "text/plain": [
       "<Figure size 432x288 with 1 Axes>"
      ]
     },
     "metadata": {
      "needs_background": "light"
     },
     "output_type": "display_data"
    },
    {
     "name": "stdout",
     "output_type": "stream",
     "text": [
      "AVLAND\n"
     ]
    },
    {
     "data": {
      "image/png": "[encoded data removed]",
      "text/plain": [
       "<Figure size 432x288 with 1 Axes>"
      ]
     },
     "metadata": {
      "needs_background": "light"
     },
     "output_type": "display_data"
    },
    {
     "data": {
      "image/png": "[encoded data removed]",
      "text/plain": [
       "<Figure size 432x288 with 1 Axes>"
      ]
     },
     "metadata": {
      "needs_background": "light"
     },
     "output_type": "display_data"
    },
    {
     "name": "stdout",
     "output_type": "stream",
     "text": [
      "AVTOT\n"
     ]
    },
    {
     "data": {
      "image/png": "[encoded data removed]",
      "text/plain": [
       "<Figure size 432x288 with 1 Axes>"
      ]
     },
     "metadata": {
      "needs_background": "light"
     },
     "output_type": "display_data"
    },
    {
     "data": {
      "image/png": "[encoded data removed]",
      "text/plain": [
       "<Figure size 432x288 with 1 Axes>"
      ]
     },
     "metadata": {
      "needs_background": "light"
     },
     "output_type": "display_data"
    },
    {
     "name": "stdout",
     "output_type": "stream",
     "text": [
      "EXLAND\n"
     ]
    },
    {
     "data": {
      "image/png": "[encoded data removed]",
      "text/plain": [
       "<Figure size 432x288 with 1 Axes>"
      ]
     },
     "metadata": {
      "needs_background": "light"
     },
     "output_type": "display_data"
    },
    {
     "data": {
      "image/png": "[encoded data removed]",
      "text/plain": [
       "<Figure size 432x288 with 1 Axes>"
      ]
     },
     "metadata": {
      "needs_background": "light"
     },
     "output_type": "display_data"
    },
    {
     "name": "stdout",
     "output_type": "stream",
     "text": [
      "EXTOT\n"
     ]
    },
    {
     "data": {
      "image/png": "[encoded data removed]",
      "text/plain": [
       "<Figure size 432x288 with 1 Axes>"
      ]
     },
     "metadata": {
      "needs_background": "light"
     },
     "output_type": "display_data"
    },
    {
     "data": {
      "image/png": "[encoded data removed]",
      "text/plain": [
       "<Figure size 432x288 with 1 Axes>"
      ]
     },
     "metadata": {
      "needs_background": "light"
     },
     "output_type": "display_data"
    },
    {
     "name": "stdout",
     "output_type": "stream",
     "text": [
      "BLDFRONT\n"
     ]
    },
    {
     "data": {
      "image/png": "[encoded data removed]",
      "text/plain": [
       "<Figure size 432x288 with 1 Axes>"
      ]
     },
     "metadata": {
      "needs_background": "light"
     },
     "output_type": "display_data"
    },
    {
     "data": {
      "image/png": "[encoded data removed]",
      "text/plain": [
       "<Figure size 432x288 with 1 Axes>"
      ]
     },
     "metadata": {
      "needs_background": "light"
     },
     "output_type": "display_data"
    },
    {
     "name": "stdout",
     "output_type": "stream",
     "text": [
      "BLDDEPTH\n"
     ]
    },
    {
     "data": {
      "image/png": "[encoded data removed]",
      "text/plain": [
       "<Figure size 432x288 with 1 Axes>"
      ]
     },
     "metadata": {
      "needs_background": "light"
     },
     "output_type": "display_data"
    },
    {
     "data": {
      "image/png": "[encoded data removed]",
      "text/plain": [
       "<Figure size 432x288 with 1 Axes>"
      ]
     },
     "metadata": {
      "needs_background": "light"
     },
     "output_type": "display_data"
    },
    {
     "name": "stdout",
     "output_type": "stream",
     "text": [
      "AVLAND2\n"
     ]
    },
    {
     "data": {
      "image/png": "[encoded data removed]",
      "text/plain": [
       "<Figure size 432x288 with 1 Axes>"
      ]
     },
     "metadata": {
      "needs_background": "light"
     },
     "output_type": "display_data"
    },
    {
     "data": {
      "image/png": "[encoded data removed]",
      "text/plain": [
       "<Figure size 432x288 with 1 Axes>"
      ]
     },
     "metadata": {
      "needs_background": "light"
     },
     "output_type": "display_data"
    },
    {
     "name": "stdout",
     "output_type": "stream",
     "text": [
      "AVTOT2\n"
     ]
    },
    {
     "data": {
      "image/png": "[encoded data removed]",
      "text/plain": [
       "<Figure size 432x288 with 1 Axes>"
      ]
     },
     "metadata": {
      "needs_background": "light"
     },
     "output_type": "display_data"
    },
    {
     "data": {
      "image/png": "[encoded data removed]",
      "text/plain": [
       "<Figure size 432x288 with 1 Axes>"
      ]
     },
     "metadata": {
      "needs_background": "light"
     },
     "output_type": "display_data"
    },
    {
     "name": "stdout",
     "output_type": "stream",
     "text": [
      "EXLAND2\n"
     ]
    },
    {
     "data": {
      "image/png": "[encoded data removed]",
      "text/plain": [
       "<Figure size 432x288 with 1 Axes>"
      ]
     },
     "metadata": {
      "needs_background": "light"
     },
     "output_type": "display_data"
    },
    {
     "data": {
      "image/png": "[encoded data removed]",
      "text/plain": [
       "<Figure size 432x288 with 1 Axes>"
      ]
     },
     "metadata": {
      "needs_background": "light"
     },
     "output_type": "display_data"
    },
    {
     "name": "stdout",
     "output_type": "stream",
     "text": [
      "EXTOT2\n"
     ]
    },
    {
     "data": {
      "image/png": "[encoded data removed]",
      "text/plain": [
       "<Figure size 432x288 with 1 Axes>"
      ]
     },
     "metadata": {
      "needs_background": "light"
     },
     "output_type": "display_data"
    },
    {
     "data": {
      "image/png": "[encoded data removed]",
      "text/plain": [
       "<Figure size 432x288 with 1 Axes>"
      ]
     },
     "metadata": {
      "needs_background": "light"
     },
     "output_type": "display_data"
    },
    {
     "name": "stdout",
     "output_type": "stream",
     "text": [
      "Latitude\n"
     ]
    },
    {
     "data": {
      "image/png": "[encoded data removed]",
      "text/plain": [
       "<Figure size 432x288 with 1 Axes>"
      ]
     },
     "metadata": {
      "needs_background": "light"
     },
     "output_type": "display_data"
    },
    {
     "data": {
      "image/png": "[encoded data removed]",
      "text/plain": [
       "<Figure size 432x288 with 1 Axes>"
      ]
     },
     "metadata": {
      "needs_background": "light"
     },
     "output_type": "display_data"
    },
    {
     "name": "stdout",
     "output_type": "stream",
     "text": [
      "Longitude\n"
     ]
    },
    {
     "data": {
      "image/png": "[encoded data removed]",
      "text/plain": [
       "<Figure size 432x288 with 1 Axes>"
      ]
     },
     "metadata": {
      "needs_background": "light"
     },
     "output_type": "display_data"
    },
    {
     "data": {
      "image/png": "[encoded data removed]",
      "text/plain": [
       "<Figure size 432x288 with 1 Axes>"
      ]
     },
     "metadata": {
      "needs_background": "light"
     },
     "output_type": "display_data"
    }
   ],
   "source": [
    "for column in numerical_columns:\n",
    "    print(column)\n",
    "    plt.hist(df[column])\n",
    "    plt.show()\n",
    "    plt.hist(standarizing.log_scale(df[column]))\n",
    "    plt.show()"
   ]
  },
  {
   "cell_type": "code",
   "execution_count": 25,
   "id": "f1577a9f",
   "metadata": {},
   "outputs": [],
   "source": [
    "for column in set(numerical_columns).symmetric_difference(['Latitude', 'Longitude']):\n",
    "    df.loc[:, column] = standarizing.log_scale(df.loc[:, column])"
   ]
  },
  {
   "cell_type": "code",
   "execution_count": 26,
   "id": "73fe583b",
   "metadata": {},
   "outputs": [
    {
     "data": {
      "text/html": [
       "<div>\n",
       "<style scoped>\n",
       "    .dataframe tbody tr th:only-of-type {\n",
       "        vertical-align: middle;\n",
       "    }\n",
       "\n",
       "    .dataframe tbody tr th {\n",
       "        vertical-align: top;\n",
       "    }\n",
       "\n",
       "    .dataframe thead th {\n",
       "        text-align: right;\n",
       "    }\n",
       "</style>\n",
       "<table border=\"1\" class=\"dataframe\">\n",
       "  <thead>\n",
       "    <tr style=\"text-align: right;\">\n",
       "      <th></th>\n",
       "      <th>BLDGCL</th>\n",
       "      <th>TAXCLASS</th>\n",
       "      <th>LTFRONT</th>\n",
       "      <th>LTDEPTH</th>\n",
       "      <th>EXT</th>\n",
       "      <th>STORIES</th>\n",
       "      <th>FULLVAL</th>\n",
       "      <th>AVLAND</th>\n",
       "      <th>AVTOT</th>\n",
       "      <th>EXLAND</th>\n",
       "      <th>...</th>\n",
       "      <th>EXLAND_WAS_NAN</th>\n",
       "      <th>EXTOT_WAS_NAN</th>\n",
       "      <th>BLDFRONT_WAS_NAN</th>\n",
       "      <th>BLDDEPTH_WAS_NAN</th>\n",
       "      <th>AVLAND2_WAS_NAN</th>\n",
       "      <th>AVTOT2_WAS_NAN</th>\n",
       "      <th>EXLAND2_WAS_NAN</th>\n",
       "      <th>EXTOT2_WAS_NAN</th>\n",
       "      <th>Latitude_WAS_NAN</th>\n",
       "      <th>Longitude_WAS_NAN</th>\n",
       "    </tr>\n",
       "  </thead>\n",
       "  <tbody>\n",
       "    <tr>\n",
       "      <th>0</th>\n",
       "      <td>RK</td>\n",
       "      <td>4</td>\n",
       "      <td>3.825094</td>\n",
       "      <td>4.668648</td>\n",
       "      <td>nan_val</td>\n",
       "      <td>1.791759</td>\n",
       "      <td>15.057646</td>\n",
       "      <td>11.678736</td>\n",
       "      <td>14.259138</td>\n",
       "      <td>11.498222</td>\n",
       "      <td>...</td>\n",
       "      <td>1</td>\n",
       "      <td>1</td>\n",
       "      <td>1</td>\n",
       "      <td>1</td>\n",
       "      <td>0</td>\n",
       "      <td>0</td>\n",
       "      <td>1</td>\n",
       "      <td>1</td>\n",
       "      <td>0</td>\n",
       "      <td>0</td>\n",
       "    </tr>\n",
       "    <tr>\n",
       "      <th>1</th>\n",
       "      <td>R4</td>\n",
       "      <td>2</td>\n",
       "      <td>3.825094</td>\n",
       "      <td>4.668648</td>\n",
       "      <td>nan_val</td>\n",
       "      <td>3.135494</td>\n",
       "      <td>12.420313</td>\n",
       "      <td>9.758520</td>\n",
       "      <td>11.621807</td>\n",
       "      <td>9.758520</td>\n",
       "      <td>...</td>\n",
       "      <td>0</td>\n",
       "      <td>0</td>\n",
       "      <td>1</td>\n",
       "      <td>1</td>\n",
       "      <td>0</td>\n",
       "      <td>0</td>\n",
       "      <td>0</td>\n",
       "      <td>0</td>\n",
       "      <td>0</td>\n",
       "      <td>0</td>\n",
       "    </tr>\n",
       "    <tr>\n",
       "      <th>2</th>\n",
       "      <td>R4</td>\n",
       "      <td>2</td>\n",
       "      <td>3.825094</td>\n",
       "      <td>4.668648</td>\n",
       "      <td>nan_val</td>\n",
       "      <td>3.218876</td>\n",
       "      <td>12.062999</td>\n",
       "      <td>9.332912</td>\n",
       "      <td>11.264490</td>\n",
       "      <td>11.498222</td>\n",
       "      <td>...</td>\n",
       "      <td>1</td>\n",
       "      <td>1</td>\n",
       "      <td>0</td>\n",
       "      <td>0</td>\n",
       "      <td>0</td>\n",
       "      <td>0</td>\n",
       "      <td>1</td>\n",
       "      <td>1</td>\n",
       "      <td>0</td>\n",
       "      <td>0</td>\n",
       "    </tr>\n",
       "    <tr>\n",
       "      <th>3</th>\n",
       "      <td>R4</td>\n",
       "      <td>2</td>\n",
       "      <td>3.825094</td>\n",
       "      <td>4.668648</td>\n",
       "      <td>nan_val</td>\n",
       "      <td>3.295837</td>\n",
       "      <td>12.125676</td>\n",
       "      <td>9.552582</td>\n",
       "      <td>11.327174</td>\n",
       "      <td>9.552582</td>\n",
       "      <td>...</td>\n",
       "      <td>0</td>\n",
       "      <td>0</td>\n",
       "      <td>1</td>\n",
       "      <td>1</td>\n",
       "      <td>0</td>\n",
       "      <td>0</td>\n",
       "      <td>0</td>\n",
       "      <td>0</td>\n",
       "      <td>0</td>\n",
       "      <td>0</td>\n",
       "    </tr>\n",
       "    <tr>\n",
       "      <th>4</th>\n",
       "      <td>R4</td>\n",
       "      <td>2</td>\n",
       "      <td>3.825094</td>\n",
       "      <td>4.668648</td>\n",
       "      <td>nan_val</td>\n",
       "      <td>2.944439</td>\n",
       "      <td>13.235580</td>\n",
       "      <td>9.222862</td>\n",
       "      <td>12.437073</td>\n",
       "      <td>11.498222</td>\n",
       "      <td>...</td>\n",
       "      <td>1</td>\n",
       "      <td>1</td>\n",
       "      <td>0</td>\n",
       "      <td>0</td>\n",
       "      <td>0</td>\n",
       "      <td>0</td>\n",
       "      <td>1</td>\n",
       "      <td>1</td>\n",
       "      <td>0</td>\n",
       "      <td>0</td>\n",
       "    </tr>\n",
       "  </tbody>\n",
       "</table>\n",
       "<p>5 rows × 41 columns</p>\n",
       "</div>"
      ],
      "text/plain": [
       "  BLDGCL TAXCLASS   LTFRONT   LTDEPTH      EXT   STORIES    FULLVAL  \\\n",
       "0     RK        4  3.825094  4.668648  nan_val  1.791759  15.057646   \n",
       "1     R4        2  3.825094  4.668648  nan_val  3.135494  12.420313   \n",
       "2     R4        2  3.825094  4.668648  nan_val  3.218876  12.062999   \n",
       "3     R4        2  3.825094  4.668648  nan_val  3.295837  12.125676   \n",
       "4     R4        2  3.825094  4.668648  nan_val  2.944439  13.235580   \n",
       "\n",
       "      AVLAND      AVTOT     EXLAND  ...  EXLAND_WAS_NAN EXTOT_WAS_NAN  \\\n",
       "0  11.678736  14.259138  11.498222  ...               1             1   \n",
       "1   9.758520  11.621807   9.758520  ...               0             0   \n",
       "2   9.332912  11.264490  11.498222  ...               1             1   \n",
       "3   9.552582  11.327174   9.552582  ...               0             0   \n",
       "4   9.222862  12.437073  11.498222  ...               1             1   \n",
       "\n",
       "   BLDFRONT_WAS_NAN  BLDDEPTH_WAS_NAN  AVLAND2_WAS_NAN  AVTOT2_WAS_NAN  \\\n",
       "0                 1                 1                0               0   \n",
       "1                 1                 1                0               0   \n",
       "2                 0                 0                0               0   \n",
       "3                 1                 1                0               0   \n",
       "4                 0                 0                0               0   \n",
       "\n",
       "   EXLAND2_WAS_NAN  EXTOT2_WAS_NAN Latitude_WAS_NAN Longitude_WAS_NAN  \n",
       "0                1               1                0                 0  \n",
       "1                0               0                0                 0  \n",
       "2                1               1                0                 0  \n",
       "3                0               0                0                 0  \n",
       "4                1               1                0                 0  \n",
       "\n",
       "[5 rows x 41 columns]"
      ]
     },
     "execution_count": 26,
     "metadata": {},
     "output_type": "execute_result"
    }
   ],
   "source": [
    "df.head()"
   ]
  },
  {
   "cell_type": "code",
   "execution_count": 27,
   "id": "cd3e8dd6",
   "metadata": {},
   "outputs": [
    {
     "data": {
      "text/html": [
       "<div>\n",
       "<style scoped>\n",
       "    .dataframe tbody tr th:only-of-type {\n",
       "        vertical-align: middle;\n",
       "    }\n",
       "\n",
       "    .dataframe tbody tr th {\n",
       "        vertical-align: top;\n",
       "    }\n",
       "\n",
       "    .dataframe thead th {\n",
       "        text-align: right;\n",
       "    }\n",
       "</style>\n",
       "<table border=\"1\" class=\"dataframe\">\n",
       "  <thead>\n",
       "    <tr style=\"text-align: right;\">\n",
       "      <th></th>\n",
       "      <th>LTFRONT</th>\n",
       "      <th>LTDEPTH</th>\n",
       "      <th>STORIES</th>\n",
       "      <th>FULLVAL</th>\n",
       "      <th>AVLAND</th>\n",
       "      <th>AVTOT</th>\n",
       "      <th>EXLAND</th>\n",
       "      <th>EXTOT</th>\n",
       "      <th>BLDFRONT</th>\n",
       "      <th>BLDDEPTH</th>\n",
       "      <th>...</th>\n",
       "      <th>EXLAND_WAS_NAN</th>\n",
       "      <th>EXTOT_WAS_NAN</th>\n",
       "      <th>BLDFRONT_WAS_NAN</th>\n",
       "      <th>BLDDEPTH_WAS_NAN</th>\n",
       "      <th>AVLAND2_WAS_NAN</th>\n",
       "      <th>AVTOT2_WAS_NAN</th>\n",
       "      <th>EXLAND2_WAS_NAN</th>\n",
       "      <th>EXTOT2_WAS_NAN</th>\n",
       "      <th>Latitude_WAS_NAN</th>\n",
       "      <th>Longitude_WAS_NAN</th>\n",
       "    </tr>\n",
       "  </thead>\n",
       "  <tbody>\n",
       "    <tr>\n",
       "      <th>count</th>\n",
       "      <td>11946.000000</td>\n",
       "      <td>11946.000000</td>\n",
       "      <td>11946.000000</td>\n",
       "      <td>11946.000000</td>\n",
       "      <td>11946.000000</td>\n",
       "      <td>11946.000000</td>\n",
       "      <td>11946.000000</td>\n",
       "      <td>11946.000000</td>\n",
       "      <td>11946.000000</td>\n",
       "      <td>11946.000000</td>\n",
       "      <td>...</td>\n",
       "      <td>11946.000000</td>\n",
       "      <td>11946.000000</td>\n",
       "      <td>11946.000000</td>\n",
       "      <td>11946.000000</td>\n",
       "      <td>11946.000000</td>\n",
       "      <td>11946.000000</td>\n",
       "      <td>11946.000000</td>\n",
       "      <td>11946.000000</td>\n",
       "      <td>11946.000000</td>\n",
       "      <td>11946.000000</td>\n",
       "    </tr>\n",
       "    <tr>\n",
       "      <th>mean</th>\n",
       "      <td>3.468178</td>\n",
       "      <td>4.579584</td>\n",
       "      <td>1.168320</td>\n",
       "      <td>12.856940</td>\n",
       "      <td>9.043747</td>\n",
       "      <td>10.558349</td>\n",
       "      <td>10.009825</td>\n",
       "      <td>10.799201</td>\n",
       "      <td>3.408950</td>\n",
       "      <td>3.949162</td>\n",
       "      <td>...</td>\n",
       "      <td>0.563620</td>\n",
       "      <td>0.498326</td>\n",
       "      <td>0.254478</td>\n",
       "      <td>0.253725</td>\n",
       "      <td>0.684832</td>\n",
       "      <td>0.684832</td>\n",
       "      <td>0.903315</td>\n",
       "      <td>0.850661</td>\n",
       "      <td>0.036330</td>\n",
       "      <td>0.036330</td>\n",
       "    </tr>\n",
       "    <tr>\n",
       "      <th>std</th>\n",
       "      <td>0.852428</td>\n",
       "      <td>0.399954</td>\n",
       "      <td>0.917300</td>\n",
       "      <td>2.121408</td>\n",
       "      <td>1.983445</td>\n",
       "      <td>2.102483</td>\n",
       "      <td>1.983465</td>\n",
       "      <td>2.443282</td>\n",
       "      <td>0.592964</td>\n",
       "      <td>0.436211</td>\n",
       "      <td>...</td>\n",
       "      <td>0.495957</td>\n",
       "      <td>0.500018</td>\n",
       "      <td>0.435586</td>\n",
       "      <td>0.435160</td>\n",
       "      <td>0.464602</td>\n",
       "      <td>0.464602</td>\n",
       "      <td>0.295541</td>\n",
       "      <td>0.356437</td>\n",
       "      <td>0.187118</td>\n",
       "      <td>0.187118</td>\n",
       "    </tr>\n",
       "    <tr>\n",
       "      <th>min</th>\n",
       "      <td>0.000000</td>\n",
       "      <td>0.000000</td>\n",
       "      <td>0.000000</td>\n",
       "      <td>0.000000</td>\n",
       "      <td>0.000000</td>\n",
       "      <td>0.000000</td>\n",
       "      <td>2.302585</td>\n",
       "      <td>2.302585</td>\n",
       "      <td>2.079442</td>\n",
       "      <td>2.302585</td>\n",
       "      <td>...</td>\n",
       "      <td>0.000000</td>\n",
       "      <td>0.000000</td>\n",
       "      <td>0.000000</td>\n",
       "      <td>0.000000</td>\n",
       "      <td>0.000000</td>\n",
       "      <td>0.000000</td>\n",
       "      <td>0.000000</td>\n",
       "      <td>0.000000</td>\n",
       "      <td>0.000000</td>\n",
       "      <td>0.000000</td>\n",
       "    </tr>\n",
       "    <tr>\n",
       "      <th>25%</th>\n",
       "      <td>3.091042</td>\n",
       "      <td>4.605170</td>\n",
       "      <td>0.693147</td>\n",
       "      <td>12.634603</td>\n",
       "      <td>8.471620</td>\n",
       "      <td>9.936148</td>\n",
       "      <td>7.293018</td>\n",
       "      <td>7.803843</td>\n",
       "      <td>2.995732</td>\n",
       "      <td>3.688879</td>\n",
       "      <td>...</td>\n",
       "      <td>0.000000</td>\n",
       "      <td>0.000000</td>\n",
       "      <td>0.000000</td>\n",
       "      <td>0.000000</td>\n",
       "      <td>0.000000</td>\n",
       "      <td>0.000000</td>\n",
       "      <td>1.000000</td>\n",
       "      <td>1.000000</td>\n",
       "      <td>0.000000</td>\n",
       "      <td>0.000000</td>\n",
       "    </tr>\n",
       "    <tr>\n",
       "      <th>50%</th>\n",
       "      <td>3.637586</td>\n",
       "      <td>4.605170</td>\n",
       "      <td>0.693147</td>\n",
       "      <td>13.118355</td>\n",
       "      <td>9.174713</td>\n",
       "      <td>10.336892</td>\n",
       "      <td>11.498222</td>\n",
       "      <td>12.724475</td>\n",
       "      <td>3.258097</td>\n",
       "      <td>3.951244</td>\n",
       "      <td>...</td>\n",
       "      <td>1.000000</td>\n",
       "      <td>0.000000</td>\n",
       "      <td>0.000000</td>\n",
       "      <td>0.000000</td>\n",
       "      <td>1.000000</td>\n",
       "      <td>1.000000</td>\n",
       "      <td>1.000000</td>\n",
       "      <td>1.000000</td>\n",
       "      <td>0.000000</td>\n",
       "      <td>0.000000</td>\n",
       "    </tr>\n",
       "    <tr>\n",
       "      <th>75%</th>\n",
       "      <td>3.825094</td>\n",
       "      <td>4.668648</td>\n",
       "      <td>1.745351</td>\n",
       "      <td>13.478638</td>\n",
       "      <td>9.737979</td>\n",
       "      <td>11.479638</td>\n",
       "      <td>11.498222</td>\n",
       "      <td>12.724475</td>\n",
       "      <td>3.646918</td>\n",
       "      <td>4.063795</td>\n",
       "      <td>...</td>\n",
       "      <td>1.000000</td>\n",
       "      <td>1.000000</td>\n",
       "      <td>1.000000</td>\n",
       "      <td>1.000000</td>\n",
       "      <td>1.000000</td>\n",
       "      <td>1.000000</td>\n",
       "      <td>1.000000</td>\n",
       "      <td>1.000000</td>\n",
       "      <td>0.000000</td>\n",
       "      <td>0.000000</td>\n",
       "    </tr>\n",
       "    <tr>\n",
       "      <th>max</th>\n",
       "      <td>7.807103</td>\n",
       "      <td>7.937375</td>\n",
       "      <td>4.248495</td>\n",
       "      <td>19.951078</td>\n",
       "      <td>18.464175</td>\n",
       "      <td>19.152570</td>\n",
       "      <td>18.464175</td>\n",
       "      <td>18.927753</td>\n",
       "      <td>6.476972</td>\n",
       "      <td>6.881411</td>\n",
       "      <td>...</td>\n",
       "      <td>1.000000</td>\n",
       "      <td>1.000000</td>\n",
       "      <td>1.000000</td>\n",
       "      <td>1.000000</td>\n",
       "      <td>1.000000</td>\n",
       "      <td>1.000000</td>\n",
       "      <td>1.000000</td>\n",
       "      <td>1.000000</td>\n",
       "      <td>1.000000</td>\n",
       "      <td>1.000000</td>\n",
       "    </tr>\n",
       "  </tbody>\n",
       "</table>\n",
       "<p>8 rows × 29 columns</p>\n",
       "</div>"
      ],
      "text/plain": [
       "            LTFRONT       LTDEPTH       STORIES       FULLVAL        AVLAND  \\\n",
       "count  11946.000000  11946.000000  11946.000000  11946.000000  11946.000000   \n",
       "mean       3.468178      4.579584      1.168320     12.856940      9.043747   \n",
       "std        0.852428      0.399954      0.917300      2.121408      1.983445   \n",
       "min        0.000000      0.000000      0.000000      0.000000      0.000000   \n",
       "25%        3.091042      4.605170      0.693147     12.634603      8.471620   \n",
       "50%        3.637586      4.605170      0.693147     13.118355      9.174713   \n",
       "75%        3.825094      4.668648      1.745351     13.478638      9.737979   \n",
       "max        7.807103      7.937375      4.248495     19.951078     18.464175   \n",
       "\n",
       "              AVTOT        EXLAND         EXTOT      BLDFRONT      BLDDEPTH  \\\n",
       "count  11946.000000  11946.000000  11946.000000  11946.000000  11946.000000   \n",
       "mean      10.558349     10.009825     10.799201      3.408950      3.949162   \n",
       "std        2.102483      1.983465      2.443282      0.592964      0.436211   \n",
       "min        0.000000      2.302585      2.302585      2.079442      2.302585   \n",
       "25%        9.936148      7.293018      7.803843      2.995732      3.688879   \n",
       "50%       10.336892     11.498222     12.724475      3.258097      3.951244   \n",
       "75%       11.479638     11.498222     12.724475      3.646918      4.063795   \n",
       "max       19.152570     18.464175     18.927753      6.476972      6.881411   \n",
       "\n",
       "       ...  EXLAND_WAS_NAN  EXTOT_WAS_NAN  BLDFRONT_WAS_NAN  BLDDEPTH_WAS_NAN  \\\n",
       "count  ...    11946.000000   11946.000000      11946.000000      11946.000000   \n",
       "mean   ...        0.563620       0.498326          0.254478          0.253725   \n",
       "std    ...        0.495957       0.500018          0.435586          0.435160   \n",
       "min    ...        0.000000       0.000000          0.000000          0.000000   \n",
       "25%    ...        0.000000       0.000000          0.000000          0.000000   \n",
       "50%    ...        1.000000       0.000000          0.000000          0.000000   \n",
       "75%    ...        1.000000       1.000000          1.000000          1.000000   \n",
       "max    ...        1.000000       1.000000          1.000000          1.000000   \n",
       "\n",
       "       AVLAND2_WAS_NAN  AVTOT2_WAS_NAN  EXLAND2_WAS_NAN  EXTOT2_WAS_NAN  \\\n",
       "count     11946.000000    11946.000000     11946.000000    11946.000000   \n",
       "mean          0.684832        0.684832         0.903315        0.850661   \n",
       "std           0.464602        0.464602         0.295541        0.356437   \n",
       "min           0.000000        0.000000         0.000000        0.000000   \n",
       "25%           0.000000        0.000000         1.000000        1.000000   \n",
       "50%           1.000000        1.000000         1.000000        1.000000   \n",
       "75%           1.000000        1.000000         1.000000        1.000000   \n",
       "max           1.000000        1.000000         1.000000        1.000000   \n",
       "\n",
       "       Latitude_WAS_NAN  Longitude_WAS_NAN  \n",
       "count      11946.000000       11946.000000  \n",
       "mean           0.036330           0.036330  \n",
       "std            0.187118           0.187118  \n",
       "min            0.000000           0.000000  \n",
       "25%            0.000000           0.000000  \n",
       "50%            0.000000           0.000000  \n",
       "75%            0.000000           0.000000  \n",
       "max            1.000000           1.000000  \n",
       "\n",
       "[8 rows x 29 columns]"
      ]
     },
     "execution_count": 27,
     "metadata": {},
     "output_type": "execute_result"
    }
   ],
   "source": [
    "df.describe()"
   ]
  },
  {
   "cell_type": "code",
   "execution_count": 28,
   "id": "092e1e86",
   "metadata": {},
   "outputs": [],
   "source": [
    "df.to_csv('cleaned.csv', index=0)"
   ]
  },
  {
   "cell_type": "code",
   "execution_count": 29,
   "id": "f2020257",
   "metadata": {},
   "outputs": [],
   "source": [
    "scaler, scaler_y, df = standarizing.fit_transform_on('cleaned.csv')\n",
    "standarizing.save_scaler_as(scaler, 'standard_scaler.joblib')\n",
    "standarizing.save_scaler_as(scaler_y, 'standard_scaler_y.joblib')"
   ]
  },
  {
   "cell_type": "code",
   "execution_count": 30,
   "id": "323e396e",
   "metadata": {},
   "outputs": [
    {
     "data": {
      "text/plain": [
       "Index(['BLDGCL', 'TAXCLASS', 'LTFRONT', 'LTDEPTH', 'EXT', 'STORIES', 'FULLVAL',\n",
       "       'AVLAND', 'AVTOT', 'EXLAND', 'EXTOT', 'EXCD1', 'BLDFRONT', 'BLDDEPTH',\n",
       "       'AVLAND2', 'AVTOT2', 'EXLAND2', 'EXTOT2', 'YEAR', 'Borough', 'Latitude',\n",
       "       'Longitude', 'Community Board', 'Council District', 'Census Tract',\n",
       "       'NTA', 'OWNER_RICHNESS', 'BIN_POPULARNESS', 'LTFRONT_WAS_NAN',\n",
       "       'LTDEPTH_WAS_NAN', 'STORIES_WAS_NAN', 'EXLAND_WAS_NAN', 'EXTOT_WAS_NAN',\n",
       "       'BLDFRONT_WAS_NAN', 'BLDDEPTH_WAS_NAN', 'AVLAND2_WAS_NAN',\n",
       "       'AVTOT2_WAS_NAN', 'EXLAND2_WAS_NAN', 'EXTOT2_WAS_NAN',\n",
       "       'Latitude_WAS_NAN', 'Longitude_WAS_NAN'],\n",
       "      dtype='object')"
      ]
     },
     "execution_count": 30,
     "metadata": {},
     "output_type": "execute_result"
    }
   ],
   "source": [
    "df.columns"
   ]
  },
  {
   "cell_type": "code",
   "execution_count": 31,
   "id": "20b5ac1f",
   "metadata": {},
   "outputs": [
    {
     "data": {
      "text/html": [
       "<div>\n",
       "<style scoped>\n",
       "    .dataframe tbody tr th:only-of-type {\n",
       "        vertical-align: middle;\n",
       "    }\n",
       "\n",
       "    .dataframe tbody tr th {\n",
       "        vertical-align: top;\n",
       "    }\n",
       "\n",
       "    .dataframe thead th {\n",
       "        text-align: right;\n",
       "    }\n",
       "</style>\n",
       "<table border=\"1\" class=\"dataframe\">\n",
       "  <thead>\n",
       "    <tr style=\"text-align: right;\">\n",
       "      <th></th>\n",
       "      <th>BLDGCL</th>\n",
       "      <th>TAXCLASS</th>\n",
       "      <th>LTFRONT</th>\n",
       "      <th>LTDEPTH</th>\n",
       "      <th>EXT</th>\n",
       "      <th>STORIES</th>\n",
       "      <th>FULLVAL</th>\n",
       "      <th>AVLAND</th>\n",
       "      <th>AVTOT</th>\n",
       "      <th>EXLAND</th>\n",
       "      <th>...</th>\n",
       "      <th>EXLAND_WAS_NAN</th>\n",
       "      <th>EXTOT_WAS_NAN</th>\n",
       "      <th>BLDFRONT_WAS_NAN</th>\n",
       "      <th>BLDDEPTH_WAS_NAN</th>\n",
       "      <th>AVLAND2_WAS_NAN</th>\n",
       "      <th>AVTOT2_WAS_NAN</th>\n",
       "      <th>EXLAND2_WAS_NAN</th>\n",
       "      <th>EXTOT2_WAS_NAN</th>\n",
       "      <th>Latitude_WAS_NAN</th>\n",
       "      <th>Longitude_WAS_NAN</th>\n",
       "    </tr>\n",
       "  </thead>\n",
       "  <tbody>\n",
       "    <tr>\n",
       "      <th>0</th>\n",
       "      <td>RK</td>\n",
       "      <td>4</td>\n",
       "      <td>0.418722</td>\n",
       "      <td>0.222695</td>\n",
       "      <td>nan_val</td>\n",
       "      <td>0.679674</td>\n",
       "      <td>1.037423</td>\n",
       "      <td>1.328547</td>\n",
       "      <td>1.760273</td>\n",
       "      <td>0.750434</td>\n",
       "      <td>...</td>\n",
       "      <td>0.879913</td>\n",
       "      <td>1.003354</td>\n",
       "      <td>1.711609</td>\n",
       "      <td>1.715014</td>\n",
       "      <td>-1.474079</td>\n",
       "      <td>-1.474079</td>\n",
       "      <td>0.327160</td>\n",
       "      <td>0.418994</td>\n",
       "      <td>-0.194164</td>\n",
       "      <td>-0.194164</td>\n",
       "    </tr>\n",
       "    <tr>\n",
       "      <th>1</th>\n",
       "      <td>R4</td>\n",
       "      <td>2</td>\n",
       "      <td>0.418722</td>\n",
       "      <td>0.222695</td>\n",
       "      <td>nan_val</td>\n",
       "      <td>2.144616</td>\n",
       "      <td>-0.205828</td>\n",
       "      <td>0.360384</td>\n",
       "      <td>0.505832</td>\n",
       "      <td>-0.126706</td>\n",
       "      <td>...</td>\n",
       "      <td>-1.136476</td>\n",
       "      <td>-0.996657</td>\n",
       "      <td>1.711609</td>\n",
       "      <td>1.715014</td>\n",
       "      <td>-1.474079</td>\n",
       "      <td>-1.474079</td>\n",
       "      <td>-3.056609</td>\n",
       "      <td>-2.386669</td>\n",
       "      <td>-0.194164</td>\n",
       "      <td>-0.194164</td>\n",
       "    </tr>\n",
       "    <tr>\n",
       "      <th>2</th>\n",
       "      <td>R4</td>\n",
       "      <td>2</td>\n",
       "      <td>0.418722</td>\n",
       "      <td>0.222695</td>\n",
       "      <td>nan_val</td>\n",
       "      <td>2.235519</td>\n",
       "      <td>-0.374268</td>\n",
       "      <td>0.145795</td>\n",
       "      <td>0.335874</td>\n",
       "      <td>0.750434</td>\n",
       "      <td>...</td>\n",
       "      <td>0.879913</td>\n",
       "      <td>1.003354</td>\n",
       "      <td>-0.584246</td>\n",
       "      <td>-0.583086</td>\n",
       "      <td>-1.474079</td>\n",
       "      <td>-1.474079</td>\n",
       "      <td>0.327160</td>\n",
       "      <td>0.418994</td>\n",
       "      <td>-0.194164</td>\n",
       "      <td>-0.194164</td>\n",
       "    </tr>\n",
       "    <tr>\n",
       "      <th>3</th>\n",
       "      <td>R4</td>\n",
       "      <td>2</td>\n",
       "      <td>0.418722</td>\n",
       "      <td>0.222695</td>\n",
       "      <td>nan_val</td>\n",
       "      <td>2.319422</td>\n",
       "      <td>-0.344722</td>\n",
       "      <td>0.256552</td>\n",
       "      <td>0.365690</td>\n",
       "      <td>-0.230537</td>\n",
       "      <td>...</td>\n",
       "      <td>-1.136476</td>\n",
       "      <td>-0.996657</td>\n",
       "      <td>1.711609</td>\n",
       "      <td>1.715014</td>\n",
       "      <td>-1.474079</td>\n",
       "      <td>-1.474079</td>\n",
       "      <td>-3.056609</td>\n",
       "      <td>-2.386669</td>\n",
       "      <td>-0.194164</td>\n",
       "      <td>-0.194164</td>\n",
       "    </tr>\n",
       "    <tr>\n",
       "      <th>4</th>\n",
       "      <td>R4</td>\n",
       "      <td>2</td>\n",
       "      <td>0.418722</td>\n",
       "      <td>0.222695</td>\n",
       "      <td>nan_val</td>\n",
       "      <td>1.936328</td>\n",
       "      <td>0.178492</td>\n",
       "      <td>0.090309</td>\n",
       "      <td>0.893611</td>\n",
       "      <td>0.750434</td>\n",
       "      <td>...</td>\n",
       "      <td>0.879913</td>\n",
       "      <td>1.003354</td>\n",
       "      <td>-0.584246</td>\n",
       "      <td>-0.583086</td>\n",
       "      <td>-1.474079</td>\n",
       "      <td>-1.474079</td>\n",
       "      <td>0.327160</td>\n",
       "      <td>0.418994</td>\n",
       "      <td>-0.194164</td>\n",
       "      <td>-0.194164</td>\n",
       "    </tr>\n",
       "  </tbody>\n",
       "</table>\n",
       "<p>5 rows × 41 columns</p>\n",
       "</div>"
      ],
      "text/plain": [
       "  BLDGCL TAXCLASS   LTFRONT   LTDEPTH      EXT   STORIES   FULLVAL    AVLAND  \\\n",
       "0     RK        4  0.418722  0.222695  nan_val  0.679674  1.037423  1.328547   \n",
       "1     R4        2  0.418722  0.222695  nan_val  2.144616 -0.205828  0.360384   \n",
       "2     R4        2  0.418722  0.222695  nan_val  2.235519 -0.374268  0.145795   \n",
       "3     R4        2  0.418722  0.222695  nan_val  2.319422 -0.344722  0.256552   \n",
       "4     R4        2  0.418722  0.222695  nan_val  1.936328  0.178492  0.090309   \n",
       "\n",
       "      AVTOT    EXLAND  ...  EXLAND_WAS_NAN EXTOT_WAS_NAN  BLDFRONT_WAS_NAN  \\\n",
       "0  1.760273  0.750434  ...        0.879913      1.003354          1.711609   \n",
       "1  0.505832 -0.126706  ...       -1.136476     -0.996657          1.711609   \n",
       "2  0.335874  0.750434  ...        0.879913      1.003354         -0.584246   \n",
       "3  0.365690 -0.230537  ...       -1.136476     -0.996657          1.711609   \n",
       "4  0.893611  0.750434  ...        0.879913      1.003354         -0.584246   \n",
       "\n",
       "   BLDDEPTH_WAS_NAN  AVLAND2_WAS_NAN  AVTOT2_WAS_NAN  EXLAND2_WAS_NAN  \\\n",
       "0          1.715014        -1.474079       -1.474079         0.327160   \n",
       "1          1.715014        -1.474079       -1.474079        -3.056609   \n",
       "2         -0.583086        -1.474079       -1.474079         0.327160   \n",
       "3          1.715014        -1.474079       -1.474079        -3.056609   \n",
       "4         -0.583086        -1.474079       -1.474079         0.327160   \n",
       "\n",
       "   EXTOT2_WAS_NAN Latitude_WAS_NAN Longitude_WAS_NAN  \n",
       "0        0.418994        -0.194164         -0.194164  \n",
       "1       -2.386669        -0.194164         -0.194164  \n",
       "2        0.418994        -0.194164         -0.194164  \n",
       "3       -2.386669        -0.194164         -0.194164  \n",
       "4        0.418994        -0.194164         -0.194164  \n",
       "\n",
       "[5 rows x 41 columns]"
      ]
     },
     "execution_count": 31,
     "metadata": {},
     "output_type": "execute_result"
    }
   ],
   "source": [
    "df.head()"
   ]
  },
  {
   "cell_type": "code",
   "execution_count": 32,
   "id": "cdaa7afe",
   "metadata": {},
   "outputs": [],
   "source": [
    "categorical_cols = ['BLDGCL', 'TAXCLASS', 'EXT', 'YEAR', 'Borough', 'Community Board', 'Council District',\n",
    "                    'Census Tract', 'NTA', 'OWNER_RICHNESS', 'BIN_POPULARNESS', 'LTFRONT_WAS_NAN',\n",
    "                    'LTDEPTH_WAS_NAN', 'STORIES_WAS_NAN', 'EXLAND_WAS_NAN', 'EXTOT_WAS_NAN',\n",
    "                    'BLDFRONT_WAS_NAN', 'BLDDEPTH_WAS_NAN', 'AVLAND2_WAS_NAN',\n",
    "                    'AVTOT2_WAS_NAN', 'EXLAND2_WAS_NAN', 'EXTOT2_WAS_NAN',\n",
    "                    'Latitude_WAS_NAN', 'Longitude_WAS_NAN', 'EXCD1'\n",
    "                   ]"
   ]
  },
  {
   "cell_type": "code",
   "execution_count": 33,
   "id": "48fe4d34",
   "metadata": {},
   "outputs": [
    {
     "data": {
      "text/html": [
       "<div>\n",
       "<style scoped>\n",
       "    .dataframe tbody tr th:only-of-type {\n",
       "        vertical-align: middle;\n",
       "    }\n",
       "\n",
       "    .dataframe tbody tr th {\n",
       "        vertical-align: top;\n",
       "    }\n",
       "\n",
       "    .dataframe thead th {\n",
       "        text-align: right;\n",
       "    }\n",
       "</style>\n",
       "<table border=\"1\" class=\"dataframe\">\n",
       "  <thead>\n",
       "    <tr style=\"text-align: right;\">\n",
       "      <th></th>\n",
       "      <th>LTFRONT_WAS_NAN</th>\n",
       "      <th>LTDEPTH_WAS_NAN</th>\n",
       "      <th>STORIES_WAS_NAN</th>\n",
       "      <th>EXLAND_WAS_NAN</th>\n",
       "      <th>EXTOT_WAS_NAN</th>\n",
       "      <th>BLDFRONT_WAS_NAN</th>\n",
       "      <th>BLDDEPTH_WAS_NAN</th>\n",
       "      <th>AVLAND2_WAS_NAN</th>\n",
       "      <th>AVTOT2_WAS_NAN</th>\n",
       "      <th>EXLAND2_WAS_NAN</th>\n",
       "      <th>...</th>\n",
       "      <th>EXCD1_5101.0category</th>\n",
       "      <th>EXCD1_5110.0category</th>\n",
       "      <th>EXCD1_5112.0category</th>\n",
       "      <th>EXCD1_5113.0category</th>\n",
       "      <th>EXCD1_5114.0category</th>\n",
       "      <th>EXCD1_5118.0category</th>\n",
       "      <th>EXCD1_5130.0category</th>\n",
       "      <th>EXCD1_6800.0category</th>\n",
       "      <th>EXCD1_nancategory</th>\n",
       "      <th>EXCD1_other</th>\n",
       "    </tr>\n",
       "  </thead>\n",
       "  <tbody>\n",
       "    <tr>\n",
       "      <th>0</th>\n",
       "      <td>1.98146</td>\n",
       "      <td>1.798936</td>\n",
       "      <td>-0.251564</td>\n",
       "      <td>0.879913</td>\n",
       "      <td>1.003354</td>\n",
       "      <td>1.711609</td>\n",
       "      <td>1.715014</td>\n",
       "      <td>-1.474079</td>\n",
       "      <td>-1.474079</td>\n",
       "      <td>0.327160</td>\n",
       "      <td>...</td>\n",
       "      <td>0</td>\n",
       "      <td>0</td>\n",
       "      <td>0</td>\n",
       "      <td>0</td>\n",
       "      <td>0</td>\n",
       "      <td>0</td>\n",
       "      <td>0</td>\n",
       "      <td>0</td>\n",
       "      <td>1</td>\n",
       "      <td>0</td>\n",
       "    </tr>\n",
       "    <tr>\n",
       "      <th>1</th>\n",
       "      <td>1.98146</td>\n",
       "      <td>1.798936</td>\n",
       "      <td>-0.251564</td>\n",
       "      <td>-1.136476</td>\n",
       "      <td>-0.996657</td>\n",
       "      <td>1.711609</td>\n",
       "      <td>1.715014</td>\n",
       "      <td>-1.474079</td>\n",
       "      <td>-1.474079</td>\n",
       "      <td>-3.056609</td>\n",
       "      <td>...</td>\n",
       "      <td>0</td>\n",
       "      <td>0</td>\n",
       "      <td>0</td>\n",
       "      <td>0</td>\n",
       "      <td>0</td>\n",
       "      <td>0</td>\n",
       "      <td>0</td>\n",
       "      <td>1</td>\n",
       "      <td>0</td>\n",
       "      <td>0</td>\n",
       "    </tr>\n",
       "    <tr>\n",
       "      <th>2</th>\n",
       "      <td>1.98146</td>\n",
       "      <td>1.798936</td>\n",
       "      <td>-0.251564</td>\n",
       "      <td>0.879913</td>\n",
       "      <td>1.003354</td>\n",
       "      <td>-0.584246</td>\n",
       "      <td>-0.583086</td>\n",
       "      <td>-1.474079</td>\n",
       "      <td>-1.474079</td>\n",
       "      <td>0.327160</td>\n",
       "      <td>...</td>\n",
       "      <td>0</td>\n",
       "      <td>0</td>\n",
       "      <td>0</td>\n",
       "      <td>0</td>\n",
       "      <td>0</td>\n",
       "      <td>0</td>\n",
       "      <td>0</td>\n",
       "      <td>0</td>\n",
       "      <td>1</td>\n",
       "      <td>0</td>\n",
       "    </tr>\n",
       "    <tr>\n",
       "      <th>3</th>\n",
       "      <td>1.98146</td>\n",
       "      <td>1.798936</td>\n",
       "      <td>-0.251564</td>\n",
       "      <td>-1.136476</td>\n",
       "      <td>-0.996657</td>\n",
       "      <td>1.711609</td>\n",
       "      <td>1.715014</td>\n",
       "      <td>-1.474079</td>\n",
       "      <td>-1.474079</td>\n",
       "      <td>-3.056609</td>\n",
       "      <td>...</td>\n",
       "      <td>0</td>\n",
       "      <td>0</td>\n",
       "      <td>0</td>\n",
       "      <td>0</td>\n",
       "      <td>0</td>\n",
       "      <td>0</td>\n",
       "      <td>0</td>\n",
       "      <td>1</td>\n",
       "      <td>0</td>\n",
       "      <td>0</td>\n",
       "    </tr>\n",
       "    <tr>\n",
       "      <th>4</th>\n",
       "      <td>1.98146</td>\n",
       "      <td>1.798936</td>\n",
       "      <td>-0.251564</td>\n",
       "      <td>0.879913</td>\n",
       "      <td>1.003354</td>\n",
       "      <td>-0.584246</td>\n",
       "      <td>-0.583086</td>\n",
       "      <td>-1.474079</td>\n",
       "      <td>-1.474079</td>\n",
       "      <td>0.327160</td>\n",
       "      <td>...</td>\n",
       "      <td>0</td>\n",
       "      <td>0</td>\n",
       "      <td>0</td>\n",
       "      <td>0</td>\n",
       "      <td>0</td>\n",
       "      <td>0</td>\n",
       "      <td>0</td>\n",
       "      <td>0</td>\n",
       "      <td>1</td>\n",
       "      <td>0</td>\n",
       "    </tr>\n",
       "  </tbody>\n",
       "</table>\n",
       "<p>5 rows × 372 columns</p>\n",
       "</div>"
      ],
      "text/plain": [
       "   LTFRONT_WAS_NAN  LTDEPTH_WAS_NAN  STORIES_WAS_NAN  EXLAND_WAS_NAN  \\\n",
       "0          1.98146         1.798936        -0.251564        0.879913   \n",
       "1          1.98146         1.798936        -0.251564       -1.136476   \n",
       "2          1.98146         1.798936        -0.251564        0.879913   \n",
       "3          1.98146         1.798936        -0.251564       -1.136476   \n",
       "4          1.98146         1.798936        -0.251564        0.879913   \n",
       "\n",
       "   EXTOT_WAS_NAN  BLDFRONT_WAS_NAN  BLDDEPTH_WAS_NAN  AVLAND2_WAS_NAN  \\\n",
       "0       1.003354          1.711609          1.715014        -1.474079   \n",
       "1      -0.996657          1.711609          1.715014        -1.474079   \n",
       "2       1.003354         -0.584246         -0.583086        -1.474079   \n",
       "3      -0.996657          1.711609          1.715014        -1.474079   \n",
       "4       1.003354         -0.584246         -0.583086        -1.474079   \n",
       "\n",
       "   AVTOT2_WAS_NAN  EXLAND2_WAS_NAN  ...  EXCD1_5101.0category  \\\n",
       "0       -1.474079         0.327160  ...                     0   \n",
       "1       -1.474079        -3.056609  ...                     0   \n",
       "2       -1.474079         0.327160  ...                     0   \n",
       "3       -1.474079        -3.056609  ...                     0   \n",
       "4       -1.474079         0.327160  ...                     0   \n",
       "\n",
       "   EXCD1_5110.0category  EXCD1_5112.0category  EXCD1_5113.0category  \\\n",
       "0                     0                     0                     0   \n",
       "1                     0                     0                     0   \n",
       "2                     0                     0                     0   \n",
       "3                     0                     0                     0   \n",
       "4                     0                     0                     0   \n",
       "\n",
       "   EXCD1_5114.0category  EXCD1_5118.0category  EXCD1_5130.0category  \\\n",
       "0                     0                     0                     0   \n",
       "1                     0                     0                     0   \n",
       "2                     0                     0                     0   \n",
       "3                     0                     0                     0   \n",
       "4                     0                     0                     0   \n",
       "\n",
       "   EXCD1_6800.0category  EXCD1_nancategory  EXCD1_other  \n",
       "0                     0                  1            0  \n",
       "1                     1                  0            0  \n",
       "2                     0                  1            0  \n",
       "3                     1                  0            0  \n",
       "4                     0                  1            0  \n",
       "\n",
       "[5 rows x 372 columns]"
      ]
     },
     "execution_count": 33,
     "metadata": {},
     "output_type": "execute_result"
    }
   ],
   "source": [
    "one_hot_encoded = pd.get_dummies(df[categorical_cols])\n",
    "one_hot_encoded.head()"
   ]
  },
  {
   "cell_type": "code",
   "execution_count": 34,
   "id": "077ff5fc",
   "metadata": {},
   "outputs": [],
   "source": [
    "df = df.drop(columns=categorical_cols)\n",
    "df = pd.concat([df, one_hot_encoded], axis=1)"
   ]
  },
  {
   "cell_type": "code",
   "execution_count": 35,
   "id": "d02141da",
   "metadata": {},
   "outputs": [
    {
     "data": {
      "text/html": [
       "<div>\n",
       "<style scoped>\n",
       "    .dataframe tbody tr th:only-of-type {\n",
       "        vertical-align: middle;\n",
       "    }\n",
       "\n",
       "    .dataframe tbody tr th {\n",
       "        vertical-align: top;\n",
       "    }\n",
       "\n",
       "    .dataframe thead th {\n",
       "        text-align: right;\n",
       "    }\n",
       "</style>\n",
       "<table border=\"1\" class=\"dataframe\">\n",
       "  <thead>\n",
       "    <tr style=\"text-align: right;\">\n",
       "      <th></th>\n",
       "      <th>LTFRONT</th>\n",
       "      <th>LTDEPTH</th>\n",
       "      <th>STORIES</th>\n",
       "      <th>FULLVAL</th>\n",
       "      <th>AVLAND</th>\n",
       "      <th>AVTOT</th>\n",
       "      <th>EXLAND</th>\n",
       "      <th>EXTOT</th>\n",
       "      <th>BLDFRONT</th>\n",
       "      <th>BLDDEPTH</th>\n",
       "      <th>...</th>\n",
       "      <th>EXCD1_5101.0category</th>\n",
       "      <th>EXCD1_5110.0category</th>\n",
       "      <th>EXCD1_5112.0category</th>\n",
       "      <th>EXCD1_5113.0category</th>\n",
       "      <th>EXCD1_5114.0category</th>\n",
       "      <th>EXCD1_5118.0category</th>\n",
       "      <th>EXCD1_5130.0category</th>\n",
       "      <th>EXCD1_6800.0category</th>\n",
       "      <th>EXCD1_nancategory</th>\n",
       "      <th>EXCD1_other</th>\n",
       "    </tr>\n",
       "  </thead>\n",
       "  <tbody>\n",
       "    <tr>\n",
       "      <th>0</th>\n",
       "      <td>0.418722</td>\n",
       "      <td>0.222695</td>\n",
       "      <td>0.679674</td>\n",
       "      <td>1.037423</td>\n",
       "      <td>1.328547</td>\n",
       "      <td>1.760273</td>\n",
       "      <td>0.750434</td>\n",
       "      <td>0.788020</td>\n",
       "      <td>0.401337</td>\n",
       "      <td>0.262802</td>\n",
       "      <td>...</td>\n",
       "      <td>0</td>\n",
       "      <td>0</td>\n",
       "      <td>0</td>\n",
       "      <td>0</td>\n",
       "      <td>0</td>\n",
       "      <td>0</td>\n",
       "      <td>0</td>\n",
       "      <td>0</td>\n",
       "      <td>1</td>\n",
       "      <td>0</td>\n",
       "    </tr>\n",
       "    <tr>\n",
       "      <th>1</th>\n",
       "      <td>0.418722</td>\n",
       "      <td>0.222695</td>\n",
       "      <td>2.144616</td>\n",
       "      <td>-0.205828</td>\n",
       "      <td>0.360384</td>\n",
       "      <td>0.505832</td>\n",
       "      <td>-0.126706</td>\n",
       "      <td>0.336695</td>\n",
       "      <td>0.401337</td>\n",
       "      <td>0.262802</td>\n",
       "      <td>...</td>\n",
       "      <td>0</td>\n",
       "      <td>0</td>\n",
       "      <td>0</td>\n",
       "      <td>0</td>\n",
       "      <td>0</td>\n",
       "      <td>0</td>\n",
       "      <td>0</td>\n",
       "      <td>1</td>\n",
       "      <td>0</td>\n",
       "      <td>0</td>\n",
       "    </tr>\n",
       "    <tr>\n",
       "      <th>2</th>\n",
       "      <td>0.418722</td>\n",
       "      <td>0.222695</td>\n",
       "      <td>2.235519</td>\n",
       "      <td>-0.374268</td>\n",
       "      <td>0.145795</td>\n",
       "      <td>0.335874</td>\n",
       "      <td>0.750434</td>\n",
       "      <td>0.788020</td>\n",
       "      <td>2.433775</td>\n",
       "      <td>2.747254</td>\n",
       "      <td>...</td>\n",
       "      <td>0</td>\n",
       "      <td>0</td>\n",
       "      <td>0</td>\n",
       "      <td>0</td>\n",
       "      <td>0</td>\n",
       "      <td>0</td>\n",
       "      <td>0</td>\n",
       "      <td>0</td>\n",
       "      <td>1</td>\n",
       "      <td>0</td>\n",
       "    </tr>\n",
       "    <tr>\n",
       "      <th>3</th>\n",
       "      <td>0.418722</td>\n",
       "      <td>0.222695</td>\n",
       "      <td>2.319422</td>\n",
       "      <td>-0.344722</td>\n",
       "      <td>0.256552</td>\n",
       "      <td>0.365690</td>\n",
       "      <td>-0.230537</td>\n",
       "      <td>0.216101</td>\n",
       "      <td>0.401337</td>\n",
       "      <td>0.262802</td>\n",
       "      <td>...</td>\n",
       "      <td>0</td>\n",
       "      <td>0</td>\n",
       "      <td>0</td>\n",
       "      <td>0</td>\n",
       "      <td>0</td>\n",
       "      <td>0</td>\n",
       "      <td>0</td>\n",
       "      <td>1</td>\n",
       "      <td>0</td>\n",
       "      <td>0</td>\n",
       "    </tr>\n",
       "    <tr>\n",
       "      <th>4</th>\n",
       "      <td>0.418722</td>\n",
       "      <td>0.222695</td>\n",
       "      <td>1.936328</td>\n",
       "      <td>0.178492</td>\n",
       "      <td>0.090309</td>\n",
       "      <td>0.893611</td>\n",
       "      <td>0.750434</td>\n",
       "      <td>0.788020</td>\n",
       "      <td>0.848440</td>\n",
       "      <td>2.105427</td>\n",
       "      <td>...</td>\n",
       "      <td>0</td>\n",
       "      <td>0</td>\n",
       "      <td>0</td>\n",
       "      <td>0</td>\n",
       "      <td>0</td>\n",
       "      <td>0</td>\n",
       "      <td>0</td>\n",
       "      <td>0</td>\n",
       "      <td>1</td>\n",
       "      <td>0</td>\n",
       "    </tr>\n",
       "  </tbody>\n",
       "</table>\n",
       "<p>5 rows × 388 columns</p>\n",
       "</div>"
      ],
      "text/plain": [
       "    LTFRONT   LTDEPTH   STORIES   FULLVAL    AVLAND     AVTOT    EXLAND  \\\n",
       "0  0.418722  0.222695  0.679674  1.037423  1.328547  1.760273  0.750434   \n",
       "1  0.418722  0.222695  2.144616 -0.205828  0.360384  0.505832 -0.126706   \n",
       "2  0.418722  0.222695  2.235519 -0.374268  0.145795  0.335874  0.750434   \n",
       "3  0.418722  0.222695  2.319422 -0.344722  0.256552  0.365690 -0.230537   \n",
       "4  0.418722  0.222695  1.936328  0.178492  0.090309  0.893611  0.750434   \n",
       "\n",
       "      EXTOT  BLDFRONT  BLDDEPTH  ...  EXCD1_5101.0category  \\\n",
       "0  0.788020  0.401337  0.262802  ...                     0   \n",
       "1  0.336695  0.401337  0.262802  ...                     0   \n",
       "2  0.788020  2.433775  2.747254  ...                     0   \n",
       "3  0.216101  0.401337  0.262802  ...                     0   \n",
       "4  0.788020  0.848440  2.105427  ...                     0   \n",
       "\n",
       "   EXCD1_5110.0category  EXCD1_5112.0category  EXCD1_5113.0category  \\\n",
       "0                     0                     0                     0   \n",
       "1                     0                     0                     0   \n",
       "2                     0                     0                     0   \n",
       "3                     0                     0                     0   \n",
       "4                     0                     0                     0   \n",
       "\n",
       "   EXCD1_5114.0category  EXCD1_5118.0category  EXCD1_5130.0category  \\\n",
       "0                     0                     0                     0   \n",
       "1                     0                     0                     0   \n",
       "2                     0                     0                     0   \n",
       "3                     0                     0                     0   \n",
       "4                     0                     0                     0   \n",
       "\n",
       "   EXCD1_6800.0category  EXCD1_nancategory  EXCD1_other  \n",
       "0                     0                  1            0  \n",
       "1                     1                  0            0  \n",
       "2                     0                  1            0  \n",
       "3                     1                  0            0  \n",
       "4                     0                  1            0  \n",
       "\n",
       "[5 rows x 388 columns]"
      ]
     },
     "execution_count": 35,
     "metadata": {},
     "output_type": "execute_result"
    }
   ],
   "source": [
    "df.head()"
   ]
  },
  {
   "cell_type": "code",
   "execution_count": 36,
   "id": "51cb2463",
   "metadata": {},
   "outputs": [],
   "source": [
    "df.to_csv('processed.csv', index=0)"
   ]
  },
  {
   "cell_type": "code",
   "execution_count": 37,
   "id": "af2d9558",
   "metadata": {},
   "outputs": [],
   "source": [
    "df['LTAREA'] = df['LTDEPTH'] * df['LTFRONT']\n",
    "df['BLDAREA'] = df['BLDDEPTH'] * df['BLDFRONT']"
   ]
  },
  {
   "cell_type": "code",
   "execution_count": 38,
   "id": "78c3750a",
   "metadata": {},
   "outputs": [],
   "source": [
    "df.to_csv('processed.csv', index=0)"
   ]
  },
  {
   "cell_type": "code",
   "execution_count": 39,
   "id": "53fa1242",
   "metadata": {},
   "outputs": [
    {
     "data": {
      "text/html": [
       "<div>\n",
       "<style scoped>\n",
       "    .dataframe tbody tr th:only-of-type {\n",
       "        vertical-align: middle;\n",
       "    }\n",
       "\n",
       "    .dataframe tbody tr th {\n",
       "        vertical-align: top;\n",
       "    }\n",
       "\n",
       "    .dataframe thead th {\n",
       "        text-align: right;\n",
       "    }\n",
       "</style>\n",
       "<table border=\"1\" class=\"dataframe\">\n",
       "  <thead>\n",
       "    <tr style=\"text-align: right;\">\n",
       "      <th></th>\n",
       "      <th>LTFRONT</th>\n",
       "      <th>LTDEPTH</th>\n",
       "      <th>STORIES</th>\n",
       "      <th>FULLVAL</th>\n",
       "      <th>AVLAND</th>\n",
       "      <th>AVTOT</th>\n",
       "      <th>EXLAND</th>\n",
       "      <th>EXTOT</th>\n",
       "      <th>BLDFRONT</th>\n",
       "      <th>BLDDEPTH</th>\n",
       "      <th>...</th>\n",
       "      <th>EXCD1_5112.0category</th>\n",
       "      <th>EXCD1_5113.0category</th>\n",
       "      <th>EXCD1_5114.0category</th>\n",
       "      <th>EXCD1_5118.0category</th>\n",
       "      <th>EXCD1_5130.0category</th>\n",
       "      <th>EXCD1_6800.0category</th>\n",
       "      <th>EXCD1_nancategory</th>\n",
       "      <th>EXCD1_other</th>\n",
       "      <th>LTAREA</th>\n",
       "      <th>BLDAREA</th>\n",
       "    </tr>\n",
       "  </thead>\n",
       "  <tbody>\n",
       "    <tr>\n",
       "      <th>0</th>\n",
       "      <td>0.418722</td>\n",
       "      <td>0.222695</td>\n",
       "      <td>0.679674</td>\n",
       "      <td>1.037423</td>\n",
       "      <td>1.328547</td>\n",
       "      <td>1.760273</td>\n",
       "      <td>0.750434</td>\n",
       "      <td>0.788020</td>\n",
       "      <td>0.401337</td>\n",
       "      <td>0.262802</td>\n",
       "      <td>...</td>\n",
       "      <td>0</td>\n",
       "      <td>0</td>\n",
       "      <td>0</td>\n",
       "      <td>0</td>\n",
       "      <td>0</td>\n",
       "      <td>0</td>\n",
       "      <td>1</td>\n",
       "      <td>0</td>\n",
       "      <td>0.093247</td>\n",
       "      <td>0.105472</td>\n",
       "    </tr>\n",
       "    <tr>\n",
       "      <th>1</th>\n",
       "      <td>0.418722</td>\n",
       "      <td>0.222695</td>\n",
       "      <td>2.144616</td>\n",
       "      <td>-0.205828</td>\n",
       "      <td>0.360384</td>\n",
       "      <td>0.505832</td>\n",
       "      <td>-0.126706</td>\n",
       "      <td>0.336695</td>\n",
       "      <td>0.401337</td>\n",
       "      <td>0.262802</td>\n",
       "      <td>...</td>\n",
       "      <td>0</td>\n",
       "      <td>0</td>\n",
       "      <td>0</td>\n",
       "      <td>0</td>\n",
       "      <td>0</td>\n",
       "      <td>1</td>\n",
       "      <td>0</td>\n",
       "      <td>0</td>\n",
       "      <td>0.093247</td>\n",
       "      <td>0.105472</td>\n",
       "    </tr>\n",
       "    <tr>\n",
       "      <th>2</th>\n",
       "      <td>0.418722</td>\n",
       "      <td>0.222695</td>\n",
       "      <td>2.235519</td>\n",
       "      <td>-0.374268</td>\n",
       "      <td>0.145795</td>\n",
       "      <td>0.335874</td>\n",
       "      <td>0.750434</td>\n",
       "      <td>0.788020</td>\n",
       "      <td>2.433775</td>\n",
       "      <td>2.747254</td>\n",
       "      <td>...</td>\n",
       "      <td>0</td>\n",
       "      <td>0</td>\n",
       "      <td>0</td>\n",
       "      <td>0</td>\n",
       "      <td>0</td>\n",
       "      <td>0</td>\n",
       "      <td>1</td>\n",
       "      <td>0</td>\n",
       "      <td>0.093247</td>\n",
       "      <td>6.686198</td>\n",
       "    </tr>\n",
       "    <tr>\n",
       "      <th>3</th>\n",
       "      <td>0.418722</td>\n",
       "      <td>0.222695</td>\n",
       "      <td>2.319422</td>\n",
       "      <td>-0.344722</td>\n",
       "      <td>0.256552</td>\n",
       "      <td>0.365690</td>\n",
       "      <td>-0.230537</td>\n",
       "      <td>0.216101</td>\n",
       "      <td>0.401337</td>\n",
       "      <td>0.262802</td>\n",
       "      <td>...</td>\n",
       "      <td>0</td>\n",
       "      <td>0</td>\n",
       "      <td>0</td>\n",
       "      <td>0</td>\n",
       "      <td>0</td>\n",
       "      <td>1</td>\n",
       "      <td>0</td>\n",
       "      <td>0</td>\n",
       "      <td>0.093247</td>\n",
       "      <td>0.105472</td>\n",
       "    </tr>\n",
       "    <tr>\n",
       "      <th>4</th>\n",
       "      <td>0.418722</td>\n",
       "      <td>0.222695</td>\n",
       "      <td>1.936328</td>\n",
       "      <td>0.178492</td>\n",
       "      <td>0.090309</td>\n",
       "      <td>0.893611</td>\n",
       "      <td>0.750434</td>\n",
       "      <td>0.788020</td>\n",
       "      <td>0.848440</td>\n",
       "      <td>2.105427</td>\n",
       "      <td>...</td>\n",
       "      <td>0</td>\n",
       "      <td>0</td>\n",
       "      <td>0</td>\n",
       "      <td>0</td>\n",
       "      <td>0</td>\n",
       "      <td>0</td>\n",
       "      <td>1</td>\n",
       "      <td>0</td>\n",
       "      <td>0.093247</td>\n",
       "      <td>1.786328</td>\n",
       "    </tr>\n",
       "  </tbody>\n",
       "</table>\n",
       "<p>5 rows × 390 columns</p>\n",
       "</div>"
      ],
      "text/plain": [
       "    LTFRONT   LTDEPTH   STORIES   FULLVAL    AVLAND     AVTOT    EXLAND  \\\n",
       "0  0.418722  0.222695  0.679674  1.037423  1.328547  1.760273  0.750434   \n",
       "1  0.418722  0.222695  2.144616 -0.205828  0.360384  0.505832 -0.126706   \n",
       "2  0.418722  0.222695  2.235519 -0.374268  0.145795  0.335874  0.750434   \n",
       "3  0.418722  0.222695  2.319422 -0.344722  0.256552  0.365690 -0.230537   \n",
       "4  0.418722  0.222695  1.936328  0.178492  0.090309  0.893611  0.750434   \n",
       "\n",
       "      EXTOT  BLDFRONT  BLDDEPTH  ...  EXCD1_5112.0category  \\\n",
       "0  0.788020  0.401337  0.262802  ...                     0   \n",
       "1  0.336695  0.401337  0.262802  ...                     0   \n",
       "2  0.788020  2.433775  2.747254  ...                     0   \n",
       "3  0.216101  0.401337  0.262802  ...                     0   \n",
       "4  0.788020  0.848440  2.105427  ...                     0   \n",
       "\n",
       "   EXCD1_5113.0category  EXCD1_5114.0category  EXCD1_5118.0category  \\\n",
       "0                     0                     0                     0   \n",
       "1                     0                     0                     0   \n",
       "2                     0                     0                     0   \n",
       "3                     0                     0                     0   \n",
       "4                     0                     0                     0   \n",
       "\n",
       "   EXCD1_5130.0category  EXCD1_6800.0category  EXCD1_nancategory  EXCD1_other  \\\n",
       "0                     0                     0                  1            0   \n",
       "1                     0                     1                  0            0   \n",
       "2                     0                     0                  1            0   \n",
       "3                     0                     1                  0            0   \n",
       "4                     0                     0                  1            0   \n",
       "\n",
       "     LTAREA   BLDAREA  \n",
       "0  0.093247  0.105472  \n",
       "1  0.093247  0.105472  \n",
       "2  0.093247  6.686198  \n",
       "3  0.093247  0.105472  \n",
       "4  0.093247  1.786328  \n",
       "\n",
       "[5 rows x 390 columns]"
      ]
     },
     "execution_count": 39,
     "metadata": {},
     "output_type": "execute_result"
    }
   ],
   "source": [
    "df.head()"
   ]
  },
  {
   "cell_type": "markdown",
   "id": "b3102983",
   "metadata": {},
   "source": [
    "<h1>Klasyfikator</h1>"
   ]
  },
  {
   "cell_type": "code",
   "execution_count": 79,
   "id": "95f7252a",
   "metadata": {},
   "outputs": [],
   "source": [
    "from sklearn.ensemble import RandomForestClassifier\n",
    "from sklearn.model_selection import train_test_split\n",
    "from sklearn.metrics import confusion_matrix"
   ]
  },
  {
   "cell_type": "code",
   "execution_count": 66,
   "id": "f0066a72",
   "metadata": {},
   "outputs": [
    {
     "data": {
      "text/html": [
       "<div>\n",
       "<style scoped>\n",
       "    .dataframe tbody tr th:only-of-type {\n",
       "        vertical-align: middle;\n",
       "    }\n",
       "\n",
       "    .dataframe tbody tr th {\n",
       "        vertical-align: top;\n",
       "    }\n",
       "\n",
       "    .dataframe thead th {\n",
       "        text-align: right;\n",
       "    }\n",
       "</style>\n",
       "<table border=\"1\" class=\"dataframe\">\n",
       "  <thead>\n",
       "    <tr style=\"text-align: right;\">\n",
       "      <th></th>\n",
       "      <th>LTFRONT</th>\n",
       "      <th>LTDEPTH</th>\n",
       "      <th>STORIES</th>\n",
       "      <th>FULLVAL</th>\n",
       "      <th>AVLAND</th>\n",
       "      <th>AVTOT</th>\n",
       "      <th>EXLAND</th>\n",
       "      <th>EXTOT</th>\n",
       "      <th>BLDFRONT</th>\n",
       "      <th>BLDDEPTH</th>\n",
       "      <th>...</th>\n",
       "      <th>EXCD1_5112.0category</th>\n",
       "      <th>EXCD1_5113.0category</th>\n",
       "      <th>EXCD1_5114.0category</th>\n",
       "      <th>EXCD1_5118.0category</th>\n",
       "      <th>EXCD1_5130.0category</th>\n",
       "      <th>EXCD1_6800.0category</th>\n",
       "      <th>EXCD1_nancategory</th>\n",
       "      <th>EXCD1_other</th>\n",
       "      <th>LTAREA</th>\n",
       "      <th>BLDAREA</th>\n",
       "    </tr>\n",
       "  </thead>\n",
       "  <tbody>\n",
       "    <tr>\n",
       "      <th>0</th>\n",
       "      <td>0.418722</td>\n",
       "      <td>0.222695</td>\n",
       "      <td>0.679674</td>\n",
       "      <td>1.037423</td>\n",
       "      <td>1.328547</td>\n",
       "      <td>1.760273</td>\n",
       "      <td>0.750434</td>\n",
       "      <td>0.788020</td>\n",
       "      <td>0.401337</td>\n",
       "      <td>0.262802</td>\n",
       "      <td>...</td>\n",
       "      <td>0</td>\n",
       "      <td>0</td>\n",
       "      <td>0</td>\n",
       "      <td>0</td>\n",
       "      <td>0</td>\n",
       "      <td>0</td>\n",
       "      <td>1</td>\n",
       "      <td>0</td>\n",
       "      <td>0.093247</td>\n",
       "      <td>0.105472</td>\n",
       "    </tr>\n",
       "    <tr>\n",
       "      <th>1</th>\n",
       "      <td>0.418722</td>\n",
       "      <td>0.222695</td>\n",
       "      <td>2.144616</td>\n",
       "      <td>-0.205828</td>\n",
       "      <td>0.360384</td>\n",
       "      <td>0.505832</td>\n",
       "      <td>-0.126706</td>\n",
       "      <td>0.336695</td>\n",
       "      <td>0.401337</td>\n",
       "      <td>0.262802</td>\n",
       "      <td>...</td>\n",
       "      <td>0</td>\n",
       "      <td>0</td>\n",
       "      <td>0</td>\n",
       "      <td>0</td>\n",
       "      <td>0</td>\n",
       "      <td>1</td>\n",
       "      <td>0</td>\n",
       "      <td>0</td>\n",
       "      <td>0.093247</td>\n",
       "      <td>0.105472</td>\n",
       "    </tr>\n",
       "    <tr>\n",
       "      <th>2</th>\n",
       "      <td>0.418722</td>\n",
       "      <td>0.222695</td>\n",
       "      <td>2.235519</td>\n",
       "      <td>-0.374268</td>\n",
       "      <td>0.145795</td>\n",
       "      <td>0.335874</td>\n",
       "      <td>0.750434</td>\n",
       "      <td>0.788020</td>\n",
       "      <td>2.433775</td>\n",
       "      <td>2.747254</td>\n",
       "      <td>...</td>\n",
       "      <td>0</td>\n",
       "      <td>0</td>\n",
       "      <td>0</td>\n",
       "      <td>0</td>\n",
       "      <td>0</td>\n",
       "      <td>0</td>\n",
       "      <td>1</td>\n",
       "      <td>0</td>\n",
       "      <td>0.093247</td>\n",
       "      <td>6.686198</td>\n",
       "    </tr>\n",
       "    <tr>\n",
       "      <th>3</th>\n",
       "      <td>0.418722</td>\n",
       "      <td>0.222695</td>\n",
       "      <td>2.319422</td>\n",
       "      <td>-0.344722</td>\n",
       "      <td>0.256552</td>\n",
       "      <td>0.365690</td>\n",
       "      <td>-0.230537</td>\n",
       "      <td>0.216101</td>\n",
       "      <td>0.401337</td>\n",
       "      <td>0.262802</td>\n",
       "      <td>...</td>\n",
       "      <td>0</td>\n",
       "      <td>0</td>\n",
       "      <td>0</td>\n",
       "      <td>0</td>\n",
       "      <td>0</td>\n",
       "      <td>1</td>\n",
       "      <td>0</td>\n",
       "      <td>0</td>\n",
       "      <td>0.093247</td>\n",
       "      <td>0.105472</td>\n",
       "    </tr>\n",
       "    <tr>\n",
       "      <th>4</th>\n",
       "      <td>0.418722</td>\n",
       "      <td>0.222695</td>\n",
       "      <td>1.936328</td>\n",
       "      <td>0.178492</td>\n",
       "      <td>0.090309</td>\n",
       "      <td>0.893611</td>\n",
       "      <td>0.750434</td>\n",
       "      <td>0.788020</td>\n",
       "      <td>0.848440</td>\n",
       "      <td>2.105427</td>\n",
       "      <td>...</td>\n",
       "      <td>0</td>\n",
       "      <td>0</td>\n",
       "      <td>0</td>\n",
       "      <td>0</td>\n",
       "      <td>0</td>\n",
       "      <td>0</td>\n",
       "      <td>1</td>\n",
       "      <td>0</td>\n",
       "      <td>0.093247</td>\n",
       "      <td>1.786328</td>\n",
       "    </tr>\n",
       "  </tbody>\n",
       "</table>\n",
       "<p>5 rows × 390 columns</p>\n",
       "</div>"
      ],
      "text/plain": [
       "    LTFRONT   LTDEPTH   STORIES   FULLVAL    AVLAND     AVTOT    EXLAND  \\\n",
       "0  0.418722  0.222695  0.679674  1.037423  1.328547  1.760273  0.750434   \n",
       "1  0.418722  0.222695  2.144616 -0.205828  0.360384  0.505832 -0.126706   \n",
       "2  0.418722  0.222695  2.235519 -0.374268  0.145795  0.335874  0.750434   \n",
       "3  0.418722  0.222695  2.319422 -0.344722  0.256552  0.365690 -0.230537   \n",
       "4  0.418722  0.222695  1.936328  0.178492  0.090309  0.893611  0.750434   \n",
       "\n",
       "      EXTOT  BLDFRONT  BLDDEPTH  ...  EXCD1_5112.0category  \\\n",
       "0  0.788020  0.401337  0.262802  ...                     0   \n",
       "1  0.336695  0.401337  0.262802  ...                     0   \n",
       "2  0.788020  2.433775  2.747254  ...                     0   \n",
       "3  0.216101  0.401337  0.262802  ...                     0   \n",
       "4  0.788020  0.848440  2.105427  ...                     0   \n",
       "\n",
       "   EXCD1_5113.0category  EXCD1_5114.0category  EXCD1_5118.0category  \\\n",
       "0                     0                     0                     0   \n",
       "1                     0                     0                     0   \n",
       "2                     0                     0                     0   \n",
       "3                     0                     0                     0   \n",
       "4                     0                     0                     0   \n",
       "\n",
       "   EXCD1_5130.0category  EXCD1_6800.0category  EXCD1_nancategory  EXCD1_other  \\\n",
       "0                     0                     0                  1            0   \n",
       "1                     0                     1                  0            0   \n",
       "2                     0                     0                  1            0   \n",
       "3                     0                     1                  0            0   \n",
       "4                     0                     0                  1            0   \n",
       "\n",
       "     LTAREA   BLDAREA  \n",
       "0  0.093247  0.105472  \n",
       "1  0.093247  0.105472  \n",
       "2  0.093247  6.686198  \n",
       "3  0.093247  0.105472  \n",
       "4  0.093247  1.786328  \n",
       "\n",
       "[5 rows x 390 columns]"
      ]
     },
     "execution_count": 66,
     "metadata": {},
     "output_type": "execute_result"
    }
   ],
   "source": [
    "df = pd.read_csv('processed.csv')\n",
    "df.head()"
   ]
  },
  {
   "cell_type": "code",
   "execution_count": 67,
   "id": "8acb3641",
   "metadata": {},
   "outputs": [
    {
     "data": {
      "text/plain": [
       "<AxesSubplot:>"
      ]
     },
     "execution_count": 67,
     "metadata": {},
     "output_type": "execute_result"
    },
    {
     "data": {
      "image/png": "[encoded data removed]",
      "text/plain": [
       "<Figure size 432x288 with 1 Axes>"
      ]
     },
     "metadata": {
      "needs_background": "light"
     },
     "output_type": "display_data"
    }
   ],
   "source": [
    "df['FULLVAL'].hist(bins=20)"
   ]
  },
  {
   "cell_type": "code",
   "execution_count": 68,
   "id": "482523a9",
   "metadata": {},
   "outputs": [
    {
     "data": {
      "text/plain": [
       "90"
      ]
     },
     "execution_count": 68,
     "metadata": {},
     "output_type": "execute_result"
    }
   ],
   "source": [
    "(df['FULLVAL'] > 1.8).sum()"
   ]
  },
  {
   "cell_type": "code",
   "execution_count": 69,
   "id": "8fae37df",
   "metadata": {},
   "outputs": [
    {
     "data": {
      "text/plain": [
       "328"
      ]
     },
     "execution_count": 69,
     "metadata": {},
     "output_type": "execute_result"
    }
   ],
   "source": [
    "(df['FULLVAL'] < -1.8).sum()"
   ]
  },
  {
   "cell_type": "code",
   "execution_count": 70,
   "id": "9df3fcd3",
   "metadata": {},
   "outputs": [],
   "source": [
    "df['OUTLIER'] = '0'\n",
    "df.loc[df['FULLVAL'] > 1.8, 'OUTLIER'] = '1'\n",
    "df.loc[df['FULLVAL'] < -1.8, 'OUTLIER'] = '-1'"
   ]
  },
  {
   "cell_type": "code",
   "execution_count": 71,
   "id": "c9890ca7",
   "metadata": {},
   "outputs": [],
   "source": [
    "rf_classifier = RandomForestClassifier()"
   ]
  },
  {
   "cell_type": "code",
   "execution_count": 72,
   "id": "70c5ae04",
   "metadata": {},
   "outputs": [],
   "source": [
    "X = df.drop(columns=['FULLVAL', 'OUTLIER'])\n",
    "y = df['OUTLIER']"
   ]
  },
  {
   "cell_type": "code",
   "execution_count": 74,
   "id": "9446c7ce",
   "metadata": {},
   "outputs": [],
   "source": [
    "x_train, x_test, y_train, y_test = train_test_split(X, y, test_size=0.3)"
   ]
  },
  {
   "cell_type": "code",
   "execution_count": 75,
   "id": "b0f83597",
   "metadata": {},
   "outputs": [
    {
     "data": {
      "text/plain": [
       "RandomForestClassifier()"
      ]
     },
     "execution_count": 75,
     "metadata": {},
     "output_type": "execute_result"
    }
   ],
   "source": [
    "rf_classifier.fit(x_train, y_train)"
   ]
  },
  {
   "cell_type": "code",
   "execution_count": 78,
   "id": "918f5bfb",
   "metadata": {},
   "outputs": [],
   "source": [
    "preds = rf_classifier.predict(x_test)"
   ]
  },
  {
   "cell_type": "code",
   "execution_count": 80,
   "id": "9fe4ac47",
   "metadata": {},
   "outputs": [
    {
     "data": {
      "text/plain": [
       "array([[  86,   10,    0],\n",
       "       [   0, 3464,    0],\n",
       "       [   0,    3,   21]], dtype=int64)"
      ]
     },
     "execution_count": 80,
     "metadata": {},
     "output_type": "execute_result"
    }
   ],
   "source": [
    "confusion_matrix(y_test, preds)"
   ]
  },
  {
   "cell_type": "code",
   "execution_count": null,
   "id": "2d83ba89",
   "metadata": {},
   "outputs": [],
   "source": []
  }
 ],
 "metadata": {
  "kernelspec": {
   "display_name": "Python 3",
   "language": "python",
   "name": "python3"
  },
  "language_info": {
   "codemirror_mode": {
    "name": "ipython",
    "version": 3
   },
   "file_extension": ".py",
   "mimetype": "text/x-python",
   "name": "python",
   "nbconvert_exporter": "python",
   "pygments_lexer": "ipython3",
   "version": "3.8.8"
  }
 },
 "nbformat": 4,
 "nbformat_minor": 5
}
