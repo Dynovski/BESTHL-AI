{
 "cells": [
  {
   "cell_type": "code",
   "execution_count": 281,
   "id": "dbd71085",
   "metadata": {},
   "outputs": [],
   "source": [
    "import pandas as pd\n",
    "import matplotlib.pyplot as plt\n",
    "import numpy as np"
   ]
  },
  {
   "cell_type": "code",
   "execution_count": 282,
   "id": "709b399c",
   "metadata": {},
   "outputs": [
    {
     "data": {
      "text/plain": [
       "0.018918466432278586"
      ]
     },
     "execution_count": 282,
     "metadata": {},
     "output_type": "execute_result"
    }
   ],
   "source": [
    "(df['FULLVAL'] == 0).sum() / len(df)"
   ]
  },
  {
   "cell_type": "code",
   "execution_count": 283,
   "id": "71b5ae1f",
   "metadata": {},
   "outputs": [
    {
     "name": "stderr",
     "output_type": "stream",
     "text": [
      "b'Skipping line 5856: expected 40 fields, saw 70\\nSkipping line 7939: expected 40 fields, saw 49\\n'\n"
     ]
    },
    {
     "data": {
      "text/html": [
       "<div>\n",
       "<style scoped>\n",
       "    .dataframe tbody tr th:only-of-type {\n",
       "        vertical-align: middle;\n",
       "    }\n",
       "\n",
       "    .dataframe tbody tr th {\n",
       "        vertical-align: top;\n",
       "    }\n",
       "\n",
       "    .dataframe thead th {\n",
       "        text-align: right;\n",
       "    }\n",
       "</style>\n",
       "<table border=\"1\" class=\"dataframe\">\n",
       "  <thead>\n",
       "    <tr style=\"text-align: right;\">\n",
       "      <th></th>\n",
       "      <th>BBLE</th>\n",
       "      <th>BORO</th>\n",
       "      <th>BLOCK</th>\n",
       "      <th>LOT</th>\n",
       "      <th>EASEMENT</th>\n",
       "      <th>OWNER</th>\n",
       "      <th>BLDGCL</th>\n",
       "      <th>TAXCLASS</th>\n",
       "      <th>LTFRONT</th>\n",
       "      <th>LTDEPTH</th>\n",
       "      <th>...</th>\n",
       "      <th>VALTYPE</th>\n",
       "      <th>Borough</th>\n",
       "      <th>Latitude</th>\n",
       "      <th>Longitude</th>\n",
       "      <th>Community Board</th>\n",
       "      <th>Council District</th>\n",
       "      <th>Census Tract</th>\n",
       "      <th>BIN</th>\n",
       "      <th>NTA</th>\n",
       "      <th>New Georeferenced Column</th>\n",
       "    </tr>\n",
       "  </thead>\n",
       "  <tbody>\n",
       "    <tr>\n",
       "      <th>0</th>\n",
       "      <td>1001791101</td>\n",
       "      <td>1</td>\n",
       "      <td>179</td>\n",
       "      <td>1101</td>\n",
       "      <td>NaN</td>\n",
       "      <td>155 FRANKLIN ST LLC</td>\n",
       "      <td>RK</td>\n",
       "      <td>4</td>\n",
       "      <td>0</td>\n",
       "      <td>0</td>\n",
       "      <td>...</td>\n",
       "      <td>AC-TR</td>\n",
       "      <td>MANHATTAN</td>\n",
       "      <td>40.719232</td>\n",
       "      <td>-74.008095</td>\n",
       "      <td>101.0</td>\n",
       "      <td>1.0</td>\n",
       "      <td>33.0</td>\n",
       "      <td>1002013.0</td>\n",
       "      <td>SoHo-TriBeCa-Civic Center-Little Italy</td>\n",
       "      <td>POINT (-74.008095 40.719232)</td>\n",
       "    </tr>\n",
       "    <tr>\n",
       "      <th>1</th>\n",
       "      <td>1000163436</td>\n",
       "      <td>1</td>\n",
       "      <td>16</td>\n",
       "      <td>3436</td>\n",
       "      <td>NaN</td>\n",
       "      <td>BROADLAR LLC</td>\n",
       "      <td>R4</td>\n",
       "      <td>2</td>\n",
       "      <td>0</td>\n",
       "      <td>0</td>\n",
       "      <td>...</td>\n",
       "      <td>AC-TR</td>\n",
       "      <td>MANHATTAN</td>\n",
       "      <td>40.709270</td>\n",
       "      <td>-74.016487</td>\n",
       "      <td>101.0</td>\n",
       "      <td>1.0</td>\n",
       "      <td>31704.0</td>\n",
       "      <td>1000053.0</td>\n",
       "      <td>Battery Park City-Lower Manhattan</td>\n",
       "      <td>POINT (-74.016487 40.70927)</td>\n",
       "    </tr>\n",
       "    <tr>\n",
       "      <th>2</th>\n",
       "      <td>1000761255</td>\n",
       "      <td>1</td>\n",
       "      <td>76</td>\n",
       "      <td>1255</td>\n",
       "      <td>NaN</td>\n",
       "      <td>HAM, RICHARD</td>\n",
       "      <td>R4</td>\n",
       "      <td>2</td>\n",
       "      <td>0</td>\n",
       "      <td>0</td>\n",
       "      <td>...</td>\n",
       "      <td>AC-TR</td>\n",
       "      <td>MANHATTAN</td>\n",
       "      <td>40.708006</td>\n",
       "      <td>-74.006164</td>\n",
       "      <td>101.0</td>\n",
       "      <td>1.0</td>\n",
       "      <td>1502.0</td>\n",
       "      <td>1087867.0</td>\n",
       "      <td>Battery Park City-Lower Manhattan</td>\n",
       "      <td>POINT (-74.006164 40.708006)</td>\n",
       "    </tr>\n",
       "    <tr>\n",
       "      <th>3</th>\n",
       "      <td>1000161179</td>\n",
       "      <td>1</td>\n",
       "      <td>16</td>\n",
       "      <td>1179</td>\n",
       "      <td>NaN</td>\n",
       "      <td>SHIM, HAE JIN</td>\n",
       "      <td>R4</td>\n",
       "      <td>2</td>\n",
       "      <td>0</td>\n",
       "      <td>0</td>\n",
       "      <td>...</td>\n",
       "      <td>AC-TR</td>\n",
       "      <td>MANHATTAN</td>\n",
       "      <td>40.709506</td>\n",
       "      <td>-74.018002</td>\n",
       "      <td>101.0</td>\n",
       "      <td>1.0</td>\n",
       "      <td>31704.0</td>\n",
       "      <td>1000061.0</td>\n",
       "      <td>Battery Park City-Lower Manhattan</td>\n",
       "      <td>POINT (-74.018002 40.709506)</td>\n",
       "    </tr>\n",
       "    <tr>\n",
       "      <th>4</th>\n",
       "      <td>1001751526</td>\n",
       "      <td>1</td>\n",
       "      <td>175</td>\n",
       "      <td>1526</td>\n",
       "      <td>NaN</td>\n",
       "      <td>BRIT GIRL LLC</td>\n",
       "      <td>R4</td>\n",
       "      <td>2</td>\n",
       "      <td>0</td>\n",
       "      <td>0</td>\n",
       "      <td>...</td>\n",
       "      <td>AC-TR</td>\n",
       "      <td>MANHATTAN</td>\n",
       "      <td>40.718024</td>\n",
       "      <td>-74.003903</td>\n",
       "      <td>101.0</td>\n",
       "      <td>1.0</td>\n",
       "      <td>33.0</td>\n",
       "      <td>1001937.0</td>\n",
       "      <td>SoHo-TriBeCa-Civic Center-Little Italy</td>\n",
       "      <td>POINT (-74.003903 40.718024)</td>\n",
       "    </tr>\n",
       "  </tbody>\n",
       "</table>\n",
       "<p>5 rows × 40 columns</p>\n",
       "</div>"
      ],
      "text/plain": [
       "         BBLE  BORO  BLOCK   LOT EASEMENT                OWNER BLDGCL  \\\n",
       "0  1001791101     1    179  1101      NaN  155 FRANKLIN ST LLC     RK   \n",
       "1  1000163436     1     16  3436      NaN         BROADLAR LLC     R4   \n",
       "2  1000761255     1     76  1255      NaN         HAM, RICHARD     R4   \n",
       "3  1000161179     1     16  1179      NaN        SHIM, HAE JIN     R4   \n",
       "4  1001751526     1    175  1526      NaN        BRIT GIRL LLC     R4   \n",
       "\n",
       "  TAXCLASS  LTFRONT  LTDEPTH  ... VALTYPE    Borough   Latitude  Longitude  \\\n",
       "0        4        0        0  ...   AC-TR  MANHATTAN  40.719232 -74.008095   \n",
       "1        2        0        0  ...   AC-TR  MANHATTAN  40.709270 -74.016487   \n",
       "2        2        0        0  ...   AC-TR  MANHATTAN  40.708006 -74.006164   \n",
       "3        2        0        0  ...   AC-TR  MANHATTAN  40.709506 -74.018002   \n",
       "4        2        0        0  ...   AC-TR  MANHATTAN  40.718024 -74.003903   \n",
       "\n",
       "   Community Board  Council District  Census Tract        BIN  \\\n",
       "0            101.0               1.0          33.0  1002013.0   \n",
       "1            101.0               1.0       31704.0  1000053.0   \n",
       "2            101.0               1.0        1502.0  1087867.0   \n",
       "3            101.0               1.0       31704.0  1000061.0   \n",
       "4            101.0               1.0          33.0  1001937.0   \n",
       "\n",
       "                                      NTA      New Georeferenced Column  \n",
       "0  SoHo-TriBeCa-Civic Center-Little Italy  POINT (-74.008095 40.719232)  \n",
       "1       Battery Park City-Lower Manhattan   POINT (-74.016487 40.70927)  \n",
       "2       Battery Park City-Lower Manhattan  POINT (-74.006164 40.708006)  \n",
       "3       Battery Park City-Lower Manhattan  POINT (-74.018002 40.709506)  \n",
       "4  SoHo-TriBeCa-Civic Center-Little Italy  POINT (-74.003903 40.718024)  \n",
       "\n",
       "[5 rows x 40 columns]"
      ]
     },
     "execution_count": 283,
     "metadata": {},
     "output_type": "execute_result"
    }
   ],
   "source": [
    "df = pd.read_csv('train_data.csv', encoding='utf-8', error_bad_lines=False)\n",
    "df.head()"
   ]
  },
  {
   "cell_type": "code",
   "execution_count": 284,
   "id": "bb950f46",
   "metadata": {},
   "outputs": [
    {
     "data": {
      "text/plain": [
       "11946"
      ]
     },
     "execution_count": 284,
     "metadata": {},
     "output_type": "execute_result"
    }
   ],
   "source": [
    "length = len(df)\n",
    "length"
   ]
  },
  {
   "cell_type": "code",
   "execution_count": 285,
   "id": "1bd0a0eb",
   "metadata": {},
   "outputs": [
    {
     "name": "stdout",
     "output_type": "stream",
     "text": [
      "BBLE -> 1.0 (11946 uniques) [1, 1, 1, 1, 1] [1, 1, 1, 1, 1]\n"
     ]
    },
    {
     "data": {
      "image/png": "[encoded data removed]",
      "text/plain": [
       "<Figure size 432x288 with 1 Axes>"
      ]
     },
     "metadata": {
      "needs_background": "light"
     },
     "output_type": "display_data"
    },
    {
     "name": "stdout",
     "output_type": "stream",
     "text": [
      "OWNER -> 0.9238238741001172 (11036 uniques) [71, 53, 34, 29, 22] [1, 1, 1, 1, 1]\n"
     ]
    },
    {
     "data": {
      "image/png": "[encoded data removed]",
      "text/plain": [
       "<Figure size 432x288 with 1 Axes>"
      ]
     },
     "metadata": {
      "needs_background": "light"
     },
     "output_type": "display_data"
    },
    {
     "name": "stdout",
     "output_type": "stream",
     "text": [
      "STADDR -> 0.8150008371002846 (9736 uniques) [49, 46, 43, 41, 41] [1, 1, 1, 1, 1]\n"
     ]
    },
    {
     "data": {
      "image/png": "[encoded data removed]",
      "text/plain": [
       "<Figure size 432x288 with 1 Axes>"
      ]
     },
     "metadata": {
      "needs_background": "light"
     },
     "output_type": "display_data"
    },
    {
     "name": "stdout",
     "output_type": "stream",
     "text": [
      "New Georeferenced Column -> 0.7874602377364809 (9407 uniques) [49, 46, 43, 41, 41] [1, 1, 1, 1, 1]\n"
     ]
    },
    {
     "data": {
      "image/png": "[encoded data removed]",
      "text/plain": [
       "<Figure size 432x288 with 1 Axes>"
      ]
     },
     "metadata": {
      "needs_background": "light"
     },
     "output_type": "display_data"
    },
    {
     "name": "stdout",
     "output_type": "stream",
     "text": [
      "BIN -> 0.7701322618449691 (9200 uniques) [116, 49, 46, 43, 42] [1, 1, 1, 1, 1]\n"
     ]
    },
    {
     "data": {
      "image/png": "[encoded data removed]",
      "text/plain": [
       "<Figure size 432x288 with 1 Axes>"
      ]
     },
     "metadata": {
      "needs_background": "light"
     },
     "output_type": "display_data"
    },
    {
     "name": "stdout",
     "output_type": "stream",
     "text": [
      "Latitude -> 0.7621798091411351 (9105 uniques) [49, 46, 43, 41, 41] [1, 1, 1, 1, 1]\n"
     ]
    },
    {
     "data": {
      "image/png": "[encoded data removed]",
      "text/plain": [
       "<Figure size 432x288 with 1 Axes>"
      ]
     },
     "metadata": {
      "needs_background": "light"
     },
     "output_type": "display_data"
    },
    {
     "name": "stdout",
     "output_type": "stream",
     "text": [
      "Longitude -> 0.7533902561526871 (9000 uniques) [49, 46, 43, 41, 41] [1, 1, 1, 1, 1]\n"
     ]
    },
    {
     "data": {
      "image/png": "[encoded data removed]",
      "text/plain": [
       "<Figure size 432x288 with 1 Axes>"
      ]
     },
     "metadata": {
      "needs_background": "light"
     },
     "output_type": "display_data"
    },
    {
     "name": "stdout",
     "output_type": "stream",
     "text": [
      "AVLAND -> 0.6347731458228696 (7583 uniques) [226, 26, 25, 21, 19] [1, 1, 1, 1, 1]\n"
     ]
    },
    {
     "data": {
      "image/png": "[encoded data removed]",
      "text/plain": [
       "<Figure size 432x288 with 1 Axes>"
      ]
     },
     "metadata": {
      "needs_background": "light"
     },
     "output_type": "display_data"
    },
    {
     "name": "stdout",
     "output_type": "stream",
     "text": [
      "AVTOT -> 0.565796082370668 (6759 uniques) [226, 28, 27, 25, 24] [1, 1, 1, 1, 1]\n"
     ]
    },
    {
     "data": {
      "image/png": "[encoded data removed]",
      "text/plain": [
       "<Figure size 432x288 with 1 Axes>"
      ]
     },
     "metadata": {
      "needs_background": "light"
     },
     "output_type": "display_data"
    },
    {
     "name": "stdout",
     "output_type": "stream",
     "text": [
      "FULLVAL -> 0.39829231541938726 (4758 uniques) [226, 33, 29, 28, 26] [1, 1, 1, 1, 1]\n"
     ]
    },
    {
     "data": {
      "image/png": "[encoded data removed]",
      "text/plain": [
       "<Figure size 432x288 with 1 Axes>"
      ]
     },
     "metadata": {
      "needs_background": "light"
     },
     "output_type": "display_data"
    },
    {
     "name": "stdout",
     "output_type": "stream",
     "text": [
      "AVTOT2 -> 0.27473631341034654 (3282 uniques) [17, 15, 10, 9, 9] [1, 1, 1, 1, 1]\n"
     ]
    },
    {
     "data": {
      "image/png": "[encoded data removed]",
      "text/plain": [
       "<Figure size 432x288 with 1 Axes>"
      ]
     },
     "metadata": {
      "needs_background": "light"
     },
     "output_type": "display_data"
    },
    {
     "name": "stdout",
     "output_type": "stream",
     "text": [
      "AVLAND2 -> 0.22970031809810815 (2744 uniques) [17, 17, 16, 16, 14] [1, 1, 1, 1, 1]\n"
     ]
    },
    {
     "data": {
      "image/png": "[encoded data removed]",
      "text/plain": [
       "<Figure size 432x288 with 1 Axes>"
      ]
     },
     "metadata": {
      "needs_background": "light"
     },
     "output_type": "display_data"
    },
    {
     "name": "stdout",
     "output_type": "stream",
     "text": [
      "EXTOT -> 0.19387242591662482 (2316 uniques) [5953, 2365, 425, 261, 103] [1, 1, 1, 1, 1]\n"
     ]
    },
    {
     "data": {
      "image/png": "[encoded data removed]",
      "text/plain": [
       "<Figure size 432x288 with 1 Axes>"
      ]
     },
     "metadata": {
      "needs_background": "light"
     },
     "output_type": "display_data"
    },
    {
     "name": "stdout",
     "output_type": "stream",
     "text": [
      "BLOCK -> 0.16993135777666166 (2030 uniques) [403, 380, 91, 79, 72] [1, 1, 1, 1, 1]\n"
     ]
    },
    {
     "data": {
      "image/png": "[encoded data removed]",
      "text/plain": [
       "<Figure size 432x288 with 1 Axes>"
      ]
     },
     "metadata": {
      "needs_background": "light"
     },
     "output_type": "display_data"
    },
    {
     "name": "stdout",
     "output_type": "stream",
     "text": [
      "LOT -> 0.14557173949439142 (1739 uniques) [214, 121, 113, 112, 106] [1, 1, 1, 1, 1]\n"
     ]
    },
    {
     "data": {
      "image/png": "[encoded data removed]",
      "text/plain": [
       "<Figure size 432x288 with 1 Axes>"
      ]
     },
     "metadata": {
      "needs_background": "light"
     },
     "output_type": "display_data"
    },
    {
     "name": "stdout",
     "output_type": "stream",
     "text": [
      "EXLAND -> 0.1392934873597857 (1664 uniques) [6733, 2200, 449, 208, 107] [1, 1, 1, 1, 1]\n"
     ]
    },
    {
     "data": {
      "image/png": "[encoded data removed]",
      "text/plain": [
       "<Figure size 432x288 with 1 Axes>"
      ]
     },
     "metadata": {
      "needs_background": "light"
     },
     "output_type": "display_data"
    },
    {
     "name": "stdout",
     "output_type": "stream",
     "text": [
      "EXTOT2 -> 0.124644232379039 (1489 uniques) [79, 18, 15, 14, 12] [1, 1, 1, 1, 1]\n"
     ]
    },
    {
     "data": {
      "image/png": "[encoded data removed]",
      "text/plain": [
       "<Figure size 432x288 with 1 Axes>"
      ]
     },
     "metadata": {
      "needs_background": "light"
     },
     "output_type": "display_data"
    },
    {
     "name": "stdout",
     "output_type": "stream",
     "text": [
      "EXLAND2 -> 0.07575757575757576 (905 uniques) [88, 16, 15, 8, 5] [1, 1, 1, 1, 1]\n"
     ]
    },
    {
     "data": {
      "image/png": "[encoded data removed]",
      "text/plain": [
       "<Figure size 432x288 with 1 Axes>"
      ]
     },
     "metadata": {
      "needs_background": "light"
     },
     "output_type": "display_data"
    },
    {
     "name": "stdout",
     "output_type": "stream",
     "text": [
      "LTDEPTH -> 0.030219320274568893 (361 uniques) [3866, 2820, 250, 221, 212] [1, 1, 1, 1, 1]\n"
     ]
    },
    {
     "data": {
      "image/png": "[encoded data removed]",
      "text/plain": [
       "<Figure size 432x288 with 1 Axes>"
      ]
     },
     "metadata": {
      "needs_background": "light"
     },
     "output_type": "display_data"
    },
    {
     "name": "stdout",
     "output_type": "stream",
     "text": [
      "LTFRONT -> 0.028963669847647748 (346 uniques) [2425, 1049, 1030, 856, 353] [1, 1, 1, 1, 1]\n"
     ]
    },
    {
     "data": {
      "image/png": "[encoded data removed]",
      "text/plain": [
       "<Figure size 432x288 with 1 Axes>"
      ]
     },
     "metadata": {
      "needs_background": "light"
     },
     "output_type": "display_data"
    },
    {
     "name": "stdout",
     "output_type": "stream",
     "text": [
      "Census Tract -> 0.018667336346894357 (223 uniques) [585, 460, 429, 361, 358] [1, 1, 1, 1, 1]\n"
     ]
    },
    {
     "data": {
      "image/png": "[encoded data removed]",
      "text/plain": [
       "<Figure size 432x288 with 1 Axes>"
      ]
     },
     "metadata": {
      "needs_background": "light"
     },
     "output_type": "display_data"
    },
    {
     "name": "stdout",
     "output_type": "stream",
     "text": [
      "BLDFRONT -> 0.017997656119203082 (215 uniques) [3040, 1316, 764, 656, 619] [1, 1, 1, 1, 1]\n"
     ]
    },
    {
     "data": {
      "image/png": "[encoded data removed]",
      "text/plain": [
       "<Figure size 432x288 with 1 Axes>"
      ]
     },
     "metadata": {
      "needs_background": "light"
     },
     "output_type": "display_data"
    },
    {
     "name": "stdout",
     "output_type": "stream",
     "text": [
      "BLDDEPTH -> 0.01791394609074167 (214 uniques) [3031, 481, 427, 373, 370] [1, 1, 1, 1, 1]\n"
     ]
    },
    {
     "data": {
      "image/png": "[encoded data removed]",
      "text/plain": [
       "<Figure size 432x288 with 1 Axes>"
      ]
     },
     "metadata": {
      "needs_background": "light"
     },
     "output_type": "display_data"
    },
    {
     "name": "stdout",
     "output_type": "stream",
     "text": [
      "BLDGCL -> 0.0129750544115185 (155 uniques) [1877, 1290, 1162, 1031, 822] [1, 1, 1, 1, 1]\n"
     ]
    },
    {
     "data": {
      "image/png": "[encoded data removed]",
      "text/plain": [
       "<Figure size 432x288 with 1 Axes>"
      ]
     },
     "metadata": {
      "needs_background": "light"
     },
     "output_type": "display_data"
    },
    {
     "name": "stdout",
     "output_type": "stream",
     "text": [
      "EXCD1 -> 0.005943412020760087 (71 uniques) [3352, 485, 400, 221, 219] [1, 1, 1, 1, 1]\n"
     ]
    },
    {
     "data": {
      "image/png": "[encoded data removed]",
      "text/plain": [
       "<Figure size 432x288 with 1 Axes>"
      ]
     },
     "metadata": {
      "needs_background": "light"
     },
     "output_type": "display_data"
    },
    {
     "name": "stdout",
     "output_type": "stream",
     "text": [
      "STORIES -> 0.005357441821530219 (64 uniques) [4258, 1453, 1418, 442, 393] [1, 1, 1, 1, 1]\n"
     ]
    },
    {
     "data": {
      "image/png": "[encoded data removed]",
      "text/plain": [
       "<Figure size 432x288 with 1 Axes>"
      ]
     },
     "metadata": {
      "needs_background": "light"
     },
     "output_type": "display_data"
    },
    {
     "name": "stdout",
     "output_type": "stream",
     "text": [
      "POSTCODE -> 0.004436631508454713 (53 uniques) [3309, 697, 545, 440, 407] [1, 1, 1, 1, 1]\n"
     ]
    },
    {
     "data": {
      "image/png": "[encoded data removed]",
      "text/plain": [
       "<Figure size 432x288 with 1 Axes>"
      ]
     },
     "metadata": {
      "needs_background": "light"
     },
     "output_type": "display_data"
    },
    {
     "name": "stdout",
     "output_type": "stream",
     "text": [
      "NTA -> 0.0037669512807634357 (45 uniques) [1484, 1463, 979, 851, 708] [2, 1, 1, 1, 1]\n"
     ]
    },
    {
     "data": {
      "image/png": "[encoded data removed]",
      "text/plain": [
       "<Figure size 432x288 with 1 Axes>"
      ]
     },
     "metadata": {
      "needs_background": "light"
     },
     "output_type": "display_data"
    },
    {
     "name": "stdout",
     "output_type": "stream",
     "text": [
      "Community Board -> 0.0019253306546124225 (23 uniques) [2947, 1663, 869, 851, 826] [34, 7, 5, 1, 1]\n"
     ]
    },
    {
     "data": {
      "image/png": "[encoded data removed]",
      "text/plain": [
       "<Figure size 432x288 with 1 Axes>"
      ]
     },
     "metadata": {
      "needs_background": "light"
     },
     "output_type": "display_data"
    },
    {
     "name": "stdout",
     "output_type": "stream",
     "text": [
      "Council District -> 0.0017579105976896032 (21 uniques) [2146, 1765, 1123, 1020, 859] [85, 71, 20, 6, 4]\n"
     ]
    },
    {
     "data": {
      "image/png": "[encoded data removed]",
      "text/plain": [
       "<Figure size 432x288 with 1 Axes>"
      ]
     },
     "metadata": {
      "needs_background": "light"
     },
     "output_type": "display_data"
    },
    {
     "name": "stdout",
     "output_type": "stream",
     "text": [
      "EXCD2 -> 0.0009208103130755065 (11 uniques) [562, 96, 45, 35, 13] [5, 2, 1, 1, 1]\n"
     ]
    },
    {
     "data": {
      "image/png": "[encoded data removed]",
      "text/plain": [
       "<Figure size 432x288 with 1 Axes>"
      ]
     },
     "metadata": {
      "needs_background": "light"
     },
     "output_type": "display_data"
    },
    {
     "name": "stdout",
     "output_type": "stream",
     "text": [
      "TAXCLASS -> 0.0008371002846140967 (10 uniques) [5963, 2599, 1337, 1162, 259] [216, 198, 133, 73, 6]\n"
     ]
    },
    {
     "data": {
      "image/png": "[encoded data removed]",
      "text/plain": [
       "<Figure size 432x288 with 1 Axes>"
      ]
     },
     "metadata": {
      "needs_background": "light"
     },
     "output_type": "display_data"
    },
    {
     "name": "stdout",
     "output_type": "stream",
     "text": [
      "EXMPTCL -> 0.0007533902561526871 (9 uniques) [114, 57, 4, 4, 4] [4, 3, 3, 2, 1]\n"
     ]
    },
    {
     "data": {
      "image/png": "[encoded data removed]",
      "text/plain": [
       "<Figure size 432x288 with 1 Axes>"
      ]
     },
     "metadata": {
      "needs_background": "light"
     },
     "output_type": "display_data"
    },
    {
     "name": "stdout",
     "output_type": "stream",
     "text": [
      "EASEMENT -> 0.0005022601707684581 (6 uniques) [100, 15, 4, 4, 2] [15, 4, 4, 2, 1]\n"
     ]
    },
    {
     "data": {
      "image/png": "[encoded data removed]",
      "text/plain": [
       "<Figure size 432x288 with 1 Axes>"
      ]
     },
     "metadata": {
      "needs_background": "light"
     },
     "output_type": "display_data"
    },
    {
     "name": "stdout",
     "output_type": "stream",
     "text": [
      "Borough -> 0.00041855014230704837 (5 uniques) [3775, 2065, 2060, 1808, 1806] [3775, 2065, 2060, 1808, 1806]\n"
     ]
    },
    {
     "data": {
      "image/png": "[encoded data removed]",
      "text/plain": [
       "<Figure size 432x288 with 1 Axes>"
      ]
     },
     "metadata": {
      "needs_background": "light"
     },
     "output_type": "display_data"
    },
    {
     "name": "stdout",
     "output_type": "stream",
     "text": [
      "BORO -> 0.00041855014230704837 (5 uniques) [4004, 2111, 2082, 1912, 1837] [4004, 2111, 2082, 1912, 1837]\n"
     ]
    },
    {
     "data": {
      "image/png": "[encoded data removed]",
      "text/plain": [
       "<Figure size 432x288 with 1 Axes>"
      ]
     },
     "metadata": {
      "needs_background": "light"
     },
     "output_type": "display_data"
    },
    {
     "name": "stdout",
     "output_type": "stream",
     "text": [
      "EXT -> 0.00025113008538422905 (3 uniques) [2441, 344, 197] [2441, 344, 197]\n"
     ]
    },
    {
     "data": {
      "image/png": "[encoded data removed]",
      "text/plain": [
       "<Figure size 432x288 with 1 Axes>"
      ]
     },
     "metadata": {
      "needs_background": "light"
     },
     "output_type": "display_data"
    },
    {
     "name": "stdout",
     "output_type": "stream",
     "text": [
      "YEAR -> 0.00016742005692281934 (2 uniques) [6086, 5860] [6086, 5860]\n"
     ]
    },
    {
     "data": {
      "image/png": "[encoded data removed]",
      "text/plain": [
       "<Figure size 432x288 with 1 Axes>"
      ]
     },
     "metadata": {
      "needs_background": "light"
     },
     "output_type": "display_data"
    },
    {
     "name": "stdout",
     "output_type": "stream",
     "text": [
      "VALTYPE -> 8.371002846140967e-05 (1 uniques) [11946] [11946]\n"
     ]
    },
    {
     "data": {
      "image/png": "[encoded data removed]",
      "text/plain": [
       "<Figure size 432x288 with 1 Axes>"
      ]
     },
     "metadata": {
      "needs_background": "light"
     },
     "output_type": "display_data"
    },
    {
     "name": "stdout",
     "output_type": "stream",
     "text": [
      "PERIOD -> 8.371002846140967e-05 (1 uniques) [11946] [11946]\n"
     ]
    },
    {
     "data": {
      "image/png": "[encoded data removed]",
      "text/plain": [
       "<Figure size 432x288 with 1 Axes>"
      ]
     },
     "metadata": {
      "needs_background": "light"
     },
     "output_type": "display_data"
    }
   ],
   "source": [
    "l = [(column, df[column].nunique()) for column in df.columns]\n",
    "l = reversed(sorted(l, key=lambda x: x[1]))\n",
    "for x in l:\n",
    "    cnt = list(reversed(sorted(df.groupby(x[0])['BBLE'].nunique())))\n",
    "    print(x[0], '->', x[1] / length, f'({x[1]} uniques)', cnt[:5], cnt[-5:])\n",
    "    plt.hist(cnt, bins=100)\n",
    "    plt.show()"
   ]
  },
  {
   "cell_type": "code",
   "execution_count": 286,
   "id": "b6c2c934",
   "metadata": {},
   "outputs": [
    {
     "data": {
      "text/plain": [
       "dtype('O')"
      ]
     },
     "execution_count": 286,
     "metadata": {},
     "output_type": "execute_result"
    }
   ],
   "source": [
    "df['YEAR'].dtype"
   ]
  },
  {
   "cell_type": "code",
   "execution_count": 287,
   "id": "14c5efcd",
   "metadata": {},
   "outputs": [
    {
     "data": {
      "text/plain": [
       "0        NaN\n",
       "1        NaN\n",
       "2        NaN\n",
       "3        NaN\n",
       "4        NaN\n",
       "        ... \n",
       "11941    NaN\n",
       "11942    NaN\n",
       "11943    NaN\n",
       "11944    NaN\n",
       "11945      G\n",
       "Name: EXT, Length: 11946, dtype: object"
      ]
     },
     "execution_count": 287,
     "metadata": {},
     "output_type": "execute_result"
    }
   ],
   "source": [
    "df['EXT']"
   ]
  },
  {
   "cell_type": "code",
   "execution_count": 288,
   "id": "c43cae35",
   "metadata": {},
   "outputs": [],
   "source": [
    "owner_cnt = df.groupby('OWNER')['BBLE'].nunique()\n",
    "bin_cnt = df.groupby('BIN')['BBLE'].nunique()\n",
    "census_cnt = df.groupby('Census Tract')['BBLE'].nunique()\n",
    "bldgcl_cnt = df.groupby('BLDGCL')['BBLE'].nunique()\n",
    "excd1_cnt = df.groupby('EXCD1')['BBLE'].nunique()\n",
    "nta_cnt = df.groupby('NTA')['BBLE'].nunique()\n",
    "community_board_cnt = df.groupby('Community Board')['BBLE'].nunique()\n",
    "#excd2_cnt = df.groupby('EXCD2')['BBLE'].nunique()"
   ]
  },
  {
   "cell_type": "code",
   "execution_count": 289,
   "id": "8728710f",
   "metadata": {},
   "outputs": [
    {
     "data": {
      "text/plain": [
       "EXCD2\n",
       "1015.0     96\n",
       "1017.0    562\n",
       "1019.0     35\n",
       "1022.0      1\n",
       "1101.0      5\n",
       "1200.0      7\n",
       "1920.0     13\n",
       "1986.0      1\n",
       "5112.0     45\n",
       "5129.0      2\n",
       "5130.0      1\n",
       "Name: BBLE, dtype: int64"
      ]
     },
     "execution_count": 289,
     "metadata": {},
     "output_type": "execute_result"
    }
   ],
   "source": [
    "excd2_cnt"
   ]
  },
  {
   "cell_type": "code",
   "execution_count": 290,
   "id": "3cfebdf1",
   "metadata": {},
   "outputs": [
    {
     "data": {
      "text/plain": [
       "6"
      ]
     },
     "execution_count": 290,
     "metadata": {},
     "output_type": "execute_result"
    }
   ],
   "source": [
    "(excd2_cnt <= 10).sum()"
   ]
  },
  {
   "cell_type": "code",
   "execution_count": 291,
   "id": "d6fdca76",
   "metadata": {},
   "outputs": [
    {
     "data": {
      "text/plain": [
       "0          0\n",
       "1          0\n",
       "2        128\n",
       "3          0\n",
       "4         50\n",
       "        ... \n",
       "11941     21\n",
       "11942     20\n",
       "11943     25\n",
       "11944     31\n",
       "11945     26\n",
       "Name: BLDFRONT, Length: 11946, dtype: int64"
      ]
     },
     "execution_count": 291,
     "metadata": {},
     "output_type": "execute_result"
    }
   ],
   "source": [
    "df['BLDFRONT']"
   ]
  },
  {
   "cell_type": "code",
   "execution_count": 292,
   "id": "f2cdb7c6",
   "metadata": {},
   "outputs": [],
   "source": [
    "df['OWNER_RICHNESS'] = 'poor'\n",
    "df['BIN_POPULARNESS'] = 'not popular'\n",
    "df.loc[df['OWNER'].isin(owner_cnt[owner_cnt > 10].index), 'OWNER_RICHNESS'] = 'very rich'\n",
    "df.loc[df['OWNER'].isin(owner_cnt[(owner_cnt > 1) & (owner_cnt <= 10)].index), 'OWNER_RICHNESS'] = 'rich'\n",
    "df.loc[df['BIN'].isin(bin_cnt[bin_cnt > 10].index), 'BIN_POPULARNESS'] = 'very popular'\n",
    "df.loc[df['BIN'].isin(bin_cnt[(bin_cnt > 1) & (bin_cnt <= 10)].index), 'BIN_POPULARNESS'] = 'popular'\n",
    "df.loc[df['Census Tract'].isin(census_cnt[census_cnt <= 10].index), 'Census Tract'] = 'other category'\n",
    "df.loc[df['Census Tract'] != 'other', 'Census Tract'] = df.loc[df['Census Tract'] != 'other', 'Census Tract'].astype(str) + ' category'\n",
    "df.loc[df['BLDGCL'].isin(bldgcl_cnt[bldgcl_cnt <= 10].index), 'BLDGCL'] = 'OTHER_BUILDING_CLASS'\n",
    "df.loc[df['EXCD1'].isin(excd1_cnt[excd1_cnt <= 10].index), 'EXCD1'] = 'OTHER_EXEMPTION_CODE'\n",
    "df.loc[df['NTA'].isin(nta_cnt[nta_cnt <= 10].index), 'NTA'] = 'OTHER_NTA'\n",
    "df.loc[df['Community Board'].isin(community_board_cnt[community_board_cnt <= 10].index), 'Community Board'] = 'other'\n",
    "df.loc[df['Community Board'] != 'other', 'Community Board'] = df.loc[df['Community Board'] != 'other', 'Community Board'].astype(str) + ' category'\n",
    "df.loc[:, 'Council District'] = df.loc[:, 'Council District'].astype(str) + ' category'\n",
    "#df.loc[df['EXCD2'].isin(excd2_cnt[excd2_cnt <= 10].index), 'EXCD2'] = 'other'\n",
    "#df.loc[df['EXCD2'] != 'other', 'EXCD2'] = df.loc[df['EXCD2'] != 'other', 'EXCD2'].astype(str) + ' category'\n",
    "df['TAXCLASS'] = df['TAXCLASS'].astype(str)\n",
    "\n",
    "\n",
    "df.loc[df['EXTOT'] == 0, 'EXTOT'] = np.nan\n",
    "df.loc[df['EXLAND'] == 0, 'EXLAND'] = np.nan\n",
    "df.loc[df['LTDEPTH'] == 0, 'LTDEPTH'] = np.nan\n",
    "df.loc[df['LTFRONT'] == 0, 'LTFRONT'] = np.nan\n",
    "df.loc[df['BLDFRONT'] == 0, 'BLDFRONT'] = np.nan\n",
    "df.loc[df['BLDDEPTH'] == 0, 'BLDDEPTH'] = np.nan"
   ]
  },
  {
   "cell_type": "code",
   "execution_count": 293,
   "id": "a0c6aa94",
   "metadata": {},
   "outputs": [
    {
     "data": {
      "text/html": [
       "<div>\n",
       "<style scoped>\n",
       "    .dataframe tbody tr th:only-of-type {\n",
       "        vertical-align: middle;\n",
       "    }\n",
       "\n",
       "    .dataframe tbody tr th {\n",
       "        vertical-align: top;\n",
       "    }\n",
       "\n",
       "    .dataframe thead th {\n",
       "        text-align: right;\n",
       "    }\n",
       "</style>\n",
       "<table border=\"1\" class=\"dataframe\">\n",
       "  <thead>\n",
       "    <tr style=\"text-align: right;\">\n",
       "      <th></th>\n",
       "      <th>AVLAND</th>\n",
       "      <th>AVTOT</th>\n",
       "      <th>AVLAND2</th>\n",
       "      <th>AVTOT2</th>\n",
       "      <th>EXTOT</th>\n",
       "      <th>EXTOT2</th>\n",
       "      <th>EXLAND</th>\n",
       "      <th>EXLAND2</th>\n",
       "    </tr>\n",
       "  </thead>\n",
       "  <tbody>\n",
       "    <tr>\n",
       "      <th>0</th>\n",
       "      <td>118035</td>\n",
       "      <td>1558350</td>\n",
       "      <td>118035.0</td>\n",
       "      <td>1469160.0</td>\n",
       "      <td>NaN</td>\n",
       "      <td>NaN</td>\n",
       "      <td>NaN</td>\n",
       "      <td>NaN</td>\n",
       "    </tr>\n",
       "    <tr>\n",
       "      <th>1</th>\n",
       "      <td>17301</td>\n",
       "      <td>111503</td>\n",
       "      <td>17301.0</td>\n",
       "      <td>100640.0</td>\n",
       "      <td>111503.0</td>\n",
       "      <td>100640.0</td>\n",
       "      <td>17301.0</td>\n",
       "      <td>17301.0</td>\n",
       "    </tr>\n",
       "    <tr>\n",
       "      <th>2</th>\n",
       "      <td>11304</td>\n",
       "      <td>78002</td>\n",
       "      <td>11304.0</td>\n",
       "      <td>67154.0</td>\n",
       "      <td>NaN</td>\n",
       "      <td>NaN</td>\n",
       "      <td>NaN</td>\n",
       "      <td>NaN</td>\n",
       "    </tr>\n",
       "    <tr>\n",
       "      <th>3</th>\n",
       "      <td>14081</td>\n",
       "      <td>83048</td>\n",
       "      <td>14081.0</td>\n",
       "      <td>76467.0</td>\n",
       "      <td>83048.0</td>\n",
       "      <td>76467.0</td>\n",
       "      <td>14081.0</td>\n",
       "      <td>14081.0</td>\n",
       "    </tr>\n",
       "    <tr>\n",
       "      <th>4</th>\n",
       "      <td>10126</td>\n",
       "      <td>251972</td>\n",
       "      <td>10126.0</td>\n",
       "      <td>208110.0</td>\n",
       "      <td>NaN</td>\n",
       "      <td>NaN</td>\n",
       "      <td>NaN</td>\n",
       "      <td>NaN</td>\n",
       "    </tr>\n",
       "    <tr>\n",
       "      <th>...</th>\n",
       "      <td>...</td>\n",
       "      <td>...</td>\n",
       "      <td>...</td>\n",
       "      <td>...</td>\n",
       "      <td>...</td>\n",
       "      <td>...</td>\n",
       "      <td>...</td>\n",
       "      <td>...</td>\n",
       "    </tr>\n",
       "    <tr>\n",
       "      <th>11941</th>\n",
       "      <td>5413</td>\n",
       "      <td>21814</td>\n",
       "      <td>NaN</td>\n",
       "      <td>NaN</td>\n",
       "      <td>NaN</td>\n",
       "      <td>NaN</td>\n",
       "      <td>NaN</td>\n",
       "      <td>NaN</td>\n",
       "    </tr>\n",
       "    <tr>\n",
       "      <th>11942</th>\n",
       "      <td>1083</td>\n",
       "      <td>11851</td>\n",
       "      <td>NaN</td>\n",
       "      <td>NaN</td>\n",
       "      <td>1470.0</td>\n",
       "      <td>NaN</td>\n",
       "      <td>1083.0</td>\n",
       "      <td>NaN</td>\n",
       "    </tr>\n",
       "    <tr>\n",
       "      <th>11943</th>\n",
       "      <td>8443</td>\n",
       "      <td>16663</td>\n",
       "      <td>NaN</td>\n",
       "      <td>NaN</td>\n",
       "      <td>1470.0</td>\n",
       "      <td>NaN</td>\n",
       "      <td>1470.0</td>\n",
       "      <td>NaN</td>\n",
       "    </tr>\n",
       "    <tr>\n",
       "      <th>11944</th>\n",
       "      <td>9813</td>\n",
       "      <td>25164</td>\n",
       "      <td>NaN</td>\n",
       "      <td>NaN</td>\n",
       "      <td>1470.0</td>\n",
       "      <td>NaN</td>\n",
       "      <td>1470.0</td>\n",
       "      <td>NaN</td>\n",
       "    </tr>\n",
       "    <tr>\n",
       "      <th>11945</th>\n",
       "      <td>12960</td>\n",
       "      <td>33420</td>\n",
       "      <td>NaN</td>\n",
       "      <td>NaN</td>\n",
       "      <td>NaN</td>\n",
       "      <td>NaN</td>\n",
       "      <td>NaN</td>\n",
       "      <td>NaN</td>\n",
       "    </tr>\n",
       "  </tbody>\n",
       "</table>\n",
       "<p>11946 rows × 8 columns</p>\n",
       "</div>"
      ],
      "text/plain": [
       "       AVLAND    AVTOT   AVLAND2     AVTOT2     EXTOT    EXTOT2   EXLAND  \\\n",
       "0      118035  1558350  118035.0  1469160.0       NaN       NaN      NaN   \n",
       "1       17301   111503   17301.0   100640.0  111503.0  100640.0  17301.0   \n",
       "2       11304    78002   11304.0    67154.0       NaN       NaN      NaN   \n",
       "3       14081    83048   14081.0    76467.0   83048.0   76467.0  14081.0   \n",
       "4       10126   251972   10126.0   208110.0       NaN       NaN      NaN   \n",
       "...       ...      ...       ...        ...       ...       ...      ...   \n",
       "11941    5413    21814       NaN        NaN       NaN       NaN      NaN   \n",
       "11942    1083    11851       NaN        NaN    1470.0       NaN   1083.0   \n",
       "11943    8443    16663       NaN        NaN    1470.0       NaN   1470.0   \n",
       "11944    9813    25164       NaN        NaN    1470.0       NaN   1470.0   \n",
       "11945   12960    33420       NaN        NaN       NaN       NaN      NaN   \n",
       "\n",
       "       EXLAND2  \n",
       "0          NaN  \n",
       "1      17301.0  \n",
       "2          NaN  \n",
       "3      14081.0  \n",
       "4          NaN  \n",
       "...        ...  \n",
       "11941      NaN  \n",
       "11942      NaN  \n",
       "11943      NaN  \n",
       "11944      NaN  \n",
       "11945      NaN  \n",
       "\n",
       "[11946 rows x 8 columns]"
      ]
     },
     "execution_count": 293,
     "metadata": {},
     "output_type": "execute_result"
    }
   ],
   "source": [
    "df[['AVLAND', 'AVTOT', 'AVLAND2', 'AVTOT2', 'EXTOT', 'EXTOT2', 'EXLAND', 'EXLAND2']]"
   ]
  },
  {
   "cell_type": "code",
   "execution_count": 294,
   "id": "c60672d0",
   "metadata": {},
   "outputs": [
    {
     "data": {
      "text/plain": [
       "0           33.0 category\n",
       "1        31704.0 category\n",
       "2         1502.0 category\n",
       "3        31704.0 category\n",
       "4           33.0 category\n",
       "               ...       \n",
       "11941    30302.0 category\n",
       "11942    30302.0 category\n",
       "11943    30302.0 category\n",
       "11944    27302.0 category\n",
       "11945    27302.0 category\n",
       "Name: Census Tract, Length: 11946, dtype: object"
      ]
     },
     "execution_count": 294,
     "metadata": {},
     "output_type": "execute_result"
    }
   ],
   "source": [
    "df['Census Tract']"
   ]
  },
  {
   "cell_type": "code",
   "execution_count": 295,
   "id": "e62d9fee",
   "metadata": {},
   "outputs": [],
   "source": [
    "df = df.drop(columns='BBLE') # indices (every unique)\n",
    "df = df.drop(columns='VALTYPE') # only 1 unique values\n",
    "df = df.drop(columns='OWNER') # Owner replaced by OWNER_RICHNESS (could also get sth from owner name)\n",
    "df = df.drop(columns='STADDR') # Address not needed - we already use long. + lat.\n",
    "df = df.drop(columns='New Georeferenced Column') # Point not needed - we already use long. + lat.\n",
    "df = df.drop(columns='BIN') # BIN replaced by BIN_POPULARNESS, BIN probably not needed - we already use long. + lat.\n",
    "#AVLAND and AVTOT - wazne wartosci liczbowe\n",
    "#FULLVAL - y do przewidzenia\n",
    "#AVLAND2  and AVTOT2 - wazne wartosci liczbowe\n",
    "#EXTOT, EXTOT2, EXLAND and EXLAND2 - wazne wartosci liczbowe\n",
    "df = df.drop(columns='BLOCK') # BLOCK not needed - we already use long. + lat.\n",
    "df = df.drop(columns='LOT') # LOT number is used for taxes (either do some mapping to taxation or drop it)\n",
    "# LTDEPTH and LTFRONT - chyba to wielkości posesji\n",
    "# BLDFRONT, BLDDEPTH - wielkości budynku\n",
    "\n",
    "# STORIES - liczba pięter\n",
    "df = df.drop(columns='POSTCODE') # POSTCODE not needed - we already use long. + lat. \n",
    "# Community Board - kategoryczna zmienna \n",
    "# EXCD2 - exception code 2, kategoryczna zmienna\n",
    "df = df.drop(columns='EXCD2') # EXCD2 not needed - too many nans.\n",
    "df = df.drop(columns='EXMPTCL') # EXMPTCL not needed - too many nans.\n",
    "df = df.drop(columns='EASEMENT') # fajny opis ale tylko 120 non-nan wiec out.\n",
    "# Borough - dzielnica, kategoryczne\n",
    "df = df.drop(columns='BORO') # PRAWIE to samo co Borough.\n",
    "# EXT - Extension indicator, kategoryczne\n",
    "df = df.drop(columns='PERIOD') # Tylko jedno unique value."
   ]
  },
  {
   "cell_type": "code",
   "execution_count": 296,
   "id": "783178d0",
   "metadata": {},
   "outputs": [],
   "source": [
    "df.to_csv('cleaned.csv', index=0)"
   ]
  },
  {
   "cell_type": "code",
   "execution_count": 298,
   "id": "79424ced",
   "metadata": {},
   "outputs": [
    {
     "data": {
      "text/html": [
       "<div>\n",
       "<style scoped>\n",
       "    .dataframe tbody tr th:only-of-type {\n",
       "        vertical-align: middle;\n",
       "    }\n",
       "\n",
       "    .dataframe tbody tr th {\n",
       "        vertical-align: top;\n",
       "    }\n",
       "\n",
       "    .dataframe thead th {\n",
       "        text-align: right;\n",
       "    }\n",
       "</style>\n",
       "<table border=\"1\" class=\"dataframe\">\n",
       "  <thead>\n",
       "    <tr style=\"text-align: right;\">\n",
       "      <th></th>\n",
       "      <th>BLDGCL</th>\n",
       "      <th>TAXCLASS</th>\n",
       "      <th>LTFRONT</th>\n",
       "      <th>LTDEPTH</th>\n",
       "      <th>EXT</th>\n",
       "      <th>STORIES</th>\n",
       "      <th>FULLVAL</th>\n",
       "      <th>AVLAND</th>\n",
       "      <th>AVTOT</th>\n",
       "      <th>EXLAND</th>\n",
       "      <th>...</th>\n",
       "      <th>YEAR</th>\n",
       "      <th>Borough</th>\n",
       "      <th>Latitude</th>\n",
       "      <th>Longitude</th>\n",
       "      <th>Community Board</th>\n",
       "      <th>Council District</th>\n",
       "      <th>Census Tract</th>\n",
       "      <th>NTA</th>\n",
       "      <th>OWNER_RICHNESS</th>\n",
       "      <th>BIN_POPULARNESS</th>\n",
       "    </tr>\n",
       "  </thead>\n",
       "  <tbody>\n",
       "    <tr>\n",
       "      <th>0</th>\n",
       "      <td>RK</td>\n",
       "      <td>4</td>\n",
       "      <td>NaN</td>\n",
       "      <td>NaN</td>\n",
       "      <td>NaN</td>\n",
       "      <td>6.0</td>\n",
       "      <td>3463000</td>\n",
       "      <td>118035</td>\n",
       "      <td>1558350</td>\n",
       "      <td>NaN</td>\n",
       "      <td>...</td>\n",
       "      <td>2018/19</td>\n",
       "      <td>MANHATTAN</td>\n",
       "      <td>40.719232</td>\n",
       "      <td>-74.008095</td>\n",
       "      <td>101.0 category</td>\n",
       "      <td>1.0 category</td>\n",
       "      <td>33.0 category</td>\n",
       "      <td>SoHo-TriBeCa-Civic Center-Little Italy</td>\n",
       "      <td>poor</td>\n",
       "      <td>not popular</td>\n",
       "    </tr>\n",
       "    <tr>\n",
       "      <th>1</th>\n",
       "      <td>R4</td>\n",
       "      <td>2</td>\n",
       "      <td>NaN</td>\n",
       "      <td>NaN</td>\n",
       "      <td>NaN</td>\n",
       "      <td>23.0</td>\n",
       "      <td>247784</td>\n",
       "      <td>17301</td>\n",
       "      <td>111503</td>\n",
       "      <td>17301.0</td>\n",
       "      <td>...</td>\n",
       "      <td>2018/19</td>\n",
       "      <td>MANHATTAN</td>\n",
       "      <td>40.709270</td>\n",
       "      <td>-74.016487</td>\n",
       "      <td>101.0 category</td>\n",
       "      <td>1.0 category</td>\n",
       "      <td>31704.0 category</td>\n",
       "      <td>Battery Park City-Lower Manhattan</td>\n",
       "      <td>poor</td>\n",
       "      <td>very popular</td>\n",
       "    </tr>\n",
       "    <tr>\n",
       "      <th>2</th>\n",
       "      <td>R4</td>\n",
       "      <td>2</td>\n",
       "      <td>NaN</td>\n",
       "      <td>NaN</td>\n",
       "      <td>NaN</td>\n",
       "      <td>25.0</td>\n",
       "      <td>173338</td>\n",
       "      <td>11304</td>\n",
       "      <td>78002</td>\n",
       "      <td>NaN</td>\n",
       "      <td>...</td>\n",
       "      <td>2018/19</td>\n",
       "      <td>MANHATTAN</td>\n",
       "      <td>40.708006</td>\n",
       "      <td>-74.006164</td>\n",
       "      <td>101.0 category</td>\n",
       "      <td>1.0 category</td>\n",
       "      <td>1502.0 category</td>\n",
       "      <td>Battery Park City-Lower Manhattan</td>\n",
       "      <td>poor</td>\n",
       "      <td>very popular</td>\n",
       "    </tr>\n",
       "    <tr>\n",
       "      <th>3</th>\n",
       "      <td>R4</td>\n",
       "      <td>2</td>\n",
       "      <td>NaN</td>\n",
       "      <td>NaN</td>\n",
       "      <td>NaN</td>\n",
       "      <td>27.0</td>\n",
       "      <td>184550</td>\n",
       "      <td>14081</td>\n",
       "      <td>83048</td>\n",
       "      <td>14081.0</td>\n",
       "      <td>...</td>\n",
       "      <td>2018/19</td>\n",
       "      <td>MANHATTAN</td>\n",
       "      <td>40.709506</td>\n",
       "      <td>-74.018002</td>\n",
       "      <td>101.0 category</td>\n",
       "      <td>1.0 category</td>\n",
       "      <td>31704.0 category</td>\n",
       "      <td>Battery Park City-Lower Manhattan</td>\n",
       "      <td>poor</td>\n",
       "      <td>very popular</td>\n",
       "    </tr>\n",
       "    <tr>\n",
       "      <th>4</th>\n",
       "      <td>R4</td>\n",
       "      <td>2</td>\n",
       "      <td>NaN</td>\n",
       "      <td>NaN</td>\n",
       "      <td>NaN</td>\n",
       "      <td>19.0</td>\n",
       "      <td>559937</td>\n",
       "      <td>10126</td>\n",
       "      <td>251972</td>\n",
       "      <td>NaN</td>\n",
       "      <td>...</td>\n",
       "      <td>2018/19</td>\n",
       "      <td>MANHATTAN</td>\n",
       "      <td>40.718024</td>\n",
       "      <td>-74.003903</td>\n",
       "      <td>101.0 category</td>\n",
       "      <td>1.0 category</td>\n",
       "      <td>33.0 category</td>\n",
       "      <td>SoHo-TriBeCa-Civic Center-Little Italy</td>\n",
       "      <td>poor</td>\n",
       "      <td>popular</td>\n",
       "    </tr>\n",
       "  </tbody>\n",
       "</table>\n",
       "<p>5 rows × 28 columns</p>\n",
       "</div>"
      ],
      "text/plain": [
       "  BLDGCL TAXCLASS  LTFRONT  LTDEPTH  EXT  STORIES  FULLVAL  AVLAND    AVTOT  \\\n",
       "0     RK        4      NaN      NaN  NaN      6.0  3463000  118035  1558350   \n",
       "1     R4        2      NaN      NaN  NaN     23.0   247784   17301   111503   \n",
       "2     R4        2      NaN      NaN  NaN     25.0   173338   11304    78002   \n",
       "3     R4        2      NaN      NaN  NaN     27.0   184550   14081    83048   \n",
       "4     R4        2      NaN      NaN  NaN     19.0   559937   10126   251972   \n",
       "\n",
       "    EXLAND  ...     YEAR    Borough   Latitude  Longitude  Community Board  \\\n",
       "0      NaN  ...  2018/19  MANHATTAN  40.719232 -74.008095   101.0 category   \n",
       "1  17301.0  ...  2018/19  MANHATTAN  40.709270 -74.016487   101.0 category   \n",
       "2      NaN  ...  2018/19  MANHATTAN  40.708006 -74.006164   101.0 category   \n",
       "3  14081.0  ...  2018/19  MANHATTAN  40.709506 -74.018002   101.0 category   \n",
       "4      NaN  ...  2018/19  MANHATTAN  40.718024 -74.003903   101.0 category   \n",
       "\n",
       "   Council District      Census Tract                                     NTA  \\\n",
       "0      1.0 category     33.0 category  SoHo-TriBeCa-Civic Center-Little Italy   \n",
       "1      1.0 category  31704.0 category       Battery Park City-Lower Manhattan   \n",
       "2      1.0 category   1502.0 category       Battery Park City-Lower Manhattan   \n",
       "3      1.0 category  31704.0 category       Battery Park City-Lower Manhattan   \n",
       "4      1.0 category     33.0 category  SoHo-TriBeCa-Civic Center-Little Italy   \n",
       "\n",
       "  OWNER_RICHNESS BIN_POPULARNESS  \n",
       "0           poor     not popular  \n",
       "1           poor    very popular  \n",
       "2           poor    very popular  \n",
       "3           poor    very popular  \n",
       "4           poor         popular  \n",
       "\n",
       "[5 rows x 28 columns]"
      ]
     },
     "execution_count": 298,
     "metadata": {},
     "output_type": "execute_result"
    }
   ],
   "source": [
    "df = pd.read_csv('cleaned.csv')\n",
    "df.head()"
   ]
  },
  {
   "cell_type": "code",
   "execution_count": 301,
   "id": "cb8d06f9",
   "metadata": {},
   "outputs": [
    {
     "ename": "ValueError",
     "evalue": "Must specify a fill 'value' or 'method'.",
     "output_type": "error",
     "traceback": [
      "\u001b[1;31m---------------------------------------------------------------------------\u001b[0m",
      "\u001b[1;31mValueError\u001b[0m                                Traceback (most recent call last)",
      "\u001b[1;32m<ipython-input-301-b8750ff139a8>\u001b[0m in \u001b[0;36m<module>\u001b[1;34m\u001b[0m\n\u001b[0;32m     11\u001b[0m         \u001b[1;32melse\u001b[0m\u001b[1;33m:\u001b[0m\u001b[1;33m\u001b[0m\u001b[1;33m\u001b[0m\u001b[0m\n\u001b[0;32m     12\u001b[0m             \u001b[0mm\u001b[0m \u001b[1;33m=\u001b[0m \u001b[1;34m'nan_val'\u001b[0m\u001b[1;33m\u001b[0m\u001b[1;33m\u001b[0m\u001b[0m\n\u001b[1;32m---> 13\u001b[1;33m         \u001b[0mdf\u001b[0m\u001b[1;33m[\u001b[0m\u001b[0mcolumn\u001b[0m\u001b[1;33m]\u001b[0m \u001b[1;33m=\u001b[0m \u001b[0mdf\u001b[0m\u001b[1;33m[\u001b[0m\u001b[0mcolumn\u001b[0m\u001b[1;33m]\u001b[0m\u001b[1;33m.\u001b[0m\u001b[0mfillna\u001b[0m\u001b[1;33m(\u001b[0m\u001b[1;33m)\u001b[0m\u001b[1;33m\u001b[0m\u001b[1;33m\u001b[0m\u001b[0m\n\u001b[0m",
      "\u001b[1;32m~\\anaconda3\\lib\\site-packages\\pandas\\core\\series.py\u001b[0m in \u001b[0;36mfillna\u001b[1;34m(self, value, method, axis, inplace, limit, downcast)\u001b[0m\n\u001b[0;32m   4461\u001b[0m         \u001b[0mdowncast\u001b[0m\u001b[1;33m=\u001b[0m\u001b[1;32mNone\u001b[0m\u001b[1;33m,\u001b[0m\u001b[1;33m\u001b[0m\u001b[1;33m\u001b[0m\u001b[0m\n\u001b[0;32m   4462\u001b[0m     ) -> Optional[\"Series\"]:\n\u001b[1;32m-> 4463\u001b[1;33m         return super().fillna(\n\u001b[0m\u001b[0;32m   4464\u001b[0m             \u001b[0mvalue\u001b[0m\u001b[1;33m=\u001b[0m\u001b[0mvalue\u001b[0m\u001b[1;33m,\u001b[0m\u001b[1;33m\u001b[0m\u001b[1;33m\u001b[0m\u001b[0m\n\u001b[0;32m   4465\u001b[0m             \u001b[0mmethod\u001b[0m\u001b[1;33m=\u001b[0m\u001b[0mmethod\u001b[0m\u001b[1;33m,\u001b[0m\u001b[1;33m\u001b[0m\u001b[1;33m\u001b[0m\u001b[0m\n",
      "\u001b[1;32m~\\anaconda3\\lib\\site-packages\\pandas\\core\\generic.py\u001b[0m in \u001b[0;36mfillna\u001b[1;34m(self, value, method, axis, inplace, limit, downcast)\u001b[0m\n\u001b[0;32m   6360\u001b[0m         \"\"\"\n\u001b[0;32m   6361\u001b[0m         \u001b[0minplace\u001b[0m \u001b[1;33m=\u001b[0m \u001b[0mvalidate_bool_kwarg\u001b[0m\u001b[1;33m(\u001b[0m\u001b[0minplace\u001b[0m\u001b[1;33m,\u001b[0m \u001b[1;34m\"inplace\"\u001b[0m\u001b[1;33m)\u001b[0m\u001b[1;33m\u001b[0m\u001b[1;33m\u001b[0m\u001b[0m\n\u001b[1;32m-> 6362\u001b[1;33m         \u001b[0mvalue\u001b[0m\u001b[1;33m,\u001b[0m \u001b[0mmethod\u001b[0m \u001b[1;33m=\u001b[0m \u001b[0mvalidate_fillna_kwargs\u001b[0m\u001b[1;33m(\u001b[0m\u001b[0mvalue\u001b[0m\u001b[1;33m,\u001b[0m \u001b[0mmethod\u001b[0m\u001b[1;33m)\u001b[0m\u001b[1;33m\u001b[0m\u001b[1;33m\u001b[0m\u001b[0m\n\u001b[0m\u001b[0;32m   6363\u001b[0m \u001b[1;33m\u001b[0m\u001b[0m\n\u001b[0;32m   6364\u001b[0m         \u001b[0mself\u001b[0m\u001b[1;33m.\u001b[0m\u001b[0m_consolidate_inplace\u001b[0m\u001b[1;33m(\u001b[0m\u001b[1;33m)\u001b[0m\u001b[1;33m\u001b[0m\u001b[1;33m\u001b[0m\u001b[0m\n",
      "\u001b[1;32m~\\anaconda3\\lib\\site-packages\\pandas\\util\\_validators.py\u001b[0m in \u001b[0;36mvalidate_fillna_kwargs\u001b[1;34m(value, method, validate_scalar_dict_value)\u001b[0m\n\u001b[0;32m    363\u001b[0m \u001b[1;33m\u001b[0m\u001b[0m\n\u001b[0;32m    364\u001b[0m     \u001b[1;32mif\u001b[0m \u001b[0mvalue\u001b[0m \u001b[1;32mis\u001b[0m \u001b[1;32mNone\u001b[0m \u001b[1;32mand\u001b[0m \u001b[0mmethod\u001b[0m \u001b[1;32mis\u001b[0m \u001b[1;32mNone\u001b[0m\u001b[1;33m:\u001b[0m\u001b[1;33m\u001b[0m\u001b[1;33m\u001b[0m\u001b[0m\n\u001b[1;32m--> 365\u001b[1;33m         \u001b[1;32mraise\u001b[0m \u001b[0mValueError\u001b[0m\u001b[1;33m(\u001b[0m\u001b[1;34m\"Must specify a fill 'value' or 'method'.\"\u001b[0m\u001b[1;33m)\u001b[0m\u001b[1;33m\u001b[0m\u001b[1;33m\u001b[0m\u001b[0m\n\u001b[0m\u001b[0;32m    366\u001b[0m     \u001b[1;32melif\u001b[0m \u001b[0mvalue\u001b[0m \u001b[1;32mis\u001b[0m \u001b[1;32mNone\u001b[0m \u001b[1;32mand\u001b[0m \u001b[0mmethod\u001b[0m \u001b[1;32mis\u001b[0m \u001b[1;32mnot\u001b[0m \u001b[1;32mNone\u001b[0m\u001b[1;33m:\u001b[0m\u001b[1;33m\u001b[0m\u001b[1;33m\u001b[0m\u001b[0m\n\u001b[0;32m    367\u001b[0m         \u001b[0mmethod\u001b[0m \u001b[1;33m=\u001b[0m \u001b[0mclean_fill_method\u001b[0m\u001b[1;33m(\u001b[0m\u001b[0mmethod\u001b[0m\u001b[1;33m)\u001b[0m\u001b[1;33m\u001b[0m\u001b[1;33m\u001b[0m\u001b[0m\n",
      "\u001b[1;31mValueError\u001b[0m: Must specify a fill 'value' or 'method'."
     ]
    }
   ],
   "source": [
    "numerical_columns = df.select_dtypes(include=[np.number]).columns\n",
    "for column in df.columns:\n",
    "    mask = pd.isna(df[column])\n",
    "    s = mask.sum()\n",
    "    if s > 0:\n",
    "        if column in numerical_columns:\n",
    "            m = df[column].mean()\n",
    "            if s > 10:\n",
    "                df[str(column) + '_WAS_NAN'] = 0\n",
    "                df.loc[mask, str(column) + '_WAS_NAN'] = 1\n",
    "        else:\n",
    "            m = 'nan_val'\n",
    "        df[column] = df[column].fillna()"
   ]
  },
  {
   "cell_type": "code",
   "execution_count": 273,
   "id": "56688b49",
   "metadata": {},
   "outputs": [
    {
     "data": {
      "text/html": [
       "<div>\n",
       "<style scoped>\n",
       "    .dataframe tbody tr th:only-of-type {\n",
       "        vertical-align: middle;\n",
       "    }\n",
       "\n",
       "    .dataframe tbody tr th {\n",
       "        vertical-align: top;\n",
       "    }\n",
       "\n",
       "    .dataframe thead th {\n",
       "        text-align: right;\n",
       "    }\n",
       "</style>\n",
       "<table border=\"1\" class=\"dataframe\">\n",
       "  <thead>\n",
       "    <tr style=\"text-align: right;\">\n",
       "      <th></th>\n",
       "      <th>BLDGCL</th>\n",
       "      <th>TAXCLASS</th>\n",
       "      <th>LTFRONT</th>\n",
       "      <th>LTDEPTH</th>\n",
       "      <th>EXT</th>\n",
       "      <th>STORIES</th>\n",
       "      <th>FULLVAL</th>\n",
       "      <th>AVLAND</th>\n",
       "      <th>AVTOT</th>\n",
       "      <th>EXLAND</th>\n",
       "      <th>...</th>\n",
       "      <th>YEAR</th>\n",
       "      <th>Borough</th>\n",
       "      <th>Latitude</th>\n",
       "      <th>Longitude</th>\n",
       "      <th>Community Board</th>\n",
       "      <th>Council District</th>\n",
       "      <th>Census Tract</th>\n",
       "      <th>NTA</th>\n",
       "      <th>OWNER_RICHNESS</th>\n",
       "      <th>BIN_POPULARNESS</th>\n",
       "    </tr>\n",
       "  </thead>\n",
       "  <tbody>\n",
       "    <tr>\n",
       "      <th>0</th>\n",
       "      <td>RK</td>\n",
       "      <td>4</td>\n",
       "      <td>NaN</td>\n",
       "      <td>NaN</td>\n",
       "      <td>NaN</td>\n",
       "      <td>6.0</td>\n",
       "      <td>3463000</td>\n",
       "      <td>118035</td>\n",
       "      <td>1558350</td>\n",
       "      <td>NaN</td>\n",
       "      <td>...</td>\n",
       "      <td>2018/19</td>\n",
       "      <td>MANHATTAN</td>\n",
       "      <td>40.719232</td>\n",
       "      <td>-74.008095</td>\n",
       "      <td>101.0 category</td>\n",
       "      <td>1.0 category</td>\n",
       "      <td>33.0 category</td>\n",
       "      <td>SoHo-TriBeCa-Civic Center-Little Italy</td>\n",
       "      <td>poor</td>\n",
       "      <td>not popular</td>\n",
       "    </tr>\n",
       "    <tr>\n",
       "      <th>1</th>\n",
       "      <td>R4</td>\n",
       "      <td>2</td>\n",
       "      <td>NaN</td>\n",
       "      <td>NaN</td>\n",
       "      <td>NaN</td>\n",
       "      <td>23.0</td>\n",
       "      <td>247784</td>\n",
       "      <td>17301</td>\n",
       "      <td>111503</td>\n",
       "      <td>17301.0</td>\n",
       "      <td>...</td>\n",
       "      <td>2018/19</td>\n",
       "      <td>MANHATTAN</td>\n",
       "      <td>40.709270</td>\n",
       "      <td>-74.016487</td>\n",
       "      <td>101.0 category</td>\n",
       "      <td>1.0 category</td>\n",
       "      <td>31704.0 category</td>\n",
       "      <td>Battery Park City-Lower Manhattan</td>\n",
       "      <td>poor</td>\n",
       "      <td>very popular</td>\n",
       "    </tr>\n",
       "    <tr>\n",
       "      <th>2</th>\n",
       "      <td>R4</td>\n",
       "      <td>2</td>\n",
       "      <td>NaN</td>\n",
       "      <td>NaN</td>\n",
       "      <td>NaN</td>\n",
       "      <td>25.0</td>\n",
       "      <td>173338</td>\n",
       "      <td>11304</td>\n",
       "      <td>78002</td>\n",
       "      <td>NaN</td>\n",
       "      <td>...</td>\n",
       "      <td>2018/19</td>\n",
       "      <td>MANHATTAN</td>\n",
       "      <td>40.708006</td>\n",
       "      <td>-74.006164</td>\n",
       "      <td>101.0 category</td>\n",
       "      <td>1.0 category</td>\n",
       "      <td>1502.0 category</td>\n",
       "      <td>Battery Park City-Lower Manhattan</td>\n",
       "      <td>poor</td>\n",
       "      <td>very popular</td>\n",
       "    </tr>\n",
       "    <tr>\n",
       "      <th>3</th>\n",
       "      <td>R4</td>\n",
       "      <td>2</td>\n",
       "      <td>NaN</td>\n",
       "      <td>NaN</td>\n",
       "      <td>NaN</td>\n",
       "      <td>27.0</td>\n",
       "      <td>184550</td>\n",
       "      <td>14081</td>\n",
       "      <td>83048</td>\n",
       "      <td>14081.0</td>\n",
       "      <td>...</td>\n",
       "      <td>2018/19</td>\n",
       "      <td>MANHATTAN</td>\n",
       "      <td>40.709506</td>\n",
       "      <td>-74.018002</td>\n",
       "      <td>101.0 category</td>\n",
       "      <td>1.0 category</td>\n",
       "      <td>31704.0 category</td>\n",
       "      <td>Battery Park City-Lower Manhattan</td>\n",
       "      <td>poor</td>\n",
       "      <td>very popular</td>\n",
       "    </tr>\n",
       "    <tr>\n",
       "      <th>4</th>\n",
       "      <td>R4</td>\n",
       "      <td>2</td>\n",
       "      <td>NaN</td>\n",
       "      <td>NaN</td>\n",
       "      <td>NaN</td>\n",
       "      <td>19.0</td>\n",
       "      <td>559937</td>\n",
       "      <td>10126</td>\n",
       "      <td>251972</td>\n",
       "      <td>NaN</td>\n",
       "      <td>...</td>\n",
       "      <td>2018/19</td>\n",
       "      <td>MANHATTAN</td>\n",
       "      <td>40.718024</td>\n",
       "      <td>-74.003903</td>\n",
       "      <td>101.0 category</td>\n",
       "      <td>1.0 category</td>\n",
       "      <td>33.0 category</td>\n",
       "      <td>SoHo-TriBeCa-Civic Center-Little Italy</td>\n",
       "      <td>poor</td>\n",
       "      <td>popular</td>\n",
       "    </tr>\n",
       "  </tbody>\n",
       "</table>\n",
       "<p>5 rows × 28 columns</p>\n",
       "</div>"
      ],
      "text/plain": [
       "  BLDGCL TAXCLASS  LTFRONT  LTDEPTH  EXT  STORIES  FULLVAL  AVLAND    AVTOT  \\\n",
       "0     RK        4      NaN      NaN  NaN      6.0  3463000  118035  1558350   \n",
       "1     R4        2      NaN      NaN  NaN     23.0   247784   17301   111503   \n",
       "2     R4        2      NaN      NaN  NaN     25.0   173338   11304    78002   \n",
       "3     R4        2      NaN      NaN  NaN     27.0   184550   14081    83048   \n",
       "4     R4        2      NaN      NaN  NaN     19.0   559937   10126   251972   \n",
       "\n",
       "    EXLAND  ...     YEAR    Borough   Latitude  Longitude  Community Board  \\\n",
       "0      NaN  ...  2018/19  MANHATTAN  40.719232 -74.008095   101.0 category   \n",
       "1  17301.0  ...  2018/19  MANHATTAN  40.709270 -74.016487   101.0 category   \n",
       "2      NaN  ...  2018/19  MANHATTAN  40.708006 -74.006164   101.0 category   \n",
       "3  14081.0  ...  2018/19  MANHATTAN  40.709506 -74.018002   101.0 category   \n",
       "4      NaN  ...  2018/19  MANHATTAN  40.718024 -74.003903   101.0 category   \n",
       "\n",
       "   Council District      Census Tract                                     NTA  \\\n",
       "0      1.0 category     33.0 category  SoHo-TriBeCa-Civic Center-Little Italy   \n",
       "1      1.0 category  31704.0 category       Battery Park City-Lower Manhattan   \n",
       "2      1.0 category   1502.0 category       Battery Park City-Lower Manhattan   \n",
       "3      1.0 category  31704.0 category       Battery Park City-Lower Manhattan   \n",
       "4      1.0 category     33.0 category  SoHo-TriBeCa-Civic Center-Little Italy   \n",
       "\n",
       "  OWNER_RICHNESS BIN_POPULARNESS  \n",
       "0           poor     not popular  \n",
       "1           poor    very popular  \n",
       "2           poor    very popular  \n",
       "3           poor    very popular  \n",
       "4           poor         popular  \n",
       "\n",
       "[5 rows x 28 columns]"
      ]
     },
     "execution_count": 273,
     "metadata": {},
     "output_type": "execute_result"
    }
   ],
   "source": [
    "df.head()"
   ]
  },
  {
   "cell_type": "code",
   "execution_count": 274,
   "id": "aa46c20a",
   "metadata": {},
   "outputs": [
    {
     "data": {
      "text/html": [
       "<div>\n",
       "<style scoped>\n",
       "    .dataframe tbody tr th:only-of-type {\n",
       "        vertical-align: middle;\n",
       "    }\n",
       "\n",
       "    .dataframe tbody tr th {\n",
       "        vertical-align: top;\n",
       "    }\n",
       "\n",
       "    .dataframe thead th {\n",
       "        text-align: right;\n",
       "    }\n",
       "</style>\n",
       "<table border=\"1\" class=\"dataframe\">\n",
       "  <thead>\n",
       "    <tr style=\"text-align: right;\">\n",
       "      <th></th>\n",
       "      <th>LTFRONT</th>\n",
       "      <th>LTDEPTH</th>\n",
       "      <th>STORIES</th>\n",
       "      <th>FULLVAL</th>\n",
       "      <th>AVLAND</th>\n",
       "      <th>AVTOT</th>\n",
       "      <th>EXLAND</th>\n",
       "      <th>EXTOT</th>\n",
       "      <th>BLDFRONT</th>\n",
       "      <th>BLDDEPTH</th>\n",
       "      <th>AVLAND2</th>\n",
       "      <th>AVTOT2</th>\n",
       "      <th>EXLAND2</th>\n",
       "      <th>EXTOT2</th>\n",
       "      <th>Latitude</th>\n",
       "      <th>Longitude</th>\n",
       "    </tr>\n",
       "  </thead>\n",
       "  <tbody>\n",
       "    <tr>\n",
       "      <th>count</th>\n",
       "      <td>9521.000000</td>\n",
       "      <td>9126.000000</td>\n",
       "      <td>11235.000000</td>\n",
       "      <td>1.194600e+04</td>\n",
       "      <td>1.194600e+04</td>\n",
       "      <td>1.194600e+04</td>\n",
       "      <td>5.213000e+03</td>\n",
       "      <td>5.993000e+03</td>\n",
       "      <td>8906.000000</td>\n",
       "      <td>8915.000000</td>\n",
       "      <td>3.765000e+03</td>\n",
       "      <td>3.765000e+03</td>\n",
       "      <td>1.155000e+03</td>\n",
       "      <td>1.784000e+03</td>\n",
       "      <td>11512.000000</td>\n",
       "      <td>11512.000000</td>\n",
       "    </tr>\n",
       "    <tr>\n",
       "      <th>mean</th>\n",
       "      <td>45.837097</td>\n",
       "      <td>106.553583</td>\n",
       "      <td>5.727913</td>\n",
       "      <td>1.335496e+06</td>\n",
       "      <td>9.346050e+04</td>\n",
       "      <td>4.107890e+05</td>\n",
       "      <td>9.854041e+04</td>\n",
       "      <td>3.358686e+05</td>\n",
       "      <td>38.356277</td>\n",
       "      <td>58.194728</td>\n",
       "      <td>2.631379e+05</td>\n",
       "      <td>1.090140e+06</td>\n",
       "      <td>4.179602e+05</td>\n",
       "      <td>1.008948e+06</td>\n",
       "      <td>40.693080</td>\n",
       "      <td>-73.996417</td>\n",
       "    </tr>\n",
       "    <tr>\n",
       "      <th>std</th>\n",
       "      <td>76.448523</td>\n",
       "      <td>95.871245</td>\n",
       "      <td>9.522701</td>\n",
       "      <td>9.803228e+06</td>\n",
       "      <td>1.339795e+06</td>\n",
       "      <td>4.408330e+06</td>\n",
       "      <td>1.708036e+06</td>\n",
       "      <td>3.700015e+06</td>\n",
       "      <td>45.742841</td>\n",
       "      <td>44.431636</td>\n",
       "      <td>2.340660e+06</td>\n",
       "      <td>6.962595e+06</td>\n",
       "      <td>3.584349e+06</td>\n",
       "      <td>6.233739e+06</td>\n",
       "      <td>0.085124</td>\n",
       "      <td>0.139458</td>\n",
       "    </tr>\n",
       "    <tr>\n",
       "      <th>min</th>\n",
       "      <td>1.000000</td>\n",
       "      <td>1.000000</td>\n",
       "      <td>1.000000</td>\n",
       "      <td>0.000000e+00</td>\n",
       "      <td>0.000000e+00</td>\n",
       "      <td>0.000000e+00</td>\n",
       "      <td>1.000000e+01</td>\n",
       "      <td>1.000000e+01</td>\n",
       "      <td>8.000000</td>\n",
       "      <td>10.000000</td>\n",
       "      <td>2.000000e+00</td>\n",
       "      <td>7.500000e+01</td>\n",
       "      <td>2.100000e+01</td>\n",
       "      <td>7.500000e+01</td>\n",
       "      <td>40.572265</td>\n",
       "      <td>-74.201789</td>\n",
       "    </tr>\n",
       "    <tr>\n",
       "      <th>25%</th>\n",
       "      <td>20.000000</td>\n",
       "      <td>93.000000</td>\n",
       "      <td>2.000000</td>\n",
       "      <td>3.070000e+05</td>\n",
       "      <td>4.777250e+03</td>\n",
       "      <td>2.066400e+04</td>\n",
       "      <td>1.470000e+03</td>\n",
       "      <td>1.470000e+03</td>\n",
       "      <td>18.000000</td>\n",
       "      <td>37.000000</td>\n",
       "      <td>1.001400e+04</td>\n",
       "      <td>6.935900e+04</td>\n",
       "      <td>3.888000e+03</td>\n",
       "      <td>2.647100e+04</td>\n",
       "      <td>40.614751</td>\n",
       "      <td>-74.151872</td>\n",
       "    </tr>\n",
       "    <tr>\n",
       "      <th>50%</th>\n",
       "      <td>25.000000</td>\n",
       "      <td>100.000000</td>\n",
       "      <td>2.000000</td>\n",
       "      <td>4.980000e+05</td>\n",
       "      <td>9.650000e+03</td>\n",
       "      <td>3.085000e+04</td>\n",
       "      <td>1.470000e+03</td>\n",
       "      <td>2.450000e+03</td>\n",
       "      <td>22.000000</td>\n",
       "      <td>46.000000</td>\n",
       "      <td>2.520000e+04</td>\n",
       "      <td>1.484500e+05</td>\n",
       "      <td>1.820300e+04</td>\n",
       "      <td>7.931600e+04</td>\n",
       "      <td>40.690018</td>\n",
       "      <td>-74.004330</td>\n",
       "    </tr>\n",
       "    <tr>\n",
       "      <th>75%</th>\n",
       "      <td>42.000000</td>\n",
       "      <td>101.000000</td>\n",
       "      <td>4.500000</td>\n",
       "      <td>7.140000e+05</td>\n",
       "      <td>1.694925e+04</td>\n",
       "      <td>9.672600e+04</td>\n",
       "      <td>5.859000e+03</td>\n",
       "      <td>2.731000e+04</td>\n",
       "      <td>29.000000</td>\n",
       "      <td>57.000000</td>\n",
       "      <td>6.674400e+04</td>\n",
       "      <td>4.081490e+05</td>\n",
       "      <td>4.915200e+04</td>\n",
       "      <td>2.106495e+05</td>\n",
       "      <td>40.738557</td>\n",
       "      <td>-73.908092</td>\n",
       "    </tr>\n",
       "    <tr>\n",
       "      <th>max</th>\n",
       "      <td>2458.000000</td>\n",
       "      <td>2800.000000</td>\n",
       "      <td>70.000000</td>\n",
       "      <td>4.620010e+08</td>\n",
       "      <td>1.044454e+08</td>\n",
       "      <td>2.079004e+08</td>\n",
       "      <td>1.044454e+08</td>\n",
       "      <td>1.660424e+08</td>\n",
       "      <td>650.000000</td>\n",
       "      <td>974.000000</td>\n",
       "      <td>1.044454e+08</td>\n",
       "      <td>1.762926e+08</td>\n",
       "      <td>1.044454e+08</td>\n",
       "      <td>1.575328e+08</td>\n",
       "      <td>40.912536</td>\n",
       "      <td>-73.700779</td>\n",
       "    </tr>\n",
       "  </tbody>\n",
       "</table>\n",
       "</div>"
      ],
      "text/plain": [
       "           LTFRONT      LTDEPTH       STORIES       FULLVAL        AVLAND  \\\n",
       "count  9521.000000  9126.000000  11235.000000  1.194600e+04  1.194600e+04   \n",
       "mean     45.837097   106.553583      5.727913  1.335496e+06  9.346050e+04   \n",
       "std      76.448523    95.871245      9.522701  9.803228e+06  1.339795e+06   \n",
       "min       1.000000     1.000000      1.000000  0.000000e+00  0.000000e+00   \n",
       "25%      20.000000    93.000000      2.000000  3.070000e+05  4.777250e+03   \n",
       "50%      25.000000   100.000000      2.000000  4.980000e+05  9.650000e+03   \n",
       "75%      42.000000   101.000000      4.500000  7.140000e+05  1.694925e+04   \n",
       "max    2458.000000  2800.000000     70.000000  4.620010e+08  1.044454e+08   \n",
       "\n",
       "              AVTOT        EXLAND         EXTOT     BLDFRONT     BLDDEPTH  \\\n",
       "count  1.194600e+04  5.213000e+03  5.993000e+03  8906.000000  8915.000000   \n",
       "mean   4.107890e+05  9.854041e+04  3.358686e+05    38.356277    58.194728   \n",
       "std    4.408330e+06  1.708036e+06  3.700015e+06    45.742841    44.431636   \n",
       "min    0.000000e+00  1.000000e+01  1.000000e+01     8.000000    10.000000   \n",
       "25%    2.066400e+04  1.470000e+03  1.470000e+03    18.000000    37.000000   \n",
       "50%    3.085000e+04  1.470000e+03  2.450000e+03    22.000000    46.000000   \n",
       "75%    9.672600e+04  5.859000e+03  2.731000e+04    29.000000    57.000000   \n",
       "max    2.079004e+08  1.044454e+08  1.660424e+08   650.000000   974.000000   \n",
       "\n",
       "            AVLAND2        AVTOT2       EXLAND2        EXTOT2      Latitude  \\\n",
       "count  3.765000e+03  3.765000e+03  1.155000e+03  1.784000e+03  11512.000000   \n",
       "mean   2.631379e+05  1.090140e+06  4.179602e+05  1.008948e+06     40.693080   \n",
       "std    2.340660e+06  6.962595e+06  3.584349e+06  6.233739e+06      0.085124   \n",
       "min    2.000000e+00  7.500000e+01  2.100000e+01  7.500000e+01     40.572265   \n",
       "25%    1.001400e+04  6.935900e+04  3.888000e+03  2.647100e+04     40.614751   \n",
       "50%    2.520000e+04  1.484500e+05  1.820300e+04  7.931600e+04     40.690018   \n",
       "75%    6.674400e+04  4.081490e+05  4.915200e+04  2.106495e+05     40.738557   \n",
       "max    1.044454e+08  1.762926e+08  1.044454e+08  1.575328e+08     40.912536   \n",
       "\n",
       "          Longitude  \n",
       "count  11512.000000  \n",
       "mean     -73.996417  \n",
       "std        0.139458  \n",
       "min      -74.201789  \n",
       "25%      -74.151872  \n",
       "50%      -74.004330  \n",
       "75%      -73.908092  \n",
       "max      -73.700779  "
      ]
     },
     "execution_count": 274,
     "metadata": {},
     "output_type": "execute_result"
    }
   ],
   "source": [
    "df.describe()"
   ]
  },
  {
   "cell_type": "code",
   "execution_count": null,
   "id": "fd9b58d5",
   "metadata": {},
   "outputs": [],
   "source": []
  }
 ],
 "metadata": {
  "kernelspec": {
   "display_name": "Python 3",
   "language": "python",
   "name": "python3"
  },
  "language_info": {
   "codemirror_mode": {
    "name": "ipython",
    "version": 3
   },
   "file_extension": ".py",
   "mimetype": "text/x-python",
   "name": "python",
   "nbconvert_exporter": "python",
   "pygments_lexer": "ipython3",
   "version": "3.8.8"
  }
 },
 "nbformat": 4,
 "nbformat_minor": 5
}
