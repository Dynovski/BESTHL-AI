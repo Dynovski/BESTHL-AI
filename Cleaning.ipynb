{
 "cells": [
  {
   "cell_type": "code",
   "execution_count": 30,
   "id": "5ba77830",
   "metadata": {},
   "outputs": [],
   "source": [
    "import pandas as pd\n",
    "import matplotlib.pyplot as plt\n",
    "import numpy as np\n",
    "from sklearn.preprocessing import StandardScaler"
   ]
  },
  {
   "cell_type": "code",
   "execution_count": 31,
   "id": "8f0ff12c",
   "metadata": {},
   "outputs": [
    {
     "name": "stderr",
     "output_type": "stream",
     "text": [
      "b'Skipping line 5856: expected 40 fields, saw 70\\nSkipping line 7939: expected 40 fields, saw 49\\n'\n"
     ]
    },
    {
     "data": {
      "text/html": [
       "<div>\n",
       "<style scoped>\n",
       "    .dataframe tbody tr th:only-of-type {\n",
       "        vertical-align: middle;\n",
       "    }\n",
       "\n",
       "    .dataframe tbody tr th {\n",
       "        vertical-align: top;\n",
       "    }\n",
       "\n",
       "    .dataframe thead th {\n",
       "        text-align: right;\n",
       "    }\n",
       "</style>\n",
       "<table border=\"1\" class=\"dataframe\">\n",
       "  <thead>\n",
       "    <tr style=\"text-align: right;\">\n",
       "      <th></th>\n",
       "      <th>BBLE</th>\n",
       "      <th>BORO</th>\n",
       "      <th>BLOCK</th>\n",
       "      <th>LOT</th>\n",
       "      <th>EASEMENT</th>\n",
       "      <th>OWNER</th>\n",
       "      <th>BLDGCL</th>\n",
       "      <th>TAXCLASS</th>\n",
       "      <th>LTFRONT</th>\n",
       "      <th>LTDEPTH</th>\n",
       "      <th>...</th>\n",
       "      <th>VALTYPE</th>\n",
       "      <th>Borough</th>\n",
       "      <th>Latitude</th>\n",
       "      <th>Longitude</th>\n",
       "      <th>Community Board</th>\n",
       "      <th>Council District</th>\n",
       "      <th>Census Tract</th>\n",
       "      <th>BIN</th>\n",
       "      <th>NTA</th>\n",
       "      <th>New Georeferenced Column</th>\n",
       "    </tr>\n",
       "  </thead>\n",
       "  <tbody>\n",
       "    <tr>\n",
       "      <th>0</th>\n",
       "      <td>1001791101</td>\n",
       "      <td>1</td>\n",
       "      <td>179</td>\n",
       "      <td>1101</td>\n",
       "      <td>NaN</td>\n",
       "      <td>155 FRANKLIN ST LLC</td>\n",
       "      <td>RK</td>\n",
       "      <td>4</td>\n",
       "      <td>0</td>\n",
       "      <td>0</td>\n",
       "      <td>...</td>\n",
       "      <td>AC-TR</td>\n",
       "      <td>MANHATTAN</td>\n",
       "      <td>40.719232</td>\n",
       "      <td>-74.008095</td>\n",
       "      <td>101.0</td>\n",
       "      <td>1.0</td>\n",
       "      <td>33.0</td>\n",
       "      <td>1002013.0</td>\n",
       "      <td>SoHo-TriBeCa-Civic Center-Little Italy</td>\n",
       "      <td>POINT (-74.008095 40.719232)</td>\n",
       "    </tr>\n",
       "    <tr>\n",
       "      <th>1</th>\n",
       "      <td>1000163436</td>\n",
       "      <td>1</td>\n",
       "      <td>16</td>\n",
       "      <td>3436</td>\n",
       "      <td>NaN</td>\n",
       "      <td>BROADLAR LLC</td>\n",
       "      <td>R4</td>\n",
       "      <td>2</td>\n",
       "      <td>0</td>\n",
       "      <td>0</td>\n",
       "      <td>...</td>\n",
       "      <td>AC-TR</td>\n",
       "      <td>MANHATTAN</td>\n",
       "      <td>40.709270</td>\n",
       "      <td>-74.016487</td>\n",
       "      <td>101.0</td>\n",
       "      <td>1.0</td>\n",
       "      <td>31704.0</td>\n",
       "      <td>1000053.0</td>\n",
       "      <td>Battery Park City-Lower Manhattan</td>\n",
       "      <td>POINT (-74.016487 40.70927)</td>\n",
       "    </tr>\n",
       "    <tr>\n",
       "      <th>2</th>\n",
       "      <td>1000761255</td>\n",
       "      <td>1</td>\n",
       "      <td>76</td>\n",
       "      <td>1255</td>\n",
       "      <td>NaN</td>\n",
       "      <td>HAM, RICHARD</td>\n",
       "      <td>R4</td>\n",
       "      <td>2</td>\n",
       "      <td>0</td>\n",
       "      <td>0</td>\n",
       "      <td>...</td>\n",
       "      <td>AC-TR</td>\n",
       "      <td>MANHATTAN</td>\n",
       "      <td>40.708006</td>\n",
       "      <td>-74.006164</td>\n",
       "      <td>101.0</td>\n",
       "      <td>1.0</td>\n",
       "      <td>1502.0</td>\n",
       "      <td>1087867.0</td>\n",
       "      <td>Battery Park City-Lower Manhattan</td>\n",
       "      <td>POINT (-74.006164 40.708006)</td>\n",
       "    </tr>\n",
       "    <tr>\n",
       "      <th>3</th>\n",
       "      <td>1000161179</td>\n",
       "      <td>1</td>\n",
       "      <td>16</td>\n",
       "      <td>1179</td>\n",
       "      <td>NaN</td>\n",
       "      <td>SHIM, HAE JIN</td>\n",
       "      <td>R4</td>\n",
       "      <td>2</td>\n",
       "      <td>0</td>\n",
       "      <td>0</td>\n",
       "      <td>...</td>\n",
       "      <td>AC-TR</td>\n",
       "      <td>MANHATTAN</td>\n",
       "      <td>40.709506</td>\n",
       "      <td>-74.018002</td>\n",
       "      <td>101.0</td>\n",
       "      <td>1.0</td>\n",
       "      <td>31704.0</td>\n",
       "      <td>1000061.0</td>\n",
       "      <td>Battery Park City-Lower Manhattan</td>\n",
       "      <td>POINT (-74.018002 40.709506)</td>\n",
       "    </tr>\n",
       "    <tr>\n",
       "      <th>4</th>\n",
       "      <td>1001751526</td>\n",
       "      <td>1</td>\n",
       "      <td>175</td>\n",
       "      <td>1526</td>\n",
       "      <td>NaN</td>\n",
       "      <td>BRIT GIRL LLC</td>\n",
       "      <td>R4</td>\n",
       "      <td>2</td>\n",
       "      <td>0</td>\n",
       "      <td>0</td>\n",
       "      <td>...</td>\n",
       "      <td>AC-TR</td>\n",
       "      <td>MANHATTAN</td>\n",
       "      <td>40.718024</td>\n",
       "      <td>-74.003903</td>\n",
       "      <td>101.0</td>\n",
       "      <td>1.0</td>\n",
       "      <td>33.0</td>\n",
       "      <td>1001937.0</td>\n",
       "      <td>SoHo-TriBeCa-Civic Center-Little Italy</td>\n",
       "      <td>POINT (-74.003903 40.718024)</td>\n",
       "    </tr>\n",
       "  </tbody>\n",
       "</table>\n",
       "<p>5 rows × 40 columns</p>\n",
       "</div>"
      ],
      "text/plain": [
       "         BBLE  BORO  BLOCK   LOT EASEMENT                OWNER BLDGCL  \\\n",
       "0  1001791101     1    179  1101      NaN  155 FRANKLIN ST LLC     RK   \n",
       "1  1000163436     1     16  3436      NaN         BROADLAR LLC     R4   \n",
       "2  1000761255     1     76  1255      NaN         HAM, RICHARD     R4   \n",
       "3  1000161179     1     16  1179      NaN        SHIM, HAE JIN     R4   \n",
       "4  1001751526     1    175  1526      NaN        BRIT GIRL LLC     R4   \n",
       "\n",
       "  TAXCLASS  LTFRONT  LTDEPTH  ... VALTYPE    Borough   Latitude  Longitude  \\\n",
       "0        4        0        0  ...   AC-TR  MANHATTAN  40.719232 -74.008095   \n",
       "1        2        0        0  ...   AC-TR  MANHATTAN  40.709270 -74.016487   \n",
       "2        2        0        0  ...   AC-TR  MANHATTAN  40.708006 -74.006164   \n",
       "3        2        0        0  ...   AC-TR  MANHATTAN  40.709506 -74.018002   \n",
       "4        2        0        0  ...   AC-TR  MANHATTAN  40.718024 -74.003903   \n",
       "\n",
       "   Community Board  Council District  Census Tract        BIN  \\\n",
       "0            101.0               1.0          33.0  1002013.0   \n",
       "1            101.0               1.0       31704.0  1000053.0   \n",
       "2            101.0               1.0        1502.0  1087867.0   \n",
       "3            101.0               1.0       31704.0  1000061.0   \n",
       "4            101.0               1.0          33.0  1001937.0   \n",
       "\n",
       "                                      NTA      New Georeferenced Column  \n",
       "0  SoHo-TriBeCa-Civic Center-Little Italy  POINT (-74.008095 40.719232)  \n",
       "1       Battery Park City-Lower Manhattan   POINT (-74.016487 40.70927)  \n",
       "2       Battery Park City-Lower Manhattan  POINT (-74.006164 40.708006)  \n",
       "3       Battery Park City-Lower Manhattan  POINT (-74.018002 40.709506)  \n",
       "4  SoHo-TriBeCa-Civic Center-Little Italy  POINT (-74.003903 40.718024)  \n",
       "\n",
       "[5 rows x 40 columns]"
      ]
     },
     "execution_count": 31,
     "metadata": {},
     "output_type": "execute_result"
    }
   ],
   "source": [
    "df = pd.read_csv('train_data.csv', encoding='utf-8', error_bad_lines=False)\n",
    "df.head()"
   ]
  },
  {
   "cell_type": "code",
   "execution_count": 32,
   "id": "c58189c2",
   "metadata": {},
   "outputs": [
    {
     "data": {
      "text/plain": [
       "11946"
      ]
     },
     "execution_count": 32,
     "metadata": {},
     "output_type": "execute_result"
    }
   ],
   "source": [
    "length = len(df)\n",
    "length"
   ]
  },
  {
   "cell_type": "code",
   "execution_count": null,
   "id": "a0bd46b1",
   "metadata": {},
   "outputs": [
    {
     "name": "stdout",
     "output_type": "stream",
     "text": [
      "BBLE -> 1.0 (11946 uniques) [1, 1, 1, 1, 1] [1, 1, 1, 1, 1]\n"
     ]
    },
    {
     "data": {
      "image/png": "[encoded data removed]",
      "text/plain": [
       "<Figure size 432x288 with 1 Axes>"
      ]
     },
     "metadata": {
      "needs_background": "light"
     },
     "output_type": "display_data"
    },
    {
     "name": "stdout",
     "output_type": "stream",
     "text": [
      "OWNER -> 0.9238238741001172 (11036 uniques) [71, 53, 34, 29, 22] [1, 1, 1, 1, 1]\n"
     ]
    },
    {
     "data": {
      "image/png": "[encoded data removed]",
      "text/plain": [
       "<Figure size 432x288 with 1 Axes>"
      ]
     },
     "metadata": {
      "needs_background": "light"
     },
     "output_type": "display_data"
    },
    {
     "name": "stdout",
     "output_type": "stream",
     "text": [
      "STADDR -> 0.8150008371002846 (9736 uniques) [49, 46, 43, 41, 41] [1, 1, 1, 1, 1]\n"
     ]
    },
    {
     "data": {
      "image/png": "[encoded data removed]",
      "text/plain": [
       "<Figure size 432x288 with 1 Axes>"
      ]
     },
     "metadata": {
      "needs_background": "light"
     },
     "output_type": "display_data"
    },
    {
     "name": "stdout",
     "output_type": "stream",
     "text": [
      "New Georeferenced Column -> 0.7874602377364809 (9407 uniques) [49, 46, 43, 41, 41] [1, 1, 1, 1, 1]\n"
     ]
    },
    {
     "data": {
      "image/png": "[encoded data removed]",
      "text/plain": [
       "<Figure size 432x288 with 1 Axes>"
      ]
     },
     "metadata": {
      "needs_background": "light"
     },
     "output_type": "display_data"
    },
    {
     "name": "stdout",
     "output_type": "stream",
     "text": [
      "BIN -> 0.7701322618449691 (9200 uniques) [116, 49, 46, 43, 42] [1, 1, 1, 1, 1]\n"
     ]
    },
    {
     "data": {
      "image/png": "[encoded data removed]",
      "text/plain": [
       "<Figure size 432x288 with 1 Axes>"
      ]
     },
     "metadata": {
      "needs_background": "light"
     },
     "output_type": "display_data"
    },
    {
     "name": "stdout",
     "output_type": "stream",
     "text": [
      "Latitude -> 0.7621798091411351 (9105 uniques) [49, 46, 43, 41, 41] [1, 1, 1, 1, 1]\n"
     ]
    },
    {
     "data": {
      "image/png": "[encoded data removed]",
      "text/plain": [
       "<Figure size 432x288 with 1 Axes>"
      ]
     },
     "metadata": {
      "needs_background": "light"
     },
     "output_type": "display_data"
    },
    {
     "name": "stdout",
     "output_type": "stream",
     "text": [
      "Longitude -> 0.7533902561526871 (9000 uniques) [49, 46, 43, 41, 41] [1, 1, 1, 1, 1]\n"
     ]
    },
    {
     "data": {
      "image/png": "[encoded data removed]",
      "text/plain": [
       "<Figure size 432x288 with 1 Axes>"
      ]
     },
     "metadata": {
      "needs_background": "light"
     },
     "output_type": "display_data"
    },
    {
     "name": "stdout",
     "output_type": "stream",
     "text": [
      "AVLAND -> 0.6347731458228696 (7583 uniques) [226, 26, 25, 21, 19] [1, 1, 1, 1, 1]\n"
     ]
    },
    {
     "data": {
      "image/png": "[encoded data removed]",
      "text/plain": [
       "<Figure size 432x288 with 1 Axes>"
      ]
     },
     "metadata": {
      "needs_background": "light"
     },
     "output_type": "display_data"
    },
    {
     "name": "stdout",
     "output_type": "stream",
     "text": [
      "AVTOT -> 0.565796082370668 (6759 uniques) [226, 28, 27, 25, 24] [1, 1, 1, 1, 1]\n"
     ]
    },
    {
     "data": {
      "image/png": "[encoded data removed]",
      "text/plain": [
       "<Figure size 432x288 with 1 Axes>"
      ]
     },
     "metadata": {
      "needs_background": "light"
     },
     "output_type": "display_data"
    },
    {
     "name": "stdout",
     "output_type": "stream",
     "text": [
      "FULLVAL -> 0.39829231541938726 (4758 uniques) [226, 33, 29, 28, 26] [1, 1, 1, 1, 1]\n"
     ]
    },
    {
     "data": {
      "image/png": "[encoded data removed]",
      "text/plain": [
       "<Figure size 432x288 with 1 Axes>"
      ]
     },
     "metadata": {
      "needs_background": "light"
     },
     "output_type": "display_data"
    },
    {
     "name": "stdout",
     "output_type": "stream",
     "text": [
      "AVTOT2 -> 0.27473631341034654 (3282 uniques) [17, 15, 10, 9, 9] [1, 1, 1, 1, 1]\n"
     ]
    },
    {
     "data": {
      "image/png": "[encoded data removed]",
      "text/plain": [
       "<Figure size 432x288 with 1 Axes>"
      ]
     },
     "metadata": {
      "needs_background": "light"
     },
     "output_type": "display_data"
    },
    {
     "name": "stdout",
     "output_type": "stream",
     "text": [
      "AVLAND2 -> 0.22970031809810815 (2744 uniques) [17, 17, 16, 16, 14] [1, 1, 1, 1, 1]\n"
     ]
    },
    {
     "data": {
      "image/png": "[encoded data removed]",
      "text/plain": [
       "<Figure size 432x288 with 1 Axes>"
      ]
     },
     "metadata": {
      "needs_background": "light"
     },
     "output_type": "display_data"
    },
    {
     "name": "stdout",
     "output_type": "stream",
     "text": [
      "EXTOT -> 0.19387242591662482 (2316 uniques) [5953, 2365, 425, 261, 103] [1, 1, 1, 1, 1]\n"
     ]
    },
    {
     "data": {
      "image/png": "[encoded data removed]",
      "text/plain": [
       "<Figure size 432x288 with 1 Axes>"
      ]
     },
     "metadata": {
      "needs_background": "light"
     },
     "output_type": "display_data"
    },
    {
     "name": "stdout",
     "output_type": "stream",
     "text": [
      "BLOCK -> 0.16993135777666166 (2030 uniques) [403, 380, 91, 79, 72] [1, 1, 1, 1, 1]\n"
     ]
    },
    {
     "data": {
      "image/png": "[encoded data removed]",
      "text/plain": [
       "<Figure size 432x288 with 1 Axes>"
      ]
     },
     "metadata": {
      "needs_background": "light"
     },
     "output_type": "display_data"
    },
    {
     "name": "stdout",
     "output_type": "stream",
     "text": [
      "LOT -> 0.14557173949439142 (1739 uniques) [214, 121, 113, 112, 106] [1, 1, 1, 1, 1]\n"
     ]
    },
    {
     "data": {
      "image/png": "[encoded data removed]",
      "text/plain": [
       "<Figure size 432x288 with 1 Axes>"
      ]
     },
     "metadata": {
      "needs_background": "light"
     },
     "output_type": "display_data"
    },
    {
     "name": "stdout",
     "output_type": "stream",
     "text": [
      "EXLAND -> 0.1392934873597857 (1664 uniques) [6733, 2200, 449, 208, 107] [1, 1, 1, 1, 1]\n"
     ]
    },
    {
     "data": {
      "image/png": "[encoded data removed]",
      "text/plain": [
       "<Figure size 432x288 with 1 Axes>"
      ]
     },
     "metadata": {
      "needs_background": "light"
     },
     "output_type": "display_data"
    },
    {
     "name": "stdout",
     "output_type": "stream",
     "text": [
      "EXTOT2 -> 0.124644232379039 (1489 uniques) [79, 18, 15, 14, 12] [1, 1, 1, 1, 1]\n"
     ]
    },
    {
     "data": {
      "image/png": "[encoded data removed]",
      "text/plain": [
       "<Figure size 432x288 with 1 Axes>"
      ]
     },
     "metadata": {
      "needs_background": "light"
     },
     "output_type": "display_data"
    },
    {
     "name": "stdout",
     "output_type": "stream",
     "text": [
      "EXLAND2 -> 0.07575757575757576 (905 uniques) [88, 16, 15, 8, 5] [1, 1, 1, 1, 1]\n"
     ]
    },
    {
     "data": {
      "image/png": "[encoded data removed]",
      "text/plain": [
       "<Figure size 432x288 with 1 Axes>"
      ]
     },
     "metadata": {
      "needs_background": "light"
     },
     "output_type": "display_data"
    },
    {
     "name": "stdout",
     "output_type": "stream",
     "text": [
      "LTDEPTH -> 0.030219320274568893 (361 uniques) [3866, 2820, 250, 221, 212] [1, 1, 1, 1, 1]\n"
     ]
    },
    {
     "data": {
      "image/png": "[encoded data removed]",
      "text/plain": [
       "<Figure size 432x288 with 1 Axes>"
      ]
     },
     "metadata": {
      "needs_background": "light"
     },
     "output_type": "display_data"
    },
    {
     "name": "stdout",
     "output_type": "stream",
     "text": [
      "LTFRONT -> 0.028963669847647748 (346 uniques) [2425, 1049, 1030, 856, 353] [1, 1, 1, 1, 1]\n"
     ]
    },
    {
     "data": {
      "image/png": "[encoded data removed]",
      "text/plain": [
       "<Figure size 432x288 with 1 Axes>"
      ]
     },
     "metadata": {
      "needs_background": "light"
     },
     "output_type": "display_data"
    },
    {
     "name": "stdout",
     "output_type": "stream",
     "text": [
      "Census Tract -> 0.018667336346894357 (223 uniques) [585, 460, 429, 361, 358] [1, 1, 1, 1, 1]\n"
     ]
    },
    {
     "data": {
      "image/png": "[encoded data removed]",
      "text/plain": [
       "<Figure size 432x288 with 1 Axes>"
      ]
     },
     "metadata": {
      "needs_background": "light"
     },
     "output_type": "display_data"
    },
    {
     "name": "stdout",
     "output_type": "stream",
     "text": [
      "BLDFRONT -> 0.017997656119203082 (215 uniques) [3040, 1316, 764, 656, 619] [1, 1, 1, 1, 1]\n"
     ]
    },
    {
     "data": {
      "image/png": "[encoded data removed]",
      "text/plain": [
       "<Figure size 432x288 with 1 Axes>"
      ]
     },
     "metadata": {
      "needs_background": "light"
     },
     "output_type": "display_data"
    },
    {
     "name": "stdout",
     "output_type": "stream",
     "text": [
      "BLDDEPTH -> 0.01791394609074167 (214 uniques) [3031, 481, 427, 373, 370] [1, 1, 1, 1, 1]\n"
     ]
    },
    {
     "data": {
      "image/png": "[encoded data removed]",
      "text/plain": [
       "<Figure size 432x288 with 1 Axes>"
      ]
     },
     "metadata": {
      "needs_background": "light"
     },
     "output_type": "display_data"
    },
    {
     "name": "stdout",
     "output_type": "stream",
     "text": [
      "BLDGCL -> 0.0129750544115185 (155 uniques) [1877, 1290, 1162, 1031, 822] [1, 1, 1, 1, 1]\n"
     ]
    },
    {
     "data": {
      "image/png": "[encoded data removed]",
      "text/plain": [
       "<Figure size 432x288 with 1 Axes>"
      ]
     },
     "metadata": {
      "needs_background": "light"
     },
     "output_type": "display_data"
    },
    {
     "name": "stdout",
     "output_type": "stream",
     "text": [
      "EXCD1 -> 0.005943412020760087 (71 uniques) [3352, 485, 400, 221, 219] [1, 1, 1, 1, 1]\n"
     ]
    },
    {
     "data": {
      "image/png": "[encoded data removed]",
      "text/plain": [
       "<Figure size 432x288 with 1 Axes>"
      ]
     },
     "metadata": {
      "needs_background": "light"
     },
     "output_type": "display_data"
    }
   ],
   "source": [
    "l = [(column, df[column].nunique()) for column in df.columns]\n",
    "l = reversed(sorted(l, key=lambda x: x[1]))\n",
    "for x in l:\n",
    "    cnt = list(reversed(sorted(df.groupby(x[0])['BBLE'].nunique())))\n",
    "    print(x[0], '->', x[1] / length, f'({x[1]} uniques)', cnt[:5], cnt[-5:])\n",
    "    plt.hist(cnt, bins=100)\n",
    "    plt.show()"
   ]
  },
  {
   "cell_type": "code",
   "execution_count": null,
   "id": "e75d6146",
   "metadata": {},
   "outputs": [],
   "source": [
    "df['YEAR'].dtype"
   ]
  },
  {
   "cell_type": "code",
   "execution_count": null,
   "id": "e18b1bba",
   "metadata": {},
   "outputs": [],
   "source": [
    "df['EXT']"
   ]
  },
  {
   "cell_type": "code",
   "execution_count": null,
   "id": "f0c961e3",
   "metadata": {},
   "outputs": [],
   "source": [
    "owner_cnt = df.groupby('OWNER')['BBLE'].nunique()\n",
    "bin_cnt = df.groupby('BIN')['BBLE'].nunique()\n",
    "census_cnt = df.groupby('Census Tract')['BBLE'].nunique()\n",
    "bldgcl_cnt = df.groupby('BLDGCL')['BBLE'].nunique()\n",
    "excd1_cnt = df.groupby('EXCD1')['BBLE'].nunique()\n",
    "nta_cnt = df.groupby('NTA')['BBLE'].nunique()\n",
    "community_board_cnt = df.groupby('Community Board')['BBLE'].nunique()\n",
    "#excd2_cnt = df.groupby('EXCD2')['BBLE'].nunique()"
   ]
  },
  {
   "cell_type": "code",
   "execution_count": null,
   "id": "aa7cccbe",
   "metadata": {},
   "outputs": [],
   "source": [
    "df['OWNER_RICHNESS'] = 'poor'\n",
    "df['BIN_POPULARNESS'] = 'not popular'\n",
    "df.loc[df['OWNER'].isin(owner_cnt[owner_cnt > 10].index), 'OWNER_RICHNESS'] = 'very rich'\n",
    "df.loc[df['OWNER'].isin(owner_cnt[(owner_cnt > 1) & (owner_cnt <= 10)].index), 'OWNER_RICHNESS'] = 'rich'\n",
    "df.loc[df['BIN'].isin(bin_cnt[bin_cnt > 10].index), 'BIN_POPULARNESS'] = 'very popular'\n",
    "df.loc[df['BIN'].isin(bin_cnt[(bin_cnt > 1) & (bin_cnt <= 10)].index), 'BIN_POPULARNESS'] = 'popular'\n",
    "df.loc[df['Census Tract'].isin(census_cnt[census_cnt <= 10].index), 'Census Tract'] = 'other category'\n",
    "df.loc[df['Census Tract'] != 'other', 'Census Tract'] = df.loc[df['Census Tract'] != 'other', 'Census Tract'].astype(str) + ' category'\n",
    "df.loc[df['BLDGCL'].isin(bldgcl_cnt[bldgcl_cnt <= 10].index), 'BLDGCL'] = 'OTHER_BUILDING_CLASS'\n",
    "df.loc[df['EXCD1'].isin(excd1_cnt[excd1_cnt <= 10].index), 'EXCD1'] = 'other'\n",
    "df.loc[df['EXCD1'] != 'other', 'EXCD1'] = df.loc[df['EXCD1'] != 'other', 'EXCD1'].astype(str) + 'category'\n",
    "df.loc[df['NTA'].isin(nta_cnt[nta_cnt <= 10].index), 'NTA'] = 'OTHER_NTA'\n",
    "df.loc[df['Community Board'].isin(community_board_cnt[community_board_cnt <= 10].index), 'Community Board'] = 'other'\n",
    "df.loc[df['Community Board'] != 'other', 'Community Board'] = df.loc[df['Community Board'] != 'other', 'Community Board'].astype(str) + ' category'\n",
    "df.loc[:, 'Council District'] = df.loc[:, 'Council District'].astype(str) + ' category'\n",
    "#df.loc[df['EXCD2'].isin(excd2_cnt[excd2_cnt <= 10].index), 'EXCD2'] = 'other'\n",
    "#df.loc[df['EXCD2'] != 'other', 'EXCD2'] = df.loc[df['EXCD2'] != 'other', 'EXCD2'].astype(str) + ' category'\n",
    "df['TAXCLASS'] = df['TAXCLASS'].astype(str)\n",
    "\n",
    "\n",
    "df.loc[df['EXTOT'] == 0, 'EXTOT'] = np.nan\n",
    "df.loc[df['EXLAND'] == 0, 'EXLAND'] = np.nan\n",
    "df.loc[df['LTDEPTH'] == 0, 'LTDEPTH'] = np.nan\n",
    "df.loc[df['LTFRONT'] == 0, 'LTFRONT'] = np.nan\n",
    "df.loc[df['BLDFRONT'] == 0, 'BLDFRONT'] = np.nan\n",
    "df.loc[df['BLDDEPTH'] == 0, 'BLDDEPTH'] = np.nan"
   ]
  },
  {
   "cell_type": "code",
   "execution_count": null,
   "id": "e587643f",
   "metadata": {},
   "outputs": [],
   "source": [
    "df[['AVLAND', 'AVTOT', 'AVLAND2', 'AVTOT2', 'EXTOT', 'EXTOT2', 'EXLAND', 'EXLAND2']]"
   ]
  },
  {
   "cell_type": "code",
   "execution_count": null,
   "id": "bab589eb",
   "metadata": {},
   "outputs": [],
   "source": [
    "df['Census Tract']"
   ]
  },
  {
   "cell_type": "code",
   "execution_count": null,
   "id": "b4578e46",
   "metadata": {},
   "outputs": [],
   "source": [
    "df = df.drop(columns='BBLE') # indices (every unique)\n",
    "df = df.drop(columns='VALTYPE') # only 1 unique values\n",
    "df = df.drop(columns='OWNER') # Owner replaced by OWNER_RICHNESS (could also get sth from owner name)\n",
    "df = df.drop(columns='STADDR') # Address not needed - we already use long. + lat.\n",
    "df = df.drop(columns='New Georeferenced Column') # Point not needed - we already use long. + lat.\n",
    "df = df.drop(columns='BIN') # BIN replaced by BIN_POPULARNESS, BIN probably not needed - we already use long. + lat.\n",
    "#AVLAND and AVTOT - wazne wartosci liczbowe\n",
    "#FULLVAL - y do przewidzenia\n",
    "#AVLAND2  and AVTOT2 - wazne wartosci liczbowe\n",
    "#EXTOT, EXTOT2, EXLAND and EXLAND2 - wazne wartosci liczbowe\n",
    "df = df.drop(columns='BLOCK') # BLOCK not needed - we already use long. + lat.\n",
    "df = df.drop(columns='LOT') # LOT number is used for taxes (either do some mapping to taxation or drop it)\n",
    "# LTDEPTH and LTFRONT - chyba to wielkości posesji\n",
    "# BLDFRONT, BLDDEPTH - wielkości budynku\n",
    "\n",
    "# STORIES - liczba pięter\n",
    "df = df.drop(columns='POSTCODE') # POSTCODE not needed - we already use long. + lat. \n",
    "# Community Board - kategoryczna zmienna \n",
    "# EXCD2 - exception code 2, kategoryczna zmienna\n",
    "df = df.drop(columns='EXCD2') # EXCD2 not needed - too many nans.\n",
    "df = df.drop(columns='EXMPTCL') # EXMPTCL not needed - too many nans.\n",
    "df = df.drop(columns='EASEMENT') # fajny opis ale tylko 120 non-nan wiec out.\n",
    "# Borough - dzielnica, kategoryczne\n",
    "df = df.drop(columns='BORO') # PRAWIE to samo co Borough.\n",
    "# EXT - Extension indicator, kategoryczne\n",
    "df = df.drop(columns='PERIOD') # Tylko jedno unique value."
   ]
  },
  {
   "cell_type": "code",
   "execution_count": null,
   "id": "25fe0065",
   "metadata": {},
   "outputs": [],
   "source": [
    "df.to_csv('cleaned.csv', index=0)"
   ]
  },
  {
   "cell_type": "code",
   "execution_count": null,
   "id": "baadba93",
   "metadata": {},
   "outputs": [],
   "source": [
    "df = pd.read_csv('cleaned.csv')\n",
    "df.head()"
   ]
  },
  {
   "cell_type": "code",
   "execution_count": null,
   "id": "c6fbe9a3",
   "metadata": {},
   "outputs": [],
   "source": [
    "numerical_columns = df.select_dtypes(include=[np.number]).columns\n",
    "for column in df.columns:\n",
    "    mask = pd.isna(df[column])\n",
    "    s = mask.sum()\n",
    "    if s > 0:\n",
    "        if column in numerical_columns:\n",
    "            m = df[column].mean()\n",
    "            if s > 10:\n",
    "                df[str(column) + '_WAS_NAN'] = 0\n",
    "                df.loc[mask, str(column) + '_WAS_NAN'] = 1\n",
    "        else:\n",
    "            m = 'nan_val'\n",
    "        df[column] = df[column].fillna(m)"
   ]
  },
  {
   "cell_type": "code",
   "execution_count": null,
   "id": "5e0332b1",
   "metadata": {},
   "outputs": [],
   "source": [
    "df.head()"
   ]
  },
  {
   "cell_type": "code",
   "execution_count": null,
   "id": "a4321c5f",
   "metadata": {},
   "outputs": [],
   "source": [
    "df.describe()"
   ]
  },
  {
   "cell_type": "code",
   "execution_count": null,
   "id": "5aff0533",
   "metadata": {},
   "outputs": [],
   "source": [
    "df.to_csv('cleaned.csv', index=0)"
   ]
  },
  {
   "cell_type": "code",
   "execution_count": null,
   "id": "1f1b6bf4",
   "metadata": {},
   "outputs": [],
   "source": [
    "scaler = StandardScaler()\n",
    "scaler.fit(df[numerical_columns])\n",
    "scaled = scaler.transform(df[numerical_columns])\n",
    "df[numerical_columns] = scaled"
   ]
  },
  {
   "cell_type": "code",
   "execution_count": null,
   "id": "501594eb",
   "metadata": {},
   "outputs": [],
   "source": [
    "df.columns"
   ]
  },
  {
   "cell_type": "code",
   "execution_count": null,
   "id": "e061c819",
   "metadata": {},
   "outputs": [],
   "source": [
    "df['NTA']"
   ]
  },
  {
   "cell_type": "code",
   "execution_count": null,
   "id": "2c565c60",
   "metadata": {},
   "outputs": [],
   "source": [
    "df.head()"
   ]
  },
  {
   "cell_type": "code",
   "execution_count": null,
   "id": "3d118a4e",
   "metadata": {},
   "outputs": [],
   "source": [
    "categorical_cols = ['BLDGCL', 'TAXCLASS', 'EXT', 'YEAR', 'Borough', 'Community Board', 'Council District',\n",
    "                    'Census Tract', 'NTA', 'OWNER_RICHNESS', 'BIN_POPULARNESS', 'LTFRONT_WAS_NAN',\n",
    "                    'LTDEPTH_WAS_NAN', 'STORIES_WAS_NAN', 'EXLAND_WAS_NAN', 'EXTOT_WAS_NAN',\n",
    "                    'BLDFRONT_WAS_NAN', 'BLDDEPTH_WAS_NAN', 'AVLAND2_WAS_NAN',\n",
    "                    'AVTOT2_WAS_NAN', 'EXLAND2_WAS_NAN', 'EXTOT2_WAS_NAN',\n",
    "                    'Latitude_WAS_NAN', 'Longitude_WAS_NAN', 'EXCD1'\n",
    "                   ]"
   ]
  },
  {
   "cell_type": "code",
   "execution_count": null,
   "id": "076f796e",
   "metadata": {},
   "outputs": [],
   "source": [
    "one_hot_encoded = pd.get_dummies(df[categorical_cols])\n",
    "one_hot_encoded.head()"
   ]
  },
  {
   "cell_type": "code",
   "execution_count": null,
   "id": "367859fa",
   "metadata": {},
   "outputs": [],
   "source": [
    "df = df.drop(columns=categorical_cols)\n",
    "df = pd.concat([df, one_hot_encoded], axis=1)"
   ]
  },
  {
   "cell_type": "code",
   "execution_count": null,
   "id": "b82da5f6",
   "metadata": {},
   "outputs": [],
   "source": [
    "df.head()"
   ]
  },
  {
   "cell_type": "code",
   "execution_count": null,
   "id": "a2b280c9",
   "metadata": {},
   "outputs": [],
   "source": [
    "df.to_csv('processed.csv', index=0)"
   ]
  },
  {
   "cell_type": "code",
   "execution_count": null,
   "id": "46b24303",
   "metadata": {},
   "outputs": [],
   "source": [
    "df['LTAREA'] = df['LTDEPTH'] * df['LTFRONT']\n",
    "df['BLDAREA'] = df['BLDDEPTH'] * df['BLDFRONT']"
   ]
  },
  {
   "cell_type": "code",
   "execution_count": null,
   "id": "7fb7f345",
   "metadata": {},
   "outputs": [],
   "source": [
    "df.to_csv('processed.csv', index=0)"
   ]
  },
  {
   "cell_type": "code",
   "execution_count": null,
   "id": "5c242c0f",
   "metadata": {},
   "outputs": [],
   "source": [
    "df.head()"
   ]
  },
  {
   "cell_type": "code",
   "execution_count": null,
   "id": "11b3d181",
   "metadata": {},
   "outputs": [],
   "source": []
  }
 ],
 "metadata": {
  "kernelspec": {
   "display_name": "Python 3",
   "language": "python",
   "name": "python3"
  },
  "language_info": {
   "codemirror_mode": {
    "name": "ipython",
    "version": 3
   },
   "file_extension": ".py",
   "mimetype": "text/x-python",
   "name": "python",
   "nbconvert_exporter": "python",
   "pygments_lexer": "ipython3",
   "version": "3.8.8"
  }
 },
 "nbformat": 4,
 "nbformat_minor": 5
}
